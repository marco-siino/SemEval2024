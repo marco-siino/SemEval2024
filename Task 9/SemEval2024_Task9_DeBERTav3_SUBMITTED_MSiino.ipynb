{
  "cells": [
    {
      "cell_type": "markdown",
      "metadata": {
        "id": "view-in-github",
        "colab_type": "text"
      },
      "source": [
        "<a href=\"https://colab.research.google.com/github/marco-siino/SemEval2024/blob/main/Task%209/SemEval2024_Task9_DeBERTav3_SUBMITTED_MSiino.ipynb\" target=\"_parent\"><img src=\"https://colab.research.google.com/assets/colab-badge.svg\" alt=\"Open In Colab\"/></a>"
      ]
    },
    {
      "cell_type": "code",
      "execution_count": null,
      "id": "4a3228d7",
      "metadata": {
        "colab": {
          "base_uri": "https://localhost:8080/"
        },
        "id": "4a3228d7",
        "outputId": "c8602735-745f-4e57-f268-b25a65e0547b"
      },
      "outputs": [
        {
          "output_type": "stream",
          "name": "stdout",
          "text": [
            "Collecting utils\n",
            "  Downloading utils-1.0.2.tar.gz (13 kB)\n",
            "  Preparing metadata (setup.py) ... \u001b[?25l\u001b[?25hdone\n",
            "Building wheels for collected packages: utils\n",
            "  Building wheel for utils (setup.py) ... \u001b[?25l\u001b[?25hdone\n",
            "  Created wheel for utils: filename=utils-1.0.2-py2.py3-none-any.whl size=13905 sha256=c22a68c56233d403fd34ce5d76f0edea5a8cf2efc0ec4100657f6f0c2240f78d\n",
            "  Stored in directory: /root/.cache/pip/wheels/b8/39/f5/9d0ca31dba85773ececf0a7f5469f18810e1c8a8ed9da28ca7\n",
            "Successfully built utils\n",
            "Installing collected packages: utils\n",
            "Successfully installed utils-1.0.2\n"
          ]
        }
      ],
      "source": [
        "!pip install utils\n",
        "\n",
        "import os\n",
        "import json\n",
        "import sys\n",
        "import torch\n",
        "import random\n",
        "import numpy as np\n",
        "import random\n",
        "random.seed(10)\n",
        "from tqdm import tqdm\n",
        "from utils import *\n",
        "from transformers import pipeline\n",
        "import logging\n",
        "import argparse\n",
        "device=\"cuda:0\"\n",
        "%load_ext autoreload\n",
        "%autoreload 2"
      ]
    },
    {
      "cell_type": "code",
      "source": [
        "def getResultdata(result_data):\n",
        "    choice_to_index = {'A':0,'B':1,'C':2,'D':3}\n",
        "\n",
        "    word_play = {}\n",
        "    reverse_play = {}\n",
        "    for item in result_data:\n",
        "        item_type = item['id'].split(\"-\")[0]\n",
        "        item_id = item['id'].split(\"-\")[1].split(\"_\")[0]\n",
        "        if item_type == 'WP':\n",
        "            if item_id not in word_play:\n",
        "                word_play[item_id] = [0,0,0]\n",
        "        else:\n",
        "            if item_id not in reverse_play:\n",
        "                reverse_play[item_id] = [0,0,0]\n",
        "\n",
        "    for item in result_data:\n",
        "        item_type = item['id'].split(\"-\")[0]\n",
        "        item_id = item['id'].split(\"-\")[1].split(\"_\")[0]\n",
        "        ad_type = 0\n",
        "        if 'SR' in item['id']:\n",
        "            ad_type = 1\n",
        "        elif 'CR' in item['id']:\n",
        "            ad_type = 2\n",
        "        else:\n",
        "            ad_type = 0\n",
        "\n",
        "        if item_type == 'WP':\n",
        "            if choice_to_index[item['predict']] == item['label']:\n",
        "                word_play[item_id][ad_type] = 1\n",
        "        else:\n",
        "            if choice_to_index[item['predict']] == item['label']:\n",
        "                reverse_play[item_id][ad_type] = 1\n",
        "\n",
        "    return word_play,reverse_play\n",
        "\n",
        "\n",
        "def getMetric(data_list):\n",
        "    data_list = np.array(data_list)\n",
        "    overall_accuracy = np.sum(data_list)/3/len(data_list)\n",
        "    original_accuracy = np.sum(data_list,axis = 0)[0]/len(data_list)\n",
        "    semantic_accuracy = np.sum(data_list,axis = 0)[1]/len(data_list)\n",
        "    context_accuracy = np.sum(data_list,axis = 0)[2]/len(data_list)\n",
        "    ori_sema = np.sum([1 if item[0]==1 and item[1] == 1 else 0 for item in data_list])/len(data_list)\n",
        "    ori_sema_cont = np.sum([1 if item[0]==1 and item[1] == 1 and item[2] == 1  else 0 for item in data_list])/len(data_list)\n",
        "\n",
        "    print(\"over_all accuracy {}\".format(overall_accuracy))\n",
        "    print(\"single_original_accuracy {}\".format(original_accuracy))\n",
        "    print(\"single_semantic_accuracy {}\".format(semantic_accuracy))\n",
        "    print(\"single_context_accuracy {}\".format(context_accuracy))\n",
        "    print(\"sr_accuracy {}\".format(ori_sema))\n",
        "    print(\"cr_accuracy {}\".format(ori_sema_cont))\n",
        "\n",
        "    return {'over_all accuracy':overall_accuracy,'original_accuracy':original_accuracy,'semantic_accuracy':semantic_accuracy,'context_accuracy':context_accuracy,'ori_sema':ori_sema,'ori_sema_cont':ori_sema_cont}\n",
        "\n",
        "\n",
        "def getSeperateResult(word_play,reverse_thinking):\n",
        "    final_result = {}\n",
        "    word_data_list = []\n",
        "    for item in word_play.values():\n",
        "        word_data_list.append(item)\n",
        "    print('#########Wordplay##########')\n",
        "    final_result['wordplay'] = getMetric(word_data_list)\n",
        "\n",
        "    reverse_data_list = []\n",
        "    for item in reverse_thinking.values():\n",
        "        reverse_data_list.append(item)\n",
        "    print('#########Sentence##########')\n",
        "    final_result['sentence'] = getMetric(reverse_data_list)\n",
        "\n",
        "\n",
        "    all_data = word_data_list + reverse_data_list\n",
        "    print('#########All data##########')\n",
        "    final_result['all'] = getMetric(all_data)\n",
        "\n",
        "    return final_result"
      ],
      "metadata": {
        "id": "3VaMxnlfTH2q"
      },
      "id": "3VaMxnlfTH2q",
      "execution_count": null,
      "outputs": []
    },
    {
      "cell_type": "code",
      "source": [
        "# Evaluation ds pre-competition.\n",
        "eval_sentence_data_path = \"SP_eval_data_for_practice.npy\"\n",
        "eval_wordplay_data_list = \"WP_eval_data_for_practice.npy\"\n",
        "eval_sentence_data_list = list(np.load(eval_sentence_data_path,allow_pickle=True))\n",
        "eval_wordplay_data_list = list(np.load(eval_wordplay_data_list,allow_pickle=True))\n",
        "\n",
        "\n",
        "# Train set labelled.\n",
        "#train_sentence_data_path = \"SP-train.npy\"\n",
        "#train_wordplay_data_list = \"WP-train.npy\"\n",
        "#train_sentence_data_list = list(np.load(train_sentence_data_path,allow_pickle=True))\n",
        "#train_wordplay_data_list = list(np.load(train_wordplay_data_list,allow_pickle=True))\n",
        "\n",
        "# Official test set.\n",
        "test_sentence_data_path = \"SP_new_test.npy\"\n",
        "test_wordplay_data_list = \"WP_new_test.npy\"\n",
        "test_sentence_data_list = list(np.load(test_sentence_data_path,allow_pickle=True))\n",
        "test_wordplay_data_list = list(np.load(test_wordplay_data_list,allow_pickle=True))\n"
      ],
      "metadata": {
        "id": "1nF6XZL7TOB_"
      },
      "id": "1nF6XZL7TOB_",
      "execution_count": null,
      "outputs": []
    },
    {
      "cell_type": "code",
      "source": [
        "few_shot_examples = train_sentence_data_list"
      ],
      "metadata": {
        "id": "1JRlmALptIZP",
        "colab": {
          "base_uri": "https://localhost:8080/",
          "height": 175
        },
        "outputId": "d92c0f85-79bb-4596-cb30-12ebf9ceec8e"
      },
      "id": "1JRlmALptIZP",
      "execution_count": null,
      "outputs": [
        {
          "output_type": "error",
          "ename": "NameError",
          "evalue": "name 'train_sentence_data_list' is not defined",
          "traceback": [
            "\u001b[0;31m---------------------------------------------------------------------------\u001b[0m",
            "\u001b[0;31mNameError\u001b[0m                                 Traceback (most recent call last)",
            "\u001b[0;32m<ipython-input-5-2f05395237c5>\u001b[0m in \u001b[0;36m<cell line: 1>\u001b[0;34m()\u001b[0m\n\u001b[0;32m----> 1\u001b[0;31m \u001b[0mfew_shot_examples\u001b[0m \u001b[0;34m=\u001b[0m \u001b[0mtrain_sentence_data_list\u001b[0m\u001b[0;34m\u001b[0m\u001b[0;34m\u001b[0m\u001b[0m\n\u001b[0m",
            "\u001b[0;31mNameError\u001b[0m: name 'train_sentence_data_list' is not defined"
          ]
        }
      ]
    },
    {
      "cell_type": "code",
      "execution_count": null,
      "id": "627d7d81",
      "metadata": {
        "colab": {
          "base_uri": "https://localhost:8080/"
        },
        "id": "627d7d81",
        "outputId": "8d4da960-3f4e-4be7-b73f-2a394d678918"
      },
      "outputs": [
        {
          "output_type": "execute_result",
          "data": {
            "text/plain": [
              "216"
            ]
          },
          "metadata": {},
          "execution_count": 5
        }
      ],
      "source": [
        "test_data_list = test_sentence_data_list + test_wordplay_data_list\n",
        "len(test_data_list)"
      ]
    },
    {
      "cell_type": "markdown",
      "id": "a3de2396",
      "metadata": {
        "id": "a3de2396"
      },
      "source": [
        "# Few-shot setup"
      ]
    },
    {
      "cell_type": "code",
      "execution_count": null,
      "id": "308025cf",
      "metadata": {
        "id": "308025cf"
      },
      "outputs": [],
      "source": [
        "def get_fewshot_demo(examples,number):\n",
        "    label_to_answer = ['A','B','C','D']\n",
        "    few_shot_demon = examples[:number//2]+examples[4:4+number//2]\n",
        "    fewshot = ''\n",
        "    for sample in few_shot_demon:\n",
        "        fewshot += \\\n",
        "\"\"\"\n",
        "Question: {}\n",
        "\n",
        "What is the correct answer to the question from the following choices?\n",
        "(A): {}\n",
        "(B): {}\n",
        "(C): {}\n",
        "(D): {}\n",
        "\n",
        "Answer: ({})\n",
        "\"\"\".format(sample['question'],sample['choice_list'][0],sample['choice_list'][1],sample['choice_list'][2],sample['choice_list'][3],label_to_answer[int(sample['label'])])\n",
        "\n",
        "    return fewshot\n",
        "\n",
        "def get_single_demo(sample):\n",
        "    sample_demo = \\\n",
        "\"\"\"\n",
        "Question: {}\n",
        "\n",
        "What is the correct answer to the question from the following choices?\n",
        "Options:\n",
        "(A): {}\n",
        "(B): {}\n",
        "(C): {}\n",
        "(D): {}\"\"\".format(sample['question'],sample['choice_list'][0],sample['choice_list'][1],sample['choice_list'][2],sample['choice_list'][3])\n",
        "\n",
        "    return sample_demo"
      ]
    },
    {
      "cell_type": "code",
      "source": [
        "### NUOVA VERSIONE CHE COSTRUISCE LE FRASI IN MANIERA OPPORTUNISTICA.\n",
        "\n",
        "def get_fewshot_demo(examples,number):\n",
        "    label_to_answer = ['A','B','C','D']\n",
        "    few_shot_demon = examples[:number//2]+examples[4:4+number//2]\n",
        "    fewshot = ''\n",
        "    for sample in few_shot_demon:\n",
        "        fewshot += \\\n",
        "\"\"\"\n",
        "Question: {}\n",
        "Which one of the following is the most simple and reasonable explanation to the previous question? (Be smart it is a brain teaser, try to avoid creative answers)\n",
        "(A): {}\n",
        "(B): {}\n",
        "(C): {}\n",
        "(D): {}\n",
        "\n",
        "Answer: ({})\n",
        "\"\"\".format(sample['question'],sample['choice_list'][0],sample['choice_list'][1],sample['choice_list'][2],sample['choice_list'][3],\n",
        "           label_to_answer[int(sample['label'])])\n",
        "\n",
        "    return fewshot\n",
        "\n",
        "def get_single_demo(sample):\n",
        "    sample_demo = \\\n",
        "\"\"\"\n",
        "\n",
        "Question: {}\n",
        "Which one of the following is the most simple and reasonable explanation to the previous question? (Be smart it is a brain teaser, try to avoid creative answers)\n",
        "(A): {}\n",
        "(B): {}\n",
        "(C): {}\n",
        "(D): {}\n",
        "\"\"\".format(sample['question'],sample['choice_list'][0],sample['choice_list'][1],sample['choice_list'][2],sample['choice_list'][3])\n",
        "    return sample_demo"
      ],
      "metadata": {
        "id": "F05Fwx_woORs"
      },
      "id": "F05Fwx_woORs",
      "execution_count": null,
      "outputs": []
    },
    {
      "cell_type": "code",
      "execution_count": null,
      "id": "76a6e9ec",
      "metadata": {
        "id": "76a6e9ec"
      },
      "outputs": [],
      "source": [
        "demon_num = 10\n",
        "demonstration = get_fewshot_demo(few_shot_examples,demon_num)"
      ]
    },
    {
      "cell_type": "code",
      "execution_count": null,
      "id": "0d4a8fb4",
      "metadata": {
        "id": "0d4a8fb4"
      },
      "outputs": [],
      "source": [
        "print(demonstration)"
      ]
    },
    {
      "cell_type": "code",
      "execution_count": null,
      "id": "72beaab2",
      "metadata": {
        "colab": {
          "base_uri": "https://localhost:8080/"
        },
        "id": "72beaab2",
        "outputId": "b5afe8ec-52ce-42bf-90e6-80ce043a86c6"
      },
      "outputs": [
        {
          "output_type": "stream",
          "name": "stdout",
          "text": [
            "\n",
            "Question: How many years in your life it happens that before your birthday you'd be one year younger than tomorrow\n",
            "\n",
            "What is the correct answer to the question from the following choices?\n",
            "Options:\n",
            "(A): In ech leap year.\n",
            "(B): In the first year of graduation.\n",
            "(C): It happens every year.\n",
            "(D): None of above.\n"
          ]
        }
      ],
      "source": [
        "print(get_single_demo(test_sentence_data_list[2]))"
      ]
    },
    {
      "cell_type": "code",
      "execution_count": null,
      "id": "d1802b55",
      "metadata": {
        "id": "d1802b55",
        "colab": {
          "base_uri": "https://localhost:8080/",
          "height": 1000,
          "referenced_widgets": [
            "e71e44c0dc474f3bb4eae099e5cc9884",
            "b75629a4ec5542a6aad573fc3f68641a",
            "4fae1f516da6497caf3975d38f3f8cbf",
            "0df1f833868946c8b6aa5e3143ea5f53",
            "c36773d1b22547298773a233381d179e",
            "55c1c2d041fb4c68a3c1a648487d69c8",
            "914c011ed0f54adba2086f781e4f7e92",
            "42c628a0fa894daa817bcc88b3873720",
            "eefb928e409347eca4694c658f57e975",
            "cc520379be2e4d72851e744d88477c12",
            "f33e07a962ed421296e6cacd93d4bb10",
            "a2bfb4e11e4b4d99bcaa8b01abb6cb10",
            "0eacbbdc394d429ca1f1bdc824f4400b",
            "943d80624ae945b8932c47250e95de7c",
            "64c4230569b240bb8ee26656f4dc1045",
            "4def543fc3a0439b9e763f313b20bc73",
            "35991f792be74768a0955c96e774e15c",
            "19ae0b39e2424eeab7f030f9361214d5",
            "75e7177b842a4d82b9786b1122d929ce",
            "ea46d9bab1fd40cf9e87fd46cacefdca",
            "3ddbfc7cafe1486abb03e3933635fb92",
            "0c9b2a4703714222ae22e5e9a2a28b19",
            "0c150c0b26a64dffba6037c7780baf8b",
            "0b06c91ac0a54f7b921d5aa294e43ef4",
            "d7dd610e48714f0b937a45ad4124bca1",
            "aaa0461bf2b1450982f792ac516aba8c",
            "37d45d68132d46218496ed78da07e24c",
            "a011becbfe8a4e54a307ad467d40ba23",
            "ba466579b121446d8a11c1f8429eeb1e",
            "55fb9fcf0f5e4bb69d4f41dada597528",
            "8a94b62146734c77972c3323bfe9f2a0",
            "c2fe01b137be46febd8e8ef11fc35c68",
            "e9de4bad32d045c1ba52dc3d835e5a37",
            "3e4d86f268184912aa3f0f22bc0bfbff",
            "44d9cb32cd924f9cb279d7cc99cb46fa",
            "cb15c46131c34f60a2603b76cdcb164a",
            "8fd6be44c54d4a8d961fd540f30e772e",
            "33a0252bd266499bbd0a0f67843573a8",
            "c07990187a664b39b582130b6f045e87",
            "17358bf018af49d2886ca44c4f93747e",
            "355b6c29171e44269a856d5b67e2caa6",
            "247ef18b553f45a6ba6638944abab6f4",
            "01946fcc1d0d46649427ca6347c0fe99",
            "74d43dd0694847bbb9689ebe934f6a36",
            "d56b4f4a649d48548bb04c005130ebac",
            "a9bda9ce7a5f4a1b97f6132f0e2f2305",
            "d49fbd9c6d2342b88f8d1f050b2415f2",
            "e2d3f8e374034f5fbb69d0a7722e5d28",
            "09877d9bf00541aabc148d548a003781",
            "5bda8019f1564e7893689a24fa9b623f",
            "ba5f749f65a54e3cb66d5d60f33e2bf2",
            "e12d33fc15af4ab593c5abb2b44a1cc4",
            "69e34f4ca5bb4649a0f3bfbdfe7442a3",
            "851c1afbd7b44d0f9bd88974d1ef2876",
            "35d24c68ad7943619f3de6d3c4301760",
            "c6b083eb990b49939d53813accf048d0",
            "48f714e236db439088a4de0063d1f8af",
            "3a20bd07319246e8866af1a5e10838e0",
            "3f0e19788f404351bd1f0c6002da6e35",
            "d3e3a5aa5dce42e6a38e058bb9af844d",
            "4350f974f45345a9a6165e05da342b8c",
            "b6cb58772ed84d4b9110d12f6b30389f",
            "96f8bc54b9914cc1b36e87315c46b765",
            "ab5b2f25a3f749169339b8228e357792",
            "0886a65907d24a4caa66be45357fbc6b",
            "114a5e2db0bb41e28db240c0ce5bf4c2"
          ]
        },
        "outputId": "a6fa879b-f4b5-4c93-9fb6-da444bc17091"
      },
      "outputs": [
        {
          "output_type": "stream",
          "name": "stderr",
          "text": [
            "/usr/local/lib/python3.10/dist-packages/huggingface_hub/utils/_token.py:88: UserWarning: \n",
            "The secret `HF_TOKEN` does not exist in your Colab secrets.\n",
            "To authenticate with the Hugging Face Hub, create a token in your settings tab (https://huggingface.co/settings/tokens), set it as secret in your Google Colab and restart your session.\n",
            "You will be able to reuse this secret in all of your notebooks.\n",
            "Please note that authentication is recommended but still optional to access public models or datasets.\n",
            "  warnings.warn(\n"
          ]
        },
        {
          "output_type": "display_data",
          "data": {
            "text/plain": [
              "config.json:   0%|          | 0.00/879 [00:00<?, ?B/s]"
            ],
            "application/vnd.jupyter.widget-view+json": {
              "version_major": 2,
              "version_minor": 0,
              "model_id": "e71e44c0dc474f3bb4eae099e5cc9884"
            }
          },
          "metadata": {}
        },
        {
          "output_type": "display_data",
          "data": {
            "text/plain": [
              "model.safetensors:   0%|          | 0.00/1.11G [00:00<?, ?B/s]"
            ],
            "application/vnd.jupyter.widget-view+json": {
              "version_major": 2,
              "version_minor": 0,
              "model_id": "a2bfb4e11e4b4d99bcaa8b01abb6cb10"
            }
          },
          "metadata": {}
        },
        {
          "output_type": "display_data",
          "data": {
            "text/plain": [
              "tokenizer_config.json:   0%|          | 0.00/453 [00:00<?, ?B/s]"
            ],
            "application/vnd.jupyter.widget-view+json": {
              "version_major": 2,
              "version_minor": 0,
              "model_id": "0c150c0b26a64dffba6037c7780baf8b"
            }
          },
          "metadata": {}
        },
        {
          "output_type": "display_data",
          "data": {
            "text/plain": [
              "tokenizer.json:   0%|          | 0.00/16.3M [00:00<?, ?B/s]"
            ],
            "application/vnd.jupyter.widget-view+json": {
              "version_major": 2,
              "version_minor": 0,
              "model_id": "3e4d86f268184912aa3f0f22bc0bfbff"
            }
          },
          "metadata": {}
        },
        {
          "output_type": "display_data",
          "data": {
            "text/plain": [
              "added_tokens.json:   0%|          | 0.00/23.0 [00:00<?, ?B/s]"
            ],
            "application/vnd.jupyter.widget-view+json": {
              "version_major": 2,
              "version_minor": 0,
              "model_id": "d56b4f4a649d48548bb04c005130ebac"
            }
          },
          "metadata": {}
        },
        {
          "output_type": "display_data",
          "data": {
            "text/plain": [
              "special_tokens_map.json:   0%|          | 0.00/173 [00:00<?, ?B/s]"
            ],
            "application/vnd.jupyter.widget-view+json": {
              "version_major": 2,
              "version_minor": 0,
              "model_id": "c6b083eb990b49939d53813accf048d0"
            }
          },
          "metadata": {}
        },
        {
          "output_type": "stream",
          "name": "stderr",
          "text": [
            "\r  0%|          | 0/120 [00:00<?, ?it/s]"
          ]
        },
        {
          "output_type": "stream",
          "name": "stdout",
          "text": [
            "\n",
            "\n"
          ]
        },
        {
          "output_type": "stream",
          "name": "stderr",
          "text": [
            "\r  1%|          | 1/120 [00:01<03:06,  1.57s/it]"
          ]
        },
        {
          "output_type": "stream",
          "name": "stdout",
          "text": [
            "\n",
            "Question: In a small village, two farmers are working in their fields - a diligent farmer and a lazy farmer. The hardworking farmer is the son of the lazy farmer, but the lazy farmer is not the father of the hardworking farmer. Can you explain this unusual relationship?  \n",
            " What is the correct answer to the brain teaser question from the following choices? (Pick only one Option (A)-(D)\n",
            "\n",
            "\n",
            "\n",
            "\n",
            "  Options:\n",
            "\n",
            "  (A): The lazy farmer is his mother.\n",
            "\n",
            "  (B): The lazy farmer is not a responsible father as he is lazy.\n",
            "\n",
            "  (C): The diligent farmer devoted himself to the farm and gradually forgot his father.\n",
            "\n",
            "  (D): None of above.\n",
            "\n",
            "  \n",
            "Model's answer is:  The lazy farmer is his mother.\n",
            "The answer is: 0\n",
            "\n",
            "\n"
          ]
        },
        {
          "output_type": "stream",
          "name": "stderr",
          "text": [
            "\r  2%|▏         | 2/120 [00:02<02:32,  1.29s/it]"
          ]
        },
        {
          "output_type": "stream",
          "name": "stdout",
          "text": [
            "\n",
            "Question: Romeo and Juliet are discovered dead on the bedroom floor. Glass shards and some water were on the floor when they were found. A bookcase and a bed are the sole pieces of furniture in the space. Other than the neighboring railroad track, the house is located in a rural area. How is that even doable?  \n",
            " What is the correct answer to the brain teaser question from the following choices? (Pick only one Option (A)-(D)\n",
            "\n",
            "\n",
            "\n",
            "\n",
            "  Options:\n",
            "\n",
            "  (A): They were sleeping and scared by the sound of track.\n",
            "\n",
            "  (B): The rumble of the train moved the shelf which \n",
            "crushed them.\n",
            "\n",
            "  (C): Romeo and Juliet are fish. The rumble of the train knocked the tank off the shelf, it broke and Romeo and Juliet did not survive.\n",
            "\n",
            "  (D): None of above.\n",
            "\n",
            "  \n",
            "Model's answer is:  Romeo and Juliet are fish.\n",
            "The answer is: 2\n",
            "\n",
            "\n"
          ]
        },
        {
          "output_type": "stream",
          "name": "stderr",
          "text": [
            "\r  2%|▎         | 3/120 [00:03<02:02,  1.05s/it]"
          ]
        },
        {
          "output_type": "stream",
          "name": "stdout",
          "text": [
            "\n",
            "Question: How many years in your life it happens that before your birthday you'd be one year younger than tomorrow  \n",
            " What is the correct answer to the brain teaser question from the following choices? (Pick only one Option (A)-(D)\n",
            "\n",
            "\n",
            "\n",
            "\n",
            "  Options:\n",
            "\n",
            "  (A): In ech leap year.\n",
            "\n",
            "  (B): In the first year of graduation.\n",
            "\n",
            "  (C): It happens every year.\n",
            "\n",
            "  (D): None of above.\n",
            "\n",
            "  \n",
            "Model's answer is:  every year.\n",
            "The answer is: 2\n",
            "\n",
            "\n"
          ]
        },
        {
          "output_type": "stream",
          "name": "stderr",
          "text": [
            "\r  3%|▎         | 4/120 [00:04<02:01,  1.05s/it]"
          ]
        },
        {
          "output_type": "stream",
          "name": "stdout",
          "text": [
            "\n",
            "Question: Who would serve as the team's captain if a crucial assistant captain departed from a sporting organization?  \n",
            " What is the correct answer to the brain teaser question from the following choices? (Pick only one Option (A)-(D)\n",
            "\n",
            "\n",
            "\n",
            "\n",
            "  Options:\n",
            "\n",
            "  (A): The first officer.\n",
            "\n",
            "  (B): The captain.\n",
            "\n",
            "  (C): The second officer.\n",
            "\n",
            "  (D): None of above.\n",
            "\n",
            "  \n",
            "Model's answer is:  The captain.\n",
            "The answer is: 1\n",
            "\n",
            "\n"
          ]
        },
        {
          "output_type": "stream",
          "name": "stderr",
          "text": [
            "\r  4%|▍         | 5/120 [00:05<02:04,  1.08s/it]"
          ]
        },
        {
          "output_type": "stream",
          "name": "stdout",
          "text": [
            "\n",
            "Question: In one city, 5% of the population has an unlisted phone number. How many persons will have unlisted phone numbers if you pick 100 names at random from that city's phone directory?  \n",
            " What is the correct answer to the brain teaser question from the following choices? (Pick only one Option (A)-(D)\n",
            "\n",
            "\n",
            "\n",
            "\n",
            "  Options:\n",
            "\n",
            "  (A): One hundred people.\n",
            "\n",
            "  (B): Ninty-five people.\n",
            "\n",
            "  (C): Five people.\n",
            "\n",
            "  (D): None of above.\n",
            "\n",
            "  \n",
            "Model's answer is:  One hundred people.\n",
            "The answer is: 0\n",
            "\n",
            "\n"
          ]
        },
        {
          "output_type": "stream",
          "name": "stderr",
          "text": [
            "\r  5%|▌         | 6/120 [00:06<02:04,  1.09s/it]"
          ]
        },
        {
          "output_type": "stream",
          "name": "stdout",
          "text": [
            "\n",
            "Question: Two entries were on duty outside a barracks. One faced up the road to watch for anyone approaching from the North. The other looked down the road to see if anyone approached from the South. Suddenly one of them said to the other, \"Why are you smiling?\" How did he know that his companion was smiling?  \n",
            " What is the correct answer to the brain teaser question from the following choices? (Pick only one Option (A)-(D)\n",
            "\n",
            "\n",
            "\n",
            "\n",
            "  Options:\n",
            "\n",
            "  (A): Although the guards were looking in opposite directions, they were not back to back. They were facing each other.\n",
            "\n",
            "  (B): One of the guards had an unusual vision so he can see what happend behind him.\n",
            "\n",
            "  (C): The smiling guard's action is such big that even the guard behind him can see it.\n",
            "\n",
            "  (D): None of above.\n",
            "\n",
            "  \n",
            "Model's answer is:  One of the guards had an unusual vision\n",
            "The answer is: 1\n",
            "\n",
            "\n"
          ]
        },
        {
          "output_type": "stream",
          "name": "stderr",
          "text": [
            "\r  6%|▌         | 7/120 [00:07<01:53,  1.00s/it]"
          ]
        },
        {
          "output_type": "stream",
          "name": "stdout",
          "text": [
            "\n",
            "Question: A man wagered $50 on his dog's ability to jump higher than a house. The neighbor took the wager, thinking it was impossible, and lost.\n",
            "Why did he fail to win the bet?  \n",
            " What is the correct answer to the brain teaser question from the following choices? (Pick only one Option (A)-(D)\n",
            "\n",
            "\n",
            "\n",
            "\n",
            "  Options:\n",
            "\n",
            "  (A): A house can not jump.\n",
            "\n",
            "  (B): That dog species were famous for their jumping ability.\n",
            "\n",
            "  (C): The height of the tiny house is lower than the dog.\n",
            "\n",
            "  (D): None of above.\n",
            "\n",
            "  \n",
            "Model's answer is:  None of above.\n",
            "The answer is: 3\n",
            "\n",
            "\n"
          ]
        },
        {
          "output_type": "stream",
          "name": "stderr",
          "text": [
            "\r  7%|▋         | 8/120 [00:08<01:36,  1.16it/s]"
          ]
        },
        {
          "output_type": "stream",
          "name": "stdout",
          "text": [
            "\n",
            "Question: How many times can you divide 100 by 10?  \n",
            " What is the correct answer to the brain teaser question from the following choices? (Pick only one Option (A)-(D)\n",
            "\n",
            "\n",
            "\n",
            "\n",
            "  Options:\n",
            "\n",
            "  (A): Infinite time.\n",
            "\n",
            "  (B): Once.\n",
            "\n",
            "  (C): Two times.\n",
            "\n",
            "  (D): None of above.\n",
            "\n",
            "  \n",
            "Model's answer is:  Two\n",
            "The answer is: 2\n",
            "\n",
            "\n"
          ]
        },
        {
          "output_type": "stream",
          "name": "stderr",
          "text": [
            "\r  8%|▊         | 9/120 [00:09<01:39,  1.12it/s]"
          ]
        },
        {
          "output_type": "stream",
          "name": "stdout",
          "text": [
            "\n",
            "Question: In a city, there are so many criminals that police cannot catch all of them and fit them in their prisons. This number is approximately 10% of the population of the city but no names are available. To start catching the rest of the criminals poilce starts checking the list of criminals they have in the prisons namebook with 200 names, and go out searching for the rest wandering in the city. How many can they find?  \n",
            " What is the correct answer to the brain teaser question from the following choices? (Pick only one Option (A)-(D)\n",
            "\n",
            "\n",
            "\n",
            "\n",
            "  Options:\n",
            "\n",
            "  (A): Twenty people.\n",
            "\n",
            "  (B): Eighty people.\n",
            "\n",
            "  (C): Two hundred people.\n",
            "\n",
            "  (D): None of above.\n",
            "\n",
            "  \n",
            "Model's answer is:  Twenty people.\n",
            "The answer is: 0\n",
            "\n",
            "\n"
          ]
        },
        {
          "output_type": "stream",
          "name": "stderr",
          "text": [
            "\r  8%|▊         | 10/120 [00:09<01:30,  1.22it/s]"
          ]
        },
        {
          "output_type": "stream",
          "name": "stdout",
          "text": [
            "\n",
            "Question: When did Christmas and New Year's Day fall on the same year?  \n",
            " What is the correct answer to the brain teaser question from the following choices? (Pick only one Option (A)-(D)\n",
            "\n",
            "\n",
            "\n",
            "\n",
            "  Options:\n",
            "\n",
            "  (A): In the period of BC.\n",
            "\n",
            "  (B): It happens every year.\n",
            "\n",
            "  (C): In the first year of each century.\n",
            "\n",
            "  (D): None of above.\n",
            "\n",
            "  \n",
            "Model's answer is:  first year of each century.\n",
            "The answer is: 2\n",
            "\n",
            "\n"
          ]
        },
        {
          "output_type": "stream",
          "name": "stderr",
          "text": [
            "\r  9%|▉         | 11/120 [00:10<01:30,  1.21it/s]"
          ]
        },
        {
          "output_type": "stream",
          "name": "stdout",
          "text": [
            "\n",
            "Question: A conscientious farmer formerly provided food for his roosters each day, but throughout the years, not a single egg was produced for him. How is it even imaginable?  \n",
            " What is the correct answer to the brain teaser question from the following choices? (Pick only one Option (A)-(D)\n",
            "\n",
            "\n",
            "\n",
            "\n",
            "  Options:\n",
            "\n",
            "  (A): His neighbor always stolen eggs away from him.\n",
            "\n",
            "  (B): Because roosters don't lay eggs.\n",
            "\n",
            "  (C): Roosters will eat their own eggs once they were laid.\n",
            "\n",
            "  (D): None of above.\n",
            "\n",
            "  \n",
            "Model's answer is:  His neighbor always stolen eggs away from him.\n",
            "The answer is: 0\n",
            "\n",
            "\n"
          ]
        },
        {
          "output_type": "stream",
          "name": "stderr",
          "text": [
            "\r 10%|█         | 12/120 [00:11<01:43,  1.04it/s]"
          ]
        },
        {
          "output_type": "stream",
          "name": "stdout",
          "text": [
            "\n",
            "Question: Mark was in a playground where somebody noticed a great player playing and with the announcements, gathered a lot of people. There were many great players from basketball, volleyball, football, and even swimmers, But Mark directly went to the footballer and took a photo with him. How did he know who was the person that people got excited for in the first place?  \n",
            " What is the correct answer to the brain teaser question from the following choices? (Pick only one Option (A)-(D)\n",
            "\n",
            "\n",
            "\n",
            "\n",
            "  Options:\n",
            "\n",
            "  (A): Since the playground was a football playground and the other players could've not been playing in the playground at the time of the announcement\n",
            "\n",
            "  (B): Since Mark was a crazy fan of football, only a football player can be considered as great player in his mind.\n",
            "\n",
            "  (C): Since Mark stood closest to the football players, he only focused on football players and didn't notice others.\n",
            "\n",
            "  (D): None of above.\n",
            "\n",
            "  \n",
            "Model's answer is:  football,\n",
            "The answer is: 1\n",
            "\n",
            "\n"
          ]
        },
        {
          "output_type": "stream",
          "name": "stderr",
          "text": [
            "\r 11%|█         | 13/120 [00:13<01:53,  1.06s/it]"
          ]
        },
        {
          "output_type": "stream",
          "name": "stdout",
          "text": [
            "\n",
            "Question: There were five men at church, and it started raining while they were outside. The four that ran still got wet, but the one that was still stayed completely dry. Why did he stay dry?  \n",
            " What is the correct answer to the brain teaser question from the following choices? (Pick only one Option (A)-(D)\n",
            "\n",
            "\n",
            "\n",
            "\n",
            "  Options:\n",
            "\n",
            "  (A): The man is an athlete that can avoid rain in high speed.\n",
            "\n",
            "  (B): \n",
            "The man was lucky enough to avoid all the rain.\n",
            "\n",
            "  (C): He was in a coffin the other men were at his funeral.\n",
            "\n",
            "\n",
            "  (D): None of above.\n",
            "\n",
            "  \n",
            "Model's answer is: \n",
            "The man was lucky enough to avoid all the rain.\n",
            "The answer is: 1\n",
            "\n",
            "\n"
          ]
        },
        {
          "output_type": "stream",
          "name": "stderr",
          "text": [
            "\r 12%|█▏        | 14/120 [00:14<01:47,  1.02s/it]"
          ]
        },
        {
          "output_type": "stream",
          "name": "stdout",
          "text": [
            "\n",
            "Question: On a Sunday afternoon, a woman spotted a bear in the distance. Rather than be afraid, she ran toward it excited. Why wasn't she afraid?  \n",
            " What is the correct answer to the brain teaser question from the following choices? (Pick only one Option (A)-(D)\n",
            "\n",
            "\n",
            "\n",
            "\n",
            "  Options:\n",
            "\n",
            "  (A): She was at the zoo.\n",
            "\n",
            "\n",
            "  (B): She become brave in sudden.\n",
            "\n",
            "  (C): She tried to scare the bear.\n",
            "\n",
            "  (D): None of above.\n",
            "\n",
            "  \n",
            "Model's answer is:  None of above.\n",
            "The answer is: 3\n",
            "\n",
            "\n"
          ]
        },
        {
          "output_type": "stream",
          "name": "stderr",
          "text": [
            "\r 12%|█▎        | 15/120 [00:14<01:39,  1.05it/s]"
          ]
        },
        {
          "output_type": "stream",
          "name": "stdout",
          "text": [
            "\n",
            "Question: A man bet his friend that he can jump the distance from one house to another one. He won the bet. How?  \n",
            " What is the correct answer to the brain teaser question from the following choices? (Pick only one Option (A)-(D)\n",
            "\n",
            "\n",
            "\n",
            "\n",
            "  Options:\n",
            "\n",
            "  (A): He is a jumping athlete.\n",
            "\n",
            "  (B): Two houses were wall-to-wall next to each other\n",
            "\n",
            "  (C): One house is much higher than another, providing him enough time to fly in the air.\n",
            "\n",
            "  (D): None of above.\n",
            "\n",
            "  \n",
            "Model's answer is:  None of above.\n",
            "The answer is: 3\n",
            "\n",
            "\n"
          ]
        },
        {
          "output_type": "stream",
          "name": "stderr",
          "text": [
            "\r 13%|█▎        | 16/120 [00:15<01:36,  1.08it/s]"
          ]
        },
        {
          "output_type": "stream",
          "name": "stdout",
          "text": [
            "\n",
            "Question: \"The attorney is my brother,\" testified the accountant. But the attorney testified he did not have a brother. No one is lying, why?  \n",
            " What is the correct answer to the brain teaser question from the following choices? (Pick only one Option (A)-(D)\n",
            "\n",
            "\n",
            "\n",
            "\n",
            "  Options:\n",
            "\n",
            "  (A): The attorney was not loved by family and hadmoved away when he was young.\n",
            "\n",
            "  (B): The accountant was his sister.\n",
            "\n",
            "\n",
            "  (C): The attorney is angry about his brother not being a attorney and cut ties with him.\n",
            "\n",
            "  (D): None of above.\n",
            "\n",
            "  \n",
            "Model's answer is:  None of above.\n",
            "The answer is: 3\n",
            "\n",
            "\n"
          ]
        },
        {
          "output_type": "stream",
          "name": "stderr",
          "text": [
            "\r 14%|█▍        | 17/120 [00:17<01:48,  1.05s/it]"
          ]
        },
        {
          "output_type": "stream",
          "name": "stdout",
          "text": [
            "\n",
            "Question: \"The attorney is my brother,\" the accountant testified. However, the attorney claimed that he did not have a brother. No one is lying, why?  \n",
            " What is the correct answer to the brain teaser question from the following choices? (Pick only one Option (A)-(D)\n",
            "\n",
            "\n",
            "\n",
            "\n",
            "  Options:\n",
            "\n",
            "  (A): The accountant was his sister.\n",
            "\n",
            "\n",
            "  (B): The attorney is angry about his brother not being a attorney and cut ties with him.\n",
            "\n",
            "  (C): The attorney was not loved by family and had moved away when he was young.\n",
            "\n",
            "  (D): None of above.\n",
            "\n",
            "  \n",
            "Model's answer is:  The attorney is angry\n",
            "The answer is: 1\n",
            "\n",
            "\n"
          ]
        },
        {
          "output_type": "stream",
          "name": "stderr",
          "text": [
            "\r 15%|█▌        | 18/120 [00:18<01:49,  1.07s/it]"
          ]
        },
        {
          "output_type": "stream",
          "name": "stdout",
          "text": [
            "\n",
            "Question: Shopping is done by two mothers and two daughters. They divide the $21 they have equally amongst themselves. How is this even conceivable?  \n",
            " What is the correct answer to the brain teaser question from the following choices? (Pick only one Option (A)-(D)\n",
            "\n",
            "\n",
            "\n",
            "\n",
            "  Options:\n",
            "\n",
            "  (A): One mother give his $7 to his son.\n",
            "\n",
            "  (B): Two daughters share the $7.\n",
            "\n",
            "  (C): They are one daughters, one mother and one grandmother.\n",
            "\n",
            "  (D): None of above.\n",
            "\n",
            "  \n",
            "Model's answer is:  Two daughters share the $7.\n",
            "The answer is: 1\n",
            "\n",
            "\n"
          ]
        },
        {
          "output_type": "stream",
          "name": "stderr",
          "text": [
            "\r 16%|█▌        | 19/120 [00:18<01:37,  1.04it/s]"
          ]
        },
        {
          "output_type": "stream",
          "name": "stdout",
          "text": [
            "\n",
            "Question: A man has 9 children. Half of them are boys. How is this possible?  \n",
            " What is the correct answer to the brain teaser question from the following choices? (Pick only one Option (A)-(D)\n",
            "\n",
            "\n",
            "\n",
            "\n",
            "  Options:\n",
            "\n",
            "  (A): A man raises his children in both boy way and girl way.\n",
            "\n",
            "  (B): One child is regarded as both boy and girl same time.\n",
            "\n",
            "  (C): They are all boys.\n",
            "\n",
            "  (D): None of above.\n",
            "\n",
            "  \n",
            "Model's answer is:  A man raises his children in both boy way and girl way.\n",
            "The answer is: 0\n",
            "\n",
            "\n"
          ]
        },
        {
          "output_type": "stream",
          "name": "stderr",
          "text": [
            "\r 17%|█▋        | 20/120 [00:19<01:28,  1.13it/s]"
          ]
        },
        {
          "output_type": "stream",
          "name": "stdout",
          "text": [
            "\n",
            "Question: You go to the doctor because you're sick, and he gives you three medicines to take every half hour.\n",
            "How long do the drugs keep you going?  \n",
            " What is the correct answer to the brain teaser question from the following choices? (Pick only one Option (A)-(D)\n",
            "\n",
            "\n",
            "\n",
            "\n",
            "  Options:\n",
            "\n",
            "  (A): One and a half hours.\n",
            "\n",
            "  (B): Two hours.\n",
            "\n",
            "  (C): An hour.\n",
            "\n",
            "  (D): None of above.\n",
            "\n",
            "  \n",
            "Model's answer is:  One and a half hours.\n",
            "The answer is: 0\n",
            "\n",
            "\n"
          ]
        },
        {
          "output_type": "stream",
          "name": "stderr",
          "text": [
            "\r 18%|█▊        | 21/120 [00:20<01:25,  1.15it/s]"
          ]
        },
        {
          "output_type": "stream",
          "name": "stdout",
          "text": [
            "\n",
            "Question: A guy bet his neighbor 50 bucks that his dog could jump higher than a house. Thinking this was not possible, the neighbor took the bet and lost.\n",
            "Why did he lose the bet?  \n",
            " What is the correct answer to the brain teaser question from the following choices? (Pick only one Option (A)-(D)\n",
            "\n",
            "\n",
            "\n",
            "\n",
            "  Options:\n",
            "\n",
            "  (A): A house can not jump.\n",
            "\n",
            "  (B): The height of the tiny house is lower than the dog.\n",
            "\n",
            "  (C): That dog species were famous for their jumping ability.\n",
            "\n",
            "  (D): None of above.\n",
            "\n",
            "  \n",
            "Model's answer is:  None of above.\n",
            "The answer is: 3\n",
            "\n",
            "\n"
          ]
        },
        {
          "output_type": "stream",
          "name": "stderr",
          "text": [
            "\r 18%|█▊        | 22/120 [00:21<01:24,  1.16it/s]"
          ]
        },
        {
          "output_type": "stream",
          "name": "stdout",
          "text": [
            "\n",
            "Question: A group of students plan to go trekking in the afternoon, but one of them forgets to bring their rubber boots. But how is it possible that his feet are still dry after a lengthy stroll around the park?  \n",
            " What is the correct answer to the brain teaser question from the following choices? (Pick only one Option (A)-(D)\n",
            "\n",
            "\n",
            "\n",
            "\n",
            "  Options:\n",
            "\n",
            "  (A): The ground is not wet.\n",
            "\n",
            "  (B): The one is walking on his hands.\n",
            "\n",
            "  (C): By walking on stilts, the one elevates his feet above the wet ground.\n",
            "\n",
            "  (D): None of above.\n",
            "\n",
            "  \n",
            "Model's answer is:  By walking on stilts,\n",
            "The answer is: 2\n",
            "\n",
            "\n"
          ]
        },
        {
          "output_type": "stream",
          "name": "stderr",
          "text": [
            "\r 19%|█▉        | 23/120 [00:22<01:29,  1.09it/s]"
          ]
        },
        {
          "output_type": "stream",
          "name": "stdout",
          "text": [
            "\n",
            "Question: There was a farmer who wanted to go investigate a problem with his chicken coop. As soon as he arrived, he saw a rooster perched atop the barn. Now the barn had a top that resembled a triangle. However, the rooster unexpectedly laid an egg. How did it roll on that side?  \n",
            " What is the correct answer to the brain teaser question from the following choices? (Pick only one Option (A)-(D)\n",
            "\n",
            "\n",
            "\n",
            "\n",
            "  Options:\n",
            "\n",
            "  (A): It is possible the egg would roll down the middle of the triangle-shaped top of the barn.\n",
            "\n",
            "  (B): It didn't because rosters don't lay eggs.\n",
            "\n",
            "  (C):  There is a hole in the roof. Furthermore, the egg dropped into the hole.\n",
            "\n",
            "  (D): None of above.\n",
            "\n",
            "  \n",
            "Model's answer is:  down the middle of the triangle-shaped top of the barn.\n",
            "The answer is: 0\n",
            "\n",
            "\n"
          ]
        },
        {
          "output_type": "stream",
          "name": "stderr",
          "text": [
            "\r 20%|██        | 24/120 [00:23<01:22,  1.16it/s]"
          ]
        },
        {
          "output_type": "stream",
          "name": "stdout",
          "text": [
            "\n",
            "Question: James was surrounded by several hungry bears, but the bears approached me just took a look and left. How is that possible？  \n",
            " What is the correct answer to the brain teaser question from the following choices? (Pick only one Option (A)-(D)\n",
            "\n",
            "\n",
            "\n",
            "\n",
            "  Options:\n",
            "\n",
            "  (A): James was at the zoo.\n",
            "\n",
            "\n",
            "  (B): It is too cold outside.\n",
            "\n",
            "  (C): James is not healthy.\n",
            "\n",
            "  (D): None of above.\n",
            "\n",
            "  \n",
            "Model's answer is:  None of above.\n",
            "The answer is: 3\n",
            "\n",
            "\n"
          ]
        },
        {
          "output_type": "stream",
          "name": "stderr",
          "text": [
            "\r 21%|██        | 25/120 [00:23<01:17,  1.23it/s]"
          ]
        },
        {
          "output_type": "stream",
          "name": "stdout",
          "text": [
            "\n",
            "Question: You go to the doctor because you're ill, and he prescribes you three pills and tells you to take them every half hour. How long do the pills last you?  \n",
            " What is the correct answer to the brain teaser question from the following choices? (Pick only one Option (A)-(D)\n",
            "\n",
            "\n",
            "\n",
            "\n",
            "  Options:\n",
            "\n",
            "  (A): One and a half hours.\n",
            "\n",
            "  (B): An hour.\n",
            "\n",
            "  (C): Two hours.\n",
            "\n",
            "  (D): None of above.\n",
            "\n",
            "  \n",
            "Model's answer is:  One and a half hours.\n",
            "The answer is: 0\n",
            "\n",
            "\n"
          ]
        },
        {
          "output_type": "stream",
          "name": "stderr",
          "text": [
            "\r 22%|██▏       | 26/120 [00:24<01:10,  1.33it/s]"
          ]
        },
        {
          "output_type": "stream",
          "name": "stdout",
          "text": [
            "\n",
            "Question: how many times can you deduct 10 from 100?  \n",
            " What is the correct answer to the brain teaser question from the following choices? (Pick only one Option (A)-(D)\n",
            "\n",
            "\n",
            "\n",
            "\n",
            "  Options:\n",
            "\n",
            "  (A): Once.\n",
            "\n",
            "  (B): Infinite time.\n",
            "\n",
            "  (C): Twice.\n",
            "\n",
            "  (D): None of above.\n",
            "\n",
            "  \n",
            "Model's answer is:  Twice.\n",
            "The answer is: 2\n",
            "\n",
            "\n"
          ]
        },
        {
          "output_type": "stream",
          "name": "stderr",
          "text": [
            "\r 22%|██▎       | 27/120 [00:25<01:16,  1.22it/s]"
          ]
        },
        {
          "output_type": "stream",
          "name": "stdout",
          "text": [
            "\n",
            "Question: The teacher asked the two girls who looked exactly like the following questions: a.) Are you from the same family? b.) Do you have the same parents? c.) Were you born on the same day? They answered truthful \"yes\" to those questions, and yet told the truth when they indicated they were not twins. How can this be?\n",
            "  \n",
            " What is the correct answer to the brain teaser question from the following choices? (Pick only one Option (A)-(D)\n",
            "\n",
            "\n",
            "\n",
            "\n",
            "  Options:\n",
            "\n",
            "  (A): They were triplets.\n",
            "\n",
            "\n",
            "  (B): Their parent raised them differently due to the lack of money.\n",
            "\n",
            "  (C): One of the gril was not loved by their family.\n",
            "\n",
            "  (D): None of above.\n",
            "\n",
            "  \n",
            "Model's answer is:  triplets.\n",
            "The answer is: 0\n",
            "\n",
            "\n"
          ]
        },
        {
          "output_type": "stream",
          "name": "stderr",
          "text": [
            "\r 23%|██▎       | 28/120 [00:26<01:23,  1.10it/s]"
          ]
        },
        {
          "output_type": "stream",
          "name": "stdout",
          "text": [
            "\n",
            "Question: Romeo and Juliet are found dead on the floor in a bedroom. When they were discovered, there were pieces of glass and some water on the floor. The only furniture in the room is a shelf and a bed. The house is in a remote location, away from everything except for the nearby railroad track. What caused the death of Romeo and Juliet?  \n",
            " What is the correct answer to the brain teaser question from the following choices? (Pick only one Option (A)-(D)\n",
            "\n",
            "\n",
            "\n",
            "\n",
            "  Options:\n",
            "\n",
            "  (A): They were sleeping and scared by the sound of track.\n",
            "\n",
            "  (B): The rumble of the train moved the shelf which crushed them.\n",
            "\n",
            "  (C): Romeo and Juliet are fish. The rumble of the train knocked the tank off the shelf, it broke and Romeo and Juliet did not survive.\n",
            "\n",
            "  (D): None of above.\n",
            "\n",
            "  \n",
            "Model's answer is:  They were sleeping and scared by the sound of track.\n",
            "The answer is: 0\n",
            "\n",
            "\n"
          ]
        },
        {
          "output_type": "stream",
          "name": "stderr",
          "text": [
            "\r 24%|██▍       | 29/120 [00:27<01:15,  1.21it/s]"
          ]
        },
        {
          "output_type": "stream",
          "name": "stdout",
          "text": [
            "\n",
            "Question: If the vise coach of a sports team is unable to attend a game, who is supposed to lead the team?  \n",
            " What is the correct answer to the brain teaser question from the following choices? (Pick only one Option (A)-(D)\n",
            "\n",
            "\n",
            "\n",
            "\n",
            "  Options:\n",
            "\n",
            "  (A): The coach.\n",
            "\n",
            "  (B): The captain.\n",
            "\n",
            "  (C): The team's management\n",
            "\n",
            "  (D): None of above.\n",
            "\n",
            "  \n",
            "Model's answer is:  The captain.\n",
            "The answer is: 1\n",
            "\n",
            "\n"
          ]
        },
        {
          "output_type": "stream",
          "name": "stderr",
          "text": [
            "\r 25%|██▌       | 30/120 [00:28<01:28,  1.02it/s]"
          ]
        },
        {
          "output_type": "stream",
          "name": "stdout",
          "text": [
            "\n",
            "Question: A cop was walking past a restaurant when he heard someone scream - \"No John, not the gun!\" He ran inside and and saw a doctor, a lawyer, a mail man, and a dead body on the floor. He promptly walked over to the mail man and arrested him. He didn't witness the shooting and there was no apparent evidence to prove who shot the person and no one told him who the killer was. How did the policeman instantly know it was the mail man?  \n",
            " What is the correct answer to the brain teaser question from the following choices? (Pick only one Option (A)-(D)\n",
            "\n",
            "\n",
            "\n",
            "\n",
            "  Options:\n",
            "\n",
            "  (A): The dead man was the relative of both doctor and lawyer.\n",
            "\n",
            "  (B): The policeman thought a doctor or a lawyer wouldn't have the name John.\n",
            "\n",
            "  (C): The mail man was the only male. The doctor and lawyer were females.\n",
            "\n",
            "  (D): None of above.\n",
            "\n",
            "  \n",
            "Model's answer is:  The mail man was the only male.\n",
            "The answer is: 2\n",
            "\n",
            "\n"
          ]
        },
        {
          "output_type": "stream",
          "name": "stderr",
          "text": [
            "\r 26%|██▌       | 31/120 [00:29<01:31,  1.03s/it]"
          ]
        },
        {
          "output_type": "stream",
          "name": "stdout",
          "text": [
            "\n",
            "Question: Why do old people consume more food than young people.  \n",
            " What is the correct answer to the brain teaser question from the following choices? (Pick only one Option (A)-(D)\n",
            "\n",
            "\n",
            "\n",
            "\n",
            "  Options:\n",
            "\n",
            "  (A): Older adults may have specific dietary requirements to address age-related issues\n",
            "\n",
            "  (B): Older people require increased nutrient intake to support overall health and well-being.\n",
            "\n",
            "  (C): Because older people live longer.\n",
            "\n",
            "  (D): None of above.\n",
            "\n",
            "  \n",
            "Model's answer is:  Because older people live longer.\n",
            "The answer is: 2\n",
            "\n",
            "\n"
          ]
        },
        {
          "output_type": "stream",
          "name": "stderr",
          "text": [
            "\r 27%|██▋       | 32/120 [00:30<01:33,  1.06s/it]"
          ]
        },
        {
          "output_type": "stream",
          "name": "stdout",
          "text": [
            "\n",
            "Question: A sudden wave knocked Jack out of the water when he was swimming on the beach; he died five minutes later. How is that possible?  \n",
            " What is the correct answer to the brain teaser question from the following choices? (Pick only one Option (A)-(D)\n",
            "\n",
            "\n",
            "\n",
            "\n",
            "  Options:\n",
            "\n",
            "  (A): Jack needs to to go to the hospital but no one is welling to help.\n",
            "\n",
            "  (B): Jack is so scared of the water.\n",
            "\n",
            "  (C): Jack is a fish in the ocean.\n",
            "\n",
            "  (D): None of above.\n",
            "\n",
            "  \n",
            "Model's answer is:  None of above.\n",
            "The answer is: 3\n",
            "\n",
            "\n"
          ]
        },
        {
          "output_type": "stream",
          "name": "stderr",
          "text": [
            "\r 28%|██▊       | 33/120 [00:31<01:25,  1.01it/s]"
          ]
        },
        {
          "output_type": "stream",
          "name": "stdout",
          "text": [
            "\n",
            "Question: A large dog and a slim dog are sitting on a porch. The small dog is the fat dog's kid, but the fat dog is not the thin dog's father. Could you please explain?  \n",
            " What is the correct answer to the brain teaser question from the following choices? (Pick only one Option (A)-(D)\n",
            "\n",
            "\n",
            "\n",
            "\n",
            "  Options:\n",
            "\n",
            "  (A): The fat dog was the father when it is thin.\n",
            "\n",
            "  (B): The fat dog is not a responsible father as he eats all the food.\n",
            "\n",
            "  (C): The fat dog is the mother.\n",
            "\n",
            "  (D): None of above.\n",
            "\n",
            "  \n",
            "Model's answer is:  None of above.\n",
            "The answer is: 3\n",
            "\n",
            "\n"
          ]
        },
        {
          "output_type": "stream",
          "name": "stderr",
          "text": [
            "\r 28%|██▊       | 34/120 [00:32<01:26,  1.01s/it]"
          ]
        },
        {
          "output_type": "stream",
          "name": "stdout",
          "text": [
            "\n",
            "Question: There was a farmer who had a problem with his chicken coop, and he wanted to go check it out. When he got there he noticed that there was a rooster on top of the barn. Now the barn was shaped with a triangle-type top. But suddenly the rooster laid an egg. Which side did it roll on?  \n",
            " What is the correct answer to the brain teaser question from the following choices? (Pick only one Option (A)-(D)\n",
            "\n",
            "\n",
            "\n",
            "\n",
            "  Options:\n",
            "\n",
            "  (A): It is possible the egg would roll down the middle of the triangle-shaped top of the barn.\n",
            "\n",
            "  (B):  There is a hole in the roof. Furthermore, the egg dropped into the hole.\n",
            "\n",
            "  (C): It didn't because rosters don't lay eggs.\n",
            "\n",
            "  (D): None of above.\n",
            "\n",
            "  \n",
            "Model's answer is:  down the middle of the triangle-shaped top of the barn.\n",
            "The answer is: 0\n",
            "\n",
            "\n"
          ]
        },
        {
          "output_type": "stream",
          "name": "stderr",
          "text": [
            "\r 29%|██▉       | 35/120 [00:33<01:23,  1.02it/s]"
          ]
        },
        {
          "output_type": "stream",
          "name": "stdout",
          "text": [
            "\n",
            "Question: Five people were at a football match, and a sudden shower started. The four that rushed to take cover still got soaked, but the one who didn't move stayed completely dry. Why didn't he get wet?  \n",
            " What is the correct answer to the brain teaser question from the following choices? (Pick only one Option (A)-(D)\n",
            "\n",
            "\n",
            "\n",
            "\n",
            "  Options:\n",
            "\n",
            "  (A): The man is an excellent football player that can avoid rain in high speed.\n",
            "\n",
            "  (B): \n",
            "The man was lucky enough to avoid all the rain.\n",
            "\n",
            "  (C): He was a photograph the other people were there to honor a former player.\n",
            "\n",
            "  (D): None of above.\n",
            "\n",
            "  \n",
            "Model's answer is: \n",
            "The man was lucky enough to avoid all the rain.\n",
            "The answer is: 1\n",
            "\n",
            "\n"
          ]
        },
        {
          "output_type": "stream",
          "name": "stderr",
          "text": [
            "\r 30%|███       | 36/120 [00:34<01:16,  1.10it/s]"
          ]
        },
        {
          "output_type": "stream",
          "name": "stdout",
          "text": [
            "\n",
            "Question: Two mothers and two daughters go shopping. They have $21, which they split equally between them. How can this be possible?  \n",
            " What is the correct answer to the brain teaser question from the following choices? (Pick only one Option (A)-(D)\n",
            "\n",
            "\n",
            "\n",
            "\n",
            "  Options:\n",
            "\n",
            "  (A): One mother give his $7 to his son.\n",
            "\n",
            "  (B): Two daughters share the $7.\n",
            "\n",
            "  (C): They are one daughters, one mother and one grandmother.\n",
            "\n",
            "  (D): None of above.\n",
            "\n",
            "  \n",
            "Model's answer is:  Two daughters share the $7.\n",
            "The answer is: 1\n",
            "\n",
            "\n"
          ]
        },
        {
          "output_type": "stream",
          "name": "stderr",
          "text": [
            "\r 31%|███       | 37/120 [00:34<01:11,  1.16it/s]"
          ]
        },
        {
          "output_type": "stream",
          "name": "stdout",
          "text": [
            "\n",
            "Question: In a certain city, 5% of all the persons in town have unlisted phone numbers. If you select 100 names at random from that city's phone directory, how many people selected will have unlisted phone numbers?  \n",
            " What is the correct answer to the brain teaser question from the following choices? (Pick only one Option (A)-(D)\n",
            "\n",
            "\n",
            "\n",
            "\n",
            "  Options:\n",
            "\n",
            "  (A): One hundred people.\n",
            "\n",
            "  (B): Five people.\n",
            "\n",
            "  (C): Ninty-five people.\n",
            "\n",
            "  (D): None of above.\n",
            "\n",
            "  \n",
            "Model's answer is:  Five\n",
            "The answer is: 1\n",
            "\n",
            "\n"
          ]
        },
        {
          "output_type": "stream",
          "name": "stderr",
          "text": [
            "\r 32%|███▏      | 38/120 [00:35<01:11,  1.15it/s]"
          ]
        },
        {
          "output_type": "stream",
          "name": "stdout",
          "text": [
            "\n",
            "Question: There were five guys in church, and it began to rain while they were outside. The four that fled got wet, while the one that remained dry kept entirely dry. Why didn't he drink?  \n",
            " What is the correct answer to the brain teaser question from the following choices? (Pick only one Option (A)-(D)\n",
            "\n",
            "\n",
            "\n",
            "\n",
            "  Options:\n",
            "\n",
            "  (A): He was in a coffin the other men were at his funeral.\n",
            "\n",
            "\n",
            "  (B): \n",
            "The man was lucky enough to avoid all the rain.\n",
            "\n",
            "  (C): The man is an athlete that can avoid rain in high speed.\n",
            "\n",
            "  (D): None of above.\n",
            "\n",
            "  \n",
            "Model's answer is:  None of above.\n",
            "The answer is: 3\n",
            "\n",
            "\n"
          ]
        },
        {
          "output_type": "stream",
          "name": "stderr",
          "text": [
            "\r 32%|███▎      | 39/120 [00:36<01:07,  1.19it/s]"
          ]
        },
        {
          "output_type": "stream",
          "name": "stdout",
          "text": [
            "\n",
            "Question: Shopping is done by Jack, Tom and their parents. They divided the $40 they have equally amongst themselves. How is that possible?  \n",
            " What is the correct answer to the brain teaser question from the following choices? (Pick only one Option (A)-(D)\n",
            "\n",
            "\n",
            "\n",
            "\n",
            "  Options:\n",
            "\n",
            "  (A): Jack and Tom are the parents themselves.\n",
            "\n",
            "  (B): Each kid's parents pooled $10 for division.\n",
            "\n",
            "  (C): Jack and Tom are brothers who share the same parents.\n",
            "\n",
            "  (D): None of above.\n",
            "\n",
            "  \n",
            "Model's answer is:  Each kid's parents pooled $10\n",
            "The answer is: 1\n",
            "\n",
            "\n"
          ]
        },
        {
          "output_type": "stream",
          "name": "stderr",
          "text": [
            "\r 33%|███▎      | 40/120 [00:37<01:05,  1.23it/s]"
          ]
        },
        {
          "output_type": "stream",
          "name": "stdout",
          "text": [
            "\n",
            "Question: Why do white sheep consume more food than black sheep?  \n",
            " What is the correct answer to the brain teaser question from the following choices? (Pick only one Option (A)-(D)\n",
            "\n",
            "\n",
            "\n",
            "\n",
            "  Options:\n",
            "\n",
            "  (A): Because there are less black sheep in the world than white.\n",
            "\n",
            "  (B): Black sheep do not need food. \n",
            "\n",
            "  (C): Black absorbs more heat from sunlight, black sheep may eat less to avoid overheating or to regulate their body temperature.\n",
            "\n",
            "  (D): None of above.\n",
            "\n",
            "  \n",
            "Model's answer is:  Because there are less black sheep in the world\n",
            "The answer is: 0\n",
            "\n",
            "\n"
          ]
        },
        {
          "output_type": "stream",
          "name": "stderr",
          "text": [
            "\r 34%|███▍      | 41/120 [00:38<01:03,  1.25it/s]"
          ]
        },
        {
          "output_type": "stream",
          "name": "stdout",
          "text": [
            "\n",
            "Question: A woman spotted a bear in the distance on a Sunday afternoon. She ran in excitement toward it as opposed to being afraid. Why didn't she feel fear?  \n",
            " What is the correct answer to the brain teaser question from the following choices? (Pick only one Option (A)-(D)\n",
            "\n",
            "\n",
            "\n",
            "\n",
            "  Options:\n",
            "\n",
            "  (A): She tried to scare the bear.\n",
            "\n",
            "  (B): She was at the zoo.\n",
            "\n",
            "\n",
            "  (C): She become brave in sudden.\n",
            "\n",
            "  (D): None of above.\n",
            "\n",
            "  \n",
            "Model's answer is:  None of above.\n",
            "The answer is: 3\n",
            "\n",
            "\n"
          ]
        },
        {
          "output_type": "stream",
          "name": "stderr",
          "text": [
            "\r 35%|███▌      | 42/120 [00:39<01:04,  1.20it/s]"
          ]
        },
        {
          "output_type": "stream",
          "name": "stdout",
          "text": [
            "\n",
            "Question: Tom and John made a $100 wager that John could correctly predict the outcome of the upcoming football game. Tom concurs, but he loses the wager. What led Tom to lose the wager?  \n",
            " What is the correct answer to the brain teaser question from the following choices? (Pick only one Option (A)-(D)\n",
            "\n",
            "\n",
            "\n",
            "\n",
            "  Options:\n",
            "\n",
            "  (A): John possesses an extraordinary ability to see into the future.\n",
            "\n",
            "  (B): John said the score would be 0-0 and he was right. \"Before\" any football game starts, the score is always 0-0.\n",
            "\n",
            "  (C): Tom gave his money to show his kindness.\n",
            "\n",
            "  (D): None of above.\n",
            "\n",
            "  \n",
            "Model's answer is:  John said the score would be 0-0\n",
            "The answer is: 1\n",
            "\n",
            "\n"
          ]
        },
        {
          "output_type": "stream",
          "name": "stderr",
          "text": [
            "\r 36%|███▌      | 43/120 [00:39<01:05,  1.18it/s]"
          ]
        },
        {
          "output_type": "stream",
          "name": "stdout",
          "text": [
            "\n",
            "Question: Tom and John bet $100 on John correctly predicting the outcome of the forthcoming basketball game. Tom agrees, but he loses the bet. What caused Tom to lose the bet?  \n",
            " What is the correct answer to the brain teaser question from the following choices? (Pick only one Option (A)-(D)\n",
            "\n",
            "\n",
            "\n",
            "\n",
            "  Options:\n",
            "\n",
            "  (A): John said the score would be 0-0 and he was right. \"Before\" any basketball game starts, the score is always 0-0.\n",
            "\n",
            "  (B): John possesses an extraordinary ability to see into the future.\n",
            "\n",
            "  (C): Tom gave his money to show his kindness.\n",
            "\n",
            "  (D): None of above.\n",
            "\n",
            "  \n",
            "Model's answer is:  John said the score would be 0-0\n",
            "The answer is: 0\n",
            "\n",
            "\n"
          ]
        },
        {
          "output_type": "stream",
          "name": "stderr",
          "text": [
            "\r 37%|███▋      | 44/120 [00:40<01:00,  1.26it/s]"
          ]
        },
        {
          "output_type": "stream",
          "name": "stdout",
          "text": [
            "\n",
            "Question: If an essential assistant captain of a sports team were resigned, who would lead the team?  \n",
            " What is the correct answer to the brain teaser question from the following choices? (Pick only one Option (A)-(D)\n",
            "\n",
            "\n",
            "\n",
            "\n",
            "  Options:\n",
            "\n",
            "  (A): The captain.\n",
            "\n",
            "  (B): The first officer.\n",
            "\n",
            "  (C): The second officer.\n",
            "\n",
            "  (D): None of above.\n",
            "\n",
            "  \n",
            "Model's answer is:  The captain.\n",
            "The answer is: 0\n",
            "\n",
            "\n"
          ]
        },
        {
          "output_type": "stream",
          "name": "stderr",
          "text": [
            "\r 38%|███▊      | 45/120 [00:41<01:02,  1.19it/s]"
          ]
        },
        {
          "output_type": "stream",
          "name": "stdout",
          "text": [
            "\n",
            "Question: How many times can you subtract 10 from 100? \n",
            "  \n",
            " What is the correct answer to the brain teaser question from the following choices? (Pick only one Option (A)-(D)\n",
            "\n",
            "\n",
            "\n",
            "\n",
            "  Options:\n",
            "\n",
            "  (A): Infinite time.\n",
            "\n",
            "  (B): Twice.\n",
            "\n",
            "  (C): Once.\n",
            "\n",
            "  (D): None of above.\n",
            "\n",
            "  \n",
            "Model's answer is:  Twice.\n",
            "\n",
            "  (C): Once.\n",
            "\n",
            "\n"
          ]
        },
        {
          "output_type": "stream",
          "name": "stderr",
          "text": [
            "\r 38%|███▊      | 46/120 [00:42<01:08,  1.08it/s]"
          ]
        },
        {
          "output_type": "stream",
          "name": "stdout",
          "text": [
            "\n",
            "Question: A farmer has 11 sheep. Half of them are white. How is this possible?  \n",
            " What is the correct answer to the brain teaser question from the following choices? (Pick only one Option (A)-(D)\n",
            "\n",
            "\n",
            "\n",
            "\n",
            "  Options:\n",
            "\n",
            "  (A): One sheep is regarded as both white and other colors same time.\n",
            "\n",
            "  (B): A famer raises his sheep in both white way and another way.\n",
            "\n",
            "  (C): They are all white.\n",
            "\n",
            "  (D): None of above.\n",
            "\n",
            "  \n",
            "Model's answer is:  raises his sheep in both white way and another way.\n",
            "The answer is: 1\n",
            "\n",
            "\n"
          ]
        },
        {
          "output_type": "stream",
          "name": "stderr",
          "text": [
            "\r 39%|███▉      | 47/120 [00:43<01:07,  1.08it/s]"
          ]
        },
        {
          "output_type": "stream",
          "name": "stdout",
          "text": [
            "\n",
            "Question: The officer arrested James and said I don't have a brother anymore, however, James also didn't have a brother. How's that possible?  \n",
            " What is the correct answer to the brain teaser question from the following choices? (Pick only one Option (A)-(D)\n",
            "\n",
            "\n",
            "\n",
            "\n",
            "  Options:\n",
            "\n",
            "  (A): The officer was not loved by family and had moved away when he was young.\n",
            "\n",
            "  (B): The officer is angry about his brother and cut ties with him.\n",
            "\n",
            "  (C): Officer was actually his sister so the whole story makes sense\n",
            "\n",
            "  (D): None of above.\n",
            "\n",
            "  \n",
            "Model's answer is:  None of above.\n",
            "The answer is: 3\n",
            "\n",
            "\n"
          ]
        },
        {
          "output_type": "stream",
          "name": "stderr",
          "text": [
            "\r 40%|████      | 48/120 [00:44<01:02,  1.15it/s]"
          ]
        },
        {
          "output_type": "stream",
          "name": "stdout",
          "text": [
            "\n",
            "Question: A man has nine kids. Males make up half of them. How is that even possible?  \n",
            " What is the correct answer to the brain teaser question from the following choices? (Pick only one Option (A)-(D)\n",
            "\n",
            "\n",
            "\n",
            "\n",
            "  Options:\n",
            "\n",
            "  (A): One child is regarded as both boy and girl same time.\n",
            "\n",
            "  (B): A man raises his children in both boy way and girl way.\n",
            "\n",
            "  (C): They are all boys.\n",
            "\n",
            "  (D): None of above.\n",
            "\n",
            "  \n",
            "Model's answer is:  A man raises his children in both boy way and girl way.\n",
            "The answer is: 1\n",
            "\n",
            "\n"
          ]
        },
        {
          "output_type": "stream",
          "name": "stderr",
          "text": [
            "\r 41%|████      | 49/120 [00:45<01:05,  1.09it/s]"
          ]
        },
        {
          "output_type": "stream",
          "name": "stdout",
          "text": [
            "\n",
            "Question: The coach asked the two boys who looked remarkably similar the following questions: a.) Do you live in the same house? b.) Do you have the same mother and father? c.) Were you both born on the same date? The boys responded truthfully with \"yes\" to these inquiries, yet were honest when they said they weren't twins. How could this be?  \n",
            " What is the correct answer to the brain teaser question from the following choices? (Pick only one Option (A)-(D)\n",
            "\n",
            "\n",
            "\n",
            "\n",
            "  Options:\n",
            "\n",
            "  (A): They were triplets.\n",
            "\n",
            "\n",
            "  (B): Their parent raised them differently due to the lack of money.\n",
            "\n",
            "  (C): One of the boys was not loved by their family.\n",
            "\n",
            "  (D): None of above.\n",
            "\n",
            "  \n",
            "Model's answer is:  triplets.\n",
            "The answer is: 0\n",
            "\n",
            "\n"
          ]
        },
        {
          "output_type": "stream",
          "name": "stderr",
          "text": [
            "\r 42%|████▏     | 50/120 [00:46<01:02,  1.13it/s]"
          ]
        },
        {
          "output_type": "stream",
          "name": "stdout",
          "text": [
            "\n",
            "Question: Three men are walking across a green and fuscous field. Only two of them are wearing rubber boots and yet the feet of the third man remain dry. Why?  \n",
            " What is the correct answer to the brain teaser question from the following choices? (Pick only one Option (A)-(D)\n",
            "\n",
            "\n",
            "\n",
            "\n",
            "  Options:\n",
            "\n",
            "  (A): The ground is not wet.\n",
            "\n",
            "  (B): By walking on stilts, the third man elevates his feet above the wet ground.\n",
            "\n",
            "  (C): The third man is walking on his hands.\n",
            "\n",
            "  (D): None of above.\n",
            "\n",
            "  \n",
            "Model's answer is:  The ground is not wet.\n",
            "The answer is: 0\n",
            "\n",
            "\n"
          ]
        },
        {
          "output_type": "stream",
          "name": "stderr",
          "text": [
            "\r 42%|████▎     | 51/120 [00:47<01:00,  1.14it/s]"
          ]
        },
        {
          "output_type": "stream",
          "name": "stdout",
          "text": [
            "\n",
            "Question: John bet Tom $100 that he can predict the score of the football game before it starts. Tom agrees but loses the bet. Why did Tom lose the bet?  \n",
            " What is the correct answer to the brain teaser question from the following choices? (Pick only one Option (A)-(D)\n",
            "\n",
            "\n",
            "\n",
            "\n",
            "  Options:\n",
            "\n",
            "  (A): John said the score would be 0-0 and he was right. \"Before\" any football game starts, the score is always 0-0.\n",
            "\n",
            "  (B): John possesses an extraordinary ability to see into the future.\n",
            "\n",
            "  (C): Tom gave his money to show his kindness.\n",
            "\n",
            "  (D): None of above.\n",
            "\n",
            "  \n",
            "Model's answer is:  \"Before\" any football game starts, the score is always 0-0.\n",
            "The answer is: 0\n",
            "\n",
            "\n"
          ]
        },
        {
          "output_type": "stream",
          "name": "stderr",
          "text": [
            "\r 43%|████▎     | 52/120 [00:48<01:07,  1.00it/s]"
          ]
        },
        {
          "output_type": "stream",
          "name": "stdout",
          "text": [
            "\n",
            "Question: When a cop was going through a restaurant, he heard someone yell, \"No John, not the gun!\" He dashed inside, where he discovered a doctor, a lawyer, a priest, and a dead corpse on the floor. He quickly approached the man and arrested him. He was not present when the shooting occurred, there was no obvious evidence to indicate who shot the guy, and no one notified him who the killer was. How did the cop recognize the milan so quickly?  \n",
            " What is the correct answer to the brain teaser question from the following choices? (Pick only one Option (A)-(D)\n",
            "\n",
            "\n",
            "\n",
            "\n",
            "  Options:\n",
            "\n",
            "  (A): The mail man was the only male. The doctor and lawyer were females, so the cop knew that \"John\" was the mail man.\n",
            "\n",
            "  (B): The policeman think a doctor or a lawyer won't have name John.\n",
            "\n",
            "  (C): The dead man was the relative of both doctor and lawyer.\n",
            "\n",
            "  (D): None of above.\n",
            "\n",
            "  \n",
            "Model's answer is:  the cop knew that \"John\" was the mail man.\n",
            "The answer is: 0\n",
            "\n",
            "\n"
          ]
        },
        {
          "output_type": "stream",
          "name": "stderr",
          "text": [
            "\r 44%|████▍     | 53/120 [00:49<01:00,  1.10it/s]"
          ]
        },
        {
          "output_type": "stream",
          "name": "stdout",
          "text": [
            "\n",
            "Question: A driver is told to make a stop every half an hour for the engine to cool down, for five times. How long do the stops take ?  \n",
            " What is the correct answer to the brain teaser question from the following choices? (Pick only one Option (A)-(D)\n",
            "\n",
            "\n",
            "\n",
            "\n",
            "  Options:\n",
            "\n",
            "  (A): Three hours.\n",
            "\n",
            "  (B): Two and a half hours.\n",
            "\n",
            "  (C): Two hours.\n",
            "\n",
            "  (D): None of above.\n",
            "\n",
            "  \n",
            "Model's answer is:  Three hours.\n",
            "The answer is: 0\n",
            "\n",
            "\n"
          ]
        },
        {
          "output_type": "stream",
          "name": "stderr",
          "text": [
            "\r 45%|████▌     | 54/120 [00:49<00:57,  1.14it/s]"
          ]
        },
        {
          "output_type": "stream",
          "name": "stdout",
          "text": [
            "\n",
            "Question: Two fishes in a tank were swimming in the opposite directions, but they were seeing each other every couple of few minutes. How's that possible?  \n",
            " What is the correct answer to the brain teaser question from the following choices? (Pick only one Option (A)-(D)\n",
            "\n",
            "\n",
            "\n",
            "\n",
            "  Options:\n",
            "\n",
            "  (A): Water in the tank can reflect each other in some degree.\n",
            "\n",
            "  (B): The fish tank was like a ring.\n",
            "\n",
            "  (C): Fish had an unusual vision so they can see what happend behind them.\n",
            "\n",
            "  (D): None of above.\n",
            "\n",
            "  \n",
            "Model's answer is:  Water in the tank can reflect each other in some degree.\n",
            "The answer is: 0\n",
            "\n",
            "\n"
          ]
        },
        {
          "output_type": "stream",
          "name": "stderr",
          "text": [
            "\r 46%|████▌     | 55/120 [00:50<00:55,  1.18it/s]"
          ]
        },
        {
          "output_type": "stream",
          "name": "stdout",
          "text": [
            "\n",
            "Question: Why do black sheep eat less than white sheep?  \n",
            " What is the correct answer to the brain teaser question from the following choices? (Pick only one Option (A)-(D)\n",
            "\n",
            "\n",
            "\n",
            "\n",
            "  Options:\n",
            "\n",
            "  (A): Black sheep do not need food. \n",
            "\n",
            "  (B): Black absorbs more heat from sunlight, black sheep may eat less to avoid overheating or to regulate their body temperature.\n",
            "\n",
            "  (C): Because there are less black sheep in the world than white.\n",
            "\n",
            "  (D): None of above.\n",
            "\n",
            "  \n",
            "Model's answer is:  to avoid overheating or to regulate their body temperature.\n",
            "The answer is: 1\n",
            "\n",
            "\n"
          ]
        },
        {
          "output_type": "stream",
          "name": "stderr",
          "text": [
            "\r 47%|████▋     | 56/120 [00:51<00:57,  1.12it/s]"
          ]
        },
        {
          "output_type": "stream",
          "name": "stdout",
          "text": [
            "\n",
            "Question: The teacher questioned the two girls who had the same appearance: Are you related to each other? b.) Do your parents look alike? c.) Did you share the same birthday? They genuinely replied \"yes\" to those inquiries, and they were honest when they said they weren't identical twins. How is this possible?  \n",
            " What is the correct answer to the brain teaser question from the following choices? (Pick only one Option (A)-(D)\n",
            "\n",
            "\n",
            "\n",
            "\n",
            "  Options:\n",
            "\n",
            "  (A): They were triplets.\n",
            "\n",
            "\n",
            "  (B): One of the gril was not loved by their family.\n",
            "\n",
            "  (C): Their parent raised them differently due to the lack of money.\n",
            "\n",
            "  (D): None of above.\n",
            "\n",
            "  \n",
            "Model's answer is:  They were triplets.\n",
            "The answer is: 0\n",
            "\n",
            "\n"
          ]
        },
        {
          "output_type": "stream",
          "name": "stderr",
          "text": [
            "\r 48%|████▊     | 57/120 [00:52<00:55,  1.14it/s]"
          ]
        },
        {
          "output_type": "stream",
          "name": "stdout",
          "text": [
            "\n",
            "Question: Crossing a lush and muddy meadow are three men. The third man's feet are still dry despite the fact that only two of them are wearing rubber boots. Why?  \n",
            " What is the correct answer to the brain teaser question from the following choices? (Pick only one Option (A)-(D)\n",
            "\n",
            "\n",
            "\n",
            "\n",
            "  Options:\n",
            "\n",
            "  (A): The ground is not wet.\n",
            "\n",
            "  (B): By walking on stilts, the third man elevates his feet above the wet ground.\n",
            "\n",
            "  (C): The third man is walking on his hands.\n",
            "\n",
            "  (D): None of above.\n",
            "\n",
            "  \n",
            "Model's answer is:  The ground is not wet.\n",
            "The answer is: 0\n",
            "\n",
            "\n"
          ]
        },
        {
          "output_type": "stream",
          "name": "stderr",
          "text": [
            "\r 48%|████▊     | 58/120 [00:53<00:56,  1.09it/s]"
          ]
        },
        {
          "output_type": "stream",
          "name": "stdout",
          "text": [
            "\n",
            "Question: Two dogs are sitting on a porch - a fat dog and a thin dog. The little dog is the son of the fat dog, but the fat dog is not the father of the thin dog. Can you explain?  \n",
            " What is the correct answer to the brain teaser question from the following choices? (Pick only one Option (A)-(D)\n",
            "\n",
            "\n",
            "\n",
            "\n",
            "  Options:\n",
            "\n",
            "  (A): The fat dog was the father when it is thin.\n",
            "\n",
            "  (B): The fat dog is the mother.\n",
            "\n",
            "  (C): The fat dog is not a responsible father as he eats all the food.\n",
            "\n",
            "  (D): None of above.\n",
            "\n",
            "  \n",
            "Model's answer is:  None of above.\n",
            "The answer is: 3\n",
            "\n",
            "\n"
          ]
        },
        {
          "output_type": "stream",
          "name": "stderr",
          "text": [
            "\r 49%|████▉     | 59/120 [00:55<01:10,  1.15s/it]"
          ]
        },
        {
          "output_type": "stream",
          "name": "stdout",
          "text": [
            "\n",
            "Question: Two entries were stationed outside of a barracks. One was looking up the road for anyone arriving from the north. The other checked the road to see if anyone was approaching from the south. \"Why are you smiling?\" one of them asked the other. How did he find out his partner was smiling?  \n",
            " What is the correct answer to the brain teaser question from the following choices? (Pick only one Option (A)-(D)\n",
            "\n",
            "\n",
            "\n",
            "\n",
            "  Options:\n",
            "\n",
            "  (A): The smiling guard's action is such big that even the guard behind him can see it.\n",
            "\n",
            "  (B): Although the guards were looking in opposite directions, they were not back to back. They were facing each other.\n",
            "\n",
            "  (C): One of the guards had an unusual vision so he can see what happend behind him.\n",
            "\n",
            "  (D): None of above.\n",
            "\n",
            "  \n",
            "Model's answer is:  The smiling guard's action is such big\n",
            "The answer is: 0\n",
            "\n",
            "\n"
          ]
        },
        {
          "output_type": "stream",
          "name": "stderr",
          "text": [
            "\r 50%|█████     | 60/120 [00:55<01:01,  1.03s/it]"
          ]
        },
        {
          "output_type": "stream",
          "name": "stdout",
          "text": [
            "\n",
            "Question: In what year did Christmas Day and New Year's Day fall in the same year?  \n",
            " What is the correct answer to the brain teaser question from the following choices? (Pick only one Option (A)-(D)\n",
            "\n",
            "\n",
            "\n",
            "\n",
            "  Options:\n",
            "\n",
            "  (A): In the first year of each century.\n",
            "\n",
            "  (B): It happens every year.\n",
            "\n",
            "  (C): In the period of BC.\n",
            "\n",
            "  (D): None of above.\n",
            "\n",
            "  \n",
            "Model's answer is:  first year of each century.\n",
            "The answer is: 0\n",
            "\n",
            "\n"
          ]
        },
        {
          "output_type": "stream",
          "name": "stderr",
          "text": [
            "\r 51%|█████     | 61/120 [00:56<00:54,  1.08it/s]"
          ]
        },
        {
          "output_type": "stream",
          "name": "stdout",
          "text": [
            "\n",
            "Question: When you put a white shirt on a stone that is red and wet, it will become red, if you do the same thing for yelllowstone, what will happen ?  \n",
            " What is the correct answer to the brain teaser question from the following choices? (Pick only one Option (A)-(D)\n",
            "\n",
            "\n",
            "\n",
            "\n",
            "  Options:\n",
            "\n",
            "  (A): White.\n",
            "\n",
            "  (B): Red.\n",
            "\n",
            "  (C): Yellow.\n",
            "\n",
            "  (D): None of above.\n",
            "\n",
            "  \n",
            "Model's answer is:  Yellow.\n",
            "The answer is: 2\n",
            "\n",
            "\n"
          ]
        },
        {
          "output_type": "stream",
          "name": "stderr",
          "text": [
            "\r 52%|█████▏    | 62/120 [00:57<00:53,  1.09it/s]"
          ]
        },
        {
          "output_type": "stream",
          "name": "stdout",
          "text": [
            "\n",
            "Question: If a Lion is tied to a piece of metal that is 6m long, how can it reach a human that is 7m away?  \n",
            " What is the correct answer to the brain teaser question from the following choices? (Pick only one Option (A)-(D)\n",
            "\n",
            "\n",
            "\n",
            "\n",
            "  Options:\n",
            "\n",
            "  (A): The dog dug a 1m tunnel underground to reach the bone that was 7m away while still tied to the 6m long rope.\n",
            "\n",
            "  (B): The other end is not tied to anything.\n",
            "\n",
            "  (C): The rope stretches proportionally, providing the extra length needed for the horse to reach the hay seven meters away.\n",
            "\n",
            "  (D): None of above.\n",
            "\n",
            "  \n",
            "Model's answer is:  dog\n",
            "The answer is: 0\n",
            "\n",
            "\n"
          ]
        },
        {
          "output_type": "stream",
          "name": "stderr",
          "text": [
            "\r 52%|█████▎    | 63/120 [00:58<00:52,  1.09it/s]"
          ]
        },
        {
          "output_type": "stream",
          "name": "stdout",
          "text": [
            "\n",
            "Question: You stroll into a room, find a bed, and lie down on it. There are two dogs, five cats, a giraffe, six cows, and a goose on the bed. Three doves are also fluttering above the bed. How many legs are there on the ground?  \n",
            " What is the correct answer to the brain teaser question from the following choices? (Pick only one Option (A)-(D)\n",
            "\n",
            "\n",
            "\n",
            "\n",
            "  Options:\n",
            "\n",
            "  (A): Thirty-six, as there are eighteen animals.\n",
            "\n",
            "  (B): Six. The bed's four legs, plus your two legs.\n",
            "\n",
            "  (C): Seventy-two, as there are eighteen animals.\n",
            "\n",
            "  (D): None of above.\n",
            "\n",
            "  \n",
            "Model's answer is:  Thirty-six,\n",
            "The answer is: 0\n",
            "\n",
            "\n"
          ]
        },
        {
          "output_type": "stream",
          "name": "stderr",
          "text": [
            "\r 53%|█████▎    | 64/120 [00:59<00:54,  1.02it/s]"
          ]
        },
        {
          "output_type": "stream",
          "name": "stdout",
          "text": [
            "\n",
            "Question: A woman who appears to be about to jump off the balcony of her 20-story apartment building is being caught in a net by a fireman who is running to reach her. There is a 20-story fall below her and nothing else. When she falls, the fireman is still 100 yards away and is not nearly in time. The damage to the woman is not worse than a cruise. How is that even doable?  \n",
            " What is the correct answer to the brain teaser question from the following choices? (Pick only one Option (A)-(D)\n",
            "\n",
            "\n",
            "\n",
            "\n",
            "  Options:\n",
            "\n",
            "  (A): The woman is strong enough to not get hurt from falling.\n",
            "\n",
            "  (B): She fell back into her apartment, jumping from the balcony into the inside.\n",
            "\n",
            "  (C): The fireman is so well exercised that he reaches the woman 100 yards away in a second.\n",
            "\n",
            "  (D): None of above.\n",
            "\n",
            "  \n",
            "Model's answer is:  The woman is strong enough to not get hurt from falling.\n",
            "The answer is: 0\n",
            "\n",
            "\n"
          ]
        },
        {
          "output_type": "stream",
          "name": "stderr",
          "text": [
            "\r 54%|█████▍    | 65/120 [01:00<00:47,  1.15it/s]"
          ]
        },
        {
          "output_type": "stream",
          "name": "stdout",
          "text": [
            "\n",
            "Question: Who can shave three times a day and maintain a beard?  \n",
            " What is the correct answer to the brain teaser question from the following choices? (Pick only one Option (A)-(D)\n",
            "\n",
            "\n",
            "\n",
            "\n",
            "  Options:\n",
            "\n",
            "  (A): A superstar.\n",
            "\n",
            "  (B): A barber.\n",
            "\n",
            "  (C): A woman.\n",
            "\n",
            "  (D): None of above.\n",
            "\n",
            "  \n",
            "Model's answer is:  A superstar.\n",
            "The answer is: 0\n",
            "\n",
            "\n"
          ]
        },
        {
          "output_type": "stream",
          "name": "stderr",
          "text": [
            "\r 55%|█████▌    | 66/120 [01:00<00:44,  1.21it/s]"
          ]
        },
        {
          "output_type": "stream",
          "name": "stdout",
          "text": [
            "\n",
            "Question: How can you drop a raw egg onto a concrete floor and not crack it?  \n",
            " What is the correct answer to the brain teaser question from the following choices? (Pick only one Option (A)-(D)\n",
            "\n",
            "\n",
            "\n",
            "\n",
            "  Options:\n",
            "\n",
            "  (A): You need to drop the egg gently.\n",
            "\n",
            "  (B): \n",
            "You need to drop the egg hard.\n",
            "\n",
            "  (C): No problem, because concrete floors are very hard to crack\n",
            "\n",
            "\n",
            "  (D): None of above.\n",
            "\n",
            "  \n",
            "Model's answer is:  gently.\n",
            "The answer is: 0\n",
            "\n",
            "\n"
          ]
        },
        {
          "output_type": "stream",
          "name": "stderr",
          "text": [
            "\r 56%|█████▌    | 67/120 [01:01<00:47,  1.11it/s]"
          ]
        },
        {
          "output_type": "stream",
          "name": "stdout",
          "text": [
            "\n",
            "Question: Jessica is telling her friends this story and asks them to guess if it's the truth or a lie: \"There was a man sitting in a house at night that had no lights on at all. There was no lamp, no candle, and no other source of light. Yet, he sat in the house and read his book happily.\" Her friends say she's lying, but Jessica corrects them and says she's telling the truth. Jessica's story is true—but how?  \n",
            " What is the correct answer to the brain teaser question from the following choices? (Pick only one Option (A)-(D)\n",
            "\n",
            "\n",
            "\n",
            "\n",
            "  Options:\n",
            "\n",
            "  (A): Because it was daytime.\n",
            "\n",
            "  (B): The man is smart that she pretended to reading the book.\n",
            "\n",
            "  (C): The man is blind and is reading braille.\n",
            "\n",
            "\n",
            "  (D): None of above.\n",
            "\n",
            "  \n",
            "Model's answer is:  None of above.\n",
            "The answer is: 3\n",
            "\n",
            "\n"
          ]
        },
        {
          "output_type": "stream",
          "name": "stderr",
          "text": [
            "\r 57%|█████▋    | 68/120 [01:03<00:51,  1.01it/s]"
          ]
        },
        {
          "output_type": "stream",
          "name": "stdout",
          "text": [
            "\n",
            "Question: You are on an island in the middle of a lake. The lake is in a remote part of the country and there has never been a bridge connecting the island to the mainland. Every day a tractor and wagon gives hay rides around the island. Puzzle as to how the tractor had gotten onto the island, you ask around and find out that the tractor was not transported to the island by boat or by air. Nor was it built on the island. Explain how the tractor got there?  \n",
            " What is the correct answer to the brain teaser question from the following choices? (Pick only one Option (A)-(D)\n",
            "\n",
            "\n",
            "\n",
            "\n",
            "  Options:\n",
            "\n",
            "  (A): The pieces of the tractor will fall within hail to the island.\n",
            "\n",
            "  (B): It was driven over in winter, when the lake was frozen.\n",
            "\n",
            "  (C): The pieces of tractor is floating over the lake, you collect them and combine them. \n",
            "\n",
            "  (D): None of above.\n",
            "\n",
            "  \n",
            "Model's answer is:  None of above.\n",
            "The answer is: 3\n",
            "\n",
            "\n"
          ]
        },
        {
          "output_type": "stream",
          "name": "stderr",
          "text": [
            "\r 57%|█████▊    | 69/120 [01:04<00:51,  1.01s/it]"
          ]
        },
        {
          "output_type": "stream",
          "name": "stdout",
          "text": [
            "\n",
            "Question: Sally has three classes, Math, English Language Arts, and History. She had a test in every class, and wanted to have some fun, so she did all of her tests in French. When she received her tests back, only one teacher could understand her work. If none of Sally's teachers spoke French, which teacher was able to understand the test and how did they understand it?  \n",
            " What is the correct answer to the brain teaser question from the following choices? (Pick only one Option (A)-(D)\n",
            "\n",
            "\n",
            "\n",
            "\n",
            "  Options:\n",
            "\n",
            "  (A): The history teacher, as he may have a good friend from France.\n",
            "\n",
            "  (B): English teacher, as she have experiences in using translator.\n",
            "\n",
            "  (C): The math teacher, because numbers are the same in French as they are in English.\n",
            "\n",
            "  (D): None of above.\n",
            "\n",
            "  \n",
            "Model's answer is:  The history teacher,\n",
            "The answer is: 0\n",
            "\n",
            "\n"
          ]
        },
        {
          "output_type": "stream",
          "name": "stderr",
          "text": [
            "\r 58%|█████▊    | 70/120 [01:04<00:46,  1.08it/s]"
          ]
        },
        {
          "output_type": "stream",
          "name": "stdout",
          "text": [
            "\n",
            "Question: On Friday, the man rode out of town to pick some berries. 2 hours later, he rode back on Sunday. How is that possible?  \n",
            " What is the correct answer to the brain teaser question from the following choices? (Pick only one Option (A)-(D)\n",
            "\n",
            "\n",
            "\n",
            "\n",
            "  Options:\n",
            "\n",
            "  (A): His horse was called Sunday.\n",
            "\n",
            "  (B): The man was too exhausted that he forgot his way home.\n",
            "\n",
            "  (C): Next week is a national holiday.\n",
            "\n",
            "  (D): None of above.\n",
            "\n",
            "  \n",
            "Model's answer is:  His horse was called Sunday.\n",
            "The answer is: 0\n",
            "\n",
            "\n"
          ]
        },
        {
          "output_type": "stream",
          "name": "stderr",
          "text": [
            "\r 59%|█████▉    | 71/120 [01:05<00:45,  1.07it/s]"
          ]
        },
        {
          "output_type": "stream",
          "name": "stdout",
          "text": [
            "\n",
            "Question: How can you toss a fragile glass ball against a sturdy brick wall from a distance without shattering it?  \n",
            " What is the correct answer to the brain teaser question from the following choices? (Pick only one Option (A)-(D)\n",
            "\n",
            "\n",
            "\n",
            "\n",
            "  Options:\n",
            "\n",
            "  (A): No problem, because sturdy bricks are very hard to crack\n",
            "\n",
            "  (B): You need to throw the glass ball hard.\n",
            "\n",
            "  (C): You need to throw the glass ball gently.\n",
            "\n",
            "  (D): None of above.\n",
            "\n",
            "  \n",
            "Model's answer is:  gently.\n",
            "The answer is: 2\n",
            "\n",
            "\n"
          ]
        },
        {
          "output_type": "stream",
          "name": "stderr",
          "text": [
            "\r 60%|██████    | 72/120 [01:07<00:48,  1.01s/it]"
          ]
        },
        {
          "output_type": "stream",
          "name": "stdout",
          "text": [
            "\n",
            "Question: Lisa is William's niece, but she isn't Emily's niece—even though Emily is William's sister and William isn't married. How is that possible?  \n",
            " What is the correct answer to the brain teaser question from the following choices? (Pick only one Option (A)-(D)\n",
            "\n",
            "\n",
            "\n",
            "\n",
            "  Options:\n",
            "\n",
            "  (A): Lisa is Emily's daughter.\n",
            "\n",
            "\n",
            "  (B): Emily is adopted.\n",
            "\n",
            "  (C): Emily and William share same father but not mother.\n",
            "\n",
            "  (D): None of above.\n",
            "\n",
            "  \n",
            "Model's answer is:  Lisa is Emily's daughter.\n",
            "The answer is: 0\n",
            "\n",
            "\n"
          ]
        },
        {
          "output_type": "stream",
          "name": "stderr",
          "text": [
            "\r 61%|██████    | 73/120 [01:08<00:48,  1.04s/it]"
          ]
        },
        {
          "output_type": "stream",
          "name": "stdout",
          "text": [
            "\n",
            "Question: In a house, there are three major rooms. The first is stuffed with cash. The second is stuffed with crucial documents. The third is stuffed with jewels. One day, all of these rooms caught fire. Which room did the cops initially put out the fire?  \n",
            " What is the correct answer to the brain teaser question from the following choices? (Pick only one Option (A)-(D)\n",
            "\n",
            "\n",
            "\n",
            "\n",
            "  Options:\n",
            "\n",
            "  (A): The one with with jewelry.\n",
            "\n",
            "  (B): The one with important papers.\n",
            "\n",
            "  (C): The one filled with money.\n",
            "\n",
            "  (D): None of above.\n",
            "\n",
            "  \n",
            "Model's answer is:  The one with with jewelry.\n",
            "The answer is: 0\n",
            "\n",
            "\n"
          ]
        },
        {
          "output_type": "stream",
          "name": "stderr",
          "text": [
            "\r 62%|██████▏   | 74/120 [01:09<00:48,  1.05s/it]"
          ]
        },
        {
          "output_type": "stream",
          "name": "stdout",
          "text": [
            "\n",
            "Question: Math, English language arts, and history are Sally's three subjects. Once she got an exam, she took it in French because she wanted to have fun. Only one teacher could understand her work when she received the results of her tests. Which teacher was able to grasp the test and how did they understand it since none of Sally's teachers could speak French?  \n",
            " What is the correct answer to the brain teaser question from the following choices? (Pick only one Option (A)-(D)\n",
            "\n",
            "\n",
            "\n",
            "\n",
            "  Options:\n",
            "\n",
            "  (A): The history teacher, as he may have a good friend from France.\n",
            "\n",
            "  (B): English teacher, as she have experiences in using translator.\n",
            "\n",
            "  (C): The math teacher, because numbers are the same in French as they are in English.\n",
            "\n",
            "  (D): None of above.\n",
            "\n",
            "  \n",
            "Model's answer is:  history teacher,\n",
            "The answer is: 0\n",
            "\n",
            "\n"
          ]
        },
        {
          "output_type": "stream",
          "name": "stderr",
          "text": [
            "\r 62%|██████▎   | 75/120 [01:09<00:42,  1.05it/s]"
          ]
        },
        {
          "output_type": "stream",
          "name": "stdout",
          "text": [
            "\n",
            "Question: A man jumped off a 50-story building, but he didn't get hurt at all. How is this possible?  \n",
            " What is the correct answer to the brain teaser question from the following choices? (Pick only one Option (A)-(D)\n",
            "\n",
            "\n",
            "\n",
            "\n",
            "  Options:\n",
            "\n",
            "  (A): He get medical attention.\n",
            "\n",
            "  (B): He jumped off the ground floor, not from the top of the building.\n",
            "\n",
            "  (C): The building is not so tall for the man.\n",
            "\n",
            "  (D): None of above.\n",
            "\n",
            "  \n",
            "Model's answer is:  He get medical attention.\n",
            "The answer is: 0\n",
            "\n",
            "\n"
          ]
        },
        {
          "output_type": "stream",
          "name": "stderr",
          "text": [
            "\r 63%|██████▎   | 76/120 [01:11<00:44,  1.00s/it]"
          ]
        },
        {
          "output_type": "stream",
          "name": "stdout",
          "text": [
            "\n",
            "Question: A boy fell off of a 100 foot ladder, but he did not get hurt. How is this possible?  \n",
            " What is the correct answer to the brain teaser question from the following choices? (Pick only one Option (A)-(D)\n",
            "\n",
            "\n",
            "\n",
            "\n",
            "  Options:\n",
            "\n",
            "  (A): The ladder is not so tall for the boys.\n",
            "\n",
            "  (B): He get medical attention.\n",
            "\n",
            "  (C): He was only on the first step.\n",
            "\n",
            "  (D): None of above.\n",
            "\n",
            "  \n",
            "Model's answer is:  The ladder is not so tall for the boys.\n",
            "The answer is: 0\n",
            "\n",
            "\n"
          ]
        },
        {
          "output_type": "stream",
          "name": "stderr",
          "text": [
            "\r 64%|██████▍   | 77/120 [01:12<00:49,  1.15s/it]"
          ]
        },
        {
          "output_type": "stream",
          "name": "stdout",
          "text": [
            "\n",
            "Question: You're visiting a village in Vietnam that you see a lot of small boats grounded, but you're wondering how they're always using their boats and now you see no water around them. How's that possible?  \n",
            " What is the correct answer to the brain teaser question from the following choices? (Pick only one Option (A)-(D)\n",
            "\n",
            "\n",
            "\n",
            "\n",
            "  Options:\n",
            "\n",
            "  (A): The tide makes the boats to float again and the issues get resolved at that time.\n",
            "\n",
            "  (B): People in village use the boat to store water because water is rare.\n",
            "\n",
            "  (C): People in village use the boat to store fruits because it is cheap.\n",
            "\n",
            "  (D): None of above.\n",
            "\n",
            "  \n",
            "Model's answer is:  People in village use the boat to store water because water is rare.\n",
            "The answer is: 1\n",
            "\n",
            "\n"
          ]
        },
        {
          "output_type": "stream",
          "name": "stderr",
          "text": [
            "\r 65%|██████▌   | 78/120 [01:13<00:42,  1.01s/it]"
          ]
        },
        {
          "output_type": "stream",
          "name": "stdout",
          "text": [
            "\n",
            "Question: He has authored countless books, but has never written a single word. Who is he?  \n",
            " What is the correct answer to the brain teaser question from the following choices? (Pick only one Option (A)-(D)\n",
            "\n",
            "\n",
            "\n",
            "\n",
            "  Options:\n",
            "\n",
            "  (A): A business man.\n",
            "\n",
            "  (B): A publisher.\n",
            "\n",
            "  (C): A writer.\n",
            "\n",
            "  (D): None of above.\n",
            "\n",
            "  \n",
            "Model's answer is:  A business man.\n",
            "The answer is: 0\n",
            "\n",
            "\n"
          ]
        },
        {
          "output_type": "stream",
          "name": "stderr",
          "text": [
            "\r 66%|██████▌   | 79/120 [01:14<00:47,  1.17s/it]"
          ]
        },
        {
          "output_type": "stream",
          "name": "stdout",
          "text": [
            "\n",
            "Question: In order for her friends to determine if the following story is true or false, Jessica tells them: \"There was a man sitting in a house at night that had no lights at all. There was no candle, lamp, or other light source present. He nonetheless gladly read his book while sitting in the home. Jessica responds to her friends' accusations of lying by insisting that she is speaking the truth. Jessica's account is accurate, but how?  \n",
            " What is the correct answer to the brain teaser question from the following choices? (Pick only one Option (A)-(D)\n",
            "\n",
            "\n",
            "\n",
            "\n",
            "  Options:\n",
            "\n",
            "  (A): The man is smart that she pretended to reading the book.\n",
            "\n",
            "  (B): The man is blind and is reading braille.\n",
            "\n",
            "\n",
            "  (C): Because it was daytime.\n",
            "\n",
            "  (D): None of above.\n",
            "\n",
            "  \n",
            "Model's answer is:  None of above.\n",
            "The answer is: 3\n",
            "\n",
            "\n"
          ]
        },
        {
          "output_type": "stream",
          "name": "stderr",
          "text": [
            "\r 67%|██████▋   | 80/120 [01:16<00:48,  1.20s/it]"
          ]
        },
        {
          "output_type": "stream",
          "name": "stdout",
          "text": [
            "\n",
            "Question: If a boat is parked in a marina and tied to a nearby station, how did its owner found the boat a couple of hours later in the middle of the ocean?  \n",
            " What is the correct answer to the brain teaser question from the following choices? (Pick only one Option (A)-(D)\n",
            "\n",
            "\n",
            "\n",
            "\n",
            "  Options:\n",
            "\n",
            "  (A): The station wasn't fixed in the marina\n",
            "\n",
            "  (B): The dolphins untied the knots.\n",
            "\n",
            "  (C): The waves were powerful, which pushed the boat and the marina together.\n",
            "\n",
            "  (D): None of above.\n",
            "\n",
            "  \n",
            "Model's answer is:  The station wasn't fixed in the marina\n",
            "The answer is: 0\n",
            "\n",
            "\n"
          ]
        },
        {
          "output_type": "stream",
          "name": "stderr",
          "text": [
            "\r 68%|██████▊   | 81/120 [01:16<00:41,  1.05s/it]"
          ]
        },
        {
          "output_type": "stream",
          "name": "stdout",
          "text": [
            "\n",
            "Question: How can you throw a raw egg against a hard rock wall and not break it?  \n",
            " What is the correct answer to the brain teaser question from the following choices? (Pick only one Option (A)-(D)\n",
            "\n",
            "\n",
            "\n",
            "\n",
            "  Options:\n",
            "\n",
            "  (A): You need to drop the egg gently.\n",
            "\n",
            "  (B): No problem, because concrete floors are very hard to crack\n",
            "\n",
            "\n",
            "  (C): \n",
            "You need to drop the egg hard.\n",
            "\n",
            "  (D): None of above.\n",
            "\n",
            "  \n",
            "Model's answer is:  gently.\n",
            "The answer is: 0\n",
            "\n",
            "\n"
          ]
        },
        {
          "output_type": "stream",
          "name": "stderr",
          "text": [
            "\r 68%|██████▊   | 82/120 [01:17<00:38,  1.00s/it]"
          ]
        },
        {
          "output_type": "stream",
          "name": "stdout",
          "text": [
            "\n",
            "Question: You're out on the water and see a boat filled with people. You look away for a second and look back again, but this time you don't see a single person on the boat. Why?  \n",
            " What is the correct answer to the brain teaser question from the following choices? (Pick only one Option (A)-(D)\n",
            "\n",
            "\n",
            "\n",
            "\n",
            "  Options:\n",
            "\n",
            "  (A): All the people on the boat jump into the sea in a moment.\n",
            "\n",
            "  (B): The boat is soo big that all the people can hide themselves in a moment.\n",
            "\n",
            "  (C): All the people on the boat are in relationships.\n",
            "\n",
            "\n",
            "  (D): None of above.\n",
            "\n",
            "  \n",
            "Model's answer is:  All the people on the boat are in relationships.\n",
            "The answer is: 2\n",
            "\n",
            "\n"
          ]
        },
        {
          "output_type": "stream",
          "name": "stderr",
          "text": [
            "\r 69%|██████▉   | 83/120 [01:18<00:37,  1.01s/it]"
          ]
        },
        {
          "output_type": "stream",
          "name": "stdout",
          "text": [
            "\n",
            "Question: If you paint a brown home white, it will turn white. The light is green if the spotlight switches from red to green. So, what happens if you throw a white shirt into the Red Sea?  \n",
            " What is the correct answer to the brain teaser question from the following choices? (Pick only one Option (A)-(D)\n",
            "\n",
            "\n",
            "\n",
            "\n",
            "  Options:\n",
            "\n",
            "  (A): Green.\n",
            "\n",
            "  (B): White.\n",
            "\n",
            "  (C): Red.\n",
            "\n",
            "  (D): None of above.\n",
            "\n",
            "  \n",
            "Model's answer is:  None of above.\n",
            "The answer is: 3\n",
            "\n",
            "\n"
          ]
        },
        {
          "output_type": "stream",
          "name": "stderr",
          "text": [
            "\r 70%|███████   | 84/120 [01:20<00:43,  1.20s/it]"
          ]
        },
        {
          "output_type": "stream",
          "name": "stdout",
          "text": [
            "\n",
            "Question: An office worker usually walks to work daily. There are two coffee shops on his route; the first one is half a mile away from his house and the second one is a mile away in the opposite direction. He always stops at the first coffee shop in the morning and always visits the second one in the evening on his way back home. Why?  \n",
            " What is the correct answer to the brain teaser question from the following choices? (Pick only one Option (A)-(D)\n",
            "\n",
            "\n",
            "\n",
            "\n",
            "  Options:\n",
            "\n",
            "  (A): The coffee shops and his home are on a slope, which allows him to walk downhill easily both to work and back home.\n",
            "\n",
            "  (B): The second coffee shop is too far away.\n",
            "\n",
            "  (C): The first coffee shop is too far away.\n",
            "\n",
            "  (D): None of above.\n",
            "\n",
            "  \n",
            "Model's answer is:  None of above.\n",
            "The answer is: 3\n",
            "\n",
            "\n"
          ]
        },
        {
          "output_type": "stream",
          "name": "stderr",
          "text": [
            "\r 71%|███████   | 85/120 [01:21<00:39,  1.13s/it]"
          ]
        },
        {
          "output_type": "stream",
          "name": "stdout",
          "text": [
            "\n",
            "Question: You wanted to reserve a table in a restaurant but they told you all their tables were already booked. however, when you're passing by, you see that there is not a single person eating in the restaurant. Why did they tell you that all their tables were fully booked?  \n",
            " What is the correct answer to the brain teaser question from the following choices? (Pick only one Option (A)-(D)\n",
            "\n",
            "\n",
            "\n",
            "\n",
            "  Options:\n",
            "\n",
            "  (A): All the people left the restaurant in a moment.\n",
            "\n",
            "  (B): The resturant was soo big that all the people can hide themselves in a moment.\n",
            "\n",
            "  (C): All the people in the restaurant are in relationships.\n",
            "\n",
            "  (D): None of above.\n",
            "\n",
            "  \n",
            "Model's answer is:  None of above.\n",
            "The answer is: 3\n",
            "\n",
            "\n"
          ]
        },
        {
          "output_type": "stream",
          "name": "stderr",
          "text": [
            "\r 72%|███████▏  | 86/120 [01:22<00:33,  1.00it/s]"
          ]
        },
        {
          "output_type": "stream",
          "name": "stdout",
          "text": [
            "\n",
            "Question: A young man fell off a 100-foot ladder, but he was unharmed. How is that even possible?  \n",
            " What is the correct answer to the brain teaser question from the following choices? (Pick only one Option (A)-(D)\n",
            "\n",
            "\n",
            "\n",
            "\n",
            "  Options:\n",
            "\n",
            "  (A): He get medical attention.\n",
            "\n",
            "  (B): He was only on the first step.\n",
            "\n",
            "  (C): The ladder is not so tall for the boys.\n",
            "\n",
            "  (D): None of above.\n",
            "\n",
            "  \n",
            "Model's answer is:  He get medical attention.\n",
            "The answer is: 0\n",
            "\n",
            "\n"
          ]
        },
        {
          "output_type": "stream",
          "name": "stderr",
          "text": [
            "\r 72%|███████▎  | 87/120 [01:22<00:29,  1.12it/s]"
          ]
        },
        {
          "output_type": "stream",
          "name": "stdout",
          "text": [
            "\n",
            "Question: Mary's father has five children. They are Nana, None, Nine, and Non.\n",
            "What is the fifth child name?  \n",
            " What is the correct answer to the brain teaser question from the following choices? (Pick only one Option (A)-(D)\n",
            "\n",
            "\n",
            "\n",
            "\n",
            "  Options:\n",
            "\n",
            "  (A): Nelson.\n",
            "\n",
            "  (B): Nick.\n",
            "\n",
            "  (C): Mary.\n",
            "\n",
            "  (D): None of above.\n",
            "\n",
            "  \n",
            "Model's answer is:  Nelson.\n",
            "The answer is: 0\n",
            "\n",
            "\n"
          ]
        },
        {
          "output_type": "stream",
          "name": "stderr",
          "text": [
            "\r 73%|███████▎  | 88/120 [01:23<00:28,  1.14it/s]"
          ]
        },
        {
          "output_type": "stream",
          "name": "stdout",
          "text": [
            "\n",
            "Question: There are three important rooms in a house. The first one is filled with money. The second one is filled with important papers. The third one is filled with jewelry. One day all of these rooms burst into fire. Which room did the policemen put out the fire in first?  \n",
            " What is the correct answer to the brain teaser question from the following choices? (Pick only one Option (A)-(D)\n",
            "\n",
            "\n",
            "\n",
            "\n",
            "  Options:\n",
            "\n",
            "  (A): The one with with jewelry.\n",
            "\n",
            "  (B): The one with important papers.\n",
            "\n",
            "  (C): The one filled with money.\n",
            "\n",
            "  (D): None of above.\n",
            "\n",
            "  \n",
            "Model's answer is:  The one with with jewelry.\n",
            "The answer is: 0\n",
            "\n",
            "\n"
          ]
        },
        {
          "output_type": "stream",
          "name": "stderr",
          "text": [
            "\r 74%|███████▍  | 89/120 [01:24<00:25,  1.20it/s]"
          ]
        },
        {
          "output_type": "stream",
          "name": "stdout",
          "text": [
            "\n",
            "Question: In a 5-day marathon, a professional runner seven 70 kilometers. Each day, he ran two kilometers more than the previous day. How many kilometers did the runner run on the first day?  \n",
            " What is the correct answer to the brain teaser question from the following choices? (Pick only one Option (A)-(D)\n",
            "\n",
            "\n",
            "\n",
            "\n",
            "  Options:\n",
            "\n",
            "  (A): Five.\n",
            "\n",
            "  (B): Six.\n",
            "\n",
            "  (C): Seven.\n",
            "\n",
            "  (D): None of above.\n",
            "\n",
            "  \n",
            "Model's answer is:  Seven.\n",
            "The answer is: 2\n",
            "\n",
            "\n"
          ]
        },
        {
          "output_type": "stream",
          "name": "stderr",
          "text": [
            "\r 75%|███████▌  | 90/120 [01:25<00:28,  1.07it/s]"
          ]
        },
        {
          "output_type": "stream",
          "name": "stdout",
          "text": [
            "\n",
            "Question: You've found yourself on an island in the midst of a lake. The lake is in a remote area of the country, and no bridge has ever connected the island to the mainland. A tractor and wagon provide daily hay rides around the island. You inquire as to how the tractor arrived onto the island and discover that it was not carried to the island by boat or plane. It was also not constructed on the island. How did the tractor get there?  \n",
            " What is the correct answer to the brain teaser question from the following choices? (Pick only one Option (A)-(D)\n",
            "\n",
            "\n",
            "\n",
            "\n",
            "  Options:\n",
            "\n",
            "  (A): The pieces of the tractor will fall within hail to the island.\n",
            "\n",
            "  (B): The pieces of tractor is floating over the lake, you collect them and combine them. \n",
            "\n",
            "  (C): It was driven over in winter, when the lake was frozen.\n",
            "\n",
            "  (D): None of above.\n",
            "\n",
            "  \n",
            "Model's answer is:  The pieces of tractor is floating over the lake,\n",
            "The answer is: 1\n",
            "\n",
            "\n"
          ]
        },
        {
          "output_type": "stream",
          "name": "stderr",
          "text": [
            "\r 76%|███████▌  | 91/120 [01:26<00:25,  1.15it/s]"
          ]
        },
        {
          "output_type": "stream",
          "name": "stdout",
          "text": [
            "\n",
            "Question: During a 5-day competition, a professional fisherman caught 30 fish. He caught three more fish each day than the day before. On the first day, how many fish did the fisherman catch?  \n",
            " What is the correct answer to the brain teaser question from the following choices? (Pick only one Option (A)-(D)\n",
            "\n",
            "\n",
            "\n",
            "\n",
            "  Options:\n",
            "\n",
            "  (A): Two.\n",
            "\n",
            "  (B): One.\n",
            "\n",
            "  (C): Three.\n",
            "\n",
            "  (D): None of above.\n",
            "\n",
            "  \n",
            "Model's answer is:  Two.\n",
            "The answer is: 0\n",
            "\n",
            "\n"
          ]
        },
        {
          "output_type": "stream",
          "name": "stderr",
          "text": [
            "\r 77%|███████▋  | 92/120 [01:26<00:23,  1.19it/s]"
          ]
        },
        {
          "output_type": "stream",
          "name": "stdout",
          "text": [
            "\n",
            "Question: Tony and Jack are brothers and Tony is not married. However, Tony's nephew is not Jack's nephew. How is that possible?  \n",
            " What is the correct answer to the brain teaser question from the following choices? (Pick only one Option (A)-(D)\n",
            "\n",
            "\n",
            "\n",
            "\n",
            "  Options:\n",
            "\n",
            "  (A): Tony's nephew is Jack's son.\n",
            "\n",
            "  (B): Jack is adopted.\n",
            "\n",
            "  (C): Jack and Tony share same father but not mother.\n",
            "\n",
            "  (D): None of above.\n",
            "\n",
            "  \n",
            "Model's answer is:  Tony's nephew is Jack's son.\n",
            "The answer is: 0\n",
            "\n",
            "\n"
          ]
        },
        {
          "output_type": "stream",
          "name": "stderr",
          "text": [
            "\r 78%|███████▊  | 93/120 [01:27<00:20,  1.29it/s]"
          ]
        },
        {
          "output_type": "stream",
          "name": "stdout",
          "text": [
            "\n",
            "Question: There are ten birds sitting on a fence. You shoot one. How many are left?  \n",
            " What is the correct answer to the brain teaser question from the following choices? (Pick only one Option (A)-(D)\n",
            "\n",
            "\n",
            "\n",
            "\n",
            "  Options:\n",
            "\n",
            "  (A): Ten.\n",
            "\n",
            "  (B): One.\n",
            "\n",
            "  (C): Nine.\n",
            "\n",
            "  (D): None of above.\n",
            "\n",
            "  \n",
            "Model's answer is:  Nine.\n",
            "The answer is: 2\n",
            "\n",
            "\n"
          ]
        },
        {
          "output_type": "stream",
          "name": "stderr",
          "text": [
            "\r 78%|███████▊  | 94/120 [01:28<00:19,  1.33it/s]"
          ]
        },
        {
          "output_type": "stream",
          "name": "stdout",
          "text": [
            "\n",
            "Question: A man goes to a restaurant everyday but he does't pay at all. How's that possible?  \n",
            " What is the correct answer to the brain teaser question from the following choices? (Pick only one Option (A)-(D)\n",
            "\n",
            "\n",
            "\n",
            "\n",
            "  Options:\n",
            "\n",
            "  (A): He works there in the restaurant.\n",
            "\n",
            "  (B): He is a superstar.\n",
            "\n",
            "  (C): He always finish the dish without any waste.\n",
            "\n",
            "  (D): None of above.\n",
            "\n",
            "  \n",
            "Model's answer is:  He works there in the restaurant.\n",
            "The answer is: 0\n",
            "\n",
            "\n"
          ]
        },
        {
          "output_type": "stream",
          "name": "stderr",
          "text": [
            "\r 79%|███████▉  | 95/120 [01:29<00:19,  1.31it/s]"
          ]
        },
        {
          "output_type": "stream",
          "name": "stdout",
          "text": [
            "\n",
            "Question: Mrs. Jones has four daughters. Each of her daughters has one brother. But Mrs. Jones only has five children. How is that possible?  \n",
            " What is the correct answer to the brain teaser question from the following choices? (Pick only one Option (A)-(D)\n",
            "\n",
            "\n",
            "\n",
            "\n",
            "  Options:\n",
            "\n",
            "  (A): Some daughters get married and have their own family.\n",
            "\n",
            "  (B): Some brothers were not loved by family and moved away.\n",
            "\n",
            "  (C): Each daughter shares the same brother.\n",
            "\n",
            "  (D): None of above.\n",
            "\n",
            "  \n",
            "Model's answer is:  Some daughters get married and have their own family.\n",
            "The answer is: 0\n",
            "\n",
            "\n"
          ]
        },
        {
          "output_type": "stream",
          "name": "stderr",
          "text": [
            "\r 80%|████████  | 96/120 [01:29<00:17,  1.35it/s]"
          ]
        },
        {
          "output_type": "stream",
          "name": "stdout",
          "text": [
            "\n",
            "Question: You enter a room with five of the organization' heads. All of them are there to make an important decision. How many heads are there in the room?  \n",
            " What is the correct answer to the brain teaser question from the following choices? (Pick only one Option (A)-(D)\n",
            "\n",
            "\n",
            "\n",
            "\n",
            "  Options:\n",
            "\n",
            "  (A): Ten.\n",
            "\n",
            "  (B): Five.\n",
            "\n",
            "  (C): One.\n",
            "\n",
            "  (D): None of above.\n",
            "\n",
            "  \n",
            "Model's answer is:  Ten.\n",
            "The answer is: 0\n",
            "\n",
            "\n"
          ]
        },
        {
          "output_type": "stream",
          "name": "stderr",
          "text": [
            "\r 81%|████████  | 97/120 [01:30<00:17,  1.30it/s]"
          ]
        },
        {
          "output_type": "stream",
          "name": "stdout",
          "text": [
            "\n",
            "Question: A man left town on Sunday, spent the entire night in a motel, and then rode back the next day, again on Sunday. How is that even possible?  \n",
            " What is the correct answer to the brain teaser question from the following choices? (Pick only one Option (A)-(D)\n",
            "\n",
            "\n",
            "\n",
            "\n",
            "  Options:\n",
            "\n",
            "  (A): Next week is a national holiday.\n",
            "\n",
            "  (B): His horse was called Sunday.\n",
            "\n",
            "  (C): The hotel room was so expensive that the man came back directly.\n",
            "\n",
            "  (D): None of above.\n",
            "\n",
            "  \n",
            "Model's answer is:  The hotel room was so expensive that the man came back directly.\n",
            "The answer is: 2\n",
            "\n",
            "\n"
          ]
        },
        {
          "output_type": "stream",
          "name": "stderr",
          "text": [
            "\r 82%|████████▏ | 98/120 [01:32<00:22,  1.01s/it]"
          ]
        },
        {
          "output_type": "stream",
          "name": "stdout",
          "text": [
            "\n",
            "Question: A student leans forward while riding his scooter to the train station to go to college. Two stops are not far from his home; the first is one mile away and the second is two miles away in the opposite direction. He always boards at the first stop in the morning and always exits at the second stop in the afternoon. Why?  \n",
            " What is the correct answer to the brain teaser question from the following choices? (Pick only one Option (A)-(D)\n",
            "\n",
            "\n",
            "\n",
            "\n",
            "  Options:\n",
            "\n",
            "  (A): The first train station is too far away.\n",
            "\n",
            "  (B): The second train station is too far away.\n",
            "\n",
            "  (C): The stations and his home are on a hill, which allows him to ride down easily on his scooter.\n",
            "\n",
            "  (D): None of above.\n",
            "\n",
            "  \n",
            "Model's answer is:  The first train station is too far away.\n",
            "The answer is: 0\n",
            "\n",
            "\n"
          ]
        },
        {
          "output_type": "stream",
          "name": "stderr",
          "text": [
            "\r 82%|████████▎ | 99/120 [01:33<00:21,  1.00s/it]"
          ]
        },
        {
          "output_type": "stream",
          "name": "stdout",
          "text": [
            "\n",
            "Question: A chess team have five players and each player has one coach. But there are only six participants in the team. How is that possible?  \n",
            " What is the correct answer to the brain teaser question from the following choices? (Pick only one Option (A)-(D)\n",
            "\n",
            "\n",
            "\n",
            "\n",
            "  Options:\n",
            "\n",
            "  (A): Each player shares the same coach.\n",
            "\n",
            "  (B): Some players are backups and not allowed to play.\n",
            "\n",
            "  (C): Some coach get a raise.\n",
            "\n",
            "  (D): None of above.\n",
            "\n",
            "  \n",
            "Model's answer is:  Each player shares the same coach.\n",
            "The answer is: 0\n",
            "\n",
            "\n"
          ]
        },
        {
          "output_type": "stream",
          "name": "stderr",
          "text": [
            "\r 83%|████████▎ | 100/120 [01:33<00:18,  1.08it/s]"
          ]
        },
        {
          "output_type": "stream",
          "name": "stdout",
          "text": [
            "\n",
            "Question: Even though Emily is William's sister and William isn't married, Lisa is William's niece but not Emily's. How is that even doable?  \n",
            " What is the correct answer to the brain teaser question from the following choices? (Pick only one Option (A)-(D)\n",
            "\n",
            "\n",
            "\n",
            "\n",
            "  Options:\n",
            "\n",
            "  (A): Emily is adopted.\n",
            "\n",
            "  (B): Emily and William share same father but not mother.\n",
            "\n",
            "  (C): Lisa is Emily's daughter.\n",
            "\n",
            "  (D): None of above.\n",
            "\n",
            "  \n",
            "Model's answer is:  Lisa is Emily's daughter.\n",
            "The answer is: 2\n",
            "\n",
            "\n"
          ]
        },
        {
          "output_type": "stream",
          "name": "stderr",
          "text": [
            "\r 84%|████████▍ | 101/120 [01:34<00:17,  1.06it/s]"
          ]
        },
        {
          "output_type": "stream",
          "name": "stdout",
          "text": [
            "\n",
            "Question: A student leans forward while riding his scooter to the train station to go to college. Two stops are not far from his home; the first is one mile away and the second is two miles away in the opposite direction. He always boards at the first stop in the morning and always exits at the second stop in the afternoon. Why?  \n",
            " What is the correct answer to the brain teaser question from the following choices? (Pick only one Option (A)-(D)\n",
            "\n",
            "\n",
            "\n",
            "\n",
            "  Options:\n",
            "\n",
            "  (A): The first train station is too far away.\n",
            "\n",
            "  (B): The stations and his home are on a hill, which allows him to ride down easily on his scooter.\n",
            "\n",
            "  (C): The second train station is too far away.\n",
            "\n",
            "  (D): None of above.\n",
            "\n",
            "  \n",
            "Model's answer is:  None of above.\n",
            "The answer is: 3\n",
            "\n",
            "\n"
          ]
        },
        {
          "output_type": "stream",
          "name": "stderr",
          "text": [
            "\r 85%|████████▌ | 102/120 [01:35<00:16,  1.11it/s]"
          ]
        },
        {
          "output_type": "stream",
          "name": "stdout",
          "text": [
            "\n",
            "Question: there was a burglary going on when firemen got to the scene first since they were not sure if there is a fire going on as well. Four people were coming out of the place, two covering their face. Who did the firemen arrest?  \n",
            " What is the correct answer to the brain teaser question from the following choices? (Pick only one Option (A)-(D)\n",
            "\n",
            "\n",
            "\n",
            "\n",
            "  Options:\n",
            "\n",
            "  (A): The two covered their face.\n",
            "\n",
            "  (B): All of them.\n",
            "\n",
            "  (C): The two with no masks.\n",
            "\n",
            "  (D): None of above.\n",
            "\n",
            "  \n",
            "Model's answer is:  The two with no masks.\n",
            "The answer is: 2\n",
            "\n",
            "\n"
          ]
        },
        {
          "output_type": "stream",
          "name": "stderr",
          "text": [
            "\r 86%|████████▌ | 103/120 [01:36<00:15,  1.10it/s]"
          ]
        },
        {
          "output_type": "stream",
          "name": "stdout",
          "text": [
            "\n",
            "Question: If a dog is tied to a piece of rope that is 6m long, how can it reach a bone that is 7m away?  \n",
            " What is the correct answer to the brain teaser question from the following choices? (Pick only one Option (A)-(D)\n",
            "\n",
            "\n",
            "\n",
            "\n",
            "  Options:\n",
            "\n",
            "  (A): The other end is not tied to anything.\n",
            "\n",
            "  (B): The rope stretches proportionally, providing the extra length needed for the horse to reach the hay seven meters away.\n",
            "\n",
            "  (C): The dog dug a 1m tunnel underground to reach the bone that was 7m away while still tied to the 6m long rope.\n",
            "\n",
            "  (D): None of above.\n",
            "\n",
            "  \n",
            "Model's answer is:  dug a 1m tunnel underground\n",
            "The answer is: 2\n",
            "\n",
            "\n"
          ]
        },
        {
          "output_type": "stream",
          "name": "stderr",
          "text": [
            "\r 87%|████████▋ | 104/120 [01:37<00:13,  1.15it/s]"
          ]
        },
        {
          "output_type": "stream",
          "name": "stdout",
          "text": [
            "\n",
            "Question: Each night in her bedroom, Jessica always reads in complete darkness. Her parents, however, never stop her and often send cake to reward her hard work. Why?  \n",
            " What is the correct answer to the brain teaser question from the following choices? (Pick only one Option (A)-(D)\n",
            "\n",
            "\n",
            "\n",
            "\n",
            "  Options:\n",
            "\n",
            "  (A): Because it was daytime.\n",
            "\n",
            "  (B): Jessica is smart that she pretended to reading the book.\n",
            "\n",
            "  (C): Jessica is blind and she can braille.\n",
            "\n",
            "  (D): None of above.\n",
            "\n",
            "  \n",
            "Model's answer is:  Because it was daytime.\n",
            "The answer is: 0\n",
            "\n",
            "\n"
          ]
        },
        {
          "output_type": "stream",
          "name": "stderr",
          "text": [
            "\r 88%|████████▊ | 105/120 [01:38<00:12,  1.19it/s]"
          ]
        },
        {
          "output_type": "stream",
          "name": "stdout",
          "text": [
            "\n",
            "Question: A man rode out of town on Sunday. He stayed a whole night at a hotel and rode back to town the next day on Sunday. How is this possible?  \n",
            " What is the correct answer to the brain teaser question from the following choices? (Pick only one Option (A)-(D)\n",
            "\n",
            "\n",
            "\n",
            "\n",
            "  Options:\n",
            "\n",
            "  (A): Next week is a national holiday.\n",
            "\n",
            "  (B): The hotel room was so expensive that the man came back directly.\n",
            "\n",
            "  (C): His horse was called Sunday.\n",
            "\n",
            "  (D): None of above.\n",
            "\n",
            "  \n",
            "Model's answer is:  The hotel room was so expensive that the man came back directly.\n",
            "The answer is: 1\n",
            "\n",
            "\n"
          ]
        },
        {
          "output_type": "stream",
          "name": "stderr",
          "text": [
            "\r 88%|████████▊ | 106/120 [01:39<00:12,  1.10it/s]"
          ]
        },
        {
          "output_type": "stream",
          "name": "stdout",
          "text": [
            "\n",
            "Question: Amy was shocked to see his adorable pet dog perched on the edge of the balcony. She shouted at her pet to come back. This sudden fright made the pet immobile, and fell over the edge. Although Amy's apartment is on the 17th floor, the family dog was unharmed. How is that even doable?  \n",
            " What is the correct answer to the brain teaser question from the following choices? (Pick only one Option (A)-(D)\n",
            "\n",
            "\n",
            "\n",
            "\n",
            "  Options:\n",
            "\n",
            "  (A): Amy is so well exercised that she can reach to the base in a second to catch the pet.\n",
            "\n",
            "  (B): The pet is strong enough to not get hurt from falling.\n",
            "\n",
            "  (C): The pet dog fell back into her apartment, jumping from the balcony into the inside. \n",
            "\n",
            "  (D): None of above.\n",
            "\n",
            "  \n",
            "Model's answer is:  None of above.\n",
            "The answer is: 3\n",
            "\n",
            "\n"
          ]
        },
        {
          "output_type": "stream",
          "name": "stderr",
          "text": [
            "\r 89%|████████▉ | 107/120 [01:39<00:10,  1.22it/s]"
          ]
        },
        {
          "output_type": "stream",
          "name": "stdout",
          "text": [
            "\n",
            "Question: Ten birds are perched atop a fence. You fire one. How many are there left?  \n",
            " What is the correct answer to the brain teaser question from the following choices? (Pick only one Option (A)-(D)\n",
            "\n",
            "\n",
            "\n",
            "\n",
            "  Options:\n",
            "\n",
            "  (A): Nine.\n",
            "\n",
            "  (B): Ten.\n",
            "\n",
            "  (C): One.\n",
            "\n",
            "  (D): None of above.\n",
            "\n",
            "  \n",
            "Model's answer is:  Nine.\n",
            "The answer is: 0\n",
            "\n",
            "\n"
          ]
        },
        {
          "output_type": "stream",
          "name": "stderr",
          "text": [
            "\r 90%|█████████ | 108/120 [01:40<00:09,  1.31it/s]"
          ]
        },
        {
          "output_type": "stream",
          "name": "stdout",
          "text": [
            "\n",
            "Question: He has married many women, but has never been married. Who is he?  \n",
            " What is the correct answer to the brain teaser question from the following choices? (Pick only one Option (A)-(D)\n",
            "\n",
            "\n",
            "\n",
            "\n",
            "  Options:\n",
            "\n",
            "  (A): A laywer.\n",
            "\n",
            "  (B): A preacher.\n",
            "\n",
            "  (C): A teacher.\n",
            "\n",
            "  (D): None of above.\n",
            "\n",
            "  \n",
            "Model's answer is:  A laywer.\n",
            "The answer is: 0\n",
            "\n",
            "\n"
          ]
        },
        {
          "output_type": "stream",
          "name": "stderr",
          "text": [
            "\r 91%|█████████ | 109/120 [01:41<00:08,  1.36it/s]"
          ]
        },
        {
          "output_type": "stream",
          "name": "stdout",
          "text": [
            "\n",
            "Question: Mary's father is the father of five children. Nana, None, Nine, and Non are their names.\n",
            "What is the name of the fifth child?  \n",
            " What is the correct answer to the brain teaser question from the following choices? (Pick only one Option (A)-(D)\n",
            "\n",
            "\n",
            "\n",
            "\n",
            "  Options:\n",
            "\n",
            "  (A): Nelson.\n",
            "\n",
            "  (B): Nick.\n",
            "\n",
            "  (C): Mary.\n",
            "\n",
            "  (D): None of above.\n",
            "\n",
            "  \n",
            "Model's answer is:  Nelson.\n",
            "The answer is: 0\n",
            "\n",
            "\n"
          ]
        },
        {
          "output_type": "stream",
          "name": "stderr",
          "text": [
            "\r 92%|█████████▏| 110/120 [01:41<00:07,  1.42it/s]"
          ]
        },
        {
          "output_type": "stream",
          "name": "stdout",
          "text": [
            "\n",
            "Question: Ana's school has 4 students in Alaska: Maria, James, Jonghyun. What is the name of other student?  \n",
            " What is the correct answer to the brain teaser question from the following choices? (Pick only one Option (A)-(D)\n",
            "\n",
            "\n",
            "\n",
            "\n",
            "  Options:\n",
            "\n",
            "  (A): Mark.\n",
            "\n",
            "  (B): Ana\n",
            "\n",
            "  (C): Michael.\n",
            "\n",
            "  (D): None of above.\n",
            "\n",
            "  \n",
            "Model's answer is:  Michael.\n",
            "The answer is: 2\n",
            "\n",
            "\n"
          ]
        },
        {
          "output_type": "stream",
          "name": "stderr",
          "text": [
            "\r 92%|█████████▎| 111/120 [01:42<00:07,  1.22it/s]"
          ]
        },
        {
          "output_type": "stream",
          "name": "stdout",
          "text": [
            "\n",
            "Question: A fireman is running to get a net under a lady who looks like she might jump off the balcony of her 20-story apartment building. There is nothing below her except a 20-story fall. The fireman is still 100 yards away when she falls and can't nearly get there in time. The woman is not hurt more than a cruise. How is that possible?  \n",
            " What is the correct answer to the brain teaser question from the following choices? (Pick only one Option (A)-(D)\n",
            "\n",
            "\n",
            "\n",
            "\n",
            "  Options:\n",
            "\n",
            "  (A): The woman is strong enough to not get hurt from falling.\n",
            "\n",
            "  (B): She fell back into her apartment, jumping from the balcony into the inside.\n",
            "\n",
            "  (C): The fireman is so well exercised that he reaches the woman 100 yards away in a second.\n",
            "\n",
            "  (D): None of above.\n",
            "\n",
            "  \n",
            "Model's answer is:  The woman is strong enough to not get hurt from falling.\n",
            "The answer is: 0\n",
            "\n",
            "\n"
          ]
        },
        {
          "output_type": "stream",
          "name": "stderr",
          "text": [
            "\r 93%|█████████▎| 112/120 [01:43<00:06,  1.15it/s]"
          ]
        },
        {
          "output_type": "stream",
          "name": "stdout",
          "text": [
            "\n",
            "Question: Who can shave three times a day and still grow a beard?  \n",
            " What is the correct answer to the brain teaser question from the following choices? (Pick only one Option (A)-(D)\n",
            "\n",
            "\n",
            "\n",
            "\n",
            "  Options:\n",
            "\n",
            "  (A): A woman.\n",
            "\n",
            "  (B): A barber.\n",
            "\n",
            "  (C): A superstar.\n",
            "\n",
            "  (D): None of above.\n",
            "\n",
            "  \n",
            "Model's answer is:  A woman.\n",
            "The answer is: 0\n",
            "\n",
            "\n"
          ]
        },
        {
          "output_type": "stream",
          "name": "stderr",
          "text": [
            "\r 94%|█████████▍| 113/120 [01:45<00:07,  1.05s/it]"
          ]
        },
        {
          "output_type": "stream",
          "name": "stdout",
          "text": [
            "\n",
            "Question: Tom teaches in a Chinese school. One day, he handed homework to the children after printing it accidentally in English. Despite not having learned English yet, every student completed their assignments flawlessly the following day. Why?  \n",
            " What is the correct answer to the brain teaser question from the following choices? (Pick only one Option (A)-(D)\n",
            "\n",
            "\n",
            "\n",
            "\n",
            "  Options:\n",
            "\n",
            "  (A): They used translation tools or sought assistance from external sources.\n",
            "\n",
            "  (B): Tom is a math teacher, numbers are the same in French as they are in English.\n",
            "\n",
            "  (C): The student are smart enough to rely on their prior konwledge to guess the homework answers.\n",
            "\n",
            "  (D): None of above.\n",
            "\n",
            "  \n",
            "Model's answer is:  None of above.\n",
            "The answer is: 3\n",
            "\n",
            "\n"
          ]
        },
        {
          "output_type": "stream",
          "name": "stderr",
          "text": [
            "\r 95%|█████████▌| 114/120 [01:45<00:05,  1.05it/s]"
          ]
        },
        {
          "output_type": "stream",
          "name": "stdout",
          "text": [
            "\n",
            "Question: If you paint a brown house white it will become a white house. If the spotlight changes from red to green, then the light is green. So, if you throw a white shirt into the Red Sea, what will it become?  \n",
            " What is the correct answer to the brain teaser question from the following choices? (Pick only one Option (A)-(D)\n",
            "\n",
            "\n",
            "\n",
            "\n",
            "  Options:\n",
            "\n",
            "  (A): Green.\n",
            "\n",
            "  (B): Red.\n",
            "\n",
            "  (C): White.\n",
            "\n",
            "  (D): None of above.\n",
            "\n",
            "  \n",
            "Model's answer is:  None of above.\n",
            "The answer is: 3\n",
            "\n",
            "\n"
          ]
        },
        {
          "output_type": "stream",
          "name": "stderr",
          "text": [
            "\r 96%|█████████▌| 115/120 [01:46<00:04,  1.08it/s]"
          ]
        },
        {
          "output_type": "stream",
          "name": "stdout",
          "text": [
            "\n",
            "Question: You're out on the sea and notice a boat full of people. You take a quick glance away and then back, but there is not a single person on the boat. Why?   \n",
            " What is the correct answer to the brain teaser question from the following choices? (Pick only one Option (A)-(D)\n",
            "\n",
            "\n",
            "\n",
            "\n",
            "  Options:\n",
            "\n",
            "  (A): All the people on the boat jump into the sea in a moment.\n",
            "\n",
            "  (B): The boat is soo big that all the people can hide themselves in a moment.\n",
            "\n",
            "  (C): All the people on the boat are in relationships.\n",
            "\n",
            "\n",
            "  (D): None of above.\n",
            "\n",
            "  \n",
            "Model's answer is:  All the people on the boat are in relationships.\n",
            "The answer is: 2\n",
            "\n",
            "\n"
          ]
        },
        {
          "output_type": "stream",
          "name": "stderr",
          "text": [
            "\r 97%|█████████▋| 116/120 [01:47<00:03,  1.16it/s]"
          ]
        },
        {
          "output_type": "stream",
          "name": "stdout",
          "text": [
            "\n",
            "Question: A professional fisherman caught 30 fish during a 5-day tournament. Each day, he caught three more fish than the day before. How many fish did the fisherman catch on the first day?  \n",
            " What is the correct answer to the brain teaser question from the following choices? (Pick only one Option (A)-(D)\n",
            "\n",
            "\n",
            "\n",
            "\n",
            "  Options:\n",
            "\n",
            "  (A): Two.\n",
            "\n",
            "  (B): One.\n",
            "\n",
            "  (C): Three.\n",
            "\n",
            "  (D): None of above.\n",
            "\n",
            "  \n",
            "Model's answer is:  Two.\n",
            "The answer is: 0\n",
            "\n",
            "\n"
          ]
        },
        {
          "output_type": "stream",
          "name": "stderr",
          "text": [
            "\r 98%|█████████▊| 117/120 [01:48<00:02,  1.20it/s]"
          ]
        },
        {
          "output_type": "stream",
          "name": "stdout",
          "text": [
            "\n",
            "Question: Bob was working on a project when suddenly internet got disconnected. He then searched google but didn't find anything. Why?  \n",
            " What is the correct answer to the brain teaser question from the following choices? (Pick only one Option (A)-(D)\n",
            "\n",
            "\n",
            "\n",
            "\n",
            "  Options:\n",
            "\n",
            "  (A): He needed a membership to search in google.\n",
            "\n",
            "  (B): He searched the google in a wrong way.\n",
            "\n",
            "  (C): The internet was disconnected so he couldn't search on google\n",
            "\n",
            "  (D): None of above.\n",
            "\n",
            "  \n",
            "Model's answer is:  The internet was disconnected so he couldn't search on google\n",
            "The answer is: 2\n",
            "\n",
            "\n"
          ]
        },
        {
          "output_type": "stream",
          "name": "stderr",
          "text": [
            "\r 98%|█████████▊| 118/120 [01:48<00:01,  1.29it/s]"
          ]
        },
        {
          "output_type": "stream",
          "name": "stdout",
          "text": [
            "\n",
            "Question: He has wed numerous women, but never himself. He is who?  \n",
            " What is the correct answer to the brain teaser question from the following choices? (Pick only one Option (A)-(D)\n",
            "\n",
            "\n",
            "\n",
            "\n",
            "  Options:\n",
            "\n",
            "  (A): A teacher.\n",
            "\n",
            "  (B): A preacher.\n",
            "\n",
            "  (C): A laywer.\n",
            "\n",
            "  (D): None of above.\n",
            "\n",
            "  \n",
            "Model's answer is:  A teacher.\n",
            "The answer is: 0\n",
            "\n",
            "\n"
          ]
        },
        {
          "output_type": "stream",
          "name": "stderr",
          "text": [
            "\r 99%|█████████▉| 119/120 [01:49<00:00,  1.21it/s]"
          ]
        },
        {
          "output_type": "stream",
          "name": "stdout",
          "text": [
            "\n",
            "Question: You walk into a room and see a bed and lie on it. On the bed, there are two dogs, five cats, a giraffe, six cows, and a goose. There are also three doves flying above the bed. How many legs are on the floor?  \n",
            " What is the correct answer to the brain teaser question from the following choices? (Pick only one Option (A)-(D)\n",
            "\n",
            "\n",
            "\n",
            "\n",
            "  Options:\n",
            "\n",
            "  (A): Thirty-six, as there are eighteen animals.\n",
            "\n",
            "  (B): Six. The bed's four legs, plus your two legs.\n",
            "\n",
            "  (C): Seventy-two, as there are eighteen animals.\n",
            "\n",
            "  (D): None of above.\n",
            "\n",
            "  \n",
            "Model's answer is:  Thirty-six,\n",
            "The answer is: 0\n",
            "\n",
            "\n"
          ]
        },
        {
          "output_type": "stream",
          "name": "stderr",
          "text": [
            "100%|██████████| 120/120 [01:50<00:00,  1.08it/s]"
          ]
        },
        {
          "output_type": "stream",
          "name": "stdout",
          "text": [
            "\n",
            "Question: Four of Mrs. Jones' daughters exist. She has one brother for each of her daughters. Mrs. Jones, however, only has five kids. How is it even doable?  \n",
            " What is the correct answer to the brain teaser question from the following choices? (Pick only one Option (A)-(D)\n",
            "\n",
            "\n",
            "\n",
            "\n",
            "  Options:\n",
            "\n",
            "  (A): Some brothers were not loved by family and moved away.\n",
            "\n",
            "  (B): Some daughters get married and have their own family.\n",
            "\n",
            "  (C): Each daughter shares the same brother.\n",
            "\n",
            "  (D): None of above.\n",
            "\n",
            "  \n",
            "Model's answer is:  None of above.\n",
            "The answer is: 3\n"
          ]
        },
        {
          "output_type": "stream",
          "name": "stderr",
          "text": [
            "\n"
          ]
        }
      ],
      "source": [
        "qa_model = pipeline(\"question-answering\", \"timpal0l/mdeberta-v3-base-squad2\")\n",
        "\n",
        "for sample in tqdm(test_sentence_data_list):\n",
        "\n",
        "  question = sample['question'] + \"  \\n What is the correct answer to the brain teaser question from the following choices? (Pick only one Option (A)-(D)\"\n",
        "\n",
        "  context = \"\"\"\n",
        "\n",
        "\n",
        "\n",
        "  Options:\n",
        "\n",
        "  (A): {}\n",
        "\n",
        "  (B): {}\n",
        "\n",
        "  (C): {}\n",
        "\n",
        "  (D): {}\n",
        "\n",
        "  \"\"\".format(sample['choice_list'][0],sample['choice_list'][1],sample['choice_list'][2],sample['choice_list'][3])\n",
        "\n",
        "  print(\"\\n\")\n",
        "  response=qa_model(question = question, context = context)\n",
        "\n",
        "  print(\"\\nQuestion:\",question)\n",
        "  print(context)\n",
        "\n",
        "  print(\"Model's answer is:\",response['answer'])\n",
        "\n",
        "  for i in range(0,4):\n",
        "    if response['answer'].strip() in sample['choice_list'][i]:\n",
        "      sample['response']=i\n",
        "      print(\"The answer is:\",i)\n",
        "      with open('answer_sen.txt', 'a') as f:\n",
        "        f.write(str(i))\n",
        "        f.write('\\n')"
      ]
    },
    {
      "cell_type": "code",
      "source": [
        "# Before running this cell add the answer to the question 45.\n",
        "!zip -r 'submission.zip' 'answer_sen.txt'"
      ],
      "metadata": {
        "id": "JecQJHrNrsLk",
        "colab": {
          "base_uri": "https://localhost:8080/"
        },
        "outputId": "9528db13-6f76-4275-c713-bfd03c520c23"
      },
      "id": "JecQJHrNrsLk",
      "execution_count": null,
      "outputs": [
        {
          "output_type": "stream",
          "name": "stdout",
          "text": [
            "  adding: answer_sen.txt (deflated 69%)\n"
          ]
        }
      ]
    },
    {
      "cell_type": "code",
      "source": [
        "qa_model = pipeline(\"question-answering\", \"EleutherAI/gpt-neo-1.3B\").to_device"
      ],
      "metadata": {
        "colab": {
          "base_uri": "https://localhost:8080/",
          "height": 1000
        },
        "id": "BUfbs0iQ20l3",
        "outputId": "3d666bca-7a1b-439f-aebe-2189d9ff78fd"
      },
      "id": "BUfbs0iQ20l3",
      "execution_count": null,
      "outputs": [
        {
          "output_type": "error",
          "ename": "OSError",
          "evalue": "We couldn't connect to 'https://huggingface.co' to load this file, couldn't find it in the cached files and it looks like EleutherAI/gpt-neo-1.3B is not the path to a directory containing a file named config.json.\nCheckout your internet connection or see how to run the library in offline mode at 'https://huggingface.co/docs/transformers/installation#offline-mode'.",
          "traceback": [
            "\u001b[0;31m---------------------------------------------------------------------------\u001b[0m",
            "\u001b[0;31mOSError\u001b[0m                                   Traceback (most recent call last)",
            "File \u001b[0;32m/leonardo/prod/spack/03/ccsdeploy/spack_deploy/envs/cineca-ai-3/view/lib/python3.10/site-packages/urllib3/connection.py:174\u001b[0m, in \u001b[0;36mHTTPConnection._new_conn\u001b[0;34m(self)\u001b[0m\n\u001b[1;32m    173\u001b[0m \u001b[38;5;28;01mtry\u001b[39;00m:\n\u001b[0;32m--> 174\u001b[0m     conn \u001b[38;5;241m=\u001b[39m \u001b[43mconnection\u001b[49m\u001b[38;5;241;43m.\u001b[39;49m\u001b[43mcreate_connection\u001b[49m\u001b[43m(\u001b[49m\n\u001b[1;32m    175\u001b[0m \u001b[43m        \u001b[49m\u001b[43m(\u001b[49m\u001b[38;5;28;43mself\u001b[39;49m\u001b[38;5;241;43m.\u001b[39;49m\u001b[43m_dns_host\u001b[49m\u001b[43m,\u001b[49m\u001b[43m \u001b[49m\u001b[38;5;28;43mself\u001b[39;49m\u001b[38;5;241;43m.\u001b[39;49m\u001b[43mport\u001b[49m\u001b[43m)\u001b[49m\u001b[43m,\u001b[49m\u001b[43m \u001b[49m\u001b[38;5;28;43mself\u001b[39;49m\u001b[38;5;241;43m.\u001b[39;49m\u001b[43mtimeout\u001b[49m\u001b[43m,\u001b[49m\u001b[43m \u001b[49m\u001b[38;5;241;43m*\u001b[39;49m\u001b[38;5;241;43m*\u001b[39;49m\u001b[43mextra_kw\u001b[49m\n\u001b[1;32m    176\u001b[0m \u001b[43m    \u001b[49m\u001b[43m)\u001b[49m\n\u001b[1;32m    178\u001b[0m \u001b[38;5;28;01mexcept\u001b[39;00m SocketTimeout:\n",
            "File \u001b[0;32m/leonardo/prod/spack/03/ccsdeploy/spack_deploy/envs/cineca-ai-3/view/lib/python3.10/site-packages/urllib3/util/connection.py:95\u001b[0m, in \u001b[0;36mcreate_connection\u001b[0;34m(address, timeout, source_address, socket_options)\u001b[0m\n\u001b[1;32m     94\u001b[0m \u001b[38;5;28;01mif\u001b[39;00m err \u001b[38;5;129;01mis\u001b[39;00m \u001b[38;5;129;01mnot\u001b[39;00m \u001b[38;5;28;01mNone\u001b[39;00m:\n\u001b[0;32m---> 95\u001b[0m     \u001b[38;5;28;01mraise\u001b[39;00m err\n\u001b[1;32m     97\u001b[0m \u001b[38;5;28;01mraise\u001b[39;00m socket\u001b[38;5;241m.\u001b[39merror(\u001b[38;5;124m\"\u001b[39m\u001b[38;5;124mgetaddrinfo returns an empty list\u001b[39m\u001b[38;5;124m\"\u001b[39m)\n",
            "File \u001b[0;32m/leonardo/prod/spack/03/ccsdeploy/spack_deploy/envs/cineca-ai-3/view/lib/python3.10/site-packages/urllib3/util/connection.py:85\u001b[0m, in \u001b[0;36mcreate_connection\u001b[0;34m(address, timeout, source_address, socket_options)\u001b[0m\n\u001b[1;32m     84\u001b[0m     sock\u001b[38;5;241m.\u001b[39mbind(source_address)\n\u001b[0;32m---> 85\u001b[0m \u001b[43msock\u001b[49m\u001b[38;5;241;43m.\u001b[39;49m\u001b[43mconnect\u001b[49m\u001b[43m(\u001b[49m\u001b[43msa\u001b[49m\u001b[43m)\u001b[49m\n\u001b[1;32m     86\u001b[0m \u001b[38;5;28;01mreturn\u001b[39;00m sock\n",
            "\u001b[0;31mOSError\u001b[0m: [Errno 101] Network is unreachable",
            "\nDuring handling of the above exception, another exception occurred:\n",
            "\u001b[0;31mNewConnectionError\u001b[0m                        Traceback (most recent call last)",
            "File \u001b[0;32m/leonardo/prod/spack/03/ccsdeploy/spack_deploy/envs/cineca-ai-3/view/lib/python3.10/site-packages/urllib3/connectionpool.py:703\u001b[0m, in \u001b[0;36mHTTPConnectionPool.urlopen\u001b[0;34m(self, method, url, body, headers, retries, redirect, assert_same_host, timeout, pool_timeout, release_conn, chunked, body_pos, **response_kw)\u001b[0m\n\u001b[1;32m    702\u001b[0m \u001b[38;5;66;03m# Make the request on the httplib connection object.\u001b[39;00m\n\u001b[0;32m--> 703\u001b[0m httplib_response \u001b[38;5;241m=\u001b[39m \u001b[38;5;28;43mself\u001b[39;49m\u001b[38;5;241;43m.\u001b[39;49m\u001b[43m_make_request\u001b[49m\u001b[43m(\u001b[49m\n\u001b[1;32m    704\u001b[0m \u001b[43m    \u001b[49m\u001b[43mconn\u001b[49m\u001b[43m,\u001b[49m\n\u001b[1;32m    705\u001b[0m \u001b[43m    \u001b[49m\u001b[43mmethod\u001b[49m\u001b[43m,\u001b[49m\n\u001b[1;32m    706\u001b[0m \u001b[43m    \u001b[49m\u001b[43murl\u001b[49m\u001b[43m,\u001b[49m\n\u001b[1;32m    707\u001b[0m \u001b[43m    \u001b[49m\u001b[43mtimeout\u001b[49m\u001b[38;5;241;43m=\u001b[39;49m\u001b[43mtimeout_obj\u001b[49m\u001b[43m,\u001b[49m\n\u001b[1;32m    708\u001b[0m \u001b[43m    \u001b[49m\u001b[43mbody\u001b[49m\u001b[38;5;241;43m=\u001b[39;49m\u001b[43mbody\u001b[49m\u001b[43m,\u001b[49m\n\u001b[1;32m    709\u001b[0m \u001b[43m    \u001b[49m\u001b[43mheaders\u001b[49m\u001b[38;5;241;43m=\u001b[39;49m\u001b[43mheaders\u001b[49m\u001b[43m,\u001b[49m\n\u001b[1;32m    710\u001b[0m \u001b[43m    \u001b[49m\u001b[43mchunked\u001b[49m\u001b[38;5;241;43m=\u001b[39;49m\u001b[43mchunked\u001b[49m\u001b[43m,\u001b[49m\n\u001b[1;32m    711\u001b[0m \u001b[43m\u001b[49m\u001b[43m)\u001b[49m\n\u001b[1;32m    713\u001b[0m \u001b[38;5;66;03m# If we're going to release the connection in ``finally:``, then\u001b[39;00m\n\u001b[1;32m    714\u001b[0m \u001b[38;5;66;03m# the response doesn't need to know about the connection. Otherwise\u001b[39;00m\n\u001b[1;32m    715\u001b[0m \u001b[38;5;66;03m# it will also try to release it and we'll have a double-release\u001b[39;00m\n\u001b[1;32m    716\u001b[0m \u001b[38;5;66;03m# mess.\u001b[39;00m\n",
            "File \u001b[0;32m/leonardo/prod/spack/03/ccsdeploy/spack_deploy/envs/cineca-ai-3/view/lib/python3.10/site-packages/urllib3/connectionpool.py:386\u001b[0m, in \u001b[0;36mHTTPConnectionPool._make_request\u001b[0;34m(self, conn, method, url, timeout, chunked, **httplib_request_kw)\u001b[0m\n\u001b[1;32m    385\u001b[0m \u001b[38;5;28;01mtry\u001b[39;00m:\n\u001b[0;32m--> 386\u001b[0m     \u001b[38;5;28;43mself\u001b[39;49m\u001b[38;5;241;43m.\u001b[39;49m\u001b[43m_validate_conn\u001b[49m\u001b[43m(\u001b[49m\u001b[43mconn\u001b[49m\u001b[43m)\u001b[49m\n\u001b[1;32m    387\u001b[0m \u001b[38;5;28;01mexcept\u001b[39;00m (SocketTimeout, BaseSSLError) \u001b[38;5;28;01mas\u001b[39;00m e:\n\u001b[1;32m    388\u001b[0m     \u001b[38;5;66;03m# Py2 raises this as a BaseSSLError, Py3 raises it as socket timeout.\u001b[39;00m\n",
            "File \u001b[0;32m/leonardo/prod/spack/03/ccsdeploy/spack_deploy/envs/cineca-ai-3/view/lib/python3.10/site-packages/urllib3/connectionpool.py:1042\u001b[0m, in \u001b[0;36mHTTPSConnectionPool._validate_conn\u001b[0;34m(self, conn)\u001b[0m\n\u001b[1;32m   1041\u001b[0m \u001b[38;5;28;01mif\u001b[39;00m \u001b[38;5;129;01mnot\u001b[39;00m \u001b[38;5;28mgetattr\u001b[39m(conn, \u001b[38;5;124m\"\u001b[39m\u001b[38;5;124msock\u001b[39m\u001b[38;5;124m\"\u001b[39m, \u001b[38;5;28;01mNone\u001b[39;00m):  \u001b[38;5;66;03m# AppEngine might not have  `.sock`\u001b[39;00m\n\u001b[0;32m-> 1042\u001b[0m     \u001b[43mconn\u001b[49m\u001b[38;5;241;43m.\u001b[39;49m\u001b[43mconnect\u001b[49m\u001b[43m(\u001b[49m\u001b[43m)\u001b[49m\n\u001b[1;32m   1044\u001b[0m \u001b[38;5;28;01mif\u001b[39;00m \u001b[38;5;129;01mnot\u001b[39;00m conn\u001b[38;5;241m.\u001b[39mis_verified:\n",
            "File \u001b[0;32m/leonardo/prod/spack/03/ccsdeploy/spack_deploy/envs/cineca-ai-3/view/lib/python3.10/site-packages/urllib3/connection.py:358\u001b[0m, in \u001b[0;36mHTTPSConnection.connect\u001b[0;34m(self)\u001b[0m\n\u001b[1;32m    356\u001b[0m \u001b[38;5;28;01mdef\u001b[39;00m \u001b[38;5;21mconnect\u001b[39m(\u001b[38;5;28mself\u001b[39m):\n\u001b[1;32m    357\u001b[0m     \u001b[38;5;66;03m# Add certificate verification\u001b[39;00m\n\u001b[0;32m--> 358\u001b[0m     \u001b[38;5;28mself\u001b[39m\u001b[38;5;241m.\u001b[39msock \u001b[38;5;241m=\u001b[39m conn \u001b[38;5;241m=\u001b[39m \u001b[38;5;28;43mself\u001b[39;49m\u001b[38;5;241;43m.\u001b[39;49m\u001b[43m_new_conn\u001b[49m\u001b[43m(\u001b[49m\u001b[43m)\u001b[49m\n\u001b[1;32m    359\u001b[0m     hostname \u001b[38;5;241m=\u001b[39m \u001b[38;5;28mself\u001b[39m\u001b[38;5;241m.\u001b[39mhost\n",
            "File \u001b[0;32m/leonardo/prod/spack/03/ccsdeploy/spack_deploy/envs/cineca-ai-3/view/lib/python3.10/site-packages/urllib3/connection.py:186\u001b[0m, in \u001b[0;36mHTTPConnection._new_conn\u001b[0;34m(self)\u001b[0m\n\u001b[1;32m    185\u001b[0m \u001b[38;5;28;01mexcept\u001b[39;00m SocketError \u001b[38;5;28;01mas\u001b[39;00m e:\n\u001b[0;32m--> 186\u001b[0m     \u001b[38;5;28;01mraise\u001b[39;00m NewConnectionError(\n\u001b[1;32m    187\u001b[0m         \u001b[38;5;28mself\u001b[39m, \u001b[38;5;124m\"\u001b[39m\u001b[38;5;124mFailed to establish a new connection: \u001b[39m\u001b[38;5;132;01m%s\u001b[39;00m\u001b[38;5;124m\"\u001b[39m \u001b[38;5;241m%\u001b[39m e\n\u001b[1;32m    188\u001b[0m     )\n\u001b[1;32m    190\u001b[0m \u001b[38;5;28;01mreturn\u001b[39;00m conn\n",
            "\u001b[0;31mNewConnectionError\u001b[0m: <urllib3.connection.HTTPSConnection object at 0x15268fb089a0>: Failed to establish a new connection: [Errno 101] Network is unreachable",
            "\nDuring handling of the above exception, another exception occurred:\n",
            "\u001b[0;31mMaxRetryError\u001b[0m                             Traceback (most recent call last)",
            "File \u001b[0;32m/leonardo/prod/spack/03/ccsdeploy/spack_deploy/envs/cineca-ai-3/view/lib/python3.10/site-packages/requests/adapters.py:489\u001b[0m, in \u001b[0;36mHTTPAdapter.send\u001b[0;34m(self, request, stream, timeout, verify, cert, proxies)\u001b[0m\n\u001b[1;32m    488\u001b[0m \u001b[38;5;28;01mif\u001b[39;00m \u001b[38;5;129;01mnot\u001b[39;00m chunked:\n\u001b[0;32m--> 489\u001b[0m     resp \u001b[38;5;241m=\u001b[39m \u001b[43mconn\u001b[49m\u001b[38;5;241;43m.\u001b[39;49m\u001b[43murlopen\u001b[49m\u001b[43m(\u001b[49m\n\u001b[1;32m    490\u001b[0m \u001b[43m        \u001b[49m\u001b[43mmethod\u001b[49m\u001b[38;5;241;43m=\u001b[39;49m\u001b[43mrequest\u001b[49m\u001b[38;5;241;43m.\u001b[39;49m\u001b[43mmethod\u001b[49m\u001b[43m,\u001b[49m\n\u001b[1;32m    491\u001b[0m \u001b[43m        \u001b[49m\u001b[43murl\u001b[49m\u001b[38;5;241;43m=\u001b[39;49m\u001b[43murl\u001b[49m\u001b[43m,\u001b[49m\n\u001b[1;32m    492\u001b[0m \u001b[43m        \u001b[49m\u001b[43mbody\u001b[49m\u001b[38;5;241;43m=\u001b[39;49m\u001b[43mrequest\u001b[49m\u001b[38;5;241;43m.\u001b[39;49m\u001b[43mbody\u001b[49m\u001b[43m,\u001b[49m\n\u001b[1;32m    493\u001b[0m \u001b[43m        \u001b[49m\u001b[43mheaders\u001b[49m\u001b[38;5;241;43m=\u001b[39;49m\u001b[43mrequest\u001b[49m\u001b[38;5;241;43m.\u001b[39;49m\u001b[43mheaders\u001b[49m\u001b[43m,\u001b[49m\n\u001b[1;32m    494\u001b[0m \u001b[43m        \u001b[49m\u001b[43mredirect\u001b[49m\u001b[38;5;241;43m=\u001b[39;49m\u001b[38;5;28;43;01mFalse\u001b[39;49;00m\u001b[43m,\u001b[49m\n\u001b[1;32m    495\u001b[0m \u001b[43m        \u001b[49m\u001b[43massert_same_host\u001b[49m\u001b[38;5;241;43m=\u001b[39;49m\u001b[38;5;28;43;01mFalse\u001b[39;49;00m\u001b[43m,\u001b[49m\n\u001b[1;32m    496\u001b[0m \u001b[43m        \u001b[49m\u001b[43mpreload_content\u001b[49m\u001b[38;5;241;43m=\u001b[39;49m\u001b[38;5;28;43;01mFalse\u001b[39;49;00m\u001b[43m,\u001b[49m\n\u001b[1;32m    497\u001b[0m \u001b[43m        \u001b[49m\u001b[43mdecode_content\u001b[49m\u001b[38;5;241;43m=\u001b[39;49m\u001b[38;5;28;43;01mFalse\u001b[39;49;00m\u001b[43m,\u001b[49m\n\u001b[1;32m    498\u001b[0m \u001b[43m        \u001b[49m\u001b[43mretries\u001b[49m\u001b[38;5;241;43m=\u001b[39;49m\u001b[38;5;28;43mself\u001b[39;49m\u001b[38;5;241;43m.\u001b[39;49m\u001b[43mmax_retries\u001b[49m\u001b[43m,\u001b[49m\n\u001b[1;32m    499\u001b[0m \u001b[43m        \u001b[49m\u001b[43mtimeout\u001b[49m\u001b[38;5;241;43m=\u001b[39;49m\u001b[43mtimeout\u001b[49m\u001b[43m,\u001b[49m\n\u001b[1;32m    500\u001b[0m \u001b[43m    \u001b[49m\u001b[43m)\u001b[49m\n\u001b[1;32m    502\u001b[0m \u001b[38;5;66;03m# Send the request.\u001b[39;00m\n\u001b[1;32m    503\u001b[0m \u001b[38;5;28;01melse\u001b[39;00m:\n",
            "File \u001b[0;32m/leonardo/prod/spack/03/ccsdeploy/spack_deploy/envs/cineca-ai-3/view/lib/python3.10/site-packages/urllib3/connectionpool.py:787\u001b[0m, in \u001b[0;36mHTTPConnectionPool.urlopen\u001b[0;34m(self, method, url, body, headers, retries, redirect, assert_same_host, timeout, pool_timeout, release_conn, chunked, body_pos, **response_kw)\u001b[0m\n\u001b[1;32m    785\u001b[0m     e \u001b[38;5;241m=\u001b[39m ProtocolError(\u001b[38;5;124m\"\u001b[39m\u001b[38;5;124mConnection aborted.\u001b[39m\u001b[38;5;124m\"\u001b[39m, e)\n\u001b[0;32m--> 787\u001b[0m retries \u001b[38;5;241m=\u001b[39m \u001b[43mretries\u001b[49m\u001b[38;5;241;43m.\u001b[39;49m\u001b[43mincrement\u001b[49m\u001b[43m(\u001b[49m\n\u001b[1;32m    788\u001b[0m \u001b[43m    \u001b[49m\u001b[43mmethod\u001b[49m\u001b[43m,\u001b[49m\u001b[43m \u001b[49m\u001b[43murl\u001b[49m\u001b[43m,\u001b[49m\u001b[43m \u001b[49m\u001b[43merror\u001b[49m\u001b[38;5;241;43m=\u001b[39;49m\u001b[43me\u001b[49m\u001b[43m,\u001b[49m\u001b[43m \u001b[49m\u001b[43m_pool\u001b[49m\u001b[38;5;241;43m=\u001b[39;49m\u001b[38;5;28;43mself\u001b[39;49m\u001b[43m,\u001b[49m\u001b[43m \u001b[49m\u001b[43m_stacktrace\u001b[49m\u001b[38;5;241;43m=\u001b[39;49m\u001b[43msys\u001b[49m\u001b[38;5;241;43m.\u001b[39;49m\u001b[43mexc_info\u001b[49m\u001b[43m(\u001b[49m\u001b[43m)\u001b[49m\u001b[43m[\u001b[49m\u001b[38;5;241;43m2\u001b[39;49m\u001b[43m]\u001b[49m\n\u001b[1;32m    789\u001b[0m \u001b[43m\u001b[49m\u001b[43m)\u001b[49m\n\u001b[1;32m    790\u001b[0m retries\u001b[38;5;241m.\u001b[39msleep()\n",
            "File \u001b[0;32m/leonardo/prod/spack/03/ccsdeploy/spack_deploy/envs/cineca-ai-3/view/lib/python3.10/site-packages/urllib3/util/retry.py:592\u001b[0m, in \u001b[0;36mRetry.increment\u001b[0;34m(self, method, url, response, error, _pool, _stacktrace)\u001b[0m\n\u001b[1;32m    591\u001b[0m \u001b[38;5;28;01mif\u001b[39;00m new_retry\u001b[38;5;241m.\u001b[39mis_exhausted():\n\u001b[0;32m--> 592\u001b[0m     \u001b[38;5;28;01mraise\u001b[39;00m MaxRetryError(_pool, url, error \u001b[38;5;129;01mor\u001b[39;00m ResponseError(cause))\n\u001b[1;32m    594\u001b[0m log\u001b[38;5;241m.\u001b[39mdebug(\u001b[38;5;124m\"\u001b[39m\u001b[38;5;124mIncremented Retry for (url=\u001b[39m\u001b[38;5;124m'\u001b[39m\u001b[38;5;132;01m%s\u001b[39;00m\u001b[38;5;124m'\u001b[39m\u001b[38;5;124m): \u001b[39m\u001b[38;5;132;01m%r\u001b[39;00m\u001b[38;5;124m\"\u001b[39m, url, new_retry)\n",
            "\u001b[0;31mMaxRetryError\u001b[0m: HTTPSConnectionPool(host='huggingface.co', port=443): Max retries exceeded with url: /EleutherAI/gpt-neo-1.3B/resolve/main/config.json (Caused by NewConnectionError('<urllib3.connection.HTTPSConnection object at 0x15268fb089a0>: Failed to establish a new connection: [Errno 101] Network is unreachable'))",
            "\nDuring handling of the above exception, another exception occurred:\n",
            "\u001b[0;31mConnectionError\u001b[0m                           Traceback (most recent call last)",
            "File \u001b[0;32m~/.local/lib/python3.10/site-packages/huggingface_hub/file_download.py:1232\u001b[0m, in \u001b[0;36mhf_hub_download\u001b[0;34m(repo_id, filename, subfolder, repo_type, revision, endpoint, library_name, library_version, cache_dir, local_dir, local_dir_use_symlinks, user_agent, force_download, force_filename, proxies, etag_timeout, resume_download, token, local_files_only, legacy_cache_layout)\u001b[0m\n\u001b[1;32m   1231\u001b[0m \u001b[38;5;28;01mtry\u001b[39;00m:\n\u001b[0;32m-> 1232\u001b[0m     metadata \u001b[38;5;241m=\u001b[39m \u001b[43mget_hf_file_metadata\u001b[49m\u001b[43m(\u001b[49m\n\u001b[1;32m   1233\u001b[0m \u001b[43m        \u001b[49m\u001b[43murl\u001b[49m\u001b[38;5;241;43m=\u001b[39;49m\u001b[43murl\u001b[49m\u001b[43m,\u001b[49m\n\u001b[1;32m   1234\u001b[0m \u001b[43m        \u001b[49m\u001b[43mtoken\u001b[49m\u001b[38;5;241;43m=\u001b[39;49m\u001b[43mtoken\u001b[49m\u001b[43m,\u001b[49m\n\u001b[1;32m   1235\u001b[0m \u001b[43m        \u001b[49m\u001b[43mproxies\u001b[49m\u001b[38;5;241;43m=\u001b[39;49m\u001b[43mproxies\u001b[49m\u001b[43m,\u001b[49m\n\u001b[1;32m   1236\u001b[0m \u001b[43m        \u001b[49m\u001b[43mtimeout\u001b[49m\u001b[38;5;241;43m=\u001b[39;49m\u001b[43metag_timeout\u001b[49m\u001b[43m,\u001b[49m\n\u001b[1;32m   1237\u001b[0m \u001b[43m    \u001b[49m\u001b[43m)\u001b[49m\n\u001b[1;32m   1238\u001b[0m \u001b[38;5;28;01mexcept\u001b[39;00m EntryNotFoundError \u001b[38;5;28;01mas\u001b[39;00m http_error:\n\u001b[1;32m   1239\u001b[0m     \u001b[38;5;66;03m# Cache the non-existence of the file and raise\u001b[39;00m\n",
            "File \u001b[0;32m~/.local/lib/python3.10/site-packages/huggingface_hub/utils/_validators.py:118\u001b[0m, in \u001b[0;36mvalidate_hf_hub_args.<locals>._inner_fn\u001b[0;34m(*args, **kwargs)\u001b[0m\n\u001b[1;32m    116\u001b[0m     kwargs \u001b[38;5;241m=\u001b[39m smoothly_deprecate_use_auth_token(fn_name\u001b[38;5;241m=\u001b[39mfn\u001b[38;5;241m.\u001b[39m\u001b[38;5;18m__name__\u001b[39m, has_token\u001b[38;5;241m=\u001b[39mhas_token, kwargs\u001b[38;5;241m=\u001b[39mkwargs)\n\u001b[0;32m--> 118\u001b[0m \u001b[38;5;28;01mreturn\u001b[39;00m \u001b[43mfn\u001b[49m\u001b[43m(\u001b[49m\u001b[38;5;241;43m*\u001b[39;49m\u001b[43margs\u001b[49m\u001b[43m,\u001b[49m\u001b[43m \u001b[49m\u001b[38;5;241;43m*\u001b[39;49m\u001b[38;5;241;43m*\u001b[39;49m\u001b[43mkwargs\u001b[49m\u001b[43m)\u001b[49m\n",
            "File \u001b[0;32m~/.local/lib/python3.10/site-packages/huggingface_hub/file_download.py:1599\u001b[0m, in \u001b[0;36mget_hf_file_metadata\u001b[0;34m(url, token, proxies, timeout)\u001b[0m\n\u001b[1;32m   1598\u001b[0m \u001b[38;5;66;03m# Retrieve metadata\u001b[39;00m\n\u001b[0;32m-> 1599\u001b[0m r \u001b[38;5;241m=\u001b[39m \u001b[43m_request_wrapper\u001b[49m\u001b[43m(\u001b[49m\n\u001b[1;32m   1600\u001b[0m \u001b[43m    \u001b[49m\u001b[43mmethod\u001b[49m\u001b[38;5;241;43m=\u001b[39;49m\u001b[38;5;124;43m\"\u001b[39;49m\u001b[38;5;124;43mHEAD\u001b[39;49m\u001b[38;5;124;43m\"\u001b[39;49m\u001b[43m,\u001b[49m\n\u001b[1;32m   1601\u001b[0m \u001b[43m    \u001b[49m\u001b[43murl\u001b[49m\u001b[38;5;241;43m=\u001b[39;49m\u001b[43murl\u001b[49m\u001b[43m,\u001b[49m\n\u001b[1;32m   1602\u001b[0m \u001b[43m    \u001b[49m\u001b[43mheaders\u001b[49m\u001b[38;5;241;43m=\u001b[39;49m\u001b[43mheaders\u001b[49m\u001b[43m,\u001b[49m\n\u001b[1;32m   1603\u001b[0m \u001b[43m    \u001b[49m\u001b[43mallow_redirects\u001b[49m\u001b[38;5;241;43m=\u001b[39;49m\u001b[38;5;28;43;01mFalse\u001b[39;49;00m\u001b[43m,\u001b[49m\n\u001b[1;32m   1604\u001b[0m \u001b[43m    \u001b[49m\u001b[43mfollow_relative_redirects\u001b[49m\u001b[38;5;241;43m=\u001b[39;49m\u001b[38;5;28;43;01mTrue\u001b[39;49;00m\u001b[43m,\u001b[49m\n\u001b[1;32m   1605\u001b[0m \u001b[43m    \u001b[49m\u001b[43mproxies\u001b[49m\u001b[38;5;241;43m=\u001b[39;49m\u001b[43mproxies\u001b[49m\u001b[43m,\u001b[49m\n\u001b[1;32m   1606\u001b[0m \u001b[43m    \u001b[49m\u001b[43mtimeout\u001b[49m\u001b[38;5;241;43m=\u001b[39;49m\u001b[43mtimeout\u001b[49m\u001b[43m,\u001b[49m\n\u001b[1;32m   1607\u001b[0m \u001b[43m\u001b[49m\u001b[43m)\u001b[49m\n\u001b[1;32m   1608\u001b[0m hf_raise_for_status(r)\n",
            "File \u001b[0;32m~/.local/lib/python3.10/site-packages/huggingface_hub/file_download.py:417\u001b[0m, in \u001b[0;36m_request_wrapper\u001b[0;34m(method, url, max_retries, base_wait_time, max_wait_time, timeout, follow_relative_redirects, **params)\u001b[0m\n\u001b[1;32m    416\u001b[0m \u001b[38;5;28;01mif\u001b[39;00m follow_relative_redirects:\n\u001b[0;32m--> 417\u001b[0m     response \u001b[38;5;241m=\u001b[39m \u001b[43m_request_wrapper\u001b[49m\u001b[43m(\u001b[49m\n\u001b[1;32m    418\u001b[0m \u001b[43m        \u001b[49m\u001b[43mmethod\u001b[49m\u001b[38;5;241;43m=\u001b[39;49m\u001b[43mmethod\u001b[49m\u001b[43m,\u001b[49m\n\u001b[1;32m    419\u001b[0m \u001b[43m        \u001b[49m\u001b[43murl\u001b[49m\u001b[38;5;241;43m=\u001b[39;49m\u001b[43murl\u001b[49m\u001b[43m,\u001b[49m\n\u001b[1;32m    420\u001b[0m \u001b[43m        \u001b[49m\u001b[43mmax_retries\u001b[49m\u001b[38;5;241;43m=\u001b[39;49m\u001b[43mmax_retries\u001b[49m\u001b[43m,\u001b[49m\n\u001b[1;32m    421\u001b[0m \u001b[43m        \u001b[49m\u001b[43mbase_wait_time\u001b[49m\u001b[38;5;241;43m=\u001b[39;49m\u001b[43mbase_wait_time\u001b[49m\u001b[43m,\u001b[49m\n\u001b[1;32m    422\u001b[0m \u001b[43m        \u001b[49m\u001b[43mmax_wait_time\u001b[49m\u001b[38;5;241;43m=\u001b[39;49m\u001b[43mmax_wait_time\u001b[49m\u001b[43m,\u001b[49m\n\u001b[1;32m    423\u001b[0m \u001b[43m        \u001b[49m\u001b[43mtimeout\u001b[49m\u001b[38;5;241;43m=\u001b[39;49m\u001b[43mtimeout\u001b[49m\u001b[43m,\u001b[49m\n\u001b[1;32m    424\u001b[0m \u001b[43m        \u001b[49m\u001b[43mfollow_relative_redirects\u001b[49m\u001b[38;5;241;43m=\u001b[39;49m\u001b[38;5;28;43;01mFalse\u001b[39;49;00m\u001b[43m,\u001b[49m\n\u001b[1;32m    425\u001b[0m \u001b[43m        \u001b[49m\u001b[38;5;241;43m*\u001b[39;49m\u001b[38;5;241;43m*\u001b[39;49m\u001b[43mparams\u001b[49m\u001b[43m,\u001b[49m\n\u001b[1;32m    426\u001b[0m \u001b[43m    \u001b[49m\u001b[43m)\u001b[49m\n\u001b[1;32m    428\u001b[0m     \u001b[38;5;66;03m# If redirection, we redirect only relative paths.\u001b[39;00m\n\u001b[1;32m    429\u001b[0m     \u001b[38;5;66;03m# This is useful in case of a renamed repository.\u001b[39;00m\n",
            "File \u001b[0;32m~/.local/lib/python3.10/site-packages/huggingface_hub/file_download.py:452\u001b[0m, in \u001b[0;36m_request_wrapper\u001b[0;34m(method, url, max_retries, base_wait_time, max_wait_time, timeout, follow_relative_redirects, **params)\u001b[0m\n\u001b[1;32m    451\u001b[0m \u001b[38;5;66;03m# 3. Exponential backoff\u001b[39;00m\n\u001b[0;32m--> 452\u001b[0m \u001b[38;5;28;01mreturn\u001b[39;00m \u001b[43mhttp_backoff\u001b[49m\u001b[43m(\u001b[49m\n\u001b[1;32m    453\u001b[0m \u001b[43m    \u001b[49m\u001b[43mmethod\u001b[49m\u001b[38;5;241;43m=\u001b[39;49m\u001b[43mmethod\u001b[49m\u001b[43m,\u001b[49m\n\u001b[1;32m    454\u001b[0m \u001b[43m    \u001b[49m\u001b[43murl\u001b[49m\u001b[38;5;241;43m=\u001b[39;49m\u001b[43murl\u001b[49m\u001b[43m,\u001b[49m\n\u001b[1;32m    455\u001b[0m \u001b[43m    \u001b[49m\u001b[43mmax_retries\u001b[49m\u001b[38;5;241;43m=\u001b[39;49m\u001b[43mmax_retries\u001b[49m\u001b[43m,\u001b[49m\n\u001b[1;32m    456\u001b[0m \u001b[43m    \u001b[49m\u001b[43mbase_wait_time\u001b[49m\u001b[38;5;241;43m=\u001b[39;49m\u001b[43mbase_wait_time\u001b[49m\u001b[43m,\u001b[49m\n\u001b[1;32m    457\u001b[0m \u001b[43m    \u001b[49m\u001b[43mmax_wait_time\u001b[49m\u001b[38;5;241;43m=\u001b[39;49m\u001b[43mmax_wait_time\u001b[49m\u001b[43m,\u001b[49m\n\u001b[1;32m    458\u001b[0m \u001b[43m    \u001b[49m\u001b[43mretry_on_exceptions\u001b[49m\u001b[38;5;241;43m=\u001b[39;49m\u001b[43m(\u001b[49m\u001b[43mTimeout\u001b[49m\u001b[43m,\u001b[49m\u001b[43m \u001b[49m\u001b[43mProxyError\u001b[49m\u001b[43m)\u001b[49m\u001b[43m,\u001b[49m\n\u001b[1;32m    459\u001b[0m \u001b[43m    \u001b[49m\u001b[43mretry_on_status_codes\u001b[49m\u001b[38;5;241;43m=\u001b[39;49m\u001b[43m(\u001b[49m\u001b[43m)\u001b[49m\u001b[43m,\u001b[49m\n\u001b[1;32m    460\u001b[0m \u001b[43m    \u001b[49m\u001b[43mtimeout\u001b[49m\u001b[38;5;241;43m=\u001b[39;49m\u001b[43mtimeout\u001b[49m\u001b[43m,\u001b[49m\n\u001b[1;32m    461\u001b[0m \u001b[43m    \u001b[49m\u001b[38;5;241;43m*\u001b[39;49m\u001b[38;5;241;43m*\u001b[39;49m\u001b[43mparams\u001b[49m\u001b[43m,\u001b[49m\n\u001b[1;32m    462\u001b[0m \u001b[43m\u001b[49m\u001b[43m)\u001b[49m\n",
            "File \u001b[0;32m~/.local/lib/python3.10/site-packages/huggingface_hub/utils/_http.py:258\u001b[0m, in \u001b[0;36mhttp_backoff\u001b[0;34m(method, url, max_retries, base_wait_time, max_wait_time, retry_on_exceptions, retry_on_status_codes, **kwargs)\u001b[0m\n\u001b[1;32m    257\u001b[0m \u001b[38;5;66;03m# Perform request and return if status_code is not in the retry list.\u001b[39;00m\n\u001b[0;32m--> 258\u001b[0m response \u001b[38;5;241m=\u001b[39m \u001b[43msession\u001b[49m\u001b[38;5;241;43m.\u001b[39;49m\u001b[43mrequest\u001b[49m\u001b[43m(\u001b[49m\u001b[43mmethod\u001b[49m\u001b[38;5;241;43m=\u001b[39;49m\u001b[43mmethod\u001b[49m\u001b[43m,\u001b[49m\u001b[43m \u001b[49m\u001b[43murl\u001b[49m\u001b[38;5;241;43m=\u001b[39;49m\u001b[43murl\u001b[49m\u001b[43m,\u001b[49m\u001b[43m \u001b[49m\u001b[38;5;241;43m*\u001b[39;49m\u001b[38;5;241;43m*\u001b[39;49m\u001b[43mkwargs\u001b[49m\u001b[43m)\u001b[49m\n\u001b[1;32m    259\u001b[0m \u001b[38;5;28;01mif\u001b[39;00m response\u001b[38;5;241m.\u001b[39mstatus_code \u001b[38;5;129;01mnot\u001b[39;00m \u001b[38;5;129;01min\u001b[39;00m retry_on_status_codes:\n",
            "File \u001b[0;32m/leonardo/prod/spack/03/ccsdeploy/spack_deploy/envs/cineca-ai-3/view/lib/python3.10/site-packages/requests/sessions.py:587\u001b[0m, in \u001b[0;36mSession.request\u001b[0;34m(self, method, url, params, data, headers, cookies, files, auth, timeout, allow_redirects, proxies, hooks, stream, verify, cert, json)\u001b[0m\n\u001b[1;32m    586\u001b[0m send_kwargs\u001b[38;5;241m.\u001b[39mupdate(settings)\n\u001b[0;32m--> 587\u001b[0m resp \u001b[38;5;241m=\u001b[39m \u001b[38;5;28;43mself\u001b[39;49m\u001b[38;5;241;43m.\u001b[39;49m\u001b[43msend\u001b[49m\u001b[43m(\u001b[49m\u001b[43mprep\u001b[49m\u001b[43m,\u001b[49m\u001b[43m \u001b[49m\u001b[38;5;241;43m*\u001b[39;49m\u001b[38;5;241;43m*\u001b[39;49m\u001b[43msend_kwargs\u001b[49m\u001b[43m)\u001b[49m\n\u001b[1;32m    589\u001b[0m \u001b[38;5;28;01mreturn\u001b[39;00m resp\n",
            "File \u001b[0;32m/leonardo/prod/spack/03/ccsdeploy/spack_deploy/envs/cineca-ai-3/view/lib/python3.10/site-packages/requests/sessions.py:701\u001b[0m, in \u001b[0;36mSession.send\u001b[0;34m(self, request, **kwargs)\u001b[0m\n\u001b[1;32m    700\u001b[0m \u001b[38;5;66;03m# Send the request\u001b[39;00m\n\u001b[0;32m--> 701\u001b[0m r \u001b[38;5;241m=\u001b[39m \u001b[43madapter\u001b[49m\u001b[38;5;241;43m.\u001b[39;49m\u001b[43msend\u001b[49m\u001b[43m(\u001b[49m\u001b[43mrequest\u001b[49m\u001b[43m,\u001b[49m\u001b[43m \u001b[49m\u001b[38;5;241;43m*\u001b[39;49m\u001b[38;5;241;43m*\u001b[39;49m\u001b[43mkwargs\u001b[49m\u001b[43m)\u001b[49m\n\u001b[1;32m    703\u001b[0m \u001b[38;5;66;03m# Total elapsed time of the request (approximately)\u001b[39;00m\n",
            "File \u001b[0;32m~/.local/lib/python3.10/site-packages/huggingface_hub/utils/_http.py:63\u001b[0m, in \u001b[0;36mUniqueRequestIdAdapter.send\u001b[0;34m(self, request, *args, **kwargs)\u001b[0m\n\u001b[1;32m     62\u001b[0m \u001b[38;5;28;01mtry\u001b[39;00m:\n\u001b[0;32m---> 63\u001b[0m     \u001b[38;5;28;01mreturn\u001b[39;00m \u001b[38;5;28;43msuper\u001b[39;49m\u001b[43m(\u001b[49m\u001b[43m)\u001b[49m\u001b[38;5;241;43m.\u001b[39;49m\u001b[43msend\u001b[49m\u001b[43m(\u001b[49m\u001b[43mrequest\u001b[49m\u001b[43m,\u001b[49m\u001b[43m \u001b[49m\u001b[38;5;241;43m*\u001b[39;49m\u001b[43margs\u001b[49m\u001b[43m,\u001b[49m\u001b[43m \u001b[49m\u001b[38;5;241;43m*\u001b[39;49m\u001b[38;5;241;43m*\u001b[39;49m\u001b[43mkwargs\u001b[49m\u001b[43m)\u001b[49m\n\u001b[1;32m     64\u001b[0m \u001b[38;5;28;01mexcept\u001b[39;00m requests\u001b[38;5;241m.\u001b[39mRequestException \u001b[38;5;28;01mas\u001b[39;00m e:\n",
            "File \u001b[0;32m/leonardo/prod/spack/03/ccsdeploy/spack_deploy/envs/cineca-ai-3/view/lib/python3.10/site-packages/requests/adapters.py:565\u001b[0m, in \u001b[0;36mHTTPAdapter.send\u001b[0;34m(self, request, stream, timeout, verify, cert, proxies)\u001b[0m\n\u001b[1;32m    563\u001b[0m         \u001b[38;5;28;01mraise\u001b[39;00m SSLError(e, request\u001b[38;5;241m=\u001b[39mrequest)\n\u001b[0;32m--> 565\u001b[0m     \u001b[38;5;28;01mraise\u001b[39;00m \u001b[38;5;167;01mConnectionError\u001b[39;00m(e, request\u001b[38;5;241m=\u001b[39mrequest)\n\u001b[1;32m    567\u001b[0m \u001b[38;5;28;01mexcept\u001b[39;00m ClosedPoolError \u001b[38;5;28;01mas\u001b[39;00m e:\n",
            "\u001b[0;31mConnectionError\u001b[0m: (MaxRetryError(\"HTTPSConnectionPool(host='huggingface.co', port=443): Max retries exceeded with url: /EleutherAI/gpt-neo-1.3B/resolve/main/config.json (Caused by NewConnectionError('<urllib3.connection.HTTPSConnection object at 0x15268fb089a0>: Failed to establish a new connection: [Errno 101] Network is unreachable'))\"), '(Request ID: 27251eb7-691c-40ee-9e34-405a10d8cd5b)')",
            "\nThe above exception was the direct cause of the following exception:\n",
            "\u001b[0;31mLocalEntryNotFoundError\u001b[0m                   Traceback (most recent call last)",
            "File \u001b[0;32m~/.local/lib/python3.10/site-packages/transformers/utils/hub.py:430\u001b[0m, in \u001b[0;36mcached_file\u001b[0;34m(path_or_repo_id, filename, cache_dir, force_download, resume_download, proxies, token, revision, local_files_only, subfolder, repo_type, user_agent, _raise_exceptions_for_missing_entries, _raise_exceptions_for_connection_errors, _commit_hash, **deprecated_kwargs)\u001b[0m\n\u001b[1;32m    428\u001b[0m \u001b[38;5;28;01mtry\u001b[39;00m:\n\u001b[1;32m    429\u001b[0m     \u001b[38;5;66;03m# Load from URL or cache if already cached\u001b[39;00m\n\u001b[0;32m--> 430\u001b[0m     resolved_file \u001b[38;5;241m=\u001b[39m \u001b[43mhf_hub_download\u001b[49m\u001b[43m(\u001b[49m\n\u001b[1;32m    431\u001b[0m \u001b[43m        \u001b[49m\u001b[43mpath_or_repo_id\u001b[49m\u001b[43m,\u001b[49m\n\u001b[1;32m    432\u001b[0m \u001b[43m        \u001b[49m\u001b[43mfilename\u001b[49m\u001b[43m,\u001b[49m\n\u001b[1;32m    433\u001b[0m \u001b[43m        \u001b[49m\u001b[43msubfolder\u001b[49m\u001b[38;5;241;43m=\u001b[39;49m\u001b[38;5;28;43;01mNone\u001b[39;49;00m\u001b[43m \u001b[49m\u001b[38;5;28;43;01mif\u001b[39;49;00m\u001b[43m \u001b[49m\u001b[38;5;28;43mlen\u001b[39;49m\u001b[43m(\u001b[49m\u001b[43msubfolder\u001b[49m\u001b[43m)\u001b[49m\u001b[43m \u001b[49m\u001b[38;5;241;43m==\u001b[39;49m\u001b[43m \u001b[49m\u001b[38;5;241;43m0\u001b[39;49m\u001b[43m \u001b[49m\u001b[38;5;28;43;01melse\u001b[39;49;00m\u001b[43m \u001b[49m\u001b[43msubfolder\u001b[49m\u001b[43m,\u001b[49m\n\u001b[1;32m    434\u001b[0m \u001b[43m        \u001b[49m\u001b[43mrepo_type\u001b[49m\u001b[38;5;241;43m=\u001b[39;49m\u001b[43mrepo_type\u001b[49m\u001b[43m,\u001b[49m\n\u001b[1;32m    435\u001b[0m \u001b[43m        \u001b[49m\u001b[43mrevision\u001b[49m\u001b[38;5;241;43m=\u001b[39;49m\u001b[43mrevision\u001b[49m\u001b[43m,\u001b[49m\n\u001b[1;32m    436\u001b[0m \u001b[43m        \u001b[49m\u001b[43mcache_dir\u001b[49m\u001b[38;5;241;43m=\u001b[39;49m\u001b[43mcache_dir\u001b[49m\u001b[43m,\u001b[49m\n\u001b[1;32m    437\u001b[0m \u001b[43m        \u001b[49m\u001b[43muser_agent\u001b[49m\u001b[38;5;241;43m=\u001b[39;49m\u001b[43muser_agent\u001b[49m\u001b[43m,\u001b[49m\n\u001b[1;32m    438\u001b[0m \u001b[43m        \u001b[49m\u001b[43mforce_download\u001b[49m\u001b[38;5;241;43m=\u001b[39;49m\u001b[43mforce_download\u001b[49m\u001b[43m,\u001b[49m\n\u001b[1;32m    439\u001b[0m \u001b[43m        \u001b[49m\u001b[43mproxies\u001b[49m\u001b[38;5;241;43m=\u001b[39;49m\u001b[43mproxies\u001b[49m\u001b[43m,\u001b[49m\n\u001b[1;32m    440\u001b[0m \u001b[43m        \u001b[49m\u001b[43mresume_download\u001b[49m\u001b[38;5;241;43m=\u001b[39;49m\u001b[43mresume_download\u001b[49m\u001b[43m,\u001b[49m\n\u001b[1;32m    441\u001b[0m \u001b[43m        \u001b[49m\u001b[43mtoken\u001b[49m\u001b[38;5;241;43m=\u001b[39;49m\u001b[43mtoken\u001b[49m\u001b[43m,\u001b[49m\n\u001b[1;32m    442\u001b[0m \u001b[43m        \u001b[49m\u001b[43mlocal_files_only\u001b[49m\u001b[38;5;241;43m=\u001b[39;49m\u001b[43mlocal_files_only\u001b[49m\u001b[43m,\u001b[49m\n\u001b[1;32m    443\u001b[0m \u001b[43m    \u001b[49m\u001b[43m)\u001b[49m\n\u001b[1;32m    444\u001b[0m \u001b[38;5;28;01mexcept\u001b[39;00m GatedRepoError \u001b[38;5;28;01mas\u001b[39;00m e:\n",
            "File \u001b[0;32m~/.local/lib/python3.10/site-packages/huggingface_hub/utils/_validators.py:118\u001b[0m, in \u001b[0;36mvalidate_hf_hub_args.<locals>._inner_fn\u001b[0;34m(*args, **kwargs)\u001b[0m\n\u001b[1;32m    116\u001b[0m     kwargs \u001b[38;5;241m=\u001b[39m smoothly_deprecate_use_auth_token(fn_name\u001b[38;5;241m=\u001b[39mfn\u001b[38;5;241m.\u001b[39m\u001b[38;5;18m__name__\u001b[39m, has_token\u001b[38;5;241m=\u001b[39mhas_token, kwargs\u001b[38;5;241m=\u001b[39mkwargs)\n\u001b[0;32m--> 118\u001b[0m \u001b[38;5;28;01mreturn\u001b[39;00m \u001b[43mfn\u001b[49m\u001b[43m(\u001b[49m\u001b[38;5;241;43m*\u001b[39;49m\u001b[43margs\u001b[49m\u001b[43m,\u001b[49m\u001b[43m \u001b[49m\u001b[38;5;241;43m*\u001b[39;49m\u001b[38;5;241;43m*\u001b[39;49m\u001b[43mkwargs\u001b[49m\u001b[43m)\u001b[49m\n",
            "File \u001b[0;32m~/.local/lib/python3.10/site-packages/huggingface_hub/file_download.py:1349\u001b[0m, in \u001b[0;36mhf_hub_download\u001b[0;34m(repo_id, filename, subfolder, repo_type, revision, endpoint, library_name, library_version, cache_dir, local_dir, local_dir_use_symlinks, user_agent, force_download, force_filename, proxies, etag_timeout, resume_download, token, local_files_only, legacy_cache_layout)\u001b[0m\n\u001b[1;32m   1347\u001b[0m     \u001b[38;5;28;01melse\u001b[39;00m:\n\u001b[1;32m   1348\u001b[0m         \u001b[38;5;66;03m# Otherwise: most likely a connection issue or Hub downtime => let's warn the user\u001b[39;00m\n\u001b[0;32m-> 1349\u001b[0m         \u001b[38;5;28;01mraise\u001b[39;00m LocalEntryNotFoundError(\n\u001b[1;32m   1350\u001b[0m             \u001b[38;5;124m\"\u001b[39m\u001b[38;5;124mAn error happened while trying to locate the file on the Hub and we cannot find the requested files\u001b[39m\u001b[38;5;124m\"\u001b[39m\n\u001b[1;32m   1351\u001b[0m             \u001b[38;5;124m\"\u001b[39m\u001b[38;5;124m in the local cache. Please check your connection and try again or make sure your Internet connection\u001b[39m\u001b[38;5;124m\"\u001b[39m\n\u001b[1;32m   1352\u001b[0m             \u001b[38;5;124m\"\u001b[39m\u001b[38;5;124m is on.\u001b[39m\u001b[38;5;124m\"\u001b[39m\n\u001b[1;32m   1353\u001b[0m         ) \u001b[38;5;28;01mfrom\u001b[39;00m \u001b[38;5;21;01mhead_call_error\u001b[39;00m\n\u001b[1;32m   1355\u001b[0m \u001b[38;5;66;03m# From now on, etag and commit_hash are not None.\u001b[39;00m\n",
            "\u001b[0;31mLocalEntryNotFoundError\u001b[0m: An error happened while trying to locate the file on the Hub and we cannot find the requested files in the local cache. Please check your connection and try again or make sure your Internet connection is on.",
            "\nThe above exception was the direct cause of the following exception:\n",
            "\u001b[0;31mOSError\u001b[0m                                   Traceback (most recent call last)",
            "Cell \u001b[0;32mIn [4], line 1\u001b[0m\n\u001b[0;32m----> 1\u001b[0m qa_model \u001b[38;5;241m=\u001b[39m pipeline(\u001b[38;5;124m\"\u001b[39m\u001b[38;5;124mquestion-answering\u001b[39m\u001b[38;5;124m\"\u001b[39m, \u001b[38;5;124m\"\u001b[39m\u001b[38;5;124mEleutherAI/gpt-neo-1.3B\u001b[39m\u001b[38;5;124m\"\u001b[39m)\u001b[38;5;241m.\u001b[39mto_device\n",
            "File \u001b[0;32m~/.local/lib/python3.10/site-packages/transformers/pipelines/__init__.py:782\u001b[0m, in \u001b[0;36mpipeline\u001b[0;34m(task, model, config, tokenizer, feature_extractor, image_processor, framework, revision, use_fast, token, device, device_map, torch_dtype, trust_remote_code, model_kwargs, pipeline_class, **kwargs)\u001b[0m\n\u001b[1;32m    779\u001b[0m                 adapter_config \u001b[38;5;241m=\u001b[39m json\u001b[38;5;241m.\u001b[39mload(f)\n\u001b[1;32m    780\u001b[0m                 model \u001b[38;5;241m=\u001b[39m adapter_config[\u001b[38;5;124m\"\u001b[39m\u001b[38;5;124mbase_model_name_or_path\u001b[39m\u001b[38;5;124m\"\u001b[39m]\n\u001b[0;32m--> 782\u001b[0m     config \u001b[38;5;241m=\u001b[39m \u001b[43mAutoConfig\u001b[49m\u001b[38;5;241;43m.\u001b[39;49m\u001b[43mfrom_pretrained\u001b[49m\u001b[43m(\u001b[49m\n\u001b[1;32m    783\u001b[0m \u001b[43m        \u001b[49m\u001b[43mmodel\u001b[49m\u001b[43m,\u001b[49m\u001b[43m \u001b[49m\u001b[43m_from_pipeline\u001b[49m\u001b[38;5;241;43m=\u001b[39;49m\u001b[43mtask\u001b[49m\u001b[43m,\u001b[49m\u001b[43m \u001b[49m\u001b[43mcode_revision\u001b[49m\u001b[38;5;241;43m=\u001b[39;49m\u001b[43mcode_revision\u001b[49m\u001b[43m,\u001b[49m\u001b[43m \u001b[49m\u001b[38;5;241;43m*\u001b[39;49m\u001b[38;5;241;43m*\u001b[39;49m\u001b[43mhub_kwargs\u001b[49m\u001b[43m,\u001b[49m\u001b[43m \u001b[49m\u001b[38;5;241;43m*\u001b[39;49m\u001b[38;5;241;43m*\u001b[39;49m\u001b[43mmodel_kwargs\u001b[49m\n\u001b[1;32m    784\u001b[0m \u001b[43m    \u001b[49m\u001b[43m)\u001b[49m\n\u001b[1;32m    785\u001b[0m     hub_kwargs[\u001b[38;5;124m\"\u001b[39m\u001b[38;5;124m_commit_hash\u001b[39m\u001b[38;5;124m\"\u001b[39m] \u001b[38;5;241m=\u001b[39m config\u001b[38;5;241m.\u001b[39m_commit_hash\n\u001b[1;32m    787\u001b[0m custom_tasks \u001b[38;5;241m=\u001b[39m {}\n",
            "File \u001b[0;32m~/.local/lib/python3.10/site-packages/transformers/models/auto/configuration_auto.py:1048\u001b[0m, in \u001b[0;36mAutoConfig.from_pretrained\u001b[0;34m(cls, pretrained_model_name_or_path, **kwargs)\u001b[0m\n\u001b[1;32m   1045\u001b[0m trust_remote_code \u001b[38;5;241m=\u001b[39m kwargs\u001b[38;5;241m.\u001b[39mpop(\u001b[38;5;124m\"\u001b[39m\u001b[38;5;124mtrust_remote_code\u001b[39m\u001b[38;5;124m\"\u001b[39m, \u001b[38;5;28;01mNone\u001b[39;00m)\n\u001b[1;32m   1046\u001b[0m code_revision \u001b[38;5;241m=\u001b[39m kwargs\u001b[38;5;241m.\u001b[39mpop(\u001b[38;5;124m\"\u001b[39m\u001b[38;5;124mcode_revision\u001b[39m\u001b[38;5;124m\"\u001b[39m, \u001b[38;5;28;01mNone\u001b[39;00m)\n\u001b[0;32m-> 1048\u001b[0m config_dict, unused_kwargs \u001b[38;5;241m=\u001b[39m \u001b[43mPretrainedConfig\u001b[49m\u001b[38;5;241;43m.\u001b[39;49m\u001b[43mget_config_dict\u001b[49m\u001b[43m(\u001b[49m\u001b[43mpretrained_model_name_or_path\u001b[49m\u001b[43m,\u001b[49m\u001b[43m \u001b[49m\u001b[38;5;241;43m*\u001b[39;49m\u001b[38;5;241;43m*\u001b[39;49m\u001b[43mkwargs\u001b[49m\u001b[43m)\u001b[49m\n\u001b[1;32m   1049\u001b[0m has_remote_code \u001b[38;5;241m=\u001b[39m \u001b[38;5;124m\"\u001b[39m\u001b[38;5;124mauto_map\u001b[39m\u001b[38;5;124m\"\u001b[39m \u001b[38;5;129;01min\u001b[39;00m config_dict \u001b[38;5;129;01mand\u001b[39;00m \u001b[38;5;124m\"\u001b[39m\u001b[38;5;124mAutoConfig\u001b[39m\u001b[38;5;124m\"\u001b[39m \u001b[38;5;129;01min\u001b[39;00m config_dict[\u001b[38;5;124m\"\u001b[39m\u001b[38;5;124mauto_map\u001b[39m\u001b[38;5;124m\"\u001b[39m]\n\u001b[1;32m   1050\u001b[0m has_local_code \u001b[38;5;241m=\u001b[39m \u001b[38;5;124m\"\u001b[39m\u001b[38;5;124mmodel_type\u001b[39m\u001b[38;5;124m\"\u001b[39m \u001b[38;5;129;01min\u001b[39;00m config_dict \u001b[38;5;129;01mand\u001b[39;00m config_dict[\u001b[38;5;124m\"\u001b[39m\u001b[38;5;124mmodel_type\u001b[39m\u001b[38;5;124m\"\u001b[39m] \u001b[38;5;129;01min\u001b[39;00m CONFIG_MAPPING\n",
            "File \u001b[0;32m~/.local/lib/python3.10/site-packages/transformers/configuration_utils.py:622\u001b[0m, in \u001b[0;36mPretrainedConfig.get_config_dict\u001b[0;34m(cls, pretrained_model_name_or_path, **kwargs)\u001b[0m\n\u001b[1;32m    620\u001b[0m original_kwargs \u001b[38;5;241m=\u001b[39m copy\u001b[38;5;241m.\u001b[39mdeepcopy(kwargs)\n\u001b[1;32m    621\u001b[0m \u001b[38;5;66;03m# Get config dict associated with the base config file\u001b[39;00m\n\u001b[0;32m--> 622\u001b[0m config_dict, kwargs \u001b[38;5;241m=\u001b[39m \u001b[38;5;28;43mcls\u001b[39;49m\u001b[38;5;241;43m.\u001b[39;49m\u001b[43m_get_config_dict\u001b[49m\u001b[43m(\u001b[49m\u001b[43mpretrained_model_name_or_path\u001b[49m\u001b[43m,\u001b[49m\u001b[43m \u001b[49m\u001b[38;5;241;43m*\u001b[39;49m\u001b[38;5;241;43m*\u001b[39;49m\u001b[43mkwargs\u001b[49m\u001b[43m)\u001b[49m\n\u001b[1;32m    623\u001b[0m \u001b[38;5;28;01mif\u001b[39;00m \u001b[38;5;124m\"\u001b[39m\u001b[38;5;124m_commit_hash\u001b[39m\u001b[38;5;124m\"\u001b[39m \u001b[38;5;129;01min\u001b[39;00m config_dict:\n\u001b[1;32m    624\u001b[0m     original_kwargs[\u001b[38;5;124m\"\u001b[39m\u001b[38;5;124m_commit_hash\u001b[39m\u001b[38;5;124m\"\u001b[39m] \u001b[38;5;241m=\u001b[39m config_dict[\u001b[38;5;124m\"\u001b[39m\u001b[38;5;124m_commit_hash\u001b[39m\u001b[38;5;124m\"\u001b[39m]\n",
            "File \u001b[0;32m~/.local/lib/python3.10/site-packages/transformers/configuration_utils.py:677\u001b[0m, in \u001b[0;36mPretrainedConfig._get_config_dict\u001b[0;34m(cls, pretrained_model_name_or_path, **kwargs)\u001b[0m\n\u001b[1;32m    673\u001b[0m configuration_file \u001b[38;5;241m=\u001b[39m kwargs\u001b[38;5;241m.\u001b[39mpop(\u001b[38;5;124m\"\u001b[39m\u001b[38;5;124m_configuration_file\u001b[39m\u001b[38;5;124m\"\u001b[39m, CONFIG_NAME)\n\u001b[1;32m    675\u001b[0m \u001b[38;5;28;01mtry\u001b[39;00m:\n\u001b[1;32m    676\u001b[0m     \u001b[38;5;66;03m# Load from local folder or from cache or download from model Hub and cache\u001b[39;00m\n\u001b[0;32m--> 677\u001b[0m     resolved_config_file \u001b[38;5;241m=\u001b[39m \u001b[43mcached_file\u001b[49m\u001b[43m(\u001b[49m\n\u001b[1;32m    678\u001b[0m \u001b[43m        \u001b[49m\u001b[43mpretrained_model_name_or_path\u001b[49m\u001b[43m,\u001b[49m\n\u001b[1;32m    679\u001b[0m \u001b[43m        \u001b[49m\u001b[43mconfiguration_file\u001b[49m\u001b[43m,\u001b[49m\n\u001b[1;32m    680\u001b[0m \u001b[43m        \u001b[49m\u001b[43mcache_dir\u001b[49m\u001b[38;5;241;43m=\u001b[39;49m\u001b[43mcache_dir\u001b[49m\u001b[43m,\u001b[49m\n\u001b[1;32m    681\u001b[0m \u001b[43m        \u001b[49m\u001b[43mforce_download\u001b[49m\u001b[38;5;241;43m=\u001b[39;49m\u001b[43mforce_download\u001b[49m\u001b[43m,\u001b[49m\n\u001b[1;32m    682\u001b[0m \u001b[43m        \u001b[49m\u001b[43mproxies\u001b[49m\u001b[38;5;241;43m=\u001b[39;49m\u001b[43mproxies\u001b[49m\u001b[43m,\u001b[49m\n\u001b[1;32m    683\u001b[0m \u001b[43m        \u001b[49m\u001b[43mresume_download\u001b[49m\u001b[38;5;241;43m=\u001b[39;49m\u001b[43mresume_download\u001b[49m\u001b[43m,\u001b[49m\n\u001b[1;32m    684\u001b[0m \u001b[43m        \u001b[49m\u001b[43mlocal_files_only\u001b[49m\u001b[38;5;241;43m=\u001b[39;49m\u001b[43mlocal_files_only\u001b[49m\u001b[43m,\u001b[49m\n\u001b[1;32m    685\u001b[0m \u001b[43m        \u001b[49m\u001b[43mtoken\u001b[49m\u001b[38;5;241;43m=\u001b[39;49m\u001b[43mtoken\u001b[49m\u001b[43m,\u001b[49m\n\u001b[1;32m    686\u001b[0m \u001b[43m        \u001b[49m\u001b[43muser_agent\u001b[49m\u001b[38;5;241;43m=\u001b[39;49m\u001b[43muser_agent\u001b[49m\u001b[43m,\u001b[49m\n\u001b[1;32m    687\u001b[0m \u001b[43m        \u001b[49m\u001b[43mrevision\u001b[49m\u001b[38;5;241;43m=\u001b[39;49m\u001b[43mrevision\u001b[49m\u001b[43m,\u001b[49m\n\u001b[1;32m    688\u001b[0m \u001b[43m        \u001b[49m\u001b[43msubfolder\u001b[49m\u001b[38;5;241;43m=\u001b[39;49m\u001b[43msubfolder\u001b[49m\u001b[43m,\u001b[49m\n\u001b[1;32m    689\u001b[0m \u001b[43m        \u001b[49m\u001b[43m_commit_hash\u001b[49m\u001b[38;5;241;43m=\u001b[39;49m\u001b[43mcommit_hash\u001b[49m\u001b[43m,\u001b[49m\n\u001b[1;32m    690\u001b[0m \u001b[43m    \u001b[49m\u001b[43m)\u001b[49m\n\u001b[1;32m    691\u001b[0m     commit_hash \u001b[38;5;241m=\u001b[39m extract_commit_hash(resolved_config_file, commit_hash)\n\u001b[1;32m    692\u001b[0m \u001b[38;5;28;01mexcept\u001b[39;00m \u001b[38;5;167;01mEnvironmentError\u001b[39;00m:\n\u001b[1;32m    693\u001b[0m     \u001b[38;5;66;03m# Raise any environment error raise by `cached_file`. It will have a helpful error message adapted to\u001b[39;00m\n\u001b[1;32m    694\u001b[0m     \u001b[38;5;66;03m# the original exception.\u001b[39;00m\n",
            "File \u001b[0;32m~/.local/lib/python3.10/site-packages/transformers/utils/hub.py:470\u001b[0m, in \u001b[0;36mcached_file\u001b[0;34m(path_or_repo_id, filename, cache_dir, force_download, resume_download, proxies, token, revision, local_files_only, subfolder, repo_type, user_agent, _raise_exceptions_for_missing_entries, _raise_exceptions_for_connection_errors, _commit_hash, **deprecated_kwargs)\u001b[0m\n\u001b[1;32m    468\u001b[0m     \u001b[38;5;28;01mif\u001b[39;00m \u001b[38;5;129;01mnot\u001b[39;00m _raise_exceptions_for_missing_entries \u001b[38;5;129;01mor\u001b[39;00m \u001b[38;5;129;01mnot\u001b[39;00m _raise_exceptions_for_connection_errors:\n\u001b[1;32m    469\u001b[0m         \u001b[38;5;28;01mreturn\u001b[39;00m \u001b[38;5;28;01mNone\u001b[39;00m\n\u001b[0;32m--> 470\u001b[0m     \u001b[38;5;28;01mraise\u001b[39;00m \u001b[38;5;167;01mEnvironmentError\u001b[39;00m(\n\u001b[1;32m    471\u001b[0m         \u001b[38;5;124mf\u001b[39m\u001b[38;5;124m\"\u001b[39m\u001b[38;5;124mWe couldn\u001b[39m\u001b[38;5;124m'\u001b[39m\u001b[38;5;124mt connect to \u001b[39m\u001b[38;5;124m'\u001b[39m\u001b[38;5;132;01m{\u001b[39;00mHUGGINGFACE_CO_RESOLVE_ENDPOINT\u001b[38;5;132;01m}\u001b[39;00m\u001b[38;5;124m'\u001b[39m\u001b[38;5;124m to load this file, couldn\u001b[39m\u001b[38;5;124m'\u001b[39m\u001b[38;5;124mt find it in the\u001b[39m\u001b[38;5;124m\"\u001b[39m\n\u001b[1;32m    472\u001b[0m         \u001b[38;5;124mf\u001b[39m\u001b[38;5;124m\"\u001b[39m\u001b[38;5;124m cached files and it looks like \u001b[39m\u001b[38;5;132;01m{\u001b[39;00mpath_or_repo_id\u001b[38;5;132;01m}\u001b[39;00m\u001b[38;5;124m is not the path to a directory containing a file named\u001b[39m\u001b[38;5;124m\"\u001b[39m\n\u001b[1;32m    473\u001b[0m         \u001b[38;5;124mf\u001b[39m\u001b[38;5;124m\"\u001b[39m\u001b[38;5;124m \u001b[39m\u001b[38;5;132;01m{\u001b[39;00mfull_filename\u001b[38;5;132;01m}\u001b[39;00m\u001b[38;5;124m.\u001b[39m\u001b[38;5;130;01m\\n\u001b[39;00m\u001b[38;5;124mCheckout your internet connection or see how to run the library in offline mode at\u001b[39m\u001b[38;5;124m\"\u001b[39m\n\u001b[1;32m    474\u001b[0m         \u001b[38;5;124m\"\u001b[39m\u001b[38;5;124m \u001b[39m\u001b[38;5;124m'\u001b[39m\u001b[38;5;124mhttps://huggingface.co/docs/transformers/installation#offline-mode\u001b[39m\u001b[38;5;124m'\u001b[39m\u001b[38;5;124m.\u001b[39m\u001b[38;5;124m\"\u001b[39m\n\u001b[1;32m    475\u001b[0m     ) \u001b[38;5;28;01mfrom\u001b[39;00m \u001b[38;5;21;01me\u001b[39;00m\n\u001b[1;32m    476\u001b[0m \u001b[38;5;28;01mexcept\u001b[39;00m EntryNotFoundError \u001b[38;5;28;01mas\u001b[39;00m e:\n\u001b[1;32m    477\u001b[0m     \u001b[38;5;28;01mif\u001b[39;00m \u001b[38;5;129;01mnot\u001b[39;00m _raise_exceptions_for_missing_entries:\n",
            "\u001b[0;31mOSError\u001b[0m: We couldn't connect to 'https://huggingface.co' to load this file, couldn't find it in the cached files and it looks like EleutherAI/gpt-neo-1.3B is not the path to a directory containing a file named config.json.\nCheckout your internet connection or see how to run the library in offline mode at 'https://huggingface.co/docs/transformers/installation#offline-mode'."
          ]
        }
      ]
    },
    {
      "cell_type": "code",
      "source": [
        "print(device)"
      ],
      "metadata": {
        "colab": {
          "base_uri": "https://localhost:8080/"
        },
        "id": "WJHqtktDaNOp",
        "outputId": "c6cbbdd3-bc41-443a-e3e7-cc03825ae800"
      },
      "id": "WJHqtktDaNOp",
      "execution_count": null,
      "outputs": [
        {
          "output_type": "stream",
          "name": "stdout",
          "text": [
            "cuda:0\n"
          ]
        }
      ]
    },
    {
      "cell_type": "code",
      "source": [
        "from tensorflow.python.client import device_lib\n",
        "\n",
        "device_lib.list_local_devices()"
      ],
      "metadata": {
        "colab": {
          "base_uri": "https://localhost:8080/"
        },
        "id": "-F2LeFkZaWpy",
        "outputId": "8c8bce6f-4550-4f39-89b1-eb62a6619712"
      },
      "id": "-F2LeFkZaWpy",
      "execution_count": null,
      "outputs": [
        {
          "output_type": "stream",
          "name": "stderr",
          "text": [
            "2024-01-24 13:19:45.539820: I tensorflow/core/common_runtime/gpu/gpu_device.cc:1616] Created device /device:GPU:0 with 62403 MB memory:  -> device: 0, name: NVIDIA PG506-243, pci bus id: 0000:1d:00.0, compute capability: 8.0\n",
            "2024-01-24 13:19:45.543084: I tensorflow/core/common_runtime/gpu/gpu_device.cc:1616] Created device /device:GPU:1 with 62403 MB memory:  -> device: 1, name: NVIDIA PG506-243, pci bus id: 0000:56:00.0, compute capability: 8.0\n"
          ]
        },
        {
          "output_type": "execute_result",
          "data": {
            "text/plain": [
              "[name: \"/device:CPU:0\"\n",
              " device_type: \"CPU\"\n",
              " memory_limit: 268435456\n",
              " locality {\n",
              " }\n",
              " incarnation: 349889915592370980\n",
              " xla_global_id: -1,\n",
              " name: \"/device:GPU:0\"\n",
              " device_type: \"GPU\"\n",
              " memory_limit: 65434943488\n",
              " locality {\n",
              "   bus_id: 1\n",
              "   links {\n",
              "     link {\n",
              "       device_id: 1\n",
              "       type: \"StreamExecutor\"\n",
              "       strength: 1\n",
              "     }\n",
              "   }\n",
              " }\n",
              " incarnation: 7312045900287581865\n",
              " physical_device_desc: \"device: 0, name: NVIDIA PG506-243, pci bus id: 0000:1d:00.0, compute capability: 8.0\"\n",
              " xla_global_id: 416903419,\n",
              " name: \"/device:GPU:1\"\n",
              " device_type: \"GPU\"\n",
              " memory_limit: 65434943488\n",
              " locality {\n",
              "   bus_id: 1\n",
              "   links {\n",
              "     link {\n",
              "       type: \"StreamExecutor\"\n",
              "       strength: 1\n",
              "     }\n",
              "   }\n",
              " }\n",
              " incarnation: 14553817067647267052\n",
              " physical_device_desc: \"device: 1, name: NVIDIA PG506-243, pci bus id: 0000:56:00.0, compute capability: 8.0\"\n",
              " xla_global_id: 2144165316]"
            ]
          },
          "metadata": {},
          "execution_count": 6
        }
      ]
    },
    {
      "cell_type": "code",
      "source": [
        "qa_model = pipeline(\"question-answering\", \"EleutherAI/gpt-neox-20b\", device_map=\"auto\")"
      ],
      "metadata": {
        "colab": {
          "base_uri": "https://localhost:8080/"
        },
        "id": "Pgxj4So6ZJ1U",
        "outputId": "d00c7898-d26b-4cb1-f58a-9182c1e0c6e2"
      },
      "id": "Pgxj4So6ZJ1U",
      "execution_count": null,
      "outputs": [
        {
          "output_type": "stream",
          "name": "stderr",
          "text": [
            "Loading checkpoint shards: 100%|████████████████| 46/46 [02:58<00:00,  3.87s/it]\n",
            "Some weights of GPTNeoXForQuestionAnswering were not initialized from the model checkpoint at EleutherAI/gpt-neox-20b and are newly initialized: ['qa_outputs.weight', 'qa_outputs.bias']\n",
            "You should probably TRAIN this model on a down-stream task to be able to use it for predictions and inference.\n"
          ]
        }
      ]
    },
    {
      "cell_type": "code",
      "source": [
        "from transformers import GPTNeoXForCausalLM, GPTNeoXTokenizerFast\n",
        "\n",
        "model = GPTNeoXForCausalLM.from_pretrained(\"EleutherAI/gpt-neox-20b\", device_map=\"auto\")\n",
        "tokenizer = GPTNeoXTokenizerFast.from_pretrained(\"EleutherAI/gpt-neox-20b\", device_map=\"auto\")"
      ],
      "metadata": {
        "colab": {
          "base_uri": "https://localhost:8080/"
        },
        "id": "xs-DklGShDcC",
        "outputId": "b9050fe6-b3b5-4284-84c4-5e0569a3cbe4"
      },
      "id": "xs-DklGShDcC",
      "execution_count": null,
      "outputs": [
        {
          "output_type": "stream",
          "name": "stderr",
          "text": [
            "Loading checkpoint shards: 100%|████████████████| 46/46 [03:01<00:00,  3.94s/it]\n"
          ]
        }
      ]
    },
    {
      "cell_type": "code",
      "source": [
        "def getFewshot_demo(examples,number):\n",
        "    label_to_answer = ['A','B','C','D']\n",
        "    few_shot_demon = examples[:number//2]+examples[4:4+number//2]\n",
        "    fewshot = ''\n",
        "    for sample in few_shot_demon:\n",
        "        fewshot += \"\"\"\n",
        "\n",
        "Question: {}\n",
        "Choice:\n",
        "(A) {}\n",
        "(B) {}\n",
        "(C) {}\n",
        "(D) {}\n",
        "\n",
        "Answer:({}) {}\"\"\".format(sample['question'],sample['choice_list'][0],sample['choice_list'][1]\\\n",
        "                    ,sample['choice_list'][2],sample['choice_list'][3]\\\n",
        "                         ,label_to_answer[int(sample['label'])],sample['choice_list'][int(sample['label'])])\n",
        "\n",
        "    return fewshot"
      ],
      "metadata": {
        "id": "Fg3XOQP6mUza"
      },
      "id": "Fg3XOQP6mUza",
      "execution_count": null,
      "outputs": []
    },
    {
      "cell_type": "code",
      "source": [
        "def getSample_demo(sample):\n",
        "    sample_demo = \"\"\"\n",
        "\n",
        "Question: {}\n",
        "Choice:\n",
        "(A) {}\n",
        "(B) {}\n",
        "(C) {}\n",
        "(D) {}\n",
        "\n",
        "Answer:\"\"\".format(sample['question'],sample['choice_list'][0],sample['choice_list'][1],sample['choice_list'][2],sample['choice_list'][3])\n",
        "\n",
        "    return sample_demo"
      ],
      "metadata": {
        "id": "1fevIVrpm1A7"
      },
      "id": "1fevIVrpm1A7",
      "execution_count": null,
      "outputs": []
    },
    {
      "cell_type": "code",
      "source": [
        "demonstration = \"\"\"Please pick the best choice for the brain teaser. Each brain teaser has only one possible solution including the choice none of above, answer should only provide the choice:\"\"\"\n",
        "demon_num = 10\n",
        "demonstration = demonstration + getFewshot_demo(train_sentence_data_list,demon_num)"
      ],
      "metadata": {
        "id": "Alff231QmWjb"
      },
      "id": "Alff231QmWjb",
      "execution_count": null,
      "outputs": []
    },
    {
      "cell_type": "code",
      "source": [
        "i=0\n",
        "for sample in tqdm(test_sentence_data_list):\n",
        "  i+=1\n",
        "\n",
        "  print(\"\\n\\n - - - - SAMPLE \",i,\" - - - -\" )\n",
        "\n",
        "  question =  \"  \\n\\n Please pick the best choice for the brain teaser question below. Each brain teaser has only one possible solution including the choice none of above, answer should only provide one choice.\"\"\"\n",
        "\n",
        "\n",
        "  context =  \"\"\"\n",
        "\n",
        "  Question: {}\n",
        "\n",
        "  Choice:\n",
        "  (A) {}\n",
        "  (B) {}\n",
        "  (C) {}\n",
        "  (D) {}\n",
        "\n",
        "  \"\"\".format(sample['question'],sample['choice_list'][0],sample['choice_list'][1],sample['choice_list'][2],sample['choice_list'][3])\n",
        "\n",
        "  prompt = getSample_demo(sample)\n",
        "\n",
        "  input_ids = tokenizer(prompt, return_tensors=\"pt\").input_ids\n",
        "\n",
        "  gen_tokens = model.generate(\n",
        "    input_ids,\n",
        "    temperature = 0.1,\n",
        "    top_p = 0.0,\n",
        "    max_length=1400\n",
        "  )\n",
        "  gen_text = tokenizer.batch_decode(gen_tokens)[0]\n",
        "\n",
        "  print(\"Answer is: \",gen_text, \"\\n\\n\")\n",
        "\n",
        "  #for i in range(0,4):\n",
        "    #if response['answer'].strip() in sample['choice_list'][i]:\n",
        "      #sample['response']=i\n",
        "      #print(\"The answer is:\",i)\n",
        "\n"
      ],
      "metadata": {
        "colab": {
          "base_uri": "https://localhost:8080/"
        },
        "id": "JnNxzA5GgMrk",
        "outputId": "9a3c4913-81ce-4efd-af25-3d05d8adad20"
      },
      "id": "JnNxzA5GgMrk",
      "execution_count": null,
      "outputs": [
        {
          "output_type": "stream",
          "name": "stderr",
          "text": [
            "\r  0%|                                                   | 0/120 [00:00<?, ?it/s]The attention mask and the pad token id were not set. As a consequence, you may observe unexpected behavior. Please pass your input's `attention_mask` to obtain reliable results.\n",
            "Setting `pad_token_id` to `eos_token_id`:0 for open-end generation.\n"
          ]
        },
        {
          "output_type": "stream",
          "name": "stdout",
          "text": [
            "\n",
            "\n",
            " - - - - SAMPLE  1  - - - -\n"
          ]
        }
      ]
    },
    {
      "cell_type": "code",
      "source": [
        "for sample in tqdm(test_sentence_data_list):\n",
        "\n",
        "  question =  \"  \\n Please pick the best option for the brain teaser. Each brain teaser has only one possible solution including the choice none of above, answer should only provide the choice:\"\"\"\n",
        "  question += sample['question']\n",
        "\n",
        "  context =  \"\"\"\n",
        "\n",
        "  Options:\n",
        "\n",
        "  (A): {}\n",
        "\n",
        "  (B): {}\n",
        "\n",
        "  (C): {}\n",
        "\n",
        "  (D): {}\n",
        "\n",
        "  \"\"\".format(sample['choice_list'][0],sample['choice_list'][1],sample['choice_list'][2],sample['choice_list'][3])\n",
        "\n",
        "  print(\"\\n\")\n",
        "\n",
        "  input_q = question+context\n",
        "  response=qa_model(question = question, context = context)\n",
        "\n",
        "  print(\"\\nQuestion:\",question)\n",
        "  print(context)\n",
        "\n",
        "  print(\"l'oggetto response è:\",response['answer'])\n",
        "\n",
        "  for i in range(0,4):\n",
        "    if response['answer'].strip() in sample['choice_list'][i]:\n",
        "      sample['response']=i\n",
        "      print(\"The answer is:\",i)\n",
        "\n",
        "  #print(\"The answer is:\",sample['response'])"
      ],
      "metadata": {
        "colab": {
          "base_uri": "https://localhost:8080/",
          "height": 1000
        },
        "id": "mDFnr6mQpRht",
        "outputId": "6497a318-5809-4073-fcf7-db2311a966b6"
      },
      "id": "mDFnr6mQpRht",
      "execution_count": null,
      "outputs": [
        {
          "output_type": "stream",
          "name": "stderr",
          "text": [
            "\r  0%|                                                   | 0/120 [00:00<?, ?it/s]"
          ]
        },
        {
          "output_type": "stream",
          "name": "stdout",
          "text": [
            "\n",
            "\n"
          ]
        },
        {
          "output_type": "stream",
          "name": "stderr",
          "text": [
            "\r  1%|▎                                          | 1/120 [00:00<00:48,  2.47it/s]"
          ]
        },
        {
          "output_type": "stream",
          "name": "stdout",
          "text": [
            "\n",
            "Question:   \n",
            " Please pick the best option for the brain teaser. Each brain teaser has only one possible solution including the choice none of above, answer should only provide the choice:In a small village, two farmers are working in their fields - a diligent farmer and a lazy farmer. The hardworking farmer is the son of the lazy farmer, but the lazy farmer is not the father of the hardworking farmer. Can you explain this unusual relationship?\n",
            " \n",
            "  \n",
            "  Options:\n",
            "\n",
            "  (A): The lazy farmer is his mother.\n",
            "\n",
            "  (B): The lazy farmer is not a responsible father as he is lazy.\n",
            "\n",
            "  (C): The diligent farmer devoted himself to the farm and gradually forgot his father.\n",
            "\n",
            "  (D): None of above.\n",
            "\n",
            "  \n",
            "l'oggetto response è: (A): The lazy farmer is his mother.\n",
            "\n",
            "  (B\n",
            "\n",
            "\n"
          ]
        },
        {
          "output_type": "stream",
          "name": "stderr",
          "text": [
            "\r  2%|▋                                          | 2/120 [00:00<00:56,  2.08it/s]"
          ]
        },
        {
          "output_type": "stream",
          "name": "stdout",
          "text": [
            "\n",
            "Question:   \n",
            " Please pick the best option for the brain teaser. Each brain teaser has only one possible solution including the choice none of above, answer should only provide the choice:Romeo and Juliet are discovered dead on the bedroom floor. Glass shards and some water were on the floor when they were found. A bookcase and a bed are the sole pieces of furniture in the space. Other than the neighboring railroad track, the house is located in a rural area. How is that even doable?\n",
            " \n",
            "  \n",
            "  Options:\n",
            "\n",
            "  (A): They were sleeping and scared by the sound of track.\n",
            "\n",
            "  (B): The rumble of the train moved the shelf which \n",
            "crushed them.\n",
            "\n",
            "  (C): Romeo and Juliet are fish. The rumble of the train knocked the tank off the shelf, it broke and Romeo and Juliet did not survive.\n",
            "\n",
            "  (D): None of above.\n",
            "\n",
            "  \n",
            "l'oggetto response è: (A): They\n",
            "\n",
            "\n"
          ]
        },
        {
          "output_type": "stream",
          "name": "stderr",
          "text": [
            "\r  2%|█                                          | 3/120 [00:01<00:48,  2.40it/s]"
          ]
        },
        {
          "output_type": "stream",
          "name": "stdout",
          "text": [
            "\n",
            "Question:   \n",
            " Please pick the best option for the brain teaser. Each brain teaser has only one possible solution including the choice none of above, answer should only provide the choice:How many years in your life it happens that before your birthday you'd be one year younger than tomorrow\n",
            " \n",
            "  \n",
            "  Options:\n",
            "\n",
            "  (A): In ech leap year.\n",
            "\n",
            "  (B): In the first year of graduation.\n",
            "\n",
            "  (C): It happens every year.\n",
            "\n",
            "  (D): None of above.\n",
            "\n",
            "  \n",
            "l'oggetto response è: ech leap year.\n",
            "\n",
            "  (B): In the\n",
            "\n",
            "\n"
          ]
        },
        {
          "output_type": "stream",
          "name": "stderr",
          "text": [
            "\r  3%|█▍                                         | 4/120 [00:01<00:44,  2.59it/s]"
          ]
        },
        {
          "output_type": "stream",
          "name": "stdout",
          "text": [
            "\n",
            "Question:   \n",
            " Please pick the best option for the brain teaser. Each brain teaser has only one possible solution including the choice none of above, answer should only provide the choice:Who would serve as the team's captain if a crucial assistant captain departed from a sporting organization?\n",
            " \n",
            "  \n",
            "  Options:\n",
            "\n",
            "  (A): The first officer.\n",
            "\n",
            "  (B): The captain.\n",
            "\n",
            "  (C): The second officer.\n",
            "\n",
            "  (D): None of above.\n",
            "\n",
            "  \n",
            "l'oggetto response è: (A): The first officer.\n",
            "\n",
            "  (B\n",
            "\n",
            "\n"
          ]
        },
        {
          "output_type": "stream",
          "name": "stderr",
          "text": [
            "\r  4%|█▊                                         | 5/120 [00:01<00:42,  2.69it/s]"
          ]
        },
        {
          "output_type": "stream",
          "name": "stdout",
          "text": [
            "\n",
            "Question:   \n",
            " Please pick the best option for the brain teaser. Each brain teaser has only one possible solution including the choice none of above, answer should only provide the choice:In one city, 5% of the population has an unlisted phone number. How many persons will have unlisted phone numbers if you pick 100 names at random from that city's phone directory?\n",
            " \n",
            "  \n",
            "  Options:\n",
            "\n",
            "  (A): One hundred people.\n",
            "\n",
            "  (B): Ninty-five people.\n",
            "\n",
            "  (C): Five people.\n",
            "\n",
            "  (D): None of above.\n",
            "\n",
            "  \n",
            "l'oggetto response è: (A): One hundred\n",
            "\n",
            "\n"
          ]
        },
        {
          "output_type": "stream",
          "name": "stderr",
          "text": [
            "\r  5%|██▏                                        | 6/120 [00:02<00:46,  2.46it/s]"
          ]
        },
        {
          "output_type": "stream",
          "name": "stdout",
          "text": [
            "\n",
            "Question:   \n",
            " Please pick the best option for the brain teaser. Each brain teaser has only one possible solution including the choice none of above, answer should only provide the choice:Two entries were on duty outside a barracks. One faced up the road to watch for anyone approaching from the North. The other looked down the road to see if anyone approached from the South. Suddenly one of them said to the other, \"Why are you smiling?\" How did he know that his companion was smiling?\n",
            " \n",
            "  \n",
            "  Options:\n",
            "\n",
            "  (A): Although the guards were looking in opposite directions, they were not back to back. They were facing each other.\n",
            "\n",
            "  (B): One of the guards had an unusual vision so he can see what happend behind him.\n",
            "\n",
            "  (C): The smiling guard's action is such big that even the guard behind him can see it.\n",
            "\n",
            "  (D): None of above.\n",
            "\n",
            "  \n",
            "l'oggetto response è: were facing each other.\n",
            "\n",
            "  (B\n",
            "\n",
            "\n"
          ]
        },
        {
          "output_type": "stream",
          "name": "stderr",
          "text": [
            "\r  6%|██▌                                        | 7/120 [00:02<00:44,  2.51it/s]"
          ]
        },
        {
          "output_type": "stream",
          "name": "stdout",
          "text": [
            "\n",
            "Question:   \n",
            " Please pick the best option for the brain teaser. Each brain teaser has only one possible solution including the choice none of above, answer should only provide the choice:A man wagered $50 on his dog's ability to jump higher than a house. The neighbor took the wager, thinking it was impossible, and lost.\n",
            "Why did he fail to win the bet?\n",
            " \n",
            "  \n",
            "  Options:\n",
            "\n",
            "  (A): A house can not jump.\n",
            "\n",
            "  (B): That dog species were famous for their jumping ability.\n",
            "\n",
            "  (C): The height of the tiny house is lower than the dog.\n",
            "\n",
            "  (D): None of above.\n",
            "\n",
            "  \n",
            "l'oggetto response è: \n",
            "  Options:\n",
            "\n",
            "  (A): A house\n",
            "\n",
            "\n"
          ]
        },
        {
          "output_type": "stream",
          "name": "stderr",
          "text": [
            "\r  7%|██▊                                        | 8/120 [00:03<00:40,  2.79it/s]"
          ]
        },
        {
          "output_type": "stream",
          "name": "stdout",
          "text": [
            "\n",
            "Question:   \n",
            " Please pick the best option for the brain teaser. Each brain teaser has only one possible solution including the choice none of above, answer should only provide the choice:How many times can you divide 100 by 10?\n",
            " \n",
            "  \n",
            "  Options:\n",
            "\n",
            "  (A): Infinite time.\n",
            "\n",
            "  (B): Once.\n",
            "\n",
            "  (C): Two times.\n",
            "\n",
            "  (D): None of above.\n",
            "\n",
            "  \n",
            "l'oggetto response è: Options:\n",
            "\n",
            "  (A): Infinite time.\n",
            "\n",
            "  (B\n",
            "\n",
            "\n"
          ]
        },
        {
          "output_type": "stream",
          "name": "stderr",
          "text": [
            "\r  8%|███▏                                       | 9/120 [00:03<00:43,  2.54it/s]"
          ]
        },
        {
          "output_type": "stream",
          "name": "stdout",
          "text": [
            "\n",
            "Question:   \n",
            " Please pick the best option for the brain teaser. Each brain teaser has only one possible solution including the choice none of above, answer should only provide the choice:In a city, there are so many criminals that police cannot catch all of them and fit them in their prisons. This number is approximately 10% of the population of the city but no names are available. To start catching the rest of the criminals poilce starts checking the list of criminals they have in the prisons namebook with 200 names, and go out searching for the rest wandering in the city. How many can they find?\n",
            " \n",
            "  \n",
            "  Options:\n",
            "\n",
            "  (A): Twenty people.\n",
            "\n",
            "  (B): Eighty people.\n",
            "\n",
            "  (C): Two hundred people.\n",
            "\n",
            "  (D): None of above.\n",
            "\n",
            "  \n",
            "l'oggetto response è: (A): Twenty people.\n",
            "\n",
            "  (B\n",
            "\n",
            "\n"
          ]
        },
        {
          "output_type": "stream",
          "name": "stderr",
          "text": [
            "\r  8%|███▌                                      | 10/120 [00:03<00:41,  2.65it/s]"
          ]
        },
        {
          "output_type": "stream",
          "name": "stdout",
          "text": [
            "\n",
            "Question:   \n",
            " Please pick the best option for the brain teaser. Each brain teaser has only one possible solution including the choice none of above, answer should only provide the choice:When did Christmas and New Year's Day fall on the same year?\n",
            " \n",
            "  \n",
            "  Options:\n",
            "\n",
            "  (A): In the period of BC.\n",
            "\n",
            "  (B): It happens every year.\n",
            "\n",
            "  (C): In the first year of each century.\n",
            "\n",
            "  (D): None of above.\n",
            "\n",
            "  \n",
            "l'oggetto response è: (A): In the period of BC\n",
            "\n",
            "\n"
          ]
        },
        {
          "output_type": "stream",
          "name": "stderr",
          "text": [
            "\r  9%|███▊                                      | 11/120 [00:04<00:41,  2.65it/s]"
          ]
        },
        {
          "output_type": "stream",
          "name": "stdout",
          "text": [
            "\n",
            "Question:   \n",
            " Please pick the best option for the brain teaser. Each brain teaser has only one possible solution including the choice none of above, answer should only provide the choice:A conscientious farmer formerly provided food for his roosters each day, but throughout the years, not a single egg was produced for him. How is it even imaginable?\n",
            " \n",
            "  \n",
            "  Options:\n",
            "\n",
            "  (A): His neighbor always stolen eggs away from him.\n",
            "\n",
            "  (B): Because roosters don't lay eggs.\n",
            "\n",
            "  (C): Roosters will eat their own eggs once they were laid.\n",
            "\n",
            "  (D): None of above.\n",
            "\n",
            "  \n",
            "l'oggetto response è: (D\n",
            "\n",
            "\n"
          ]
        },
        {
          "output_type": "stream",
          "name": "stderr",
          "text": [
            "\r 10%|████▏                                     | 12/120 [00:04<00:45,  2.35it/s]"
          ]
        },
        {
          "output_type": "stream",
          "name": "stdout",
          "text": [
            "\n",
            "Question:   \n",
            " Please pick the best option for the brain teaser. Each brain teaser has only one possible solution including the choice none of above, answer should only provide the choice:Mark was in a playground where somebody noticed a great player playing and with the announcements, gathered a lot of people. There were many great players from basketball, volleyball, football, and even swimmers, But Mark directly went to the footballer and took a photo with him. How did he know who was the person that people got excited for in the first place?\n",
            " \n",
            "  \n",
            "  Options:\n",
            "\n",
            "  (A): Since the playground was a football playground and the other players could've not been playing in the playground at the time of the announcement\n",
            "\n",
            "  (B): Since Mark was a crazy fan of football, only a football player can be considered as great player in his mind.\n",
            "\n",
            "  (C): Since Mark stood closest to the football players, he only focused on football players and didn't notice others.\n",
            "\n",
            "  (D): None of above.\n",
            "\n",
            "  \n",
            "l'oggetto response è: notice others.\n",
            "\n",
            "\n",
            "The answer is: 2\n",
            "\n",
            "\n"
          ]
        },
        {
          "output_type": "stream",
          "name": "stderr",
          "text": [
            "\r 11%|████▌                                     | 13/120 [00:05<00:44,  2.43it/s]"
          ]
        },
        {
          "output_type": "stream",
          "name": "stdout",
          "text": [
            "\n",
            "Question:   \n",
            " Please pick the best option for the brain teaser. Each brain teaser has only one possible solution including the choice none of above, answer should only provide the choice:There were five men at church, and it started raining while they were outside. The four that ran still got wet, but the one that was still stayed completely dry. Why did he stay dry?\n",
            " \n",
            "  \n",
            "  Options:\n",
            "\n",
            "  (A): The man is an athlete that can avoid rain in high speed.\n",
            "\n",
            "  (B): \n",
            "The man was lucky enough to avoid all the rain.\n",
            "\n",
            "  (C): He was in a coffin the other men were at his funeral.\n",
            "\n",
            "\n",
            "  (D): None of above.\n",
            "\n",
            "  \n",
            "l'oggetto response è: Options:\n",
            "\n",
            "  (A): The man is an athlete that\n",
            "\n",
            "\n"
          ]
        },
        {
          "output_type": "stream",
          "name": "stderr",
          "text": [
            "\r 12%|████▉                                     | 14/120 [00:05<00:41,  2.55it/s]"
          ]
        },
        {
          "output_type": "stream",
          "name": "stdout",
          "text": [
            "\n",
            "Question:   \n",
            " Please pick the best option for the brain teaser. Each brain teaser has only one possible solution including the choice none of above, answer should only provide the choice:On a Sunday afternoon, a woman spotted a bear in the distance. Rather than be afraid, she ran toward it excited. Why wasn't she afraid?\n",
            " \n",
            "  \n",
            "  Options:\n",
            "\n",
            "  (A): She was at the zoo.\n",
            "\n",
            "\n",
            "  (B): She become brave in sudden.\n",
            "\n",
            "  (C): She tried to scare the bear.\n",
            "\n",
            "  (D): None of above.\n",
            "\n",
            "  \n",
            "l'oggetto response è: (A): She was at the zoo.\n",
            "\n",
            "\n",
            "  (B\n",
            "\n",
            "\n"
          ]
        },
        {
          "output_type": "stream",
          "name": "stderr",
          "text": [
            "\r 12%|████▉                                     | 14/120 [00:05<00:43,  2.41it/s]\n"
          ]
        },
        {
          "output_type": "error",
          "ename": "KeyboardInterrupt",
          "evalue": "",
          "traceback": [
            "\u001b[0;31m---------------------------------------------------------------------------\u001b[0m",
            "\u001b[0;31mKeyboardInterrupt\u001b[0m                         Traceback (most recent call last)",
            "Cell \u001b[0;32mIn [9], line 23\u001b[0m\n\u001b[1;32m     20\u001b[0m \u001b[38;5;28mprint\u001b[39m(\u001b[38;5;124m\"\u001b[39m\u001b[38;5;130;01m\\n\u001b[39;00m\u001b[38;5;124m\"\u001b[39m)\n\u001b[1;32m     22\u001b[0m input_q \u001b[38;5;241m=\u001b[39m question\u001b[38;5;241m+\u001b[39mcontext\n\u001b[0;32m---> 23\u001b[0m response\u001b[38;5;241m=\u001b[39mqa_model(question \u001b[38;5;241m=\u001b[39m question, context \u001b[38;5;241m=\u001b[39m context)\n\u001b[1;32m     25\u001b[0m \u001b[38;5;28mprint\u001b[39m(\u001b[38;5;124m\"\u001b[39m\u001b[38;5;130;01m\\n\u001b[39;00m\u001b[38;5;124mQuestion:\u001b[39m\u001b[38;5;124m\"\u001b[39m,question)\n\u001b[1;32m     26\u001b[0m \u001b[38;5;28mprint\u001b[39m(context)\n",
            "File \u001b[0;32m~/.local/lib/python3.10/site-packages/transformers/pipelines/question_answering.py:393\u001b[0m, in \u001b[0;36mQuestionAnsweringPipeline.__call__\u001b[0;34m(self, *args, **kwargs)\u001b[0m\n\u001b[1;32m    391\u001b[0m examples \u001b[38;5;241m=\u001b[39m \u001b[38;5;28mself\u001b[39m\u001b[38;5;241m.\u001b[39m_args_parser(\u001b[38;5;241m*\u001b[39margs, \u001b[38;5;241m*\u001b[39m\u001b[38;5;241m*\u001b[39mkwargs)\n\u001b[1;32m    392\u001b[0m \u001b[38;5;28;01mif\u001b[39;00m \u001b[38;5;28misinstance\u001b[39m(examples, (\u001b[38;5;28mlist\u001b[39m, \u001b[38;5;28mtuple\u001b[39m)) \u001b[38;5;129;01mand\u001b[39;00m \u001b[38;5;28mlen\u001b[39m(examples) \u001b[38;5;241m==\u001b[39m \u001b[38;5;241m1\u001b[39m:\n\u001b[0;32m--> 393\u001b[0m     \u001b[38;5;28;01mreturn\u001b[39;00m \u001b[38;5;28;43msuper\u001b[39;49m\u001b[43m(\u001b[49m\u001b[43m)\u001b[49m\u001b[38;5;241;43m.\u001b[39;49m\u001b[38;5;21;43m__call__\u001b[39;49m\u001b[43m(\u001b[49m\u001b[43mexamples\u001b[49m\u001b[43m[\u001b[49m\u001b[38;5;241;43m0\u001b[39;49m\u001b[43m]\u001b[49m\u001b[43m,\u001b[49m\u001b[43m \u001b[49m\u001b[38;5;241;43m*\u001b[39;49m\u001b[38;5;241;43m*\u001b[39;49m\u001b[43mkwargs\u001b[49m\u001b[43m)\u001b[49m\n\u001b[1;32m    394\u001b[0m \u001b[38;5;28;01mreturn\u001b[39;00m \u001b[38;5;28msuper\u001b[39m()\u001b[38;5;241m.\u001b[39m\u001b[38;5;21m__call__\u001b[39m(examples, \u001b[38;5;241m*\u001b[39m\u001b[38;5;241m*\u001b[39mkwargs)\n",
            "File \u001b[0;32m~/.local/lib/python3.10/site-packages/transformers/pipelines/base.py:1132\u001b[0m, in \u001b[0;36mPipeline.__call__\u001b[0;34m(self, inputs, num_workers, batch_size, *args, **kwargs)\u001b[0m\n\u001b[1;32m   1130\u001b[0m     \u001b[38;5;28;01mreturn\u001b[39;00m \u001b[38;5;28mself\u001b[39m\u001b[38;5;241m.\u001b[39miterate(inputs, preprocess_params, forward_params, postprocess_params)\n\u001b[1;32m   1131\u001b[0m \u001b[38;5;28;01melif\u001b[39;00m \u001b[38;5;28mself\u001b[39m\u001b[38;5;241m.\u001b[39mframework \u001b[38;5;241m==\u001b[39m \u001b[38;5;124m\"\u001b[39m\u001b[38;5;124mpt\u001b[39m\u001b[38;5;124m\"\u001b[39m \u001b[38;5;129;01mand\u001b[39;00m \u001b[38;5;28misinstance\u001b[39m(\u001b[38;5;28mself\u001b[39m, ChunkPipeline):\n\u001b[0;32m-> 1132\u001b[0m     \u001b[38;5;28;01mreturn\u001b[39;00m \u001b[38;5;28;43mnext\u001b[39;49m\u001b[43m(\u001b[49m\n\u001b[1;32m   1133\u001b[0m \u001b[43m        \u001b[49m\u001b[38;5;28;43miter\u001b[39;49m\u001b[43m(\u001b[49m\n\u001b[1;32m   1134\u001b[0m \u001b[43m            \u001b[49m\u001b[38;5;28;43mself\u001b[39;49m\u001b[38;5;241;43m.\u001b[39;49m\u001b[43mget_iterator\u001b[49m\u001b[43m(\u001b[49m\n\u001b[1;32m   1135\u001b[0m \u001b[43m                \u001b[49m\u001b[43m[\u001b[49m\u001b[43minputs\u001b[49m\u001b[43m]\u001b[49m\u001b[43m,\u001b[49m\u001b[43m \u001b[49m\u001b[43mnum_workers\u001b[49m\u001b[43m,\u001b[49m\u001b[43m \u001b[49m\u001b[43mbatch_size\u001b[49m\u001b[43m,\u001b[49m\u001b[43m \u001b[49m\u001b[43mpreprocess_params\u001b[49m\u001b[43m,\u001b[49m\u001b[43m \u001b[49m\u001b[43mforward_params\u001b[49m\u001b[43m,\u001b[49m\u001b[43m \u001b[49m\u001b[43mpostprocess_params\u001b[49m\n\u001b[1;32m   1136\u001b[0m \u001b[43m            \u001b[49m\u001b[43m)\u001b[49m\n\u001b[1;32m   1137\u001b[0m \u001b[43m        \u001b[49m\u001b[43m)\u001b[49m\n\u001b[1;32m   1138\u001b[0m \u001b[43m    \u001b[49m\u001b[43m)\u001b[49m\n\u001b[1;32m   1139\u001b[0m \u001b[38;5;28;01melse\u001b[39;00m:\n\u001b[1;32m   1140\u001b[0m     \u001b[38;5;28;01mreturn\u001b[39;00m \u001b[38;5;28mself\u001b[39m\u001b[38;5;241m.\u001b[39mrun_single(inputs, preprocess_params, forward_params, postprocess_params)\n",
            "File \u001b[0;32m~/.local/lib/python3.10/site-packages/transformers/pipelines/pt_utils.py:124\u001b[0m, in \u001b[0;36mPipelineIterator.__next__\u001b[0;34m(self)\u001b[0m\n\u001b[1;32m    121\u001b[0m     \u001b[38;5;28;01mreturn\u001b[39;00m \u001b[38;5;28mself\u001b[39m\u001b[38;5;241m.\u001b[39mloader_batch_item()\n\u001b[1;32m    123\u001b[0m \u001b[38;5;66;03m# We're out of items within a batch\u001b[39;00m\n\u001b[0;32m--> 124\u001b[0m item \u001b[38;5;241m=\u001b[39m \u001b[38;5;28;43mnext\u001b[39;49m\u001b[43m(\u001b[49m\u001b[38;5;28;43mself\u001b[39;49m\u001b[38;5;241;43m.\u001b[39;49m\u001b[43miterator\u001b[49m\u001b[43m)\u001b[49m\n\u001b[1;32m    125\u001b[0m processed \u001b[38;5;241m=\u001b[39m \u001b[38;5;28mself\u001b[39m\u001b[38;5;241m.\u001b[39minfer(item, \u001b[38;5;241m*\u001b[39m\u001b[38;5;241m*\u001b[39m\u001b[38;5;28mself\u001b[39m\u001b[38;5;241m.\u001b[39mparams)\n\u001b[1;32m    126\u001b[0m \u001b[38;5;66;03m# We now have a batch of \"inferred things\".\u001b[39;00m\n",
            "File \u001b[0;32m~/.local/lib/python3.10/site-packages/transformers/pipelines/pt_utils.py:266\u001b[0m, in \u001b[0;36mPipelinePackIterator.__next__\u001b[0;34m(self)\u001b[0m\n\u001b[1;32m    263\u001b[0m             \u001b[38;5;28;01mreturn\u001b[39;00m accumulator\n\u001b[1;32m    265\u001b[0m \u001b[38;5;28;01mwhile\u001b[39;00m \u001b[38;5;129;01mnot\u001b[39;00m is_last:\n\u001b[0;32m--> 266\u001b[0m     processed \u001b[38;5;241m=\u001b[39m \u001b[38;5;28;43mself\u001b[39;49m\u001b[38;5;241;43m.\u001b[39;49m\u001b[43minfer\u001b[49m\u001b[43m(\u001b[49m\u001b[38;5;28;43mnext\u001b[39;49m\u001b[43m(\u001b[49m\u001b[38;5;28;43mself\u001b[39;49m\u001b[38;5;241;43m.\u001b[39;49m\u001b[43miterator\u001b[49m\u001b[43m)\u001b[49m\u001b[43m,\u001b[49m\u001b[43m \u001b[49m\u001b[38;5;241;43m*\u001b[39;49m\u001b[38;5;241;43m*\u001b[39;49m\u001b[38;5;28;43mself\u001b[39;49m\u001b[38;5;241;43m.\u001b[39;49m\u001b[43mparams\u001b[49m\u001b[43m)\u001b[49m\n\u001b[1;32m    267\u001b[0m     \u001b[38;5;28;01mif\u001b[39;00m \u001b[38;5;28mself\u001b[39m\u001b[38;5;241m.\u001b[39mloader_batch_size \u001b[38;5;129;01mis\u001b[39;00m \u001b[38;5;129;01mnot\u001b[39;00m \u001b[38;5;28;01mNone\u001b[39;00m:\n\u001b[1;32m    268\u001b[0m         \u001b[38;5;28;01mif\u001b[39;00m \u001b[38;5;28misinstance\u001b[39m(processed, torch\u001b[38;5;241m.\u001b[39mTensor):\n",
            "File \u001b[0;32m~/.local/lib/python3.10/site-packages/transformers/pipelines/base.py:1046\u001b[0m, in \u001b[0;36mPipeline.forward\u001b[0;34m(self, model_inputs, **forward_params)\u001b[0m\n\u001b[1;32m   1044\u001b[0m     \u001b[38;5;28;01mwith\u001b[39;00m inference_context():\n\u001b[1;32m   1045\u001b[0m         model_inputs \u001b[38;5;241m=\u001b[39m \u001b[38;5;28mself\u001b[39m\u001b[38;5;241m.\u001b[39m_ensure_tensor_on_device(model_inputs, device\u001b[38;5;241m=\u001b[39m\u001b[38;5;28mself\u001b[39m\u001b[38;5;241m.\u001b[39mdevice)\n\u001b[0;32m-> 1046\u001b[0m         model_outputs \u001b[38;5;241m=\u001b[39m \u001b[38;5;28;43mself\u001b[39;49m\u001b[38;5;241;43m.\u001b[39;49m\u001b[43m_forward\u001b[49m\u001b[43m(\u001b[49m\u001b[43mmodel_inputs\u001b[49m\u001b[43m,\u001b[49m\u001b[43m \u001b[49m\u001b[38;5;241;43m*\u001b[39;49m\u001b[38;5;241;43m*\u001b[39;49m\u001b[43mforward_params\u001b[49m\u001b[43m)\u001b[49m\n\u001b[1;32m   1047\u001b[0m         model_outputs \u001b[38;5;241m=\u001b[39m \u001b[38;5;28mself\u001b[39m\u001b[38;5;241m.\u001b[39m_ensure_tensor_on_device(model_outputs, device\u001b[38;5;241m=\u001b[39mtorch\u001b[38;5;241m.\u001b[39mdevice(\u001b[38;5;124m\"\u001b[39m\u001b[38;5;124mcpu\u001b[39m\u001b[38;5;124m\"\u001b[39m))\n\u001b[1;32m   1048\u001b[0m \u001b[38;5;28;01melse\u001b[39;00m:\n",
            "File \u001b[0;32m~/.local/lib/python3.10/site-packages/transformers/pipelines/question_answering.py:520\u001b[0m, in \u001b[0;36mQuestionAnsweringPipeline._forward\u001b[0;34m(self, inputs)\u001b[0m\n\u001b[1;32m    518\u001b[0m \u001b[38;5;28;01mif\u001b[39;00m \u001b[38;5;124m\"\u001b[39m\u001b[38;5;124muse_cache\u001b[39m\u001b[38;5;124m\"\u001b[39m \u001b[38;5;129;01min\u001b[39;00m inspect\u001b[38;5;241m.\u001b[39msignature(model_forward)\u001b[38;5;241m.\u001b[39mparameters\u001b[38;5;241m.\u001b[39mkeys():\n\u001b[1;32m    519\u001b[0m     model_inputs[\u001b[38;5;124m\"\u001b[39m\u001b[38;5;124muse_cache\u001b[39m\u001b[38;5;124m\"\u001b[39m] \u001b[38;5;241m=\u001b[39m \u001b[38;5;28;01mFalse\u001b[39;00m\n\u001b[0;32m--> 520\u001b[0m output \u001b[38;5;241m=\u001b[39m \u001b[38;5;28;43mself\u001b[39;49m\u001b[38;5;241;43m.\u001b[39;49m\u001b[43mmodel\u001b[49m\u001b[43m(\u001b[49m\u001b[38;5;241;43m*\u001b[39;49m\u001b[38;5;241;43m*\u001b[39;49m\u001b[43mmodel_inputs\u001b[49m\u001b[43m)\u001b[49m\n\u001b[1;32m    521\u001b[0m \u001b[38;5;28;01mif\u001b[39;00m \u001b[38;5;28misinstance\u001b[39m(output, \u001b[38;5;28mdict\u001b[39m):\n\u001b[1;32m    522\u001b[0m     \u001b[38;5;28;01mreturn\u001b[39;00m {\u001b[38;5;124m\"\u001b[39m\u001b[38;5;124mstart\u001b[39m\u001b[38;5;124m\"\u001b[39m: output[\u001b[38;5;124m\"\u001b[39m\u001b[38;5;124mstart_logits\u001b[39m\u001b[38;5;124m\"\u001b[39m], \u001b[38;5;124m\"\u001b[39m\u001b[38;5;124mend\u001b[39m\u001b[38;5;124m\"\u001b[39m: output[\u001b[38;5;124m\"\u001b[39m\u001b[38;5;124mend_logits\u001b[39m\u001b[38;5;124m\"\u001b[39m], \u001b[38;5;124m\"\u001b[39m\u001b[38;5;124mexample\u001b[39m\u001b[38;5;124m\"\u001b[39m: example, \u001b[38;5;241m*\u001b[39m\u001b[38;5;241m*\u001b[39minputs}\n",
            "File \u001b[0;32m/leonardo/prod/spack/03/ccsdeploy/spack_deploy/envs/cineca-ai-3/view/lib/python3.10/site-packages/torch/nn/modules/module.py:1190\u001b[0m, in \u001b[0;36mModule._call_impl\u001b[0;34m(self, *input, **kwargs)\u001b[0m\n\u001b[1;32m   1186\u001b[0m \u001b[38;5;66;03m# If we don't have any hooks, we want to skip the rest of the logic in\u001b[39;00m\n\u001b[1;32m   1187\u001b[0m \u001b[38;5;66;03m# this function, and just call forward.\u001b[39;00m\n\u001b[1;32m   1188\u001b[0m \u001b[38;5;28;01mif\u001b[39;00m \u001b[38;5;129;01mnot\u001b[39;00m (\u001b[38;5;28mself\u001b[39m\u001b[38;5;241m.\u001b[39m_backward_hooks \u001b[38;5;129;01mor\u001b[39;00m \u001b[38;5;28mself\u001b[39m\u001b[38;5;241m.\u001b[39m_forward_hooks \u001b[38;5;129;01mor\u001b[39;00m \u001b[38;5;28mself\u001b[39m\u001b[38;5;241m.\u001b[39m_forward_pre_hooks \u001b[38;5;129;01mor\u001b[39;00m _global_backward_hooks\n\u001b[1;32m   1189\u001b[0m         \u001b[38;5;129;01mor\u001b[39;00m _global_forward_hooks \u001b[38;5;129;01mor\u001b[39;00m _global_forward_pre_hooks):\n\u001b[0;32m-> 1190\u001b[0m     \u001b[38;5;28;01mreturn\u001b[39;00m \u001b[43mforward_call\u001b[49m\u001b[43m(\u001b[49m\u001b[38;5;241;43m*\u001b[39;49m\u001b[38;5;28;43minput\u001b[39;49m\u001b[43m,\u001b[49m\u001b[43m \u001b[49m\u001b[38;5;241;43m*\u001b[39;49m\u001b[38;5;241;43m*\u001b[39;49m\u001b[43mkwargs\u001b[49m\u001b[43m)\u001b[49m\n\u001b[1;32m   1191\u001b[0m \u001b[38;5;66;03m# Do not call functions when jit is used\u001b[39;00m\n\u001b[1;32m   1192\u001b[0m full_backward_hooks, non_full_backward_hooks \u001b[38;5;241m=\u001b[39m [], []\n",
            "File \u001b[0;32m~/.local/lib/python3.10/site-packages/accelerate/hooks.py:165\u001b[0m, in \u001b[0;36madd_hook_to_module.<locals>.new_forward\u001b[0;34m(module, *args, **kwargs)\u001b[0m\n\u001b[1;32m    163\u001b[0m         output \u001b[38;5;241m=\u001b[39m module\u001b[38;5;241m.\u001b[39m_old_forward(\u001b[38;5;241m*\u001b[39margs, \u001b[38;5;241m*\u001b[39m\u001b[38;5;241m*\u001b[39mkwargs)\n\u001b[1;32m    164\u001b[0m \u001b[38;5;28;01melse\u001b[39;00m:\n\u001b[0;32m--> 165\u001b[0m     output \u001b[38;5;241m=\u001b[39m \u001b[43mmodule\u001b[49m\u001b[38;5;241;43m.\u001b[39;49m\u001b[43m_old_forward\u001b[49m\u001b[43m(\u001b[49m\u001b[38;5;241;43m*\u001b[39;49m\u001b[43margs\u001b[49m\u001b[43m,\u001b[49m\u001b[43m \u001b[49m\u001b[38;5;241;43m*\u001b[39;49m\u001b[38;5;241;43m*\u001b[39;49m\u001b[43mkwargs\u001b[49m\u001b[43m)\u001b[49m\n\u001b[1;32m    166\u001b[0m \u001b[38;5;28;01mreturn\u001b[39;00m module\u001b[38;5;241m.\u001b[39m_hf_hook\u001b[38;5;241m.\u001b[39mpost_forward(module, output)\n",
            "File \u001b[0;32m~/.local/lib/python3.10/site-packages/transformers/models/gpt_neox/modeling_gpt_neox.py:1126\u001b[0m, in \u001b[0;36mGPTNeoXForQuestionAnswering.forward\u001b[0;34m(self, input_ids, attention_mask, token_type_ids, position_ids, head_mask, inputs_embeds, start_positions, end_positions, output_attentions, output_hidden_states, return_dict)\u001b[0m\n\u001b[1;32m   1114\u001b[0m \u001b[38;5;124mr\u001b[39m\u001b[38;5;124;03m\"\"\"\u001b[39;00m\n\u001b[1;32m   1115\u001b[0m \u001b[38;5;124;03mstart_positions (`torch.LongTensor` of shape `(batch_size,)`, *optional*):\u001b[39;00m\n\u001b[1;32m   1116\u001b[0m \u001b[38;5;124;03m    Labels for position (index) of the start of the labelled span for computing the token classification loss.\u001b[39;00m\n\u001b[0;32m   (...)\u001b[0m\n\u001b[1;32m   1122\u001b[0m \u001b[38;5;124;03m    are not taken into account for computing the loss.\u001b[39;00m\n\u001b[1;32m   1123\u001b[0m \u001b[38;5;124;03m\"\"\"\u001b[39;00m\n\u001b[1;32m   1124\u001b[0m return_dict \u001b[38;5;241m=\u001b[39m return_dict \u001b[38;5;28;01mif\u001b[39;00m return_dict \u001b[38;5;129;01mis\u001b[39;00m \u001b[38;5;129;01mnot\u001b[39;00m \u001b[38;5;28;01mNone\u001b[39;00m \u001b[38;5;28;01melse\u001b[39;00m \u001b[38;5;28mself\u001b[39m\u001b[38;5;241m.\u001b[39mconfig\u001b[38;5;241m.\u001b[39muse_return_dict\n\u001b[0;32m-> 1126\u001b[0m outputs \u001b[38;5;241m=\u001b[39m \u001b[38;5;28;43mself\u001b[39;49m\u001b[38;5;241;43m.\u001b[39;49m\u001b[43mgpt_neox\u001b[49m\u001b[43m(\u001b[49m\n\u001b[1;32m   1127\u001b[0m \u001b[43m    \u001b[49m\u001b[43minput_ids\u001b[49m\u001b[43m,\u001b[49m\n\u001b[1;32m   1128\u001b[0m \u001b[43m    \u001b[49m\u001b[43mattention_mask\u001b[49m\u001b[38;5;241;43m=\u001b[39;49m\u001b[43mattention_mask\u001b[49m\u001b[43m,\u001b[49m\n\u001b[1;32m   1129\u001b[0m \u001b[43m    \u001b[49m\u001b[43mposition_ids\u001b[49m\u001b[38;5;241;43m=\u001b[39;49m\u001b[43mposition_ids\u001b[49m\u001b[43m,\u001b[49m\n\u001b[1;32m   1130\u001b[0m \u001b[43m    \u001b[49m\u001b[43mhead_mask\u001b[49m\u001b[38;5;241;43m=\u001b[39;49m\u001b[43mhead_mask\u001b[49m\u001b[43m,\u001b[49m\n\u001b[1;32m   1131\u001b[0m \u001b[43m    \u001b[49m\u001b[43minputs_embeds\u001b[49m\u001b[38;5;241;43m=\u001b[39;49m\u001b[43minputs_embeds\u001b[49m\u001b[43m,\u001b[49m\n\u001b[1;32m   1132\u001b[0m \u001b[43m    \u001b[49m\u001b[43moutput_attentions\u001b[49m\u001b[38;5;241;43m=\u001b[39;49m\u001b[43moutput_attentions\u001b[49m\u001b[43m,\u001b[49m\n\u001b[1;32m   1133\u001b[0m \u001b[43m    \u001b[49m\u001b[43moutput_hidden_states\u001b[49m\u001b[38;5;241;43m=\u001b[39;49m\u001b[43moutput_hidden_states\u001b[49m\u001b[43m,\u001b[49m\n\u001b[1;32m   1134\u001b[0m \u001b[43m    \u001b[49m\u001b[43mreturn_dict\u001b[49m\u001b[38;5;241;43m=\u001b[39;49m\u001b[43mreturn_dict\u001b[49m\u001b[43m,\u001b[49m\n\u001b[1;32m   1135\u001b[0m \u001b[43m\u001b[49m\u001b[43m)\u001b[49m\n\u001b[1;32m   1137\u001b[0m sequence_output \u001b[38;5;241m=\u001b[39m outputs[\u001b[38;5;241m0\u001b[39m]\n\u001b[1;32m   1139\u001b[0m logits \u001b[38;5;241m=\u001b[39m \u001b[38;5;28mself\u001b[39m\u001b[38;5;241m.\u001b[39mqa_outputs(sequence_output)\n",
            "File \u001b[0;32m/leonardo/prod/spack/03/ccsdeploy/spack_deploy/envs/cineca-ai-3/view/lib/python3.10/site-packages/torch/nn/modules/module.py:1190\u001b[0m, in \u001b[0;36mModule._call_impl\u001b[0;34m(self, *input, **kwargs)\u001b[0m\n\u001b[1;32m   1186\u001b[0m \u001b[38;5;66;03m# If we don't have any hooks, we want to skip the rest of the logic in\u001b[39;00m\n\u001b[1;32m   1187\u001b[0m \u001b[38;5;66;03m# this function, and just call forward.\u001b[39;00m\n\u001b[1;32m   1188\u001b[0m \u001b[38;5;28;01mif\u001b[39;00m \u001b[38;5;129;01mnot\u001b[39;00m (\u001b[38;5;28mself\u001b[39m\u001b[38;5;241m.\u001b[39m_backward_hooks \u001b[38;5;129;01mor\u001b[39;00m \u001b[38;5;28mself\u001b[39m\u001b[38;5;241m.\u001b[39m_forward_hooks \u001b[38;5;129;01mor\u001b[39;00m \u001b[38;5;28mself\u001b[39m\u001b[38;5;241m.\u001b[39m_forward_pre_hooks \u001b[38;5;129;01mor\u001b[39;00m _global_backward_hooks\n\u001b[1;32m   1189\u001b[0m         \u001b[38;5;129;01mor\u001b[39;00m _global_forward_hooks \u001b[38;5;129;01mor\u001b[39;00m _global_forward_pre_hooks):\n\u001b[0;32m-> 1190\u001b[0m     \u001b[38;5;28;01mreturn\u001b[39;00m \u001b[43mforward_call\u001b[49m\u001b[43m(\u001b[49m\u001b[38;5;241;43m*\u001b[39;49m\u001b[38;5;28;43minput\u001b[39;49m\u001b[43m,\u001b[49m\u001b[43m \u001b[49m\u001b[38;5;241;43m*\u001b[39;49m\u001b[38;5;241;43m*\u001b[39;49m\u001b[43mkwargs\u001b[49m\u001b[43m)\u001b[49m\n\u001b[1;32m   1191\u001b[0m \u001b[38;5;66;03m# Do not call functions when jit is used\u001b[39;00m\n\u001b[1;32m   1192\u001b[0m full_backward_hooks, non_full_backward_hooks \u001b[38;5;241m=\u001b[39m [], []\n",
            "File \u001b[0;32m~/.local/lib/python3.10/site-packages/transformers/models/gpt_neox/modeling_gpt_neox.py:671\u001b[0m, in \u001b[0;36mGPTNeoXModel.forward\u001b[0;34m(self, input_ids, attention_mask, position_ids, head_mask, inputs_embeds, past_key_values, use_cache, output_attentions, output_hidden_states, return_dict)\u001b[0m\n\u001b[1;32m    660\u001b[0m     outputs \u001b[38;5;241m=\u001b[39m \u001b[38;5;28mself\u001b[39m\u001b[38;5;241m.\u001b[39m_gradient_checkpointing_func(\n\u001b[1;32m    661\u001b[0m         layer\u001b[38;5;241m.\u001b[39m\u001b[38;5;21m__call__\u001b[39m,\n\u001b[1;32m    662\u001b[0m         hidden_states,\n\u001b[0;32m   (...)\u001b[0m\n\u001b[1;32m    668\u001b[0m         output_attentions,\n\u001b[1;32m    669\u001b[0m     )\n\u001b[1;32m    670\u001b[0m \u001b[38;5;28;01melse\u001b[39;00m:\n\u001b[0;32m--> 671\u001b[0m     outputs \u001b[38;5;241m=\u001b[39m \u001b[43mlayer\u001b[49m\u001b[43m(\u001b[49m\n\u001b[1;32m    672\u001b[0m \u001b[43m        \u001b[49m\u001b[43mhidden_states\u001b[49m\u001b[43m,\u001b[49m\n\u001b[1;32m    673\u001b[0m \u001b[43m        \u001b[49m\u001b[43mattention_mask\u001b[49m\u001b[38;5;241;43m=\u001b[39;49m\u001b[43mattention_mask\u001b[49m\u001b[43m,\u001b[49m\n\u001b[1;32m    674\u001b[0m \u001b[43m        \u001b[49m\u001b[43mposition_ids\u001b[49m\u001b[38;5;241;43m=\u001b[39;49m\u001b[43mposition_ids\u001b[49m\u001b[43m,\u001b[49m\n\u001b[1;32m    675\u001b[0m \u001b[43m        \u001b[49m\u001b[43mhead_mask\u001b[49m\u001b[38;5;241;43m=\u001b[39;49m\u001b[43mhead_mask\u001b[49m\u001b[43m[\u001b[49m\u001b[43mi\u001b[49m\u001b[43m]\u001b[49m\u001b[43m,\u001b[49m\n\u001b[1;32m    676\u001b[0m \u001b[43m        \u001b[49m\u001b[43mlayer_past\u001b[49m\u001b[38;5;241;43m=\u001b[39;49m\u001b[43mlayer_past\u001b[49m\u001b[43m,\u001b[49m\n\u001b[1;32m    677\u001b[0m \u001b[43m        \u001b[49m\u001b[43muse_cache\u001b[49m\u001b[38;5;241;43m=\u001b[39;49m\u001b[43muse_cache\u001b[49m\u001b[43m,\u001b[49m\n\u001b[1;32m    678\u001b[0m \u001b[43m        \u001b[49m\u001b[43moutput_attentions\u001b[49m\u001b[38;5;241;43m=\u001b[39;49m\u001b[43moutput_attentions\u001b[49m\u001b[43m,\u001b[49m\n\u001b[1;32m    679\u001b[0m \u001b[43m    \u001b[49m\u001b[43m)\u001b[49m\n\u001b[1;32m    680\u001b[0m hidden_states \u001b[38;5;241m=\u001b[39m outputs[\u001b[38;5;241m0\u001b[39m]\n\u001b[1;32m    681\u001b[0m \u001b[38;5;28;01mif\u001b[39;00m use_cache \u001b[38;5;129;01mis\u001b[39;00m \u001b[38;5;28;01mTrue\u001b[39;00m:\n",
            "File \u001b[0;32m/leonardo/prod/spack/03/ccsdeploy/spack_deploy/envs/cineca-ai-3/view/lib/python3.10/site-packages/torch/nn/modules/module.py:1190\u001b[0m, in \u001b[0;36mModule._call_impl\u001b[0;34m(self, *input, **kwargs)\u001b[0m\n\u001b[1;32m   1186\u001b[0m \u001b[38;5;66;03m# If we don't have any hooks, we want to skip the rest of the logic in\u001b[39;00m\n\u001b[1;32m   1187\u001b[0m \u001b[38;5;66;03m# this function, and just call forward.\u001b[39;00m\n\u001b[1;32m   1188\u001b[0m \u001b[38;5;28;01mif\u001b[39;00m \u001b[38;5;129;01mnot\u001b[39;00m (\u001b[38;5;28mself\u001b[39m\u001b[38;5;241m.\u001b[39m_backward_hooks \u001b[38;5;129;01mor\u001b[39;00m \u001b[38;5;28mself\u001b[39m\u001b[38;5;241m.\u001b[39m_forward_hooks \u001b[38;5;129;01mor\u001b[39;00m \u001b[38;5;28mself\u001b[39m\u001b[38;5;241m.\u001b[39m_forward_pre_hooks \u001b[38;5;129;01mor\u001b[39;00m _global_backward_hooks\n\u001b[1;32m   1189\u001b[0m         \u001b[38;5;129;01mor\u001b[39;00m _global_forward_hooks \u001b[38;5;129;01mor\u001b[39;00m _global_forward_pre_hooks):\n\u001b[0;32m-> 1190\u001b[0m     \u001b[38;5;28;01mreturn\u001b[39;00m \u001b[43mforward_call\u001b[49m\u001b[43m(\u001b[49m\u001b[38;5;241;43m*\u001b[39;49m\u001b[38;5;28;43minput\u001b[39;49m\u001b[43m,\u001b[49m\u001b[43m \u001b[49m\u001b[38;5;241;43m*\u001b[39;49m\u001b[38;5;241;43m*\u001b[39;49m\u001b[43mkwargs\u001b[49m\u001b[43m)\u001b[49m\n\u001b[1;32m   1191\u001b[0m \u001b[38;5;66;03m# Do not call functions when jit is used\u001b[39;00m\n\u001b[1;32m   1192\u001b[0m full_backward_hooks, non_full_backward_hooks \u001b[38;5;241m=\u001b[39m [], []\n",
            "File \u001b[0;32m~/.local/lib/python3.10/site-packages/accelerate/hooks.py:165\u001b[0m, in \u001b[0;36madd_hook_to_module.<locals>.new_forward\u001b[0;34m(module, *args, **kwargs)\u001b[0m\n\u001b[1;32m    163\u001b[0m         output \u001b[38;5;241m=\u001b[39m module\u001b[38;5;241m.\u001b[39m_old_forward(\u001b[38;5;241m*\u001b[39margs, \u001b[38;5;241m*\u001b[39m\u001b[38;5;241m*\u001b[39mkwargs)\n\u001b[1;32m    164\u001b[0m \u001b[38;5;28;01melse\u001b[39;00m:\n\u001b[0;32m--> 165\u001b[0m     output \u001b[38;5;241m=\u001b[39m \u001b[43mmodule\u001b[49m\u001b[38;5;241;43m.\u001b[39;49m\u001b[43m_old_forward\u001b[49m\u001b[43m(\u001b[49m\u001b[38;5;241;43m*\u001b[39;49m\u001b[43margs\u001b[49m\u001b[43m,\u001b[49m\u001b[43m \u001b[49m\u001b[38;5;241;43m*\u001b[39;49m\u001b[38;5;241;43m*\u001b[39;49m\u001b[43mkwargs\u001b[49m\u001b[43m)\u001b[49m\n\u001b[1;32m    166\u001b[0m \u001b[38;5;28;01mreturn\u001b[39;00m module\u001b[38;5;241m.\u001b[39m_hf_hook\u001b[38;5;241m.\u001b[39mpost_forward(module, output)\n",
            "File \u001b[0;32m~/.local/lib/python3.10/site-packages/transformers/models/gpt_neox/modeling_gpt_neox.py:440\u001b[0m, in \u001b[0;36mGPTNeoXLayer.forward\u001b[0;34m(self, hidden_states, attention_mask, position_ids, head_mask, use_cache, layer_past, output_attentions)\u001b[0m\n\u001b[1;32m    430\u001b[0m \u001b[38;5;28;01mdef\u001b[39;00m \u001b[38;5;21mforward\u001b[39m(\n\u001b[1;32m    431\u001b[0m     \u001b[38;5;28mself\u001b[39m,\n\u001b[1;32m    432\u001b[0m     hidden_states: Optional[torch\u001b[38;5;241m.\u001b[39mFloatTensor],\n\u001b[0;32m   (...)\u001b[0m\n\u001b[1;32m    438\u001b[0m     output_attentions: Optional[\u001b[38;5;28mbool\u001b[39m] \u001b[38;5;241m=\u001b[39m \u001b[38;5;28;01mFalse\u001b[39;00m,\n\u001b[1;32m    439\u001b[0m ):\n\u001b[0;32m--> 440\u001b[0m     attention_layer_outputs \u001b[38;5;241m=\u001b[39m \u001b[38;5;28;43mself\u001b[39;49m\u001b[38;5;241;43m.\u001b[39;49m\u001b[43mattention\u001b[49m\u001b[43m(\u001b[49m\n\u001b[1;32m    441\u001b[0m \u001b[43m        \u001b[49m\u001b[38;5;28;43mself\u001b[39;49m\u001b[38;5;241;43m.\u001b[39;49m\u001b[43minput_layernorm\u001b[49m\u001b[43m(\u001b[49m\u001b[43mhidden_states\u001b[49m\u001b[43m)\u001b[49m\u001b[43m,\u001b[49m\n\u001b[1;32m    442\u001b[0m \u001b[43m        \u001b[49m\u001b[43mattention_mask\u001b[49m\u001b[38;5;241;43m=\u001b[39;49m\u001b[43mattention_mask\u001b[49m\u001b[43m,\u001b[49m\n\u001b[1;32m    443\u001b[0m \u001b[43m        \u001b[49m\u001b[43mposition_ids\u001b[49m\u001b[38;5;241;43m=\u001b[39;49m\u001b[43mposition_ids\u001b[49m\u001b[43m,\u001b[49m\n\u001b[1;32m    444\u001b[0m \u001b[43m        \u001b[49m\u001b[43mlayer_past\u001b[49m\u001b[38;5;241;43m=\u001b[39;49m\u001b[43mlayer_past\u001b[49m\u001b[43m,\u001b[49m\n\u001b[1;32m    445\u001b[0m \u001b[43m        \u001b[49m\u001b[43mhead_mask\u001b[49m\u001b[38;5;241;43m=\u001b[39;49m\u001b[43mhead_mask\u001b[49m\u001b[43m,\u001b[49m\n\u001b[1;32m    446\u001b[0m \u001b[43m        \u001b[49m\u001b[43muse_cache\u001b[49m\u001b[38;5;241;43m=\u001b[39;49m\u001b[43muse_cache\u001b[49m\u001b[43m,\u001b[49m\n\u001b[1;32m    447\u001b[0m \u001b[43m        \u001b[49m\u001b[43moutput_attentions\u001b[49m\u001b[38;5;241;43m=\u001b[39;49m\u001b[43moutput_attentions\u001b[49m\u001b[43m,\u001b[49m\n\u001b[1;32m    448\u001b[0m \u001b[43m    \u001b[49m\u001b[43m)\u001b[49m\n\u001b[1;32m    449\u001b[0m     attn_output \u001b[38;5;241m=\u001b[39m attention_layer_outputs[\u001b[38;5;241m0\u001b[39m]  \u001b[38;5;66;03m# output_attn: attn_output, present, (attn_weights)\u001b[39;00m\n\u001b[1;32m    450\u001b[0m     attn_output \u001b[38;5;241m=\u001b[39m \u001b[38;5;28mself\u001b[39m\u001b[38;5;241m.\u001b[39mpost_attention_dropout(attn_output)\n",
            "File \u001b[0;32m/leonardo/prod/spack/03/ccsdeploy/spack_deploy/envs/cineca-ai-3/view/lib/python3.10/site-packages/torch/nn/modules/module.py:1190\u001b[0m, in \u001b[0;36mModule._call_impl\u001b[0;34m(self, *input, **kwargs)\u001b[0m\n\u001b[1;32m   1186\u001b[0m \u001b[38;5;66;03m# If we don't have any hooks, we want to skip the rest of the logic in\u001b[39;00m\n\u001b[1;32m   1187\u001b[0m \u001b[38;5;66;03m# this function, and just call forward.\u001b[39;00m\n\u001b[1;32m   1188\u001b[0m \u001b[38;5;28;01mif\u001b[39;00m \u001b[38;5;129;01mnot\u001b[39;00m (\u001b[38;5;28mself\u001b[39m\u001b[38;5;241m.\u001b[39m_backward_hooks \u001b[38;5;129;01mor\u001b[39;00m \u001b[38;5;28mself\u001b[39m\u001b[38;5;241m.\u001b[39m_forward_hooks \u001b[38;5;129;01mor\u001b[39;00m \u001b[38;5;28mself\u001b[39m\u001b[38;5;241m.\u001b[39m_forward_pre_hooks \u001b[38;5;129;01mor\u001b[39;00m _global_backward_hooks\n\u001b[1;32m   1189\u001b[0m         \u001b[38;5;129;01mor\u001b[39;00m _global_forward_hooks \u001b[38;5;129;01mor\u001b[39;00m _global_forward_pre_hooks):\n\u001b[0;32m-> 1190\u001b[0m     \u001b[38;5;28;01mreturn\u001b[39;00m \u001b[43mforward_call\u001b[49m\u001b[43m(\u001b[49m\u001b[38;5;241;43m*\u001b[39;49m\u001b[38;5;28;43minput\u001b[39;49m\u001b[43m,\u001b[49m\u001b[43m \u001b[49m\u001b[38;5;241;43m*\u001b[39;49m\u001b[38;5;241;43m*\u001b[39;49m\u001b[43mkwargs\u001b[49m\u001b[43m)\u001b[49m\n\u001b[1;32m   1191\u001b[0m \u001b[38;5;66;03m# Do not call functions when jit is used\u001b[39;00m\n\u001b[1;32m   1192\u001b[0m full_backward_hooks, non_full_backward_hooks \u001b[38;5;241m=\u001b[39m [], []\n",
            "File \u001b[0;32m~/.local/lib/python3.10/site-packages/accelerate/hooks.py:165\u001b[0m, in \u001b[0;36madd_hook_to_module.<locals>.new_forward\u001b[0;34m(module, *args, **kwargs)\u001b[0m\n\u001b[1;32m    163\u001b[0m         output \u001b[38;5;241m=\u001b[39m module\u001b[38;5;241m.\u001b[39m_old_forward(\u001b[38;5;241m*\u001b[39margs, \u001b[38;5;241m*\u001b[39m\u001b[38;5;241m*\u001b[39mkwargs)\n\u001b[1;32m    164\u001b[0m \u001b[38;5;28;01melse\u001b[39;00m:\n\u001b[0;32m--> 165\u001b[0m     output \u001b[38;5;241m=\u001b[39m \u001b[43mmodule\u001b[49m\u001b[38;5;241;43m.\u001b[39;49m\u001b[43m_old_forward\u001b[49m\u001b[43m(\u001b[49m\u001b[38;5;241;43m*\u001b[39;49m\u001b[43margs\u001b[49m\u001b[43m,\u001b[49m\u001b[43m \u001b[49m\u001b[38;5;241;43m*\u001b[39;49m\u001b[38;5;241;43m*\u001b[39;49m\u001b[43mkwargs\u001b[49m\u001b[43m)\u001b[49m\n\u001b[1;32m    166\u001b[0m \u001b[38;5;28;01mreturn\u001b[39;00m module\u001b[38;5;241m.\u001b[39m_hf_hook\u001b[38;5;241m.\u001b[39mpost_forward(module, output)\n",
            "File \u001b[0;32m~/.local/lib/python3.10/site-packages/transformers/models/gpt_neox/modeling_gpt_neox.py:191\u001b[0m, in \u001b[0;36mGPTNeoXAttention.forward\u001b[0;34m(self, hidden_states, attention_mask, position_ids, head_mask, layer_past, use_cache, output_attentions)\u001b[0m\n\u001b[1;32m    188\u001b[0m present \u001b[38;5;241m=\u001b[39m (key, value) \u001b[38;5;28;01mif\u001b[39;00m use_cache \u001b[38;5;28;01melse\u001b[39;00m \u001b[38;5;28;01mNone\u001b[39;00m\n\u001b[1;32m    190\u001b[0m \u001b[38;5;66;03m# Compute attention\u001b[39;00m\n\u001b[0;32m--> 191\u001b[0m attn_output, attn_weights \u001b[38;5;241m=\u001b[39m \u001b[38;5;28;43mself\u001b[39;49m\u001b[38;5;241;43m.\u001b[39;49m\u001b[43m_attn\u001b[49m\u001b[43m(\u001b[49m\u001b[43mquery\u001b[49m\u001b[43m,\u001b[49m\u001b[43m \u001b[49m\u001b[43mkey\u001b[49m\u001b[43m,\u001b[49m\u001b[43m \u001b[49m\u001b[43mvalue\u001b[49m\u001b[43m,\u001b[49m\u001b[43m \u001b[49m\u001b[43mattention_mask\u001b[49m\u001b[43m,\u001b[49m\u001b[43m \u001b[49m\u001b[43mhead_mask\u001b[49m\u001b[43m)\u001b[49m\n\u001b[1;32m    193\u001b[0m \u001b[38;5;66;03m# Reshape outputs\u001b[39;00m\n\u001b[1;32m    194\u001b[0m attn_output \u001b[38;5;241m=\u001b[39m \u001b[38;5;28mself\u001b[39m\u001b[38;5;241m.\u001b[39m_merge_heads(attn_output, \u001b[38;5;28mself\u001b[39m\u001b[38;5;241m.\u001b[39mnum_attention_heads, \u001b[38;5;28mself\u001b[39m\u001b[38;5;241m.\u001b[39mhead_size)\n",
            "File \u001b[0;32m~/.local/lib/python3.10/site-packages/transformers/models/gpt_neox/modeling_gpt_neox.py:260\u001b[0m, in \u001b[0;36mGPTNeoXAttention._attn\u001b[0;34m(self, query, key, value, attention_mask, head_mask)\u001b[0m\n\u001b[1;32m    257\u001b[0m mask_value \u001b[38;5;241m=\u001b[39m torch\u001b[38;5;241m.\u001b[39mfinfo(attn_scores\u001b[38;5;241m.\u001b[39mdtype)\u001b[38;5;241m.\u001b[39mmin\n\u001b[1;32m    258\u001b[0m \u001b[38;5;66;03m# Need to be a tensor, otherwise we get error: `RuntimeError: expected scalar type float but found double`.\u001b[39;00m\n\u001b[1;32m    259\u001b[0m \u001b[38;5;66;03m# Need to be on the same device, otherwise `RuntimeError: ..., x and y to be on the same device`\u001b[39;00m\n\u001b[0;32m--> 260\u001b[0m mask_value \u001b[38;5;241m=\u001b[39m \u001b[43mtorch\u001b[49m\u001b[38;5;241;43m.\u001b[39;49m\u001b[43mtensor\u001b[49m\u001b[43m(\u001b[49m\u001b[43mmask_value\u001b[49m\u001b[43m,\u001b[49m\u001b[43m \u001b[49m\u001b[43mdtype\u001b[49m\u001b[38;5;241;43m=\u001b[39;49m\u001b[43mattn_scores\u001b[49m\u001b[38;5;241;43m.\u001b[39;49m\u001b[43mdtype\u001b[49m\u001b[43m)\u001b[49m\u001b[38;5;241;43m.\u001b[39;49m\u001b[43mto\u001b[49m\u001b[43m(\u001b[49m\u001b[43mattn_scores\u001b[49m\u001b[38;5;241;43m.\u001b[39;49m\u001b[43mdevice\u001b[49m\u001b[43m)\u001b[49m\n\u001b[1;32m    261\u001b[0m attn_scores \u001b[38;5;241m=\u001b[39m torch\u001b[38;5;241m.\u001b[39mwhere(causal_mask, attn_scores, mask_value)\n\u001b[1;32m    263\u001b[0m \u001b[38;5;28;01mif\u001b[39;00m attention_mask \u001b[38;5;129;01mis\u001b[39;00m \u001b[38;5;129;01mnot\u001b[39;00m \u001b[38;5;28;01mNone\u001b[39;00m:\n\u001b[1;32m    264\u001b[0m     \u001b[38;5;66;03m# Apply the attention mask\u001b[39;00m\n",
            "\u001b[0;31mKeyboardInterrupt\u001b[0m: "
          ]
        }
      ]
    },
    {
      "cell_type": "markdown",
      "source": [
        "# Strip and final result"
      ],
      "metadata": {
        "id": "aAviLCoslUma"
      },
      "id": "aAviLCoslUma"
    },
    {
      "cell_type": "code",
      "execution_count": null,
      "id": "20d7cfba",
      "metadata": {
        "id": "20d7cfba"
      },
      "outputs": [],
      "source": [
        "for index,item in enumerate(test_data_list):\n",
        "    try:\n",
        "        item['predict'] = item['response'].split('(')[1].strip().split(')')[0].strip()\n",
        "    except:\n",
        "        print(index)"
      ]
    },
    {
      "cell_type": "code",
      "execution_count": null,
      "id": "9686726a",
      "metadata": {
        "id": "9686726a"
      },
      "outputs": [],
      "source": [
        "word_play,sentence_play = getResultdata(test_data_list)\n",
        "final_result = getSeperateResult(word_play,sentence_play)"
      ]
    }
  ],
  "metadata": {
    "kernelspec": {
      "display_name": "Python 3 (ipykernel)",
      "language": "python",
      "name": "python3"
    },
    "language_info": {
      "codemirror_mode": {
        "name": "ipython",
        "version": 3
      },
      "file_extension": ".py",
      "mimetype": "text/x-python",
      "name": "python",
      "nbconvert_exporter": "python",
      "pygments_lexer": "ipython3",
      "version": "3.9.16"
    },
    "colab": {
      "provenance": [],
      "include_colab_link": true
    },
    "widgets": {
      "application/vnd.jupyter.widget-state+json": {
        "e71e44c0dc474f3bb4eae099e5cc9884": {
          "model_module": "@jupyter-widgets/controls",
          "model_name": "HBoxModel",
          "model_module_version": "1.5.0",
          "state": {
            "_dom_classes": [],
            "_model_module": "@jupyter-widgets/controls",
            "_model_module_version": "1.5.0",
            "_model_name": "HBoxModel",
            "_view_count": null,
            "_view_module": "@jupyter-widgets/controls",
            "_view_module_version": "1.5.0",
            "_view_name": "HBoxView",
            "box_style": "",
            "children": [
              "IPY_MODEL_b75629a4ec5542a6aad573fc3f68641a",
              "IPY_MODEL_4fae1f516da6497caf3975d38f3f8cbf",
              "IPY_MODEL_0df1f833868946c8b6aa5e3143ea5f53"
            ],
            "layout": "IPY_MODEL_c36773d1b22547298773a233381d179e"
          }
        },
        "b75629a4ec5542a6aad573fc3f68641a": {
          "model_module": "@jupyter-widgets/controls",
          "model_name": "HTMLModel",
          "model_module_version": "1.5.0",
          "state": {
            "_dom_classes": [],
            "_model_module": "@jupyter-widgets/controls",
            "_model_module_version": "1.5.0",
            "_model_name": "HTMLModel",
            "_view_count": null,
            "_view_module": "@jupyter-widgets/controls",
            "_view_module_version": "1.5.0",
            "_view_name": "HTMLView",
            "description": "",
            "description_tooltip": null,
            "layout": "IPY_MODEL_55c1c2d041fb4c68a3c1a648487d69c8",
            "placeholder": "​",
            "style": "IPY_MODEL_914c011ed0f54adba2086f781e4f7e92",
            "value": "config.json: 100%"
          }
        },
        "4fae1f516da6497caf3975d38f3f8cbf": {
          "model_module": "@jupyter-widgets/controls",
          "model_name": "FloatProgressModel",
          "model_module_version": "1.5.0",
          "state": {
            "_dom_classes": [],
            "_model_module": "@jupyter-widgets/controls",
            "_model_module_version": "1.5.0",
            "_model_name": "FloatProgressModel",
            "_view_count": null,
            "_view_module": "@jupyter-widgets/controls",
            "_view_module_version": "1.5.0",
            "_view_name": "ProgressView",
            "bar_style": "success",
            "description": "",
            "description_tooltip": null,
            "layout": "IPY_MODEL_42c628a0fa894daa817bcc88b3873720",
            "max": 879,
            "min": 0,
            "orientation": "horizontal",
            "style": "IPY_MODEL_eefb928e409347eca4694c658f57e975",
            "value": 879
          }
        },
        "0df1f833868946c8b6aa5e3143ea5f53": {
          "model_module": "@jupyter-widgets/controls",
          "model_name": "HTMLModel",
          "model_module_version": "1.5.0",
          "state": {
            "_dom_classes": [],
            "_model_module": "@jupyter-widgets/controls",
            "_model_module_version": "1.5.0",
            "_model_name": "HTMLModel",
            "_view_count": null,
            "_view_module": "@jupyter-widgets/controls",
            "_view_module_version": "1.5.0",
            "_view_name": "HTMLView",
            "description": "",
            "description_tooltip": null,
            "layout": "IPY_MODEL_cc520379be2e4d72851e744d88477c12",
            "placeholder": "​",
            "style": "IPY_MODEL_f33e07a962ed421296e6cacd93d4bb10",
            "value": " 879/879 [00:00&lt;00:00, 44.0kB/s]"
          }
        },
        "c36773d1b22547298773a233381d179e": {
          "model_module": "@jupyter-widgets/base",
          "model_name": "LayoutModel",
          "model_module_version": "1.2.0",
          "state": {
            "_model_module": "@jupyter-widgets/base",
            "_model_module_version": "1.2.0",
            "_model_name": "LayoutModel",
            "_view_count": null,
            "_view_module": "@jupyter-widgets/base",
            "_view_module_version": "1.2.0",
            "_view_name": "LayoutView",
            "align_content": null,
            "align_items": null,
            "align_self": null,
            "border": null,
            "bottom": null,
            "display": null,
            "flex": null,
            "flex_flow": null,
            "grid_area": null,
            "grid_auto_columns": null,
            "grid_auto_flow": null,
            "grid_auto_rows": null,
            "grid_column": null,
            "grid_gap": null,
            "grid_row": null,
            "grid_template_areas": null,
            "grid_template_columns": null,
            "grid_template_rows": null,
            "height": null,
            "justify_content": null,
            "justify_items": null,
            "left": null,
            "margin": null,
            "max_height": null,
            "max_width": null,
            "min_height": null,
            "min_width": null,
            "object_fit": null,
            "object_position": null,
            "order": null,
            "overflow": null,
            "overflow_x": null,
            "overflow_y": null,
            "padding": null,
            "right": null,
            "top": null,
            "visibility": null,
            "width": null
          }
        },
        "55c1c2d041fb4c68a3c1a648487d69c8": {
          "model_module": "@jupyter-widgets/base",
          "model_name": "LayoutModel",
          "model_module_version": "1.2.0",
          "state": {
            "_model_module": "@jupyter-widgets/base",
            "_model_module_version": "1.2.0",
            "_model_name": "LayoutModel",
            "_view_count": null,
            "_view_module": "@jupyter-widgets/base",
            "_view_module_version": "1.2.0",
            "_view_name": "LayoutView",
            "align_content": null,
            "align_items": null,
            "align_self": null,
            "border": null,
            "bottom": null,
            "display": null,
            "flex": null,
            "flex_flow": null,
            "grid_area": null,
            "grid_auto_columns": null,
            "grid_auto_flow": null,
            "grid_auto_rows": null,
            "grid_column": null,
            "grid_gap": null,
            "grid_row": null,
            "grid_template_areas": null,
            "grid_template_columns": null,
            "grid_template_rows": null,
            "height": null,
            "justify_content": null,
            "justify_items": null,
            "left": null,
            "margin": null,
            "max_height": null,
            "max_width": null,
            "min_height": null,
            "min_width": null,
            "object_fit": null,
            "object_position": null,
            "order": null,
            "overflow": null,
            "overflow_x": null,
            "overflow_y": null,
            "padding": null,
            "right": null,
            "top": null,
            "visibility": null,
            "width": null
          }
        },
        "914c011ed0f54adba2086f781e4f7e92": {
          "model_module": "@jupyter-widgets/controls",
          "model_name": "DescriptionStyleModel",
          "model_module_version": "1.5.0",
          "state": {
            "_model_module": "@jupyter-widgets/controls",
            "_model_module_version": "1.5.0",
            "_model_name": "DescriptionStyleModel",
            "_view_count": null,
            "_view_module": "@jupyter-widgets/base",
            "_view_module_version": "1.2.0",
            "_view_name": "StyleView",
            "description_width": ""
          }
        },
        "42c628a0fa894daa817bcc88b3873720": {
          "model_module": "@jupyter-widgets/base",
          "model_name": "LayoutModel",
          "model_module_version": "1.2.0",
          "state": {
            "_model_module": "@jupyter-widgets/base",
            "_model_module_version": "1.2.0",
            "_model_name": "LayoutModel",
            "_view_count": null,
            "_view_module": "@jupyter-widgets/base",
            "_view_module_version": "1.2.0",
            "_view_name": "LayoutView",
            "align_content": null,
            "align_items": null,
            "align_self": null,
            "border": null,
            "bottom": null,
            "display": null,
            "flex": null,
            "flex_flow": null,
            "grid_area": null,
            "grid_auto_columns": null,
            "grid_auto_flow": null,
            "grid_auto_rows": null,
            "grid_column": null,
            "grid_gap": null,
            "grid_row": null,
            "grid_template_areas": null,
            "grid_template_columns": null,
            "grid_template_rows": null,
            "height": null,
            "justify_content": null,
            "justify_items": null,
            "left": null,
            "margin": null,
            "max_height": null,
            "max_width": null,
            "min_height": null,
            "min_width": null,
            "object_fit": null,
            "object_position": null,
            "order": null,
            "overflow": null,
            "overflow_x": null,
            "overflow_y": null,
            "padding": null,
            "right": null,
            "top": null,
            "visibility": null,
            "width": null
          }
        },
        "eefb928e409347eca4694c658f57e975": {
          "model_module": "@jupyter-widgets/controls",
          "model_name": "ProgressStyleModel",
          "model_module_version": "1.5.0",
          "state": {
            "_model_module": "@jupyter-widgets/controls",
            "_model_module_version": "1.5.0",
            "_model_name": "ProgressStyleModel",
            "_view_count": null,
            "_view_module": "@jupyter-widgets/base",
            "_view_module_version": "1.2.0",
            "_view_name": "StyleView",
            "bar_color": null,
            "description_width": ""
          }
        },
        "cc520379be2e4d72851e744d88477c12": {
          "model_module": "@jupyter-widgets/base",
          "model_name": "LayoutModel",
          "model_module_version": "1.2.0",
          "state": {
            "_model_module": "@jupyter-widgets/base",
            "_model_module_version": "1.2.0",
            "_model_name": "LayoutModel",
            "_view_count": null,
            "_view_module": "@jupyter-widgets/base",
            "_view_module_version": "1.2.0",
            "_view_name": "LayoutView",
            "align_content": null,
            "align_items": null,
            "align_self": null,
            "border": null,
            "bottom": null,
            "display": null,
            "flex": null,
            "flex_flow": null,
            "grid_area": null,
            "grid_auto_columns": null,
            "grid_auto_flow": null,
            "grid_auto_rows": null,
            "grid_column": null,
            "grid_gap": null,
            "grid_row": null,
            "grid_template_areas": null,
            "grid_template_columns": null,
            "grid_template_rows": null,
            "height": null,
            "justify_content": null,
            "justify_items": null,
            "left": null,
            "margin": null,
            "max_height": null,
            "max_width": null,
            "min_height": null,
            "min_width": null,
            "object_fit": null,
            "object_position": null,
            "order": null,
            "overflow": null,
            "overflow_x": null,
            "overflow_y": null,
            "padding": null,
            "right": null,
            "top": null,
            "visibility": null,
            "width": null
          }
        },
        "f33e07a962ed421296e6cacd93d4bb10": {
          "model_module": "@jupyter-widgets/controls",
          "model_name": "DescriptionStyleModel",
          "model_module_version": "1.5.0",
          "state": {
            "_model_module": "@jupyter-widgets/controls",
            "_model_module_version": "1.5.0",
            "_model_name": "DescriptionStyleModel",
            "_view_count": null,
            "_view_module": "@jupyter-widgets/base",
            "_view_module_version": "1.2.0",
            "_view_name": "StyleView",
            "description_width": ""
          }
        },
        "a2bfb4e11e4b4d99bcaa8b01abb6cb10": {
          "model_module": "@jupyter-widgets/controls",
          "model_name": "HBoxModel",
          "model_module_version": "1.5.0",
          "state": {
            "_dom_classes": [],
            "_model_module": "@jupyter-widgets/controls",
            "_model_module_version": "1.5.0",
            "_model_name": "HBoxModel",
            "_view_count": null,
            "_view_module": "@jupyter-widgets/controls",
            "_view_module_version": "1.5.0",
            "_view_name": "HBoxView",
            "box_style": "",
            "children": [
              "IPY_MODEL_0eacbbdc394d429ca1f1bdc824f4400b",
              "IPY_MODEL_943d80624ae945b8932c47250e95de7c",
              "IPY_MODEL_64c4230569b240bb8ee26656f4dc1045"
            ],
            "layout": "IPY_MODEL_4def543fc3a0439b9e763f313b20bc73"
          }
        },
        "0eacbbdc394d429ca1f1bdc824f4400b": {
          "model_module": "@jupyter-widgets/controls",
          "model_name": "HTMLModel",
          "model_module_version": "1.5.0",
          "state": {
            "_dom_classes": [],
            "_model_module": "@jupyter-widgets/controls",
            "_model_module_version": "1.5.0",
            "_model_name": "HTMLModel",
            "_view_count": null,
            "_view_module": "@jupyter-widgets/controls",
            "_view_module_version": "1.5.0",
            "_view_name": "HTMLView",
            "description": "",
            "description_tooltip": null,
            "layout": "IPY_MODEL_35991f792be74768a0955c96e774e15c",
            "placeholder": "​",
            "style": "IPY_MODEL_19ae0b39e2424eeab7f030f9361214d5",
            "value": "model.safetensors: 100%"
          }
        },
        "943d80624ae945b8932c47250e95de7c": {
          "model_module": "@jupyter-widgets/controls",
          "model_name": "FloatProgressModel",
          "model_module_version": "1.5.0",
          "state": {
            "_dom_classes": [],
            "_model_module": "@jupyter-widgets/controls",
            "_model_module_version": "1.5.0",
            "_model_name": "FloatProgressModel",
            "_view_count": null,
            "_view_module": "@jupyter-widgets/controls",
            "_view_module_version": "1.5.0",
            "_view_name": "ProgressView",
            "bar_style": "success",
            "description": "",
            "description_tooltip": null,
            "layout": "IPY_MODEL_75e7177b842a4d82b9786b1122d929ce",
            "max": 1112909866,
            "min": 0,
            "orientation": "horizontal",
            "style": "IPY_MODEL_ea46d9bab1fd40cf9e87fd46cacefdca",
            "value": 1112909866
          }
        },
        "64c4230569b240bb8ee26656f4dc1045": {
          "model_module": "@jupyter-widgets/controls",
          "model_name": "HTMLModel",
          "model_module_version": "1.5.0",
          "state": {
            "_dom_classes": [],
            "_model_module": "@jupyter-widgets/controls",
            "_model_module_version": "1.5.0",
            "_model_name": "HTMLModel",
            "_view_count": null,
            "_view_module": "@jupyter-widgets/controls",
            "_view_module_version": "1.5.0",
            "_view_name": "HTMLView",
            "description": "",
            "description_tooltip": null,
            "layout": "IPY_MODEL_3ddbfc7cafe1486abb03e3933635fb92",
            "placeholder": "​",
            "style": "IPY_MODEL_0c9b2a4703714222ae22e5e9a2a28b19",
            "value": " 1.11G/1.11G [00:26&lt;00:00, 48.3MB/s]"
          }
        },
        "4def543fc3a0439b9e763f313b20bc73": {
          "model_module": "@jupyter-widgets/base",
          "model_name": "LayoutModel",
          "model_module_version": "1.2.0",
          "state": {
            "_model_module": "@jupyter-widgets/base",
            "_model_module_version": "1.2.0",
            "_model_name": "LayoutModel",
            "_view_count": null,
            "_view_module": "@jupyter-widgets/base",
            "_view_module_version": "1.2.0",
            "_view_name": "LayoutView",
            "align_content": null,
            "align_items": null,
            "align_self": null,
            "border": null,
            "bottom": null,
            "display": null,
            "flex": null,
            "flex_flow": null,
            "grid_area": null,
            "grid_auto_columns": null,
            "grid_auto_flow": null,
            "grid_auto_rows": null,
            "grid_column": null,
            "grid_gap": null,
            "grid_row": null,
            "grid_template_areas": null,
            "grid_template_columns": null,
            "grid_template_rows": null,
            "height": null,
            "justify_content": null,
            "justify_items": null,
            "left": null,
            "margin": null,
            "max_height": null,
            "max_width": null,
            "min_height": null,
            "min_width": null,
            "object_fit": null,
            "object_position": null,
            "order": null,
            "overflow": null,
            "overflow_x": null,
            "overflow_y": null,
            "padding": null,
            "right": null,
            "top": null,
            "visibility": null,
            "width": null
          }
        },
        "35991f792be74768a0955c96e774e15c": {
          "model_module": "@jupyter-widgets/base",
          "model_name": "LayoutModel",
          "model_module_version": "1.2.0",
          "state": {
            "_model_module": "@jupyter-widgets/base",
            "_model_module_version": "1.2.0",
            "_model_name": "LayoutModel",
            "_view_count": null,
            "_view_module": "@jupyter-widgets/base",
            "_view_module_version": "1.2.0",
            "_view_name": "LayoutView",
            "align_content": null,
            "align_items": null,
            "align_self": null,
            "border": null,
            "bottom": null,
            "display": null,
            "flex": null,
            "flex_flow": null,
            "grid_area": null,
            "grid_auto_columns": null,
            "grid_auto_flow": null,
            "grid_auto_rows": null,
            "grid_column": null,
            "grid_gap": null,
            "grid_row": null,
            "grid_template_areas": null,
            "grid_template_columns": null,
            "grid_template_rows": null,
            "height": null,
            "justify_content": null,
            "justify_items": null,
            "left": null,
            "margin": null,
            "max_height": null,
            "max_width": null,
            "min_height": null,
            "min_width": null,
            "object_fit": null,
            "object_position": null,
            "order": null,
            "overflow": null,
            "overflow_x": null,
            "overflow_y": null,
            "padding": null,
            "right": null,
            "top": null,
            "visibility": null,
            "width": null
          }
        },
        "19ae0b39e2424eeab7f030f9361214d5": {
          "model_module": "@jupyter-widgets/controls",
          "model_name": "DescriptionStyleModel",
          "model_module_version": "1.5.0",
          "state": {
            "_model_module": "@jupyter-widgets/controls",
            "_model_module_version": "1.5.0",
            "_model_name": "DescriptionStyleModel",
            "_view_count": null,
            "_view_module": "@jupyter-widgets/base",
            "_view_module_version": "1.2.0",
            "_view_name": "StyleView",
            "description_width": ""
          }
        },
        "75e7177b842a4d82b9786b1122d929ce": {
          "model_module": "@jupyter-widgets/base",
          "model_name": "LayoutModel",
          "model_module_version": "1.2.0",
          "state": {
            "_model_module": "@jupyter-widgets/base",
            "_model_module_version": "1.2.0",
            "_model_name": "LayoutModel",
            "_view_count": null,
            "_view_module": "@jupyter-widgets/base",
            "_view_module_version": "1.2.0",
            "_view_name": "LayoutView",
            "align_content": null,
            "align_items": null,
            "align_self": null,
            "border": null,
            "bottom": null,
            "display": null,
            "flex": null,
            "flex_flow": null,
            "grid_area": null,
            "grid_auto_columns": null,
            "grid_auto_flow": null,
            "grid_auto_rows": null,
            "grid_column": null,
            "grid_gap": null,
            "grid_row": null,
            "grid_template_areas": null,
            "grid_template_columns": null,
            "grid_template_rows": null,
            "height": null,
            "justify_content": null,
            "justify_items": null,
            "left": null,
            "margin": null,
            "max_height": null,
            "max_width": null,
            "min_height": null,
            "min_width": null,
            "object_fit": null,
            "object_position": null,
            "order": null,
            "overflow": null,
            "overflow_x": null,
            "overflow_y": null,
            "padding": null,
            "right": null,
            "top": null,
            "visibility": null,
            "width": null
          }
        },
        "ea46d9bab1fd40cf9e87fd46cacefdca": {
          "model_module": "@jupyter-widgets/controls",
          "model_name": "ProgressStyleModel",
          "model_module_version": "1.5.0",
          "state": {
            "_model_module": "@jupyter-widgets/controls",
            "_model_module_version": "1.5.0",
            "_model_name": "ProgressStyleModel",
            "_view_count": null,
            "_view_module": "@jupyter-widgets/base",
            "_view_module_version": "1.2.0",
            "_view_name": "StyleView",
            "bar_color": null,
            "description_width": ""
          }
        },
        "3ddbfc7cafe1486abb03e3933635fb92": {
          "model_module": "@jupyter-widgets/base",
          "model_name": "LayoutModel",
          "model_module_version": "1.2.0",
          "state": {
            "_model_module": "@jupyter-widgets/base",
            "_model_module_version": "1.2.0",
            "_model_name": "LayoutModel",
            "_view_count": null,
            "_view_module": "@jupyter-widgets/base",
            "_view_module_version": "1.2.0",
            "_view_name": "LayoutView",
            "align_content": null,
            "align_items": null,
            "align_self": null,
            "border": null,
            "bottom": null,
            "display": null,
            "flex": null,
            "flex_flow": null,
            "grid_area": null,
            "grid_auto_columns": null,
            "grid_auto_flow": null,
            "grid_auto_rows": null,
            "grid_column": null,
            "grid_gap": null,
            "grid_row": null,
            "grid_template_areas": null,
            "grid_template_columns": null,
            "grid_template_rows": null,
            "height": null,
            "justify_content": null,
            "justify_items": null,
            "left": null,
            "margin": null,
            "max_height": null,
            "max_width": null,
            "min_height": null,
            "min_width": null,
            "object_fit": null,
            "object_position": null,
            "order": null,
            "overflow": null,
            "overflow_x": null,
            "overflow_y": null,
            "padding": null,
            "right": null,
            "top": null,
            "visibility": null,
            "width": null
          }
        },
        "0c9b2a4703714222ae22e5e9a2a28b19": {
          "model_module": "@jupyter-widgets/controls",
          "model_name": "DescriptionStyleModel",
          "model_module_version": "1.5.0",
          "state": {
            "_model_module": "@jupyter-widgets/controls",
            "_model_module_version": "1.5.0",
            "_model_name": "DescriptionStyleModel",
            "_view_count": null,
            "_view_module": "@jupyter-widgets/base",
            "_view_module_version": "1.2.0",
            "_view_name": "StyleView",
            "description_width": ""
          }
        },
        "0c150c0b26a64dffba6037c7780baf8b": {
          "model_module": "@jupyter-widgets/controls",
          "model_name": "HBoxModel",
          "model_module_version": "1.5.0",
          "state": {
            "_dom_classes": [],
            "_model_module": "@jupyter-widgets/controls",
            "_model_module_version": "1.5.0",
            "_model_name": "HBoxModel",
            "_view_count": null,
            "_view_module": "@jupyter-widgets/controls",
            "_view_module_version": "1.5.0",
            "_view_name": "HBoxView",
            "box_style": "",
            "children": [
              "IPY_MODEL_0b06c91ac0a54f7b921d5aa294e43ef4",
              "IPY_MODEL_d7dd610e48714f0b937a45ad4124bca1",
              "IPY_MODEL_aaa0461bf2b1450982f792ac516aba8c"
            ],
            "layout": "IPY_MODEL_37d45d68132d46218496ed78da07e24c"
          }
        },
        "0b06c91ac0a54f7b921d5aa294e43ef4": {
          "model_module": "@jupyter-widgets/controls",
          "model_name": "HTMLModel",
          "model_module_version": "1.5.0",
          "state": {
            "_dom_classes": [],
            "_model_module": "@jupyter-widgets/controls",
            "_model_module_version": "1.5.0",
            "_model_name": "HTMLModel",
            "_view_count": null,
            "_view_module": "@jupyter-widgets/controls",
            "_view_module_version": "1.5.0",
            "_view_name": "HTMLView",
            "description": "",
            "description_tooltip": null,
            "layout": "IPY_MODEL_a011becbfe8a4e54a307ad467d40ba23",
            "placeholder": "​",
            "style": "IPY_MODEL_ba466579b121446d8a11c1f8429eeb1e",
            "value": "tokenizer_config.json: 100%"
          }
        },
        "d7dd610e48714f0b937a45ad4124bca1": {
          "model_module": "@jupyter-widgets/controls",
          "model_name": "FloatProgressModel",
          "model_module_version": "1.5.0",
          "state": {
            "_dom_classes": [],
            "_model_module": "@jupyter-widgets/controls",
            "_model_module_version": "1.5.0",
            "_model_name": "FloatProgressModel",
            "_view_count": null,
            "_view_module": "@jupyter-widgets/controls",
            "_view_module_version": "1.5.0",
            "_view_name": "ProgressView",
            "bar_style": "success",
            "description": "",
            "description_tooltip": null,
            "layout": "IPY_MODEL_55fb9fcf0f5e4bb69d4f41dada597528",
            "max": 453,
            "min": 0,
            "orientation": "horizontal",
            "style": "IPY_MODEL_8a94b62146734c77972c3323bfe9f2a0",
            "value": 453
          }
        },
        "aaa0461bf2b1450982f792ac516aba8c": {
          "model_module": "@jupyter-widgets/controls",
          "model_name": "HTMLModel",
          "model_module_version": "1.5.0",
          "state": {
            "_dom_classes": [],
            "_model_module": "@jupyter-widgets/controls",
            "_model_module_version": "1.5.0",
            "_model_name": "HTMLModel",
            "_view_count": null,
            "_view_module": "@jupyter-widgets/controls",
            "_view_module_version": "1.5.0",
            "_view_name": "HTMLView",
            "description": "",
            "description_tooltip": null,
            "layout": "IPY_MODEL_c2fe01b137be46febd8e8ef11fc35c68",
            "placeholder": "​",
            "style": "IPY_MODEL_e9de4bad32d045c1ba52dc3d835e5a37",
            "value": " 453/453 [00:00&lt;00:00, 27.4kB/s]"
          }
        },
        "37d45d68132d46218496ed78da07e24c": {
          "model_module": "@jupyter-widgets/base",
          "model_name": "LayoutModel",
          "model_module_version": "1.2.0",
          "state": {
            "_model_module": "@jupyter-widgets/base",
            "_model_module_version": "1.2.0",
            "_model_name": "LayoutModel",
            "_view_count": null,
            "_view_module": "@jupyter-widgets/base",
            "_view_module_version": "1.2.0",
            "_view_name": "LayoutView",
            "align_content": null,
            "align_items": null,
            "align_self": null,
            "border": null,
            "bottom": null,
            "display": null,
            "flex": null,
            "flex_flow": null,
            "grid_area": null,
            "grid_auto_columns": null,
            "grid_auto_flow": null,
            "grid_auto_rows": null,
            "grid_column": null,
            "grid_gap": null,
            "grid_row": null,
            "grid_template_areas": null,
            "grid_template_columns": null,
            "grid_template_rows": null,
            "height": null,
            "justify_content": null,
            "justify_items": null,
            "left": null,
            "margin": null,
            "max_height": null,
            "max_width": null,
            "min_height": null,
            "min_width": null,
            "object_fit": null,
            "object_position": null,
            "order": null,
            "overflow": null,
            "overflow_x": null,
            "overflow_y": null,
            "padding": null,
            "right": null,
            "top": null,
            "visibility": null,
            "width": null
          }
        },
        "a011becbfe8a4e54a307ad467d40ba23": {
          "model_module": "@jupyter-widgets/base",
          "model_name": "LayoutModel",
          "model_module_version": "1.2.0",
          "state": {
            "_model_module": "@jupyter-widgets/base",
            "_model_module_version": "1.2.0",
            "_model_name": "LayoutModel",
            "_view_count": null,
            "_view_module": "@jupyter-widgets/base",
            "_view_module_version": "1.2.0",
            "_view_name": "LayoutView",
            "align_content": null,
            "align_items": null,
            "align_self": null,
            "border": null,
            "bottom": null,
            "display": null,
            "flex": null,
            "flex_flow": null,
            "grid_area": null,
            "grid_auto_columns": null,
            "grid_auto_flow": null,
            "grid_auto_rows": null,
            "grid_column": null,
            "grid_gap": null,
            "grid_row": null,
            "grid_template_areas": null,
            "grid_template_columns": null,
            "grid_template_rows": null,
            "height": null,
            "justify_content": null,
            "justify_items": null,
            "left": null,
            "margin": null,
            "max_height": null,
            "max_width": null,
            "min_height": null,
            "min_width": null,
            "object_fit": null,
            "object_position": null,
            "order": null,
            "overflow": null,
            "overflow_x": null,
            "overflow_y": null,
            "padding": null,
            "right": null,
            "top": null,
            "visibility": null,
            "width": null
          }
        },
        "ba466579b121446d8a11c1f8429eeb1e": {
          "model_module": "@jupyter-widgets/controls",
          "model_name": "DescriptionStyleModel",
          "model_module_version": "1.5.0",
          "state": {
            "_model_module": "@jupyter-widgets/controls",
            "_model_module_version": "1.5.0",
            "_model_name": "DescriptionStyleModel",
            "_view_count": null,
            "_view_module": "@jupyter-widgets/base",
            "_view_module_version": "1.2.0",
            "_view_name": "StyleView",
            "description_width": ""
          }
        },
        "55fb9fcf0f5e4bb69d4f41dada597528": {
          "model_module": "@jupyter-widgets/base",
          "model_name": "LayoutModel",
          "model_module_version": "1.2.0",
          "state": {
            "_model_module": "@jupyter-widgets/base",
            "_model_module_version": "1.2.0",
            "_model_name": "LayoutModel",
            "_view_count": null,
            "_view_module": "@jupyter-widgets/base",
            "_view_module_version": "1.2.0",
            "_view_name": "LayoutView",
            "align_content": null,
            "align_items": null,
            "align_self": null,
            "border": null,
            "bottom": null,
            "display": null,
            "flex": null,
            "flex_flow": null,
            "grid_area": null,
            "grid_auto_columns": null,
            "grid_auto_flow": null,
            "grid_auto_rows": null,
            "grid_column": null,
            "grid_gap": null,
            "grid_row": null,
            "grid_template_areas": null,
            "grid_template_columns": null,
            "grid_template_rows": null,
            "height": null,
            "justify_content": null,
            "justify_items": null,
            "left": null,
            "margin": null,
            "max_height": null,
            "max_width": null,
            "min_height": null,
            "min_width": null,
            "object_fit": null,
            "object_position": null,
            "order": null,
            "overflow": null,
            "overflow_x": null,
            "overflow_y": null,
            "padding": null,
            "right": null,
            "top": null,
            "visibility": null,
            "width": null
          }
        },
        "8a94b62146734c77972c3323bfe9f2a0": {
          "model_module": "@jupyter-widgets/controls",
          "model_name": "ProgressStyleModel",
          "model_module_version": "1.5.0",
          "state": {
            "_model_module": "@jupyter-widgets/controls",
            "_model_module_version": "1.5.0",
            "_model_name": "ProgressStyleModel",
            "_view_count": null,
            "_view_module": "@jupyter-widgets/base",
            "_view_module_version": "1.2.0",
            "_view_name": "StyleView",
            "bar_color": null,
            "description_width": ""
          }
        },
        "c2fe01b137be46febd8e8ef11fc35c68": {
          "model_module": "@jupyter-widgets/base",
          "model_name": "LayoutModel",
          "model_module_version": "1.2.0",
          "state": {
            "_model_module": "@jupyter-widgets/base",
            "_model_module_version": "1.2.0",
            "_model_name": "LayoutModel",
            "_view_count": null,
            "_view_module": "@jupyter-widgets/base",
            "_view_module_version": "1.2.0",
            "_view_name": "LayoutView",
            "align_content": null,
            "align_items": null,
            "align_self": null,
            "border": null,
            "bottom": null,
            "display": null,
            "flex": null,
            "flex_flow": null,
            "grid_area": null,
            "grid_auto_columns": null,
            "grid_auto_flow": null,
            "grid_auto_rows": null,
            "grid_column": null,
            "grid_gap": null,
            "grid_row": null,
            "grid_template_areas": null,
            "grid_template_columns": null,
            "grid_template_rows": null,
            "height": null,
            "justify_content": null,
            "justify_items": null,
            "left": null,
            "margin": null,
            "max_height": null,
            "max_width": null,
            "min_height": null,
            "min_width": null,
            "object_fit": null,
            "object_position": null,
            "order": null,
            "overflow": null,
            "overflow_x": null,
            "overflow_y": null,
            "padding": null,
            "right": null,
            "top": null,
            "visibility": null,
            "width": null
          }
        },
        "e9de4bad32d045c1ba52dc3d835e5a37": {
          "model_module": "@jupyter-widgets/controls",
          "model_name": "DescriptionStyleModel",
          "model_module_version": "1.5.0",
          "state": {
            "_model_module": "@jupyter-widgets/controls",
            "_model_module_version": "1.5.0",
            "_model_name": "DescriptionStyleModel",
            "_view_count": null,
            "_view_module": "@jupyter-widgets/base",
            "_view_module_version": "1.2.0",
            "_view_name": "StyleView",
            "description_width": ""
          }
        },
        "3e4d86f268184912aa3f0f22bc0bfbff": {
          "model_module": "@jupyter-widgets/controls",
          "model_name": "HBoxModel",
          "model_module_version": "1.5.0",
          "state": {
            "_dom_classes": [],
            "_model_module": "@jupyter-widgets/controls",
            "_model_module_version": "1.5.0",
            "_model_name": "HBoxModel",
            "_view_count": null,
            "_view_module": "@jupyter-widgets/controls",
            "_view_module_version": "1.5.0",
            "_view_name": "HBoxView",
            "box_style": "",
            "children": [
              "IPY_MODEL_44d9cb32cd924f9cb279d7cc99cb46fa",
              "IPY_MODEL_cb15c46131c34f60a2603b76cdcb164a",
              "IPY_MODEL_8fd6be44c54d4a8d961fd540f30e772e"
            ],
            "layout": "IPY_MODEL_33a0252bd266499bbd0a0f67843573a8"
          }
        },
        "44d9cb32cd924f9cb279d7cc99cb46fa": {
          "model_module": "@jupyter-widgets/controls",
          "model_name": "HTMLModel",
          "model_module_version": "1.5.0",
          "state": {
            "_dom_classes": [],
            "_model_module": "@jupyter-widgets/controls",
            "_model_module_version": "1.5.0",
            "_model_name": "HTMLModel",
            "_view_count": null,
            "_view_module": "@jupyter-widgets/controls",
            "_view_module_version": "1.5.0",
            "_view_name": "HTMLView",
            "description": "",
            "description_tooltip": null,
            "layout": "IPY_MODEL_c07990187a664b39b582130b6f045e87",
            "placeholder": "​",
            "style": "IPY_MODEL_17358bf018af49d2886ca44c4f93747e",
            "value": "tokenizer.json: 100%"
          }
        },
        "cb15c46131c34f60a2603b76cdcb164a": {
          "model_module": "@jupyter-widgets/controls",
          "model_name": "FloatProgressModel",
          "model_module_version": "1.5.0",
          "state": {
            "_dom_classes": [],
            "_model_module": "@jupyter-widgets/controls",
            "_model_module_version": "1.5.0",
            "_model_name": "FloatProgressModel",
            "_view_count": null,
            "_view_module": "@jupyter-widgets/controls",
            "_view_module_version": "1.5.0",
            "_view_name": "ProgressView",
            "bar_style": "success",
            "description": "",
            "description_tooltip": null,
            "layout": "IPY_MODEL_355b6c29171e44269a856d5b67e2caa6",
            "max": 16316053,
            "min": 0,
            "orientation": "horizontal",
            "style": "IPY_MODEL_247ef18b553f45a6ba6638944abab6f4",
            "value": 16316053
          }
        },
        "8fd6be44c54d4a8d961fd540f30e772e": {
          "model_module": "@jupyter-widgets/controls",
          "model_name": "HTMLModel",
          "model_module_version": "1.5.0",
          "state": {
            "_dom_classes": [],
            "_model_module": "@jupyter-widgets/controls",
            "_model_module_version": "1.5.0",
            "_model_name": "HTMLModel",
            "_view_count": null,
            "_view_module": "@jupyter-widgets/controls",
            "_view_module_version": "1.5.0",
            "_view_name": "HTMLView",
            "description": "",
            "description_tooltip": null,
            "layout": "IPY_MODEL_01946fcc1d0d46649427ca6347c0fe99",
            "placeholder": "​",
            "style": "IPY_MODEL_74d43dd0694847bbb9689ebe934f6a36",
            "value": " 16.3M/16.3M [00:00&lt;00:00, 94.6MB/s]"
          }
        },
        "33a0252bd266499bbd0a0f67843573a8": {
          "model_module": "@jupyter-widgets/base",
          "model_name": "LayoutModel",
          "model_module_version": "1.2.0",
          "state": {
            "_model_module": "@jupyter-widgets/base",
            "_model_module_version": "1.2.0",
            "_model_name": "LayoutModel",
            "_view_count": null,
            "_view_module": "@jupyter-widgets/base",
            "_view_module_version": "1.2.0",
            "_view_name": "LayoutView",
            "align_content": null,
            "align_items": null,
            "align_self": null,
            "border": null,
            "bottom": null,
            "display": null,
            "flex": null,
            "flex_flow": null,
            "grid_area": null,
            "grid_auto_columns": null,
            "grid_auto_flow": null,
            "grid_auto_rows": null,
            "grid_column": null,
            "grid_gap": null,
            "grid_row": null,
            "grid_template_areas": null,
            "grid_template_columns": null,
            "grid_template_rows": null,
            "height": null,
            "justify_content": null,
            "justify_items": null,
            "left": null,
            "margin": null,
            "max_height": null,
            "max_width": null,
            "min_height": null,
            "min_width": null,
            "object_fit": null,
            "object_position": null,
            "order": null,
            "overflow": null,
            "overflow_x": null,
            "overflow_y": null,
            "padding": null,
            "right": null,
            "top": null,
            "visibility": null,
            "width": null
          }
        },
        "c07990187a664b39b582130b6f045e87": {
          "model_module": "@jupyter-widgets/base",
          "model_name": "LayoutModel",
          "model_module_version": "1.2.0",
          "state": {
            "_model_module": "@jupyter-widgets/base",
            "_model_module_version": "1.2.0",
            "_model_name": "LayoutModel",
            "_view_count": null,
            "_view_module": "@jupyter-widgets/base",
            "_view_module_version": "1.2.0",
            "_view_name": "LayoutView",
            "align_content": null,
            "align_items": null,
            "align_self": null,
            "border": null,
            "bottom": null,
            "display": null,
            "flex": null,
            "flex_flow": null,
            "grid_area": null,
            "grid_auto_columns": null,
            "grid_auto_flow": null,
            "grid_auto_rows": null,
            "grid_column": null,
            "grid_gap": null,
            "grid_row": null,
            "grid_template_areas": null,
            "grid_template_columns": null,
            "grid_template_rows": null,
            "height": null,
            "justify_content": null,
            "justify_items": null,
            "left": null,
            "margin": null,
            "max_height": null,
            "max_width": null,
            "min_height": null,
            "min_width": null,
            "object_fit": null,
            "object_position": null,
            "order": null,
            "overflow": null,
            "overflow_x": null,
            "overflow_y": null,
            "padding": null,
            "right": null,
            "top": null,
            "visibility": null,
            "width": null
          }
        },
        "17358bf018af49d2886ca44c4f93747e": {
          "model_module": "@jupyter-widgets/controls",
          "model_name": "DescriptionStyleModel",
          "model_module_version": "1.5.0",
          "state": {
            "_model_module": "@jupyter-widgets/controls",
            "_model_module_version": "1.5.0",
            "_model_name": "DescriptionStyleModel",
            "_view_count": null,
            "_view_module": "@jupyter-widgets/base",
            "_view_module_version": "1.2.0",
            "_view_name": "StyleView",
            "description_width": ""
          }
        },
        "355b6c29171e44269a856d5b67e2caa6": {
          "model_module": "@jupyter-widgets/base",
          "model_name": "LayoutModel",
          "model_module_version": "1.2.0",
          "state": {
            "_model_module": "@jupyter-widgets/base",
            "_model_module_version": "1.2.0",
            "_model_name": "LayoutModel",
            "_view_count": null,
            "_view_module": "@jupyter-widgets/base",
            "_view_module_version": "1.2.0",
            "_view_name": "LayoutView",
            "align_content": null,
            "align_items": null,
            "align_self": null,
            "border": null,
            "bottom": null,
            "display": null,
            "flex": null,
            "flex_flow": null,
            "grid_area": null,
            "grid_auto_columns": null,
            "grid_auto_flow": null,
            "grid_auto_rows": null,
            "grid_column": null,
            "grid_gap": null,
            "grid_row": null,
            "grid_template_areas": null,
            "grid_template_columns": null,
            "grid_template_rows": null,
            "height": null,
            "justify_content": null,
            "justify_items": null,
            "left": null,
            "margin": null,
            "max_height": null,
            "max_width": null,
            "min_height": null,
            "min_width": null,
            "object_fit": null,
            "object_position": null,
            "order": null,
            "overflow": null,
            "overflow_x": null,
            "overflow_y": null,
            "padding": null,
            "right": null,
            "top": null,
            "visibility": null,
            "width": null
          }
        },
        "247ef18b553f45a6ba6638944abab6f4": {
          "model_module": "@jupyter-widgets/controls",
          "model_name": "ProgressStyleModel",
          "model_module_version": "1.5.0",
          "state": {
            "_model_module": "@jupyter-widgets/controls",
            "_model_module_version": "1.5.0",
            "_model_name": "ProgressStyleModel",
            "_view_count": null,
            "_view_module": "@jupyter-widgets/base",
            "_view_module_version": "1.2.0",
            "_view_name": "StyleView",
            "bar_color": null,
            "description_width": ""
          }
        },
        "01946fcc1d0d46649427ca6347c0fe99": {
          "model_module": "@jupyter-widgets/base",
          "model_name": "LayoutModel",
          "model_module_version": "1.2.0",
          "state": {
            "_model_module": "@jupyter-widgets/base",
            "_model_module_version": "1.2.0",
            "_model_name": "LayoutModel",
            "_view_count": null,
            "_view_module": "@jupyter-widgets/base",
            "_view_module_version": "1.2.0",
            "_view_name": "LayoutView",
            "align_content": null,
            "align_items": null,
            "align_self": null,
            "border": null,
            "bottom": null,
            "display": null,
            "flex": null,
            "flex_flow": null,
            "grid_area": null,
            "grid_auto_columns": null,
            "grid_auto_flow": null,
            "grid_auto_rows": null,
            "grid_column": null,
            "grid_gap": null,
            "grid_row": null,
            "grid_template_areas": null,
            "grid_template_columns": null,
            "grid_template_rows": null,
            "height": null,
            "justify_content": null,
            "justify_items": null,
            "left": null,
            "margin": null,
            "max_height": null,
            "max_width": null,
            "min_height": null,
            "min_width": null,
            "object_fit": null,
            "object_position": null,
            "order": null,
            "overflow": null,
            "overflow_x": null,
            "overflow_y": null,
            "padding": null,
            "right": null,
            "top": null,
            "visibility": null,
            "width": null
          }
        },
        "74d43dd0694847bbb9689ebe934f6a36": {
          "model_module": "@jupyter-widgets/controls",
          "model_name": "DescriptionStyleModel",
          "model_module_version": "1.5.0",
          "state": {
            "_model_module": "@jupyter-widgets/controls",
            "_model_module_version": "1.5.0",
            "_model_name": "DescriptionStyleModel",
            "_view_count": null,
            "_view_module": "@jupyter-widgets/base",
            "_view_module_version": "1.2.0",
            "_view_name": "StyleView",
            "description_width": ""
          }
        },
        "d56b4f4a649d48548bb04c005130ebac": {
          "model_module": "@jupyter-widgets/controls",
          "model_name": "HBoxModel",
          "model_module_version": "1.5.0",
          "state": {
            "_dom_classes": [],
            "_model_module": "@jupyter-widgets/controls",
            "_model_module_version": "1.5.0",
            "_model_name": "HBoxModel",
            "_view_count": null,
            "_view_module": "@jupyter-widgets/controls",
            "_view_module_version": "1.5.0",
            "_view_name": "HBoxView",
            "box_style": "",
            "children": [
              "IPY_MODEL_a9bda9ce7a5f4a1b97f6132f0e2f2305",
              "IPY_MODEL_d49fbd9c6d2342b88f8d1f050b2415f2",
              "IPY_MODEL_e2d3f8e374034f5fbb69d0a7722e5d28"
            ],
            "layout": "IPY_MODEL_09877d9bf00541aabc148d548a003781"
          }
        },
        "a9bda9ce7a5f4a1b97f6132f0e2f2305": {
          "model_module": "@jupyter-widgets/controls",
          "model_name": "HTMLModel",
          "model_module_version": "1.5.0",
          "state": {
            "_dom_classes": [],
            "_model_module": "@jupyter-widgets/controls",
            "_model_module_version": "1.5.0",
            "_model_name": "HTMLModel",
            "_view_count": null,
            "_view_module": "@jupyter-widgets/controls",
            "_view_module_version": "1.5.0",
            "_view_name": "HTMLView",
            "description": "",
            "description_tooltip": null,
            "layout": "IPY_MODEL_5bda8019f1564e7893689a24fa9b623f",
            "placeholder": "​",
            "style": "IPY_MODEL_ba5f749f65a54e3cb66d5d60f33e2bf2",
            "value": "added_tokens.json: 100%"
          }
        },
        "d49fbd9c6d2342b88f8d1f050b2415f2": {
          "model_module": "@jupyter-widgets/controls",
          "model_name": "FloatProgressModel",
          "model_module_version": "1.5.0",
          "state": {
            "_dom_classes": [],
            "_model_module": "@jupyter-widgets/controls",
            "_model_module_version": "1.5.0",
            "_model_name": "FloatProgressModel",
            "_view_count": null,
            "_view_module": "@jupyter-widgets/controls",
            "_view_module_version": "1.5.0",
            "_view_name": "ProgressView",
            "bar_style": "success",
            "description": "",
            "description_tooltip": null,
            "layout": "IPY_MODEL_e12d33fc15af4ab593c5abb2b44a1cc4",
            "max": 23,
            "min": 0,
            "orientation": "horizontal",
            "style": "IPY_MODEL_69e34f4ca5bb4649a0f3bfbdfe7442a3",
            "value": 23
          }
        },
        "e2d3f8e374034f5fbb69d0a7722e5d28": {
          "model_module": "@jupyter-widgets/controls",
          "model_name": "HTMLModel",
          "model_module_version": "1.5.0",
          "state": {
            "_dom_classes": [],
            "_model_module": "@jupyter-widgets/controls",
            "_model_module_version": "1.5.0",
            "_model_name": "HTMLModel",
            "_view_count": null,
            "_view_module": "@jupyter-widgets/controls",
            "_view_module_version": "1.5.0",
            "_view_name": "HTMLView",
            "description": "",
            "description_tooltip": null,
            "layout": "IPY_MODEL_851c1afbd7b44d0f9bd88974d1ef2876",
            "placeholder": "​",
            "style": "IPY_MODEL_35d24c68ad7943619f3de6d3c4301760",
            "value": " 23.0/23.0 [00:00&lt;00:00, 1.06kB/s]"
          }
        },
        "09877d9bf00541aabc148d548a003781": {
          "model_module": "@jupyter-widgets/base",
          "model_name": "LayoutModel",
          "model_module_version": "1.2.0",
          "state": {
            "_model_module": "@jupyter-widgets/base",
            "_model_module_version": "1.2.0",
            "_model_name": "LayoutModel",
            "_view_count": null,
            "_view_module": "@jupyter-widgets/base",
            "_view_module_version": "1.2.0",
            "_view_name": "LayoutView",
            "align_content": null,
            "align_items": null,
            "align_self": null,
            "border": null,
            "bottom": null,
            "display": null,
            "flex": null,
            "flex_flow": null,
            "grid_area": null,
            "grid_auto_columns": null,
            "grid_auto_flow": null,
            "grid_auto_rows": null,
            "grid_column": null,
            "grid_gap": null,
            "grid_row": null,
            "grid_template_areas": null,
            "grid_template_columns": null,
            "grid_template_rows": null,
            "height": null,
            "justify_content": null,
            "justify_items": null,
            "left": null,
            "margin": null,
            "max_height": null,
            "max_width": null,
            "min_height": null,
            "min_width": null,
            "object_fit": null,
            "object_position": null,
            "order": null,
            "overflow": null,
            "overflow_x": null,
            "overflow_y": null,
            "padding": null,
            "right": null,
            "top": null,
            "visibility": null,
            "width": null
          }
        },
        "5bda8019f1564e7893689a24fa9b623f": {
          "model_module": "@jupyter-widgets/base",
          "model_name": "LayoutModel",
          "model_module_version": "1.2.0",
          "state": {
            "_model_module": "@jupyter-widgets/base",
            "_model_module_version": "1.2.0",
            "_model_name": "LayoutModel",
            "_view_count": null,
            "_view_module": "@jupyter-widgets/base",
            "_view_module_version": "1.2.0",
            "_view_name": "LayoutView",
            "align_content": null,
            "align_items": null,
            "align_self": null,
            "border": null,
            "bottom": null,
            "display": null,
            "flex": null,
            "flex_flow": null,
            "grid_area": null,
            "grid_auto_columns": null,
            "grid_auto_flow": null,
            "grid_auto_rows": null,
            "grid_column": null,
            "grid_gap": null,
            "grid_row": null,
            "grid_template_areas": null,
            "grid_template_columns": null,
            "grid_template_rows": null,
            "height": null,
            "justify_content": null,
            "justify_items": null,
            "left": null,
            "margin": null,
            "max_height": null,
            "max_width": null,
            "min_height": null,
            "min_width": null,
            "object_fit": null,
            "object_position": null,
            "order": null,
            "overflow": null,
            "overflow_x": null,
            "overflow_y": null,
            "padding": null,
            "right": null,
            "top": null,
            "visibility": null,
            "width": null
          }
        },
        "ba5f749f65a54e3cb66d5d60f33e2bf2": {
          "model_module": "@jupyter-widgets/controls",
          "model_name": "DescriptionStyleModel",
          "model_module_version": "1.5.0",
          "state": {
            "_model_module": "@jupyter-widgets/controls",
            "_model_module_version": "1.5.0",
            "_model_name": "DescriptionStyleModel",
            "_view_count": null,
            "_view_module": "@jupyter-widgets/base",
            "_view_module_version": "1.2.0",
            "_view_name": "StyleView",
            "description_width": ""
          }
        },
        "e12d33fc15af4ab593c5abb2b44a1cc4": {
          "model_module": "@jupyter-widgets/base",
          "model_name": "LayoutModel",
          "model_module_version": "1.2.0",
          "state": {
            "_model_module": "@jupyter-widgets/base",
            "_model_module_version": "1.2.0",
            "_model_name": "LayoutModel",
            "_view_count": null,
            "_view_module": "@jupyter-widgets/base",
            "_view_module_version": "1.2.0",
            "_view_name": "LayoutView",
            "align_content": null,
            "align_items": null,
            "align_self": null,
            "border": null,
            "bottom": null,
            "display": null,
            "flex": null,
            "flex_flow": null,
            "grid_area": null,
            "grid_auto_columns": null,
            "grid_auto_flow": null,
            "grid_auto_rows": null,
            "grid_column": null,
            "grid_gap": null,
            "grid_row": null,
            "grid_template_areas": null,
            "grid_template_columns": null,
            "grid_template_rows": null,
            "height": null,
            "justify_content": null,
            "justify_items": null,
            "left": null,
            "margin": null,
            "max_height": null,
            "max_width": null,
            "min_height": null,
            "min_width": null,
            "object_fit": null,
            "object_position": null,
            "order": null,
            "overflow": null,
            "overflow_x": null,
            "overflow_y": null,
            "padding": null,
            "right": null,
            "top": null,
            "visibility": null,
            "width": null
          }
        },
        "69e34f4ca5bb4649a0f3bfbdfe7442a3": {
          "model_module": "@jupyter-widgets/controls",
          "model_name": "ProgressStyleModel",
          "model_module_version": "1.5.0",
          "state": {
            "_model_module": "@jupyter-widgets/controls",
            "_model_module_version": "1.5.0",
            "_model_name": "ProgressStyleModel",
            "_view_count": null,
            "_view_module": "@jupyter-widgets/base",
            "_view_module_version": "1.2.0",
            "_view_name": "StyleView",
            "bar_color": null,
            "description_width": ""
          }
        },
        "851c1afbd7b44d0f9bd88974d1ef2876": {
          "model_module": "@jupyter-widgets/base",
          "model_name": "LayoutModel",
          "model_module_version": "1.2.0",
          "state": {
            "_model_module": "@jupyter-widgets/base",
            "_model_module_version": "1.2.0",
            "_model_name": "LayoutModel",
            "_view_count": null,
            "_view_module": "@jupyter-widgets/base",
            "_view_module_version": "1.2.0",
            "_view_name": "LayoutView",
            "align_content": null,
            "align_items": null,
            "align_self": null,
            "border": null,
            "bottom": null,
            "display": null,
            "flex": null,
            "flex_flow": null,
            "grid_area": null,
            "grid_auto_columns": null,
            "grid_auto_flow": null,
            "grid_auto_rows": null,
            "grid_column": null,
            "grid_gap": null,
            "grid_row": null,
            "grid_template_areas": null,
            "grid_template_columns": null,
            "grid_template_rows": null,
            "height": null,
            "justify_content": null,
            "justify_items": null,
            "left": null,
            "margin": null,
            "max_height": null,
            "max_width": null,
            "min_height": null,
            "min_width": null,
            "object_fit": null,
            "object_position": null,
            "order": null,
            "overflow": null,
            "overflow_x": null,
            "overflow_y": null,
            "padding": null,
            "right": null,
            "top": null,
            "visibility": null,
            "width": null
          }
        },
        "35d24c68ad7943619f3de6d3c4301760": {
          "model_module": "@jupyter-widgets/controls",
          "model_name": "DescriptionStyleModel",
          "model_module_version": "1.5.0",
          "state": {
            "_model_module": "@jupyter-widgets/controls",
            "_model_module_version": "1.5.0",
            "_model_name": "DescriptionStyleModel",
            "_view_count": null,
            "_view_module": "@jupyter-widgets/base",
            "_view_module_version": "1.2.0",
            "_view_name": "StyleView",
            "description_width": ""
          }
        },
        "c6b083eb990b49939d53813accf048d0": {
          "model_module": "@jupyter-widgets/controls",
          "model_name": "HBoxModel",
          "model_module_version": "1.5.0",
          "state": {
            "_dom_classes": [],
            "_model_module": "@jupyter-widgets/controls",
            "_model_module_version": "1.5.0",
            "_model_name": "HBoxModel",
            "_view_count": null,
            "_view_module": "@jupyter-widgets/controls",
            "_view_module_version": "1.5.0",
            "_view_name": "HBoxView",
            "box_style": "",
            "children": [
              "IPY_MODEL_48f714e236db439088a4de0063d1f8af",
              "IPY_MODEL_3a20bd07319246e8866af1a5e10838e0",
              "IPY_MODEL_3f0e19788f404351bd1f0c6002da6e35"
            ],
            "layout": "IPY_MODEL_d3e3a5aa5dce42e6a38e058bb9af844d"
          }
        },
        "48f714e236db439088a4de0063d1f8af": {
          "model_module": "@jupyter-widgets/controls",
          "model_name": "HTMLModel",
          "model_module_version": "1.5.0",
          "state": {
            "_dom_classes": [],
            "_model_module": "@jupyter-widgets/controls",
            "_model_module_version": "1.5.0",
            "_model_name": "HTMLModel",
            "_view_count": null,
            "_view_module": "@jupyter-widgets/controls",
            "_view_module_version": "1.5.0",
            "_view_name": "HTMLView",
            "description": "",
            "description_tooltip": null,
            "layout": "IPY_MODEL_4350f974f45345a9a6165e05da342b8c",
            "placeholder": "​",
            "style": "IPY_MODEL_b6cb58772ed84d4b9110d12f6b30389f",
            "value": "special_tokens_map.json: 100%"
          }
        },
        "3a20bd07319246e8866af1a5e10838e0": {
          "model_module": "@jupyter-widgets/controls",
          "model_name": "FloatProgressModel",
          "model_module_version": "1.5.0",
          "state": {
            "_dom_classes": [],
            "_model_module": "@jupyter-widgets/controls",
            "_model_module_version": "1.5.0",
            "_model_name": "FloatProgressModel",
            "_view_count": null,
            "_view_module": "@jupyter-widgets/controls",
            "_view_module_version": "1.5.0",
            "_view_name": "ProgressView",
            "bar_style": "success",
            "description": "",
            "description_tooltip": null,
            "layout": "IPY_MODEL_96f8bc54b9914cc1b36e87315c46b765",
            "max": 173,
            "min": 0,
            "orientation": "horizontal",
            "style": "IPY_MODEL_ab5b2f25a3f749169339b8228e357792",
            "value": 173
          }
        },
        "3f0e19788f404351bd1f0c6002da6e35": {
          "model_module": "@jupyter-widgets/controls",
          "model_name": "HTMLModel",
          "model_module_version": "1.5.0",
          "state": {
            "_dom_classes": [],
            "_model_module": "@jupyter-widgets/controls",
            "_model_module_version": "1.5.0",
            "_model_name": "HTMLModel",
            "_view_count": null,
            "_view_module": "@jupyter-widgets/controls",
            "_view_module_version": "1.5.0",
            "_view_name": "HTMLView",
            "description": "",
            "description_tooltip": null,
            "layout": "IPY_MODEL_0886a65907d24a4caa66be45357fbc6b",
            "placeholder": "​",
            "style": "IPY_MODEL_114a5e2db0bb41e28db240c0ce5bf4c2",
            "value": " 173/173 [00:00&lt;00:00, 9.35kB/s]"
          }
        },
        "d3e3a5aa5dce42e6a38e058bb9af844d": {
          "model_module": "@jupyter-widgets/base",
          "model_name": "LayoutModel",
          "model_module_version": "1.2.0",
          "state": {
            "_model_module": "@jupyter-widgets/base",
            "_model_module_version": "1.2.0",
            "_model_name": "LayoutModel",
            "_view_count": null,
            "_view_module": "@jupyter-widgets/base",
            "_view_module_version": "1.2.0",
            "_view_name": "LayoutView",
            "align_content": null,
            "align_items": null,
            "align_self": null,
            "border": null,
            "bottom": null,
            "display": null,
            "flex": null,
            "flex_flow": null,
            "grid_area": null,
            "grid_auto_columns": null,
            "grid_auto_flow": null,
            "grid_auto_rows": null,
            "grid_column": null,
            "grid_gap": null,
            "grid_row": null,
            "grid_template_areas": null,
            "grid_template_columns": null,
            "grid_template_rows": null,
            "height": null,
            "justify_content": null,
            "justify_items": null,
            "left": null,
            "margin": null,
            "max_height": null,
            "max_width": null,
            "min_height": null,
            "min_width": null,
            "object_fit": null,
            "object_position": null,
            "order": null,
            "overflow": null,
            "overflow_x": null,
            "overflow_y": null,
            "padding": null,
            "right": null,
            "top": null,
            "visibility": null,
            "width": null
          }
        },
        "4350f974f45345a9a6165e05da342b8c": {
          "model_module": "@jupyter-widgets/base",
          "model_name": "LayoutModel",
          "model_module_version": "1.2.0",
          "state": {
            "_model_module": "@jupyter-widgets/base",
            "_model_module_version": "1.2.0",
            "_model_name": "LayoutModel",
            "_view_count": null,
            "_view_module": "@jupyter-widgets/base",
            "_view_module_version": "1.2.0",
            "_view_name": "LayoutView",
            "align_content": null,
            "align_items": null,
            "align_self": null,
            "border": null,
            "bottom": null,
            "display": null,
            "flex": null,
            "flex_flow": null,
            "grid_area": null,
            "grid_auto_columns": null,
            "grid_auto_flow": null,
            "grid_auto_rows": null,
            "grid_column": null,
            "grid_gap": null,
            "grid_row": null,
            "grid_template_areas": null,
            "grid_template_columns": null,
            "grid_template_rows": null,
            "height": null,
            "justify_content": null,
            "justify_items": null,
            "left": null,
            "margin": null,
            "max_height": null,
            "max_width": null,
            "min_height": null,
            "min_width": null,
            "object_fit": null,
            "object_position": null,
            "order": null,
            "overflow": null,
            "overflow_x": null,
            "overflow_y": null,
            "padding": null,
            "right": null,
            "top": null,
            "visibility": null,
            "width": null
          }
        },
        "b6cb58772ed84d4b9110d12f6b30389f": {
          "model_module": "@jupyter-widgets/controls",
          "model_name": "DescriptionStyleModel",
          "model_module_version": "1.5.0",
          "state": {
            "_model_module": "@jupyter-widgets/controls",
            "_model_module_version": "1.5.0",
            "_model_name": "DescriptionStyleModel",
            "_view_count": null,
            "_view_module": "@jupyter-widgets/base",
            "_view_module_version": "1.2.0",
            "_view_name": "StyleView",
            "description_width": ""
          }
        },
        "96f8bc54b9914cc1b36e87315c46b765": {
          "model_module": "@jupyter-widgets/base",
          "model_name": "LayoutModel",
          "model_module_version": "1.2.0",
          "state": {
            "_model_module": "@jupyter-widgets/base",
            "_model_module_version": "1.2.0",
            "_model_name": "LayoutModel",
            "_view_count": null,
            "_view_module": "@jupyter-widgets/base",
            "_view_module_version": "1.2.0",
            "_view_name": "LayoutView",
            "align_content": null,
            "align_items": null,
            "align_self": null,
            "border": null,
            "bottom": null,
            "display": null,
            "flex": null,
            "flex_flow": null,
            "grid_area": null,
            "grid_auto_columns": null,
            "grid_auto_flow": null,
            "grid_auto_rows": null,
            "grid_column": null,
            "grid_gap": null,
            "grid_row": null,
            "grid_template_areas": null,
            "grid_template_columns": null,
            "grid_template_rows": null,
            "height": null,
            "justify_content": null,
            "justify_items": null,
            "left": null,
            "margin": null,
            "max_height": null,
            "max_width": null,
            "min_height": null,
            "min_width": null,
            "object_fit": null,
            "object_position": null,
            "order": null,
            "overflow": null,
            "overflow_x": null,
            "overflow_y": null,
            "padding": null,
            "right": null,
            "top": null,
            "visibility": null,
            "width": null
          }
        },
        "ab5b2f25a3f749169339b8228e357792": {
          "model_module": "@jupyter-widgets/controls",
          "model_name": "ProgressStyleModel",
          "model_module_version": "1.5.0",
          "state": {
            "_model_module": "@jupyter-widgets/controls",
            "_model_module_version": "1.5.0",
            "_model_name": "ProgressStyleModel",
            "_view_count": null,
            "_view_module": "@jupyter-widgets/base",
            "_view_module_version": "1.2.0",
            "_view_name": "StyleView",
            "bar_color": null,
            "description_width": ""
          }
        },
        "0886a65907d24a4caa66be45357fbc6b": {
          "model_module": "@jupyter-widgets/base",
          "model_name": "LayoutModel",
          "model_module_version": "1.2.0",
          "state": {
            "_model_module": "@jupyter-widgets/base",
            "_model_module_version": "1.2.0",
            "_model_name": "LayoutModel",
            "_view_count": null,
            "_view_module": "@jupyter-widgets/base",
            "_view_module_version": "1.2.0",
            "_view_name": "LayoutView",
            "align_content": null,
            "align_items": null,
            "align_self": null,
            "border": null,
            "bottom": null,
            "display": null,
            "flex": null,
            "flex_flow": null,
            "grid_area": null,
            "grid_auto_columns": null,
            "grid_auto_flow": null,
            "grid_auto_rows": null,
            "grid_column": null,
            "grid_gap": null,
            "grid_row": null,
            "grid_template_areas": null,
            "grid_template_columns": null,
            "grid_template_rows": null,
            "height": null,
            "justify_content": null,
            "justify_items": null,
            "left": null,
            "margin": null,
            "max_height": null,
            "max_width": null,
            "min_height": null,
            "min_width": null,
            "object_fit": null,
            "object_position": null,
            "order": null,
            "overflow": null,
            "overflow_x": null,
            "overflow_y": null,
            "padding": null,
            "right": null,
            "top": null,
            "visibility": null,
            "width": null
          }
        },
        "114a5e2db0bb41e28db240c0ce5bf4c2": {
          "model_module": "@jupyter-widgets/controls",
          "model_name": "DescriptionStyleModel",
          "model_module_version": "1.5.0",
          "state": {
            "_model_module": "@jupyter-widgets/controls",
            "_model_module_version": "1.5.0",
            "_model_name": "DescriptionStyleModel",
            "_view_count": null,
            "_view_module": "@jupyter-widgets/base",
            "_view_module_version": "1.2.0",
            "_view_name": "StyleView",
            "description_width": ""
          }
        }
      }
    }
  },
  "nbformat": 4,
  "nbformat_minor": 5
}