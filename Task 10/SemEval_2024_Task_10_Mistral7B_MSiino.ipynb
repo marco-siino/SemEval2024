{
  "cells": [
    {
      "cell_type": "markdown",
      "metadata": {
        "id": "view-in-github",
        "colab_type": "text"
      },
      "source": [
        "<a href=\"https://colab.research.google.com/github/marco-siino/SemEval2024/blob/main/Task%2010/SemEval_2024_Task_10_Mistral7B_MSiino.ipynb\" target=\"_parent\"><img src=\"https://colab.research.google.com/assets/colab-badge.svg\" alt=\"Open In Colab\"/></a>"
      ]
    },
    {
      "cell_type": "markdown",
      "metadata": {
        "id": "_ubSCVmmlBKX"
      },
      "source": [
        "Installing dependencies. You might need to tweak the CMAKE_ARGS for the `llama-cpp-python` pip package."
      ]
    },
    {
      "cell_type": "code",
      "execution_count": null,
      "metadata": {
        "colab": {
          "base_uri": "https://localhost:8080/"
        },
        "id": "CKL68Itp9Bm-",
        "outputId": "b44b3853-3978-417e-cbd8-f32d94555829"
      },
      "outputs": [
        {
          "output_type": "stream",
          "name": "stdout",
          "text": [
            "Collecting llama-cpp-python>=0.1.79\n",
            "  Downloading llama_cpp_python-0.2.37.tar.gz (10.8 MB)\n",
            "\u001b[2K     \u001b[90m━━━━━━━━━━━━━━━━━━━━━━━━━━━━━━━━━━━━━━━━\u001b[0m \u001b[32m10.8/10.8 MB\u001b[0m \u001b[31m41.7 MB/s\u001b[0m eta \u001b[36m0:00:00\u001b[0m\n",
            "\u001b[?25h  Installing build dependencies ... \u001b[?25l\u001b[?25hdone\n",
            "  Getting requirements to build wheel ... \u001b[?25l\u001b[?25hdone\n",
            "  Installing backend dependencies ... \u001b[?25l\u001b[?25hdone\n",
            "  Preparing metadata (pyproject.toml) ... \u001b[?25l\u001b[?25hdone\n",
            "Collecting typing-extensions>=4.5.0 (from llama-cpp-python>=0.1.79)\n",
            "  Downloading typing_extensions-4.9.0-py3-none-any.whl (32 kB)\n",
            "Collecting numpy>=1.20.0 (from llama-cpp-python>=0.1.79)\n",
            "  Downloading numpy-1.26.3-cp310-cp310-manylinux_2_17_x86_64.manylinux2014_x86_64.whl (18.2 MB)\n",
            "\u001b[2K     \u001b[90m━━━━━━━━━━━━━━━━━━━━━━━━━━━━━━━━━━━━━━━━\u001b[0m \u001b[32m18.2/18.2 MB\u001b[0m \u001b[31m46.2 MB/s\u001b[0m eta \u001b[36m0:00:00\u001b[0m\n",
            "\u001b[?25hCollecting diskcache>=5.6.1 (from llama-cpp-python>=0.1.79)\n",
            "  Downloading diskcache-5.6.3-py3-none-any.whl (45 kB)\n",
            "\u001b[2K     \u001b[90m━━━━━━━━━━━━━━━━━━━━━━━━━━━━━━━━━━━━━━━━\u001b[0m \u001b[32m45.5/45.5 kB\u001b[0m \u001b[31m161.0 MB/s\u001b[0m eta \u001b[36m0:00:00\u001b[0m\n",
            "\u001b[?25hCollecting jinja2>=2.11.3 (from llama-cpp-python>=0.1.79)\n",
            "  Downloading Jinja2-3.1.3-py3-none-any.whl (133 kB)\n",
            "\u001b[2K     \u001b[90m━━━━━━━━━━━━━━━━━━━━━━━━━━━━━━━━━━━━━━━━\u001b[0m \u001b[32m133.2/133.2 kB\u001b[0m \u001b[31m210.6 MB/s\u001b[0m eta \u001b[36m0:00:00\u001b[0m\n",
            "\u001b[?25hCollecting MarkupSafe>=2.0 (from jinja2>=2.11.3->llama-cpp-python>=0.1.79)\n",
            "  Downloading MarkupSafe-2.1.4-cp310-cp310-manylinux_2_17_x86_64.manylinux2014_x86_64.whl (25 kB)\n",
            "Building wheels for collected packages: llama-cpp-python\n",
            "  Building wheel for llama-cpp-python (pyproject.toml) ... \u001b[?25l\u001b[?25hdone\n",
            "  Created wheel for llama-cpp-python: filename=llama_cpp_python-0.2.37-cp310-cp310-manylinux_2_35_x86_64.whl size=9593032 sha256=8e59aec7b578008db104a0d2b2c870a0bcc12e44e940854d44325cfbe350c334\n",
            "  Stored in directory: /tmp/pip-ephem-wheel-cache-1sr62tjw/wheels/5b/4f/36/1df917d3d21e5d04ce960616a6fb9e39c1548149620528a67c\n",
            "Successfully built llama-cpp-python\n",
            "Installing collected packages: typing-extensions, numpy, MarkupSafe, diskcache, jinja2, llama-cpp-python\n",
            "  Attempting uninstall: typing-extensions\n",
            "    Found existing installation: typing_extensions 4.5.0\n",
            "    Uninstalling typing_extensions-4.5.0:\n",
            "      Successfully uninstalled typing_extensions-4.5.0\n",
            "  Attempting uninstall: numpy\n",
            "    Found existing installation: numpy 1.23.5\n",
            "    Uninstalling numpy-1.23.5:\n",
            "      Successfully uninstalled numpy-1.23.5\n",
            "  Attempting uninstall: MarkupSafe\n",
            "    Found existing installation: MarkupSafe 2.1.4\n",
            "    Uninstalling MarkupSafe-2.1.4:\n",
            "      Successfully uninstalled MarkupSafe-2.1.4\n",
            "  Attempting uninstall: diskcache\n",
            "    Found existing installation: diskcache 5.6.3\n",
            "    Uninstalling diskcache-5.6.3:\n",
            "      Successfully uninstalled diskcache-5.6.3\n",
            "  Attempting uninstall: jinja2\n",
            "    Found existing installation: Jinja2 3.1.3\n",
            "    Uninstalling Jinja2-3.1.3:\n",
            "      Successfully uninstalled Jinja2-3.1.3\n",
            "\u001b[31mERROR: pip's dependency resolver does not currently take into account all the packages that are installed. This behaviour is the source of the following dependency conflicts.\n",
            "lida 0.0.10 requires fastapi, which is not installed.\n",
            "lida 0.0.10 requires kaleido, which is not installed.\n",
            "lida 0.0.10 requires python-multipart, which is not installed.\n",
            "lida 0.0.10 requires uvicorn, which is not installed.\n",
            "llmx 0.0.15a0 requires cohere, which is not installed.\n",
            "llmx 0.0.15a0 requires openai, which is not installed.\n",
            "llmx 0.0.15a0 requires tiktoken, which is not installed.\n",
            "tensorflow-probability 0.22.0 requires typing-extensions<4.6.0, but you have typing-extensions 4.9.0 which is incompatible.\u001b[0m\u001b[31m\n",
            "\u001b[0mSuccessfully installed MarkupSafe-2.1.4 diskcache-5.6.3 jinja2-3.1.3 llama-cpp-python-0.2.37 numpy-1.26.3 typing-extensions-4.9.0\n",
            "Requirement already satisfied: huggingface_hub in /usr/local/lib/python3.10/dist-packages (0.20.3)\n",
            "Requirement already satisfied: filelock in /usr/local/lib/python3.10/dist-packages (from huggingface_hub) (3.13.1)\n",
            "Requirement already satisfied: fsspec>=2023.5.0 in /usr/local/lib/python3.10/dist-packages (from huggingface_hub) (2023.6.0)\n",
            "Requirement already satisfied: requests in /usr/local/lib/python3.10/dist-packages (from huggingface_hub) (2.31.0)\n",
            "Requirement already satisfied: tqdm>=4.42.1 in /usr/local/lib/python3.10/dist-packages (from huggingface_hub) (4.66.1)\n",
            "Requirement already satisfied: pyyaml>=5.1 in /usr/local/lib/python3.10/dist-packages (from huggingface_hub) (6.0.1)\n",
            "Requirement already satisfied: typing-extensions>=3.7.4.3 in /usr/local/lib/python3.10/dist-packages (from huggingface_hub) (4.9.0)\n",
            "Requirement already satisfied: packaging>=20.9 in /usr/local/lib/python3.10/dist-packages (from huggingface_hub) (23.2)\n",
            "Requirement already satisfied: charset-normalizer<4,>=2 in /usr/local/lib/python3.10/dist-packages (from requests->huggingface_hub) (3.3.2)\n",
            "Requirement already satisfied: idna<4,>=2.5 in /usr/local/lib/python3.10/dist-packages (from requests->huggingface_hub) (3.6)\n",
            "Requirement already satisfied: urllib3<3,>=1.21.1 in /usr/local/lib/python3.10/dist-packages (from requests->huggingface_hub) (2.0.7)\n",
            "Requirement already satisfied: certifi>=2017.4.17 in /usr/local/lib/python3.10/dist-packages (from requests->huggingface_hub) (2023.11.17)\n",
            "Collecting datasets\n",
            "  Downloading datasets-2.16.1-py3-none-any.whl (507 kB)\n",
            "\u001b[2K     \u001b[90m━━━━━━━━━━━━━━━━━━━━━━━━━━━━━━━━━━━━━━━━\u001b[0m \u001b[32m507.1/507.1 kB\u001b[0m \u001b[31m3.6 MB/s\u001b[0m eta \u001b[36m0:00:00\u001b[0m\n",
            "\u001b[?25hRequirement already satisfied: filelock in /usr/local/lib/python3.10/dist-packages (from datasets) (3.13.1)\n",
            "Requirement already satisfied: numpy>=1.17 in /usr/local/lib/python3.10/dist-packages (from datasets) (1.26.3)\n",
            "Requirement already satisfied: pyarrow>=8.0.0 in /usr/local/lib/python3.10/dist-packages (from datasets) (10.0.1)\n",
            "Requirement already satisfied: pyarrow-hotfix in /usr/local/lib/python3.10/dist-packages (from datasets) (0.6)\n",
            "Collecting dill<0.3.8,>=0.3.0 (from datasets)\n",
            "  Downloading dill-0.3.7-py3-none-any.whl (115 kB)\n",
            "\u001b[2K     \u001b[90m━━━━━━━━━━━━━━━━━━━━━━━━━━━━━━━━━━━━━━━━\u001b[0m \u001b[32m115.3/115.3 kB\u001b[0m \u001b[31m16.3 MB/s\u001b[0m eta \u001b[36m0:00:00\u001b[0m\n",
            "\u001b[?25hRequirement already satisfied: pandas in /usr/local/lib/python3.10/dist-packages (from datasets) (1.5.3)\n",
            "Requirement already satisfied: requests>=2.19.0 in /usr/local/lib/python3.10/dist-packages (from datasets) (2.31.0)\n",
            "Requirement already satisfied: tqdm>=4.62.1 in /usr/local/lib/python3.10/dist-packages (from datasets) (4.66.1)\n",
            "Requirement already satisfied: xxhash in /usr/local/lib/python3.10/dist-packages (from datasets) (3.4.1)\n",
            "Collecting multiprocess (from datasets)\n",
            "  Downloading multiprocess-0.70.16-py310-none-any.whl (134 kB)\n",
            "\u001b[2K     \u001b[90m━━━━━━━━━━━━━━━━━━━━━━━━━━━━━━━━━━━━━━━━\u001b[0m \u001b[32m134.8/134.8 kB\u001b[0m \u001b[31m19.1 MB/s\u001b[0m eta \u001b[36m0:00:00\u001b[0m\n",
            "\u001b[?25hRequirement already satisfied: fsspec[http]<=2023.10.0,>=2023.1.0 in /usr/local/lib/python3.10/dist-packages (from datasets) (2023.6.0)\n",
            "Requirement already satisfied: aiohttp in /usr/local/lib/python3.10/dist-packages (from datasets) (3.9.1)\n",
            "Requirement already satisfied: huggingface-hub>=0.19.4 in /usr/local/lib/python3.10/dist-packages (from datasets) (0.20.3)\n",
            "Requirement already satisfied: packaging in /usr/local/lib/python3.10/dist-packages (from datasets) (23.2)\n",
            "Requirement already satisfied: pyyaml>=5.1 in /usr/local/lib/python3.10/dist-packages (from datasets) (6.0.1)\n",
            "Requirement already satisfied: attrs>=17.3.0 in /usr/local/lib/python3.10/dist-packages (from aiohttp->datasets) (23.2.0)\n",
            "Requirement already satisfied: multidict<7.0,>=4.5 in /usr/local/lib/python3.10/dist-packages (from aiohttp->datasets) (6.0.4)\n",
            "Requirement already satisfied: yarl<2.0,>=1.0 in /usr/local/lib/python3.10/dist-packages (from aiohttp->datasets) (1.9.4)\n",
            "Requirement already satisfied: frozenlist>=1.1.1 in /usr/local/lib/python3.10/dist-packages (from aiohttp->datasets) (1.4.1)\n",
            "Requirement already satisfied: aiosignal>=1.1.2 in /usr/local/lib/python3.10/dist-packages (from aiohttp->datasets) (1.3.1)\n",
            "Requirement already satisfied: async-timeout<5.0,>=4.0 in /usr/local/lib/python3.10/dist-packages (from aiohttp->datasets) (4.0.3)\n",
            "Requirement already satisfied: typing-extensions>=3.7.4.3 in /usr/local/lib/python3.10/dist-packages (from huggingface-hub>=0.19.4->datasets) (4.9.0)\n",
            "Requirement already satisfied: charset-normalizer<4,>=2 in /usr/local/lib/python3.10/dist-packages (from requests>=2.19.0->datasets) (3.3.2)\n",
            "Requirement already satisfied: idna<4,>=2.5 in /usr/local/lib/python3.10/dist-packages (from requests>=2.19.0->datasets) (3.6)\n",
            "Requirement already satisfied: urllib3<3,>=1.21.1 in /usr/local/lib/python3.10/dist-packages (from requests>=2.19.0->datasets) (2.0.7)\n",
            "Requirement already satisfied: certifi>=2017.4.17 in /usr/local/lib/python3.10/dist-packages (from requests>=2.19.0->datasets) (2023.11.17)\n",
            "INFO: pip is looking at multiple versions of multiprocess to determine which version is compatible with other requirements. This could take a while.\n",
            "  Downloading multiprocess-0.70.15-py310-none-any.whl (134 kB)\n",
            "\u001b[2K     \u001b[90m━━━━━━━━━━━━━━━━━━━━━━━━━━━━━━━━━━━━━━━━\u001b[0m \u001b[32m134.8/134.8 kB\u001b[0m \u001b[31m19.1 MB/s\u001b[0m eta \u001b[36m0:00:00\u001b[0m\n",
            "\u001b[?25hRequirement already satisfied: python-dateutil>=2.8.1 in /usr/local/lib/python3.10/dist-packages (from pandas->datasets) (2.8.2)\n",
            "Requirement already satisfied: pytz>=2020.1 in /usr/local/lib/python3.10/dist-packages (from pandas->datasets) (2023.3.post1)\n",
            "Requirement already satisfied: six>=1.5 in /usr/local/lib/python3.10/dist-packages (from python-dateutil>=2.8.1->pandas->datasets) (1.16.0)\n",
            "Installing collected packages: dill, multiprocess, datasets\n",
            "Successfully installed datasets-2.16.1 dill-0.3.7 multiprocess-0.70.15\n"
          ]
        }
      ],
      "source": [
        "# GPU llama-cpp-python; Starting from version llama-cpp-python==0.1.79, it supports GGUF\n",
        "!CMAKE_ARGS=\"-DLLAMA_CUBLAS=on \" pip install 'llama-cpp-python>=0.1.79' --force-reinstall --upgrade --no-cache-dir\n",
        "# For download the models\n",
        "!pip install huggingface_hub\n",
        "!pip install datasets"
      ]
    },
    {
      "cell_type": "markdown",
      "metadata": {
        "id": "M2ns57iDlBKa"
      },
      "source": [
        "We start by downloading an instruction-finetuned Mistral model, which we will ask to classify model outputs for us."
      ]
    },
    {
      "cell_type": "code",
      "execution_count": null,
      "metadata": {
        "id": "uDMqQmBfAhYO",
        "colab": {
          "base_uri": "https://localhost:8080/",
          "height": 265,
          "referenced_widgets": [
            "8d478d5540f24d738de468dfe160e543",
            "21b5cf270f264e49b626beca8ab6e2d9",
            "18e1684b80444d7a8e01672ddf4f00d3",
            "32ee07f4dce34466a9bc2fd9c64448ec",
            "af08ffa57eb24568ae4da22f1187d3fe",
            "cf826908d2fb4f6a9b822a914bae85f5",
            "15442919c28e4a79885fd24ff53197c4",
            "8b0356f433f5414b89f246f5be08b035",
            "64930e41f9324c66882e6d4104c16f81",
            "e993237b1ff34081885b6f6f57fa73cc",
            "c277d1bd54444475bb4f61e1b63b0cf8"
          ]
        },
        "outputId": "48e2557f-a270-490e-9134-a7f35d27ed99"
      },
      "outputs": [
        {
          "output_type": "stream",
          "name": "stderr",
          "text": [
            "/usr/local/lib/python3.10/dist-packages/huggingface_hub/utils/_token.py:88: UserWarning: \n",
            "The secret `HF_TOKEN` does not exist in your Colab secrets.\n",
            "To authenticate with the Hugging Face Hub, create a token in your settings tab (https://huggingface.co/settings/tokens), set it as secret in your Google Colab and restart your session.\n",
            "You will be able to reuse this secret in all of your notebooks.\n",
            "Please note that authentication is recommended but still optional to access public models or datasets.\n",
            "  warnings.warn(\n"
          ]
        },
        {
          "output_type": "display_data",
          "data": {
            "text/plain": [
              "mistral-7b-instruct-v0.2.Q6_K.gguf:   0%|          | 0.00/5.94G [00:00<?, ?B/s]"
            ],
            "application/vnd.jupyter.widget-view+json": {
              "version_major": 2,
              "version_minor": 0,
              "model_id": "8d478d5540f24d738de468dfe160e543"
            }
          },
          "metadata": {}
        },
        {
          "output_type": "stream",
          "name": "stderr",
          "text": [
            "AVX = 1 | AVX_VNNI = 0 | AVX2 = 1 | AVX512 = 0 | AVX512_VBMI = 0 | AVX512_VNNI = 0 | FMA = 1 | NEON = 0 | ARM_FMA = 0 | F16C = 1 | FP16_VA = 0 | WASM_SIMD = 0 | BLAS = 1 | SSE3 = 1 | SSSE3 = 1 | VSX = 0 | \n",
            "Model metadata: {'tokenizer.chat_template': \"{{ bos_token }}{% for message in messages %}{% if (message['role'] == 'user') != (loop.index0 % 2 == 0) %}{{ raise_exception('Conversation roles must alternate user/assistant/user/assistant/...') }}{% endif %}{% if message['role'] == 'user' %}{{ '[INST] ' + message['content'] + ' [/INST]' }}{% elif message['role'] == 'assistant' %}{{ message['content'] + eos_token}}{% else %}{{ raise_exception('Only user and assistant roles are supported!') }}{% endif %}{% endfor %}\", 'tokenizer.ggml.add_eos_token': 'false', 'tokenizer.ggml.padding_token_id': '0', 'tokenizer.ggml.unknown_token_id': '0', 'tokenizer.ggml.eos_token_id': '2', 'general.architecture': 'llama', 'llama.rope.freq_base': '1000000.000000', 'llama.context_length': '32768', 'general.name': 'mistralai_mistral-7b-instruct-v0.2', 'tokenizer.ggml.add_bos_token': 'true', 'llama.embedding_length': '4096', 'llama.feed_forward_length': '14336', 'llama.attention.layer_norm_rms_epsilon': '0.000010', 'llama.rope.dimension_count': '128', 'tokenizer.ggml.bos_token_id': '1', 'llama.attention.head_count': '32', 'llama.block_count': '32', 'llama.attention.head_count_kv': '8', 'general.quantization_version': '2', 'tokenizer.ggml.model': 'llama', 'general.file_type': '18'}\n",
            "Using chat template: {{ bos_token }}{% for message in messages %}{% if (message['role'] == 'user') != (loop.index0 % 2 == 0) %}{{ raise_exception('Conversation roles must alternate user/assistant/user/assistant/...') }}{% endif %}{% if message['role'] == 'user' %}{{ '[INST] ' + message['content'] + ' [/INST]' }}{% elif message['role'] == 'assistant' %}{{ message['content'] + eos_token}}{% else %}{{ raise_exception('Only user and assistant roles are supported!') }}{% endif %}{% endfor %}\n",
            "Using chat eos_token: \n",
            "Using chat bos_token: \n"
          ]
        }
      ],
      "source": [
        "from huggingface_hub import hf_hub_download\n",
        "\n",
        "model_name_or_path = \"TheBloke/Mistral-7B-Instruct-v0.2-GGUF\"\n",
        "model_basename = \"mistral-7b-instruct-v0.2.Q6_K.gguf\"\n",
        "\n",
        "#model_name_or_path='TheBloke/phi-2-GGUF'\n",
        "#model_basename = \"phi-2.Q8_0.gguf\"\n",
        "model_path = hf_hub_download(repo_id=model_name_or_path, filename=model_basename)\n",
        "\n",
        "# This config has been tested on an RTX 3080 (VRAM of 16GB).\n",
        "# you might need to tweak with respect to your hardware.\n",
        "from llama_cpp import Llama\n",
        "lcpp_llm = Llama(\n",
        "    model_path=model_path,\n",
        "    n_threads=4, #16, # CPU cores\n",
        "    n_batch=800, #8000, # Should be between 1 and n_ctx, consider the amount of VRAM in your GPU.\n",
        "    n_gpu_layers=32, # Change this value based on your model and your GPU VRAM pool.\n",
        "    n_ctx=8192, # Context window\n",
        "    logits_all=True\n",
        ")"
      ]
    },
    {
      "cell_type": "markdown",
      "source": [
        "# Pre-Prompt definitions."
      ],
      "metadata": {
        "id": "jQDdnG6_aVT1"
      }
    },
    {
      "cell_type": "code",
      "source": [
        "few_shot_definitions = \"\"\"\n",
        "\n",
        "Learn from these Examples the Definitions of the Persuasion Techniques:\n",
        "\n",
        "1. Presenting Irrelevant Data (Red Herring)\n",
        "Introducing irrelevant material to the issue being discussed, so that everyone's attention is diverted away from the points made.\n",
        "Example 1: In politics, defending one’s own policies regarding public safety - “I have worked hard to help eliminate criminal activity. What we need is economic growth that can only come from the hands of leadership.”\n",
        "Example 2: \"You may claim that the death penalty is an ineffective deterrent against crime -- but what about the victims of crime? How do you think surviving family members feel when they see the man who murdered their son kept in prison at their expense? Is it right that they should pay for their son's murderer to be fed and housed?\"\n",
        "\n",
        "2. Misrepresentation of Someone's Position (Straw Man)\n",
        "When an opponent's proposition is substituted with a similar one which is then refuted in place of the original proposition.\n",
        "Example: Zebedee: What is your view on the Christian God?\n",
        "Mike: I don’t believe in any gods, including the Christian one.\n",
        "Zebedee: So you think that we are here by accident, and all this design in nature is pure chance, and the universe just created itself?\n",
        "Mike: You got all that from me stating that I just don’t believe in any gods?\n",
        "Explanation: Mike made one claim: that he does not believe in any gods. From that, we can deduce a few things, like he is not a theist, he is not a practicing Christian, Catholic, Jew, or a member of any other religion that requires the belief in a god, but we cannot deduce that he believes we are all here by accident, nature is chance, and the universe created itself.\n",
        "\n",
        "3. Whataboutism\n",
        "A technique that attempts to discredit an opponent's position by charging them with hypocrisy without directly disproving their argument.\n",
        "Example 1: a nation deflects criticism of its recent human rights violations by pointing to the history of slavery in the United States.\n",
        "Example 2: \"Qatar spending profusely on Neymar, not fighting terrorism\"\n",
        "\n",
        "4. Causal Oversimplification\n",
        "Assuming a single cause or reason when there are actually multiple causes for an issue.\n",
        "It includes transferring blame to one person or group of people without investigating the complexities of the issue\n",
        "Example 1: “President Trump has been in office for a month and gas prices have been skyrocketing. The rise in gas prices is because of President Trump.”\n",
        "Example 2: The reason New Orleans was hit so hard with the hurricane was because of all the immoral people who live there.\n",
        "Explanation: This was an actual argument seen in the months that followed hurricane Katrina. Ignoring the validity of the claims being made, the arguer is blaming a natural disaster on a group of people.\n",
        "Example 3: if France had not have declared war on Germany then world war two would have never happened.\n",
        "\n",
        "5. Obfuscation, Intentional vagueness, Confusion\n",
        "Using words which are deliberately not clear so that the audience may have its own interpretations.\n",
        "For example when an unclear phrase with multiple definitions is used within the argument and, therefore, it does not support the conclusion.\n",
        "Example: It is a good idea to listen to victims of theft. Therefore if the victims say to have the thief shot, then you should do that.\n",
        "Explanation: the definition for \"listen to\" is equivocated here. In the first case it means listen to their personal account of the experience of being a victim of theft. Empathize with them. In the second case \"listen to\" means carry out a punishment of their choice.\n",
        "\n",
        "6. Appeal to authority\n",
        "Stating that a claim is true simply because a valid authority or expert on the issue said it was true, without any other supporting evidence offered. We consider the special case in which the reference is not an authority or an expert in this technique, altough it is referred to as Testimonial in literature.\n",
        "Example: Richard Dawkins, an evolutionary biologist and perhaps the foremost expert in the field, says that evolution is true. Therefore, it's true.\n",
        "Explanation: Richard Dawkins certainly knows about evolution, and he can confidently tell us that it is true, but that doesn't make it true. What makes it true is the preponderance of evidence for the theory.\n",
        "Example 2: \"According to Serena Williams, our foreign policy is the best on Earth. So we are in the right direction.\"\n",
        "Details: since there is a chance that any authority can be wrong, it is reasonable to defer to an authority to support a claim, but the authority should not be the only justification to accept the claim, otherwise the Appeal-to-Authority fallacy is committed.\n",
        "\n",
        "7. Black-and-white Fallacy, Dictatorship\n",
        "Presenting two alternative options as the only possibilities, when in fact more possibilities exist. As an the extreme case, tell the audience exactly what actions to take, eliminating any other possible choices (Dictatorship).\n",
        "Example 1: You must be a Republican or Democrat. You are not a Democrat. Therefore, you must be a Republican\n",
        "Example 2: I thought you were a good person, but you weren’t at church today.\n",
        "Explanation: The assumption here is that if one doesn't attend chuch, one must be bad. Of course, good people exist who don’t go to church, and good church-going people could have had a really good reason not to be in church.\n",
        "Example 3: There is no alternative to war\n",
        "\n",
        "8. Name calling or labeling\n",
        "Labeling the object of the propaganda campaign as either something the target audience fears, hates, finds undesirable or loves, praises.\n",
        "Examples: \"Republican congressweasels\", \"Bush the Lesser\" (note that lesser does not refer to \"the second\", but it is pejorative)\n",
        "\n",
        "9. Loaded Language\n",
        "Using specific words and phrases with strong emotional implications (either positive or negative) to influence an audience.\n",
        "Example 1: \"[...] a lone lawmaker’s childish shouting. \".\n",
        "Example 2: \"how stupid and petty things have become in Washington\"\n",
        "\n",
        "10. Exaggeration or Minimisation\n",
        "Either representing something in an excessive manner: making things larger, better, worse (e.g., \"the best of the best\", \"quality guaranteed\") or making something seem less important or smaller than it really is (e.g., saying that an insult was just a joke).\n",
        "Example 1: \"Democrats bolted as soon as Trump’s speech ended in an apparent effort to signal they can’t even stomach being in the same room as the president \"\n",
        "Example 2: \"We’re going to have unbelievable intelligence\"\n",
        "Example 3: I was not fighting with her; we were just playing.\n",
        "\n",
        "11. Flag-waving\n",
        "Playing on strong national feeling (or to any group; e.g., race, gender, political preference) to justify or promote an action or idea\n",
        "Example 1: \"patriotism mean no questions\" (this is also a slogan)\n",
        "Example 2: \"entering this war will make us have a better future in our country.\"\n",
        "\n",
        "12. Doubt\n",
        "Questioning the credibility of someone or something.\n",
        "Example: A candidate talks about his opponent and says: Is he ready to be the Mayor?\n",
        "\n",
        "13. Appeal to fear/prejudice\n",
        "Seeking to build support for an idea by instilling anxiety and/or panic in the population towards an alternative.\n",
        "In some cases the support is built based on preconceived judgements.\n",
        "Example 1: \"either we go to war or we will perish\" (this is also aBlack and White fallacy))\n",
        "Example 2: \"we must stop those refugees as they are terrorists\"\n",
        "\n",
        "14. Slogans\n",
        "A brief and striking phrase that may include labeling and stereotyping. Slogans tend to act as emotional appeals.\n",
        "Example 1: \"The more women at war . . . the sooner we win.\"\n",
        "Example 2: \"Make America great again!\"\n",
        "\n",
        "15. Thought-terminating cliché\n",
        "Words or phrases that discourage critical thought and meaningful discussion about a given topic. They are typically short, generic sentences that offer seemingly simple answers to complex questions or that distract attention away from other lines of thought.\n",
        "Examples: It is what it is; It's just common sense; You gotta do what you gotta do; Nothing is permanent except change; Better late than never; Mind your own business; Nobody's perfect; It doesn't matter; You can't change human nature.\n",
        "\n",
        "16. Bandwagon\n",
        "Attempting to persuade the target audience to join in and take the course of action because \"everyone else is taking the same action\".\n",
        "Example 1: Would you vote for Clinton as president? 57% say yes\n",
        "Example 2: 90% of citizens support our initiative. You should.\n",
        "\n",
        "17. Reductio ad hitlerum\n",
        "Persuading an audience to disapprove an action or idea by suggesting that the idea is popular with groups hated in contempt by the target audience. It can refer to any person or concept with a negative connotation.\n",
        "Example 1: \"Do you know who else was doing that ? Hitler!\"\n",
        "Example 2: \"Only one kind of person can think in that way: a communist.\"\n",
        "\n",
        "18. Repetition\n",
        "Repeating the same message over and over again so that the audience will eventually accept it.\n",
        "\n",
        "19. Smears\n",
        "A smear is an effort to damage or call into question someone's reputation, by propounding negative propaganda. It can be applied to individuals or groups.\n",
        "\n",
        "20. Glittering Generalities\n",
        "These are words or symbols in the value system of the target audience that produce a positive image when attached to a person or issue. Peace, hope, happiness, security, wise leadership, etc.\n",
        "\n",
        "\n",
        "\"\"\""
      ],
      "metadata": {
        "id": "IYJP5MSIRJa1"
      },
      "execution_count": null,
      "outputs": []
    },
    {
      "cell_type": "code",
      "source": [
        "categories = \"\"\"\n",
        "\n",
        "Persuasion Techniques:\n",
        "\n",
        "1. Presenting Irrelevant Data (Red Herring)\n",
        "\n",
        "2. Misrepresentation of Someone's Position (Straw Man)\n",
        "\n",
        "3. Whataboutism\n",
        "\n",
        "4. Causal Oversimplification\n",
        "\n",
        "5. Obfuscation, Intentional vagueness, Confusion\n",
        "\n",
        "6. Appeal to authority\n",
        "\n",
        "7. Black-and-white Fallacy, Dictatorship\n",
        "\n",
        "8. Name calling or labeling\n",
        "\n",
        "9. Loaded Language\n",
        "\n",
        "10. Exaggeration or Minimisation\n",
        "\n",
        "11. Flag-waving\n",
        "\n",
        "12. Doubt\n",
        "\n",
        "13. Appeal to fear/prejudice\n",
        "\n",
        "14. Slogans\n",
        "\n",
        "15. Thought-terminating cliché\n",
        "\n",
        "16. Bandwagon\n",
        "\n",
        "17. Reductio ad hitlerum\n",
        "\n",
        "18. Repetition\n",
        "\n",
        "19. Smears\n",
        "\n",
        "20. Glittering Generalities\n",
        "\n",
        "\n",
        "\"\"\""
      ],
      "metadata": {
        "id": "rqYNa1QdVzbt"
      },
      "execution_count": null,
      "outputs": []
    },
    {
      "cell_type": "code",
      "source": [
        "labels_dict = {\n",
        "               1: 'Presenting Irrelevant Data (Red Herring)',\n",
        "\n",
        "2: 'Misrepresentation of Someone\\'s Position (Straw Man)',\n",
        "\n",
        "3: 'Whataboutism',\n",
        "\n",
        "4: 'Causal Oversimplification',\n",
        "\n",
        "5: 'Obfuscation, Intentional vagueness, Confusion',\n",
        "\n",
        "6: 'Appeal to authority',\n",
        "\n",
        "7: 'Black-and-white Fallacy, Dictatorship',\n",
        "\n",
        "8: 'Name calling or labeling',\n",
        "\n",
        "9: 'Loaded Language',\n",
        "\n",
        "10: 'Exaggeration or Minimisation',\n",
        "\n",
        "11: 'Flag-waving',\n",
        "\n",
        "12: 'Doubt',\n",
        "\n",
        "13: 'Appeal to fear/prejudice',\n",
        "\n",
        "14: 'Slogans',\n",
        "\n",
        "15: 'Thought-terminating cliché',\n",
        "\n",
        "16: 'Bandwagon',\n",
        "\n",
        "17: 'Reductio ad hitlerum',\n",
        "\n",
        "18: 'Repetition',\n",
        "\n",
        "19: 'Smears',\n",
        "\n",
        "20: 'Glittering Generalities'\n",
        "\n",
        "}"
      ],
      "metadata": {
        "id": "VvHmhde-hRYp"
      },
      "execution_count": null,
      "outputs": []
    },
    {
      "cell_type": "markdown",
      "source": [
        "# Run!"
      ],
      "metadata": {
        "id": "r6Cqo0JqotN9"
      }
    },
    {
      "cell_type": "code",
      "execution_count": null,
      "metadata": {
        "colab": {
          "base_uri": "https://localhost:8080/",
          "referenced_widgets": [
            "cb76ebfcfc364e918704f7aa6b859e49",
            "2923172cb8524b9d90fc0b3e0df96822",
            "1993ab0b117c446295a290c4431f791f",
            "5fdb6255d16a4e44a4c6f090d8be8530",
            "67aaa9980ba3428b8efd13b4f696f8b1",
            "90e4d6d9d0554987a84320d62fa17c4f",
            "5b2169ed573b458187a0e64b19f899db",
            "b564f9377b1f491da48aedcd8fc18e05",
            "11d5f165f9cf452fa832308b80971895",
            "bf400e6264bf48eab135617024ec6c09",
            "0399735ec44b483b9f09bc42c3a000b6"
          ],
          "height": 1000
        },
        "id": "UKo1-X5OvT4b",
        "outputId": "ee073fd9-bba1-420a-bf1c-236932dfb7f8"
      },
      "outputs": [
        {
          "output_type": "stream",
          "name": "stdout",
          "text": [
            "447\n"
          ]
        },
        {
          "output_type": "display_data",
          "data": {
            "text/plain": [
              "  0%|          | 0/447 [00:00<?, ?it/s]"
            ],
            "application/vnd.jupyter.widget-view+json": {
              "version_major": 2,
              "version_minor": 0,
              "model_id": "cb76ebfcfc364e918704f7aa6b859e49"
            }
          },
          "metadata": {}
        },
        {
          "output_type": "stream",
          "name": "stdout",
          "text": [
            "\n",
            " 1052\n",
            "\n",
            " Sentence: POLITICIANS ARE A DIME A DOZEN -  - TRUE LEADERS ARE PRICELESS!\n",
            " 8, 9, 14, 20\n",
            "\n",
            " 1053\n",
            "\n",
            " Sentence: DID YOU KNOW? -  - 1 OUT OF 3 TRUMP SUPPORTERS ARE JUST AS STUPID AS THE OTHER 2\n"
          ]
        },
        {
          "output_type": "stream",
          "name": "stderr",
          "text": [
            "Llama.generate: prefix-match hit\n"
          ]
        },
        {
          "output_type": "stream",
          "name": "stdout",
          "text": [
            " 3, 8, 9, 13, 15\n",
            "\n",
            " 1054\n",
            "\n",
            " Sentence: American Children 1950 - American Children 2019\n"
          ]
        },
        {
          "output_type": "stream",
          "name": "stderr",
          "text": [
            "Llama.generate: prefix-match hit\n"
          ]
        },
        {
          "output_type": "stream",
          "name": "stdout",
          "text": [
            " 3, 4, 5, 8, 9, \n",
            "\n",
            " 1055\n",
            "\n",
            " Sentence: Here's to 45... - The Greatest EVER\n"
          ]
        },
        {
          "output_type": "stream",
          "name": "stderr",
          "text": [
            "Llama.generate: prefix-match hit\n"
          ]
        },
        {
          "output_type": "stream",
          "name": "stdout",
          "text": [
            " 7, 8, 9, 13, 20\n",
            "\n",
            " 1056\n",
            "\n",
            " Sentence: Merry Christmas\n"
          ]
        },
        {
          "output_type": "stream",
          "name": "stderr",
          "text": [
            "Llama.generate: prefix-match hit\n"
          ]
        },
        {
          "output_type": "stream",
          "name": "stdout",
          "text": [
            " 12. Doubt (Merry Christmas itself is a loaded term and\n",
            "\n",
            " 1057\n",
            "\n",
            " Sentence: Many people think Sunak's diminutive size is of no - consequence.  - I disagree. - It makes it far easier for us bankers to keep him in our pockets.\n"
          ]
        },
        {
          "output_type": "stream",
          "name": "stderr",
          "text": [
            "Llama.generate: prefix-match hit\n"
          ]
        },
        {
          "output_type": "stream",
          "name": "stdout",
          "text": [
            " 3, 4, 8, 17 (Misrep\n",
            "\n",
            " 1058\n",
            "\n",
            " Sentence: \\Russian Meddling\\ in US Elections - the Greatest Lie since WMD - \n"
          ]
        },
        {
          "output_type": "stream",
          "name": "stderr",
          "text": [
            "Llama.generate: prefix-match hit\n"
          ]
        },
        {
          "output_type": "stream",
          "name": "stdout",
          "text": [
            " 1, 3, 4, 8, 9, \n",
            "\n",
            " 1059\n",
            "\n",
            " Sentence: \\Tragic mess in Afghanistan, a completely open and broken Border, Crime at RECORD levels, oil prices through the roof, inflation rising, and taken advantage - of by the entire world.  - DO YOU MISS ME YET?\\ - – Donald Trump\n"
          ]
        },
        {
          "output_type": "stream",
          "name": "stderr",
          "text": [
            "Llama.generate: prefix-match hit\n"
          ]
        },
        {
          "output_type": "stream",
          "name": "stdout",
          "text": [
            " 1, 3, 4, 7, 8, \n",
            "\n",
            " 1060\n",
            "\n",
            " Sentence: \\I believe with all my heart that standing up for  -  - AMERICA -  - means standing up for the GOD who has so blessed our land.\\ - Ronald Reagan\n"
          ]
        },
        {
          "output_type": "stream",
          "name": "stderr",
          "text": [
            "Llama.generate: prefix-match hit\n"
          ]
        },
        {
          "output_type": "stream",
          "name": "stdout",
          "text": [
            " 7, 8, 9, 11, 15\n",
            "\n",
            " 1061\n",
            "\n",
            " Sentence: \\They didn't have any rights to the land, and there was no reason for anyone to grant them rights which they had not conceived and were not using [...] What was it that they were fighting for, when they opposed white men on this continent? For their wish to continue a primitive existence, their 'right' to keep part of the earth untouched, unused and not even as property, but just keep everybody out so that you will live practically like an animal, or a few caves above it. - Any white person who brings the element of civilization has the right to take over this continent.\\ - Ayn Rand - The enemy is class conscious. - Are you?\n"
          ]
        },
        {
          "output_type": "stream",
          "name": "stderr",
          "text": [
            "Llama.generate: prefix-match hit\n"
          ]
        },
        {
          "output_type": "stream",
          "name": "stdout",
          "text": [
            " 3, 7, 8, 9, 13,\n",
            "\n",
            " 1062\n",
            "\n",
            " Sentence: Happy April Fools Day -  - Ooop I mean: March Fools day\n"
          ]
        },
        {
          "output_type": "stream",
          "name": "stderr",
          "text": [
            "Llama.generate: prefix-match hit\n"
          ]
        },
        {
          "output_type": "stream",
          "name": "stdout",
          "text": [
            " 3, 5 (The sentence itself is a playful use of mis\n",
            "\n",
            " 1063\n",
            "\n",
            " Sentence: A Labour government -  - The far right\n"
          ]
        },
        {
          "output_type": "stream",
          "name": "stderr",
          "text": [
            "Llama.generate: prefix-match hit\n"
          ]
        },
        {
          "output_type": "stream",
          "name": "stdout",
          "text": [
            " 8, 9, 13, 18 (Labeling\n",
            "\n",
            " 1064\n",
            "\n",
            " Sentence: Joseph Stalin forces Churchill to address him as rabbit-kin at the Yalta Conference in 1945 becoming the first of many dangerous Marxist furries (colorized) - \n"
          ]
        },
        {
          "output_type": "stream",
          "name": "stderr",
          "text": [
            "Llama.generate: prefix-match hit\n"
          ]
        },
        {
          "output_type": "stream",
          "name": "stdout",
          "text": [
            " 1, 3, 7, 8, 9, \n",
            "\n",
            " 1065\n",
            "\n",
            " Sentence: GUN CONTROL... -  - WHAT IS THE WORST THAT COULD HAPPEN?\n"
          ]
        },
        {
          "output_type": "stream",
          "name": "stderr",
          "text": [
            "Llama.generate: prefix-match hit\n"
          ]
        },
        {
          "output_type": "stream",
          "name": "stdout",
          "text": [
            " 3, 4, 5, 8, 9, \n",
            "\n",
            " 1066\n",
            "\n",
            " Sentence: People are not going to stand for having this Election stolen from them by a privately owned Radical Left - company, Dominion, and many other reasons! -  - \n"
          ]
        },
        {
          "output_type": "stream",
          "name": "stderr",
          "text": [
            "Llama.generate: prefix-match hit\n"
          ]
        },
        {
          "output_type": "stream",
          "name": "stdout",
          "text": [
            " 1, 3, 4, 8, 9, \n",
            "\n",
            " 1067\n",
            "\n",
            " Sentence: IRAN: TRUMP'S $200BN SANCTIONS HAVE WIPED OUT - OBAMA'S $150BN NUCLEAR DEAL\n"
          ]
        },
        {
          "output_type": "stream",
          "name": "stderr",
          "text": [
            "Llama.generate: prefix-match hit\n"
          ]
        },
        {
          "output_type": "stream",
          "name": "stdout",
          "text": [
            " 1, 3, 4, 8, 9, \n",
            "\n",
            " 1068\n",
            "\n",
            " Sentence: She defended the rights of GITMO detainees -  - But no questions about the Jan 6th detainees! Just a lot of talk and backslapping at the Senate hearing about what a fair justice system we have and due process\n"
          ]
        },
        {
          "output_type": "stream",
          "name": "stderr",
          "text": [
            "Llama.generate: prefix-match hit\n"
          ]
        },
        {
          "output_type": "stream",
          "name": "stdout",
          "text": [
            " 3, 4, 7, 8, 9, \n",
            "\n",
            " 1069\n",
            "\n",
            " Sentence: \\If we lose freedom here, there is NO place to escape to. - This is the last stand ON EARTH.\\ -  - Ronald Reagan -  - He warned us.\n"
          ]
        },
        {
          "output_type": "stream",
          "name": "stderr",
          "text": [
            "Llama.generate: prefix-match hit\n"
          ]
        },
        {
          "output_type": "stream",
          "name": "stdout",
          "text": [
            " 7, 8, 9, 13, 14\n",
            "\n",
            " 1070\n",
            "\n",
            " Sentence: It was wonderful to spend some time with the team from @MadamSecretary on set in Brooklyn with a few former colleagues. Mark your calendars for October 7th! -  - We've got some BIG guest stars in store for Season 5! Former Secretaries of State.. -  - \n"
          ]
        },
        {
          "output_type": "stream",
          "name": "stderr",
          "text": [
            "Llama.generate: prefix-match hit\n"
          ]
        },
        {
          "output_type": "stream",
          "name": "stdout",
          "text": [
            " 3, 5, 7, 9, 14,\n",
            "\n",
            " 1071\n",
            "\n",
            " Sentence: STOP THE EXECUTION OF BARZAN NASROLLAHZADEH - (Iran)\n"
          ]
        },
        {
          "output_type": "stream",
          "name": "stderr",
          "text": [
            "Llama.generate: prefix-match hit\n"
          ]
        },
        {
          "output_type": "stream",
          "name": "stdout",
          "text": [
            " 1, 3, 4, 8, 9, \n",
            "\n",
            " 1072\n",
            "\n",
            " Sentence: Sasha, what do you use to cook? -  - a gas stove, why? -  - Throw it.\n"
          ]
        },
        {
          "output_type": "stream",
          "name": "stderr",
          "text": [
            "Llama.generate: prefix-match hit\n"
          ]
        },
        {
          "output_type": "stream",
          "name": "stdout",
          "text": [
            " 3, 4, 5 (The sentence is not clear enough to\n",
            "\n",
            " 1073\n",
            "\n",
            " Sentence: I met the Pope! -  - Change My Pants\n"
          ]
        },
        {
          "output_type": "stream",
          "name": "stderr",
          "text": [
            "Llama.generate: prefix-match hit\n"
          ]
        },
        {
          "output_type": "stream",
          "name": "stdout",
          "text": [
            " 1, 3, 4, 8, 15 (\n",
            "\n",
            " 1074\n",
            "\n",
            " Sentence: In a society that has destroyed all adventure, the only adventure left is to destroy that society.\n"
          ]
        },
        {
          "output_type": "stream",
          "name": "stderr",
          "text": [
            "Llama.generate: prefix-match hit\n"
          ]
        },
        {
          "output_type": "stream",
          "name": "stdout",
          "text": [
            " 3, 4, 5, 8, 9, \n",
            "\n",
            " 1075\n",
            "\n",
            " Sentence: Before 1934, any child could order this machine gun by mail -  - Number of school shooting prior to 1934: ZERO.\n"
          ]
        },
        {
          "output_type": "stream",
          "name": "stderr",
          "text": [
            "Llama.generate: prefix-match hit\n"
          ]
        },
        {
          "output_type": "stream",
          "name": "stdout",
          "text": [
            " 3, 5, 7, 9, 13,\n",
            "\n",
            " 1076\n",
            "\n",
            " Sentence: Russia proves futility of Western sanctions by presenting first domestic-made drone\n"
          ]
        },
        {
          "output_type": "stream",
          "name": "stderr",
          "text": [
            "Llama.generate: prefix-match hit\n"
          ]
        },
        {
          "output_type": "stream",
          "name": "stdout",
          "text": [
            " 3, 5, 13, 17 (Whatabout\n",
            "\n",
            " 1077\n",
            "\n",
            " Sentence: Ocasio-Cortez, chief of staff illegally moved $885K in campaign contributions 'off the books, FEC complaint alleges\n"
          ]
        },
        {
          "output_type": "stream",
          "name": "stderr",
          "text": [
            "Llama.generate: prefix-match hit\n"
          ]
        },
        {
          "output_type": "stream",
          "name": "stdout",
          "text": [
            " 1, 3, 4, 8, 9, \n",
            "\n",
            " 1078\n",
            "\n",
            " Sentence: By awarding the World Cup to Qatar without conditions on improving protections for workers' rights, FIFA has contributed to human rights abuses on a significant scale.\n"
          ]
        },
        {
          "output_type": "stream",
          "name": "stderr",
          "text": [
            "Llama.generate: prefix-match hit\n"
          ]
        },
        {
          "output_type": "stream",
          "name": "stdout",
          "text": [
            " 3, 7, 8, 9, 13,\n",
            "\n",
            " 1079\n",
            "\n",
            " Sentence: Wait...the Commies are armed now? - Always have been.\n"
          ]
        },
        {
          "output_type": "stream",
          "name": "stderr",
          "text": [
            "Llama.generate: prefix-match hit\n"
          ]
        },
        {
          "output_type": "stream",
          "name": "stdout",
          "text": [
            " 3, 5, 13 (Whataboutism, Obf\n",
            "\n",
            " 1080\n",
            "\n",
            " Sentence: You're concerned about the number of people on food stamps -  - Tell me again why we shouldn't have a minimum wage above the poverty line\n"
          ]
        },
        {
          "output_type": "stream",
          "name": "stderr",
          "text": [
            "Llama.generate: prefix-match hit\n"
          ]
        },
        {
          "output_type": "stream",
          "name": "stdout",
          "text": [
            " 3, 4, 5, 8, 9, \n",
            "\n",
            " 1081\n",
            "\n",
            " Sentence: Yes, this economy is rigged. - It's rigged by people like Trump, for people like Trump. - Trump IS the problem, not the solution. -  - #Never Trump\n"
          ]
        },
        {
          "output_type": "stream",
          "name": "stderr",
          "text": [
            "Llama.generate: prefix-match hit\n"
          ]
        },
        {
          "output_type": "stream",
          "name": "stdout",
          "text": [
            " 3, 4, 8, 9, 13,\n",
            "\n",
            " 1082\n",
            "\n",
            " Sentence: SANTA CLAUS WAS REAL, UNTIL HE FORGOT MY PRESENT.\n"
          ]
        },
        {
          "output_type": "stream",
          "name": "stderr",
          "text": [
            "Llama.generate: prefix-match hit\n"
          ]
        },
        {
          "output_type": "stream",
          "name": "stdout",
          "text": [
            " 2, 3, 4, 5, 6 (ass\n",
            "\n",
            " 1083\n",
            "\n",
            " Sentence: \\I hate victims who respect their executioners.\\ -  - Jean-Paul Sartre\n"
          ]
        },
        {
          "output_type": "stream",
          "name": "stderr",
          "text": [
            "Llama.generate: prefix-match hit\n"
          ]
        },
        {
          "output_type": "stream",
          "name": "stdout",
          "text": [
            " 8, 9, 13 (Name calling or labeling,\n",
            "\n",
            " 1084\n",
            "\n",
            " Sentence: AND JUST LIKE THAT -  - I WAS IN QUARANTINE\n"
          ]
        },
        {
          "output_type": "stream",
          "name": "stderr",
          "text": [
            "Llama.generate: prefix-match hit\n"
          ]
        },
        {
          "output_type": "stream",
          "name": "stdout",
          "text": [
            " 3, 5, 7 (Whataboutism, Obfusc\n",
            "\n",
            " 1085\n",
            "\n",
            " Sentence: Garth Brooks -  - No Results - Try a new search. -  - I was going to Delete Garth Brooks music from my library, since he agreed to play At Biden's \\Inauguration\\. Didn't have any of the DOUCHEBAGS music anyways\n"
          ]
        },
        {
          "output_type": "stream",
          "name": "stderr",
          "text": [
            "Llama.generate: prefix-match hit\n"
          ]
        },
        {
          "output_type": "stream",
          "name": "stdout",
          "text": [
            " 3, 8, 9, 13, 18\n",
            "\n",
            " 1086\n",
            "\n",
            " Sentence: \\Today, with one clear voice, the United States of America calls upon the nations of the world to end religious persecution.\\ - - President Trump\n"
          ]
        },
        {
          "output_type": "stream",
          "name": "stderr",
          "text": [
            "Llama.generate: prefix-match hit\n"
          ]
        },
        {
          "output_type": "stream",
          "name": "stdout",
          "text": [
            " 7, 13, 20. (Appeal to authority\n",
            "\n",
            " 1087\n",
            "\n",
            " Sentence: When you open your heart to patriotism, there is no room for prejudice. -  - It's time to remember that old wisdom our soldiers will never forget, that whether we are black or brown or white, we all bleed the same red blood of patriots. - We all enjoy the same glorious freedoms, and we all salute the same great American flag....\n"
          ]
        },
        {
          "output_type": "stream",
          "name": "stderr",
          "text": [
            "Llama.generate: prefix-match hit\n"
          ]
        },
        {
          "output_type": "stream",
          "name": "stdout",
          "text": [
            " 7, 8, 9, 11, 13\n",
            "\n",
            " 1088\n",
            "\n",
            " Sentence: Questions most Media won't ask -  - Hey Biden! - You only sent 500 Haitians back. - What did you do with the other 14,000 Haitians no longer waiting at the border?\n"
          ]
        },
        {
          "output_type": "stream",
          "name": "stderr",
          "text": [
            "Llama.generate: prefix-match hit\n"
          ]
        },
        {
          "output_type": "stream",
          "name": "stdout",
          "text": [
            " 3, 4, 13, 17 (Whatabout\n",
            "\n",
            " 1089\n",
            "\n",
            " Sentence: THE BEST WAY TO KEEP FOREIGN TERRORISTS FROM - ATTACKING OUR COUNTRY -  - IS TO STOP THEM FROM ENTERING OUR COUNTRY IN THE FIRST PLACE!\n"
          ]
        },
        {
          "output_type": "stream",
          "name": "stderr",
          "text": [
            "Llama.generate: prefix-match hit\n"
          ]
        },
        {
          "output_type": "stream",
          "name": "stdout",
          "text": [
            " 3, 7, 9, 13, 14\n",
            "\n",
            " 1090\n",
            "\n",
            " Sentence: Every other country protects its borders. - For citizenship they require you to have money saved, a marketable skill so you won't mooch off of their people, have no criminal background, and will - arrest you if you break in. Are they all racist too?\n"
          ]
        },
        {
          "output_type": "stream",
          "name": "stderr",
          "text": [
            "Llama.generate: prefix-match hit\n"
          ]
        },
        {
          "output_type": "stream",
          "name": "stdout",
          "text": [
            " 3, 4, 5, 8, 13,\n",
            "\n",
            " 1091\n",
            "\n",
            " Sentence: \\If there is a country that has committed unspeakable - atrocities in the world, it is the USA. - They don't care for human beings.\\\n"
          ]
        },
        {
          "output_type": "stream",
          "name": "stderr",
          "text": [
            "Llama.generate: prefix-match hit\n"
          ]
        },
        {
          "output_type": "stream",
          "name": "stdout",
          "text": [
            " 1, 3, 4, 8, 9, \n",
            "\n",
            " 1092\n",
            "\n",
            " Sentence: RUSSIA'S PRESIDENTIAL PLANE IL-96 -  - MALAYSIAN AIRLINES PLANE BOEING-777\n"
          ]
        },
        {
          "output_type": "stream",
          "name": "stderr",
          "text": [
            "Llama.generate: prefix-match hit\n"
          ]
        },
        {
          "output_type": "stream",
          "name": "stdout",
          "text": [
            " 1, 3, 4, 8, 9, \n",
            "\n",
            " 1093\n",
            "\n",
            " Sentence: AMERICA HAS BEEN SOLD-OUT - IT IS NOW THE MERCENARY STRONGARM OF THE ULTRA-RICH ELITE -  - Sponsored by the corporations to make WAR for profit.\n"
          ]
        },
        {
          "output_type": "stream",
          "name": "stderr",
          "text": [
            "Llama.generate: prefix-match hit\n"
          ]
        },
        {
          "output_type": "stream",
          "name": "stdout",
          "text": [
            " 1, 3, 4, 8, 9, \n",
            "\n",
            " 1094\n",
            "\n",
            " Sentence: Bolivian ex-president Anez arrested over 2019 'coup' that ousted Morales \n"
          ]
        },
        {
          "output_type": "stream",
          "name": "stderr",
          "text": [
            "Llama.generate: prefix-match hit\n"
          ]
        },
        {
          "output_type": "stream",
          "name": "stdout",
          "text": [
            " 3, 5, 7, 8, 9, \n",
            "\n",
            " 1095\n",
            "\n",
            " Sentence: Man Fucks 5 Million People At Once\n"
          ]
        },
        {
          "output_type": "stream",
          "name": "stderr",
          "text": [
            "Llama.generate: prefix-match hit\n"
          ]
        },
        {
          "output_type": "stream",
          "name": "stdout",
          "text": [
            " 3, 4, 5, 8, 9, \n",
            "\n",
            " 1096\n",
            "\n",
            " Sentence: Turkey! -  - Do you want to change the type of our tourists?\n"
          ]
        },
        {
          "output_type": "stream",
          "name": "stderr",
          "text": [
            "Llama.generate: prefix-match hit\n"
          ]
        },
        {
          "output_type": "stream",
          "name": "stdout",
          "text": [
            " 3, 4, 13, 18 (Whatabout\n",
            "\n",
            " 1097\n",
            "\n",
            " Sentence: Join The Revolution! - We have - Mario - Col. Sanders - Beardy-boi - Sword and axe - Vladdy-Daddy\n"
          ]
        },
        {
          "output_type": "stream",
          "name": "stderr",
          "text": [
            "Llama.generate: prefix-match hit\n"
          ]
        },
        {
          "output_type": "stream",
          "name": "stdout",
          "text": [
            " 3, 8, 9, 14, 20\n",
            "\n",
            " 1098\n",
            "\n",
            " Sentence: \\We are the offspring of metropolitan annihilation and destruction, of the war of all against all, of the conflict of each individual with every other individual, of a system governed by fear, of the compulsion to produce, of the profit of one to the detriment of others, of the division of people into men and women, young and old, sick and healthy, - foreigners and Germans, and of the struggle for prestige. - Where do we come from? - From isolation in individual row-houses, from the suburban concrete cities, from prison cells, from the asylums and special units, from media brainwashing, from consumerism, from corporal punishment, from the ideology of nonviolence, from - depression, from illness, from degradation, from humiliation, from the debasement of human beings, from all the people exploited by imperialism.\\ - Ulrike Meinhof\n"
          ]
        },
        {
          "output_type": "stream",
          "name": "stderr",
          "text": [
            "Llama.generate: prefix-match hit\n"
          ]
        },
        {
          "output_type": "stream",
          "name": "stdout",
          "text": [
            " 3, 4, 5, 8, 9, \n",
            "\n",
            " 1099\n",
            "\n",
            " Sentence: IF COMMUNIST, - IF WE LEFTISTS, - IF WE MARXISTS, - IF WE REVOLUTIONARIES - IF WE PROGRESSIVES. - IF ALL WE WANT IS TO HUNGER FOR POWER, - THEN WHY DO WE SIDE WITH THE POWERLESS? -  - -MICHAEL PARENTI\n"
          ]
        },
        {
          "output_type": "stream",
          "name": "stderr",
          "text": [
            "Llama.generate: prefix-match hit\n"
          ]
        },
        {
          "output_type": "stream",
          "name": "stdout",
          "text": [
            " 3, 8, 9, 13, 17\n",
            "\n",
            " 1100\n",
            "\n",
            " Sentence: NEW YORK POST -  - Russian McDonald's fan chains himself to eatery in - attempt to prevent closing - \n"
          ]
        },
        {
          "output_type": "stream",
          "name": "stderr",
          "text": [
            "Llama.generate: prefix-match hit\n"
          ]
        },
        {
          "output_type": "stream",
          "name": "stdout",
          "text": [
            " 3, 5, 7 (Whataboutism, Obfusc\n",
            "\n",
            " 1101\n",
            "\n",
            " Sentence: I figured out at a young age the easiest way to get money from rich people -  - It's called a JOB\n"
          ]
        },
        {
          "output_type": "stream",
          "name": "stderr",
          "text": [
            "Llama.generate: prefix-match hit\n"
          ]
        },
        {
          "output_type": "stream",
          "name": "stdout",
          "text": [
            " 3, 4, 5, 8, 9, \n",
            "\n",
            " 1102\n",
            "\n",
            " Sentence: I'm the guy who's gonna cut your throat, infidel -  - At least you're being honest -  - Nah, we're not gonna cut your throat, deserter. - We're gonna trade you for some really bad guys, while our stateside dupes treat you like a hero. - Geeze! Only a low-life traitor or egotistical fool would belive anything we say. Taqiyya, dude\n"
          ]
        },
        {
          "output_type": "stream",
          "name": "stderr",
          "text": [
            "Llama.generate: prefix-match hit\n"
          ]
        },
        {
          "output_type": "stream",
          "name": "stdout",
          "text": [
            " 3, 8, 9, 13, 17\n",
            "\n",
            " 1103\n",
            "\n",
            " Sentence: Rishi Sunak's attempt to mock Starmer for being a supposedly out-of-touch elite North Londoner, would be somewhat more convincing if he didn't himself own a £7m mansion in Kensington, a £1m 'pied-à-terre' nearby, a manor house in Yorkshire and a £5.5m penthouse in Santa Monica.\n"
          ]
        },
        {
          "output_type": "stream",
          "name": "stderr",
          "text": [
            "Llama.generate: prefix-match hit\n"
          ]
        },
        {
          "output_type": "stream",
          "name": "stdout",
          "text": [
            " 3, 4, 8, 9, 17 (\n",
            "\n",
            " 1104\n",
            "\n",
            " Sentence: I love when I wake up in the morning & Donald Trump - is still president\n"
          ]
        },
        {
          "output_type": "stream",
          "name": "stderr",
          "text": [
            "Llama.generate: prefix-match hit\n"
          ]
        },
        {
          "output_type": "stream",
          "name": "stdout",
          "text": [
            " 8, 9, 13, 20\n",
            "\n",
            " 1105\n",
            "\n",
            " Sentence: Family -  - Forever For Always And No Matter What\n"
          ]
        },
        {
          "output_type": "stream",
          "name": "stderr",
          "text": [
            "Llama.generate: prefix-match hit\n"
          ]
        },
        {
          "output_type": "stream",
          "name": "stdout",
          "text": [
            " 1, 3, 5, 8, 14 (\n",
            "\n",
            " 1106\n",
            "\n",
            " Sentence: LET ME ASK YOU THIS: -  - If all declassified documents from the past explain how the governments and media repeatedly lied to us \\for our own good\\, then why do so many still believe - they are telling the truth today? -  - Have lies become the new normal?\n"
          ]
        },
        {
          "output_type": "stream",
          "name": "stderr",
          "text": [
            "Llama.generate: prefix-match hit\n"
          ]
        },
        {
          "output_type": "stream",
          "name": "stdout",
          "text": [
            " 3, 4, 5, 7, 9, \n",
            "\n",
            " 1107\n",
            "\n",
            " Sentence: DID YOU SEE ALL THE UNHINGED TWEETS FROM BIDEN ABOUT THE IMPEACHEMENT TRIAL OUTCOME? -  - OF COURSE YOU DIDN'T, BECAUSE HE'S TOO BUSY BEING THE PRESIDENT OF THE UNITED STATES\n"
          ]
        },
        {
          "output_type": "stream",
          "name": "stderr",
          "text": [
            "Llama.generate: prefix-match hit\n"
          ]
        },
        {
          "output_type": "stream",
          "name": "stdout",
          "text": [
            " 3, 4, 7, 8, 9, \n",
            "\n",
            " 1108\n",
            "\n",
            " Sentence: 100 ruskis diplomats expelled -  - 35 ruskis diplomats expelled -  - 45 ruskis diplomats expelled\n"
          ]
        },
        {
          "output_type": "stream",
          "name": "stderr",
          "text": [
            "Llama.generate: prefix-match hit\n"
          ]
        },
        {
          "output_type": "stream",
          "name": "stdout",
          "text": [
            " 3, 4, 5, 18 (The sentence itself\n",
            "\n",
            " 1109\n",
            "\n",
            " Sentence: CONSERVATIVE -  - LIBERAL -  - Any Questions?\n"
          ]
        },
        {
          "output_type": "stream",
          "name": "stderr",
          "text": [
            "Llama.generate: prefix-match hit\n"
          ]
        },
        {
          "output_type": "stream",
          "name": "stdout",
          "text": [
            " 3, 8, 9, 13, 20\n",
            "\n",
            " 1110\n",
            "\n",
            " Sentence: THERE'S A REASON LIBERAL WOMEN HATE MEN -  - THEY SURROUND THEMSELVES WITH LIBERAL \\MEN\\\n"
          ]
        },
        {
          "output_type": "stream",
          "name": "stderr",
          "text": [
            "Llama.generate: prefix-match hit\n"
          ]
        },
        {
          "output_type": "stream",
          "name": "stdout",
          "text": [
            " 1, 3, 8, 9, 13,\n",
            "\n",
            " 1111\n",
            "\n",
            " Sentence: What normal people see -  - What my mind sees -  - HIMARS o'clock - \n"
          ]
        },
        {
          "output_type": "stream",
          "name": "stderr",
          "text": [
            "Llama.generate: prefix-match hit\n"
          ]
        },
        {
          "output_type": "stream",
          "name": "stdout",
          "text": [
            " 3, 4, 5, 8, 9, \n",
            "\n",
            " 1112\n",
            "\n",
            " Sentence: VIRUSES COME AND GO -  - LOSS OF FREEDOM IS FOREVER\n"
          ]
        },
        {
          "output_type": "stream",
          "name": "stderr",
          "text": [
            "Llama.generate: prefix-match hit\n"
          ]
        },
        {
          "output_type": "stream",
          "name": "stdout",
          "text": [
            " 3, 4, 5, 8, 9, \n",
            "\n",
            " 1113\n",
            "\n",
            " Sentence: HOUSING IS A HUMAN RIGHT -  - An important reminder\n"
          ]
        },
        {
          "output_type": "stream",
          "name": "stderr",
          "text": [
            "Llama.generate: prefix-match hit\n"
          ]
        },
        {
          "output_type": "stream",
          "name": "stdout",
          "text": [
            " 1, 8, 20\n",
            "\n",
            " 1114\n",
            "\n",
            " Sentence: HAPPY 4TH OF JULY -  - FROM YOUR FAVORITE PRESIDENT\n"
          ]
        },
        {
          "output_type": "stream",
          "name": "stderr",
          "text": [
            "Llama.generate: prefix-match hit\n"
          ]
        },
        {
          "output_type": "stream",
          "name": "stdout",
          "text": [
            " 7, 8, 9, 11, 14\n",
            "\n",
            " 1115\n",
            "\n",
            " Sentence: In America, we don't worship government. - We worship God. - -President Trump\n"
          ]
        },
        {
          "output_type": "stream",
          "name": "stderr",
          "text": [
            "Llama.generate: prefix-match hit\n"
          ]
        },
        {
          "output_type": "stream",
          "name": "stdout",
          "text": [
            " 7, 8, 13, 20\n",
            "\n",
            " 1116\n",
            "\n",
            " Sentence: SO, DAYLIGHT SAVINGS.. -  - IS NOT A BANK?\\ - \n"
          ]
        },
        {
          "output_type": "stream",
          "name": "stderr",
          "text": [
            "Llama.generate: prefix-match hit\n"
          ]
        },
        {
          "output_type": "stream",
          "name": "stdout",
          "text": [
            " 1, 3, 5, 8, 9, \n",
            "\n",
            " 1117\n",
            "\n",
            " Sentence: \\If you vote for Trump again, you are mentally ill.\\ - -Alec Baldwin\n"
          ]
        },
        {
          "output_type": "stream",
          "name": "stderr",
          "text": [
            "Llama.generate: prefix-match hit\n"
          ]
        },
        {
          "output_type": "stream",
          "name": "stdout",
          "text": [
            " 8, 9, 13, 17 (Name calling\n",
            "\n",
            " 1118\n",
            "\n",
            " Sentence: YOU PROMISE A CURE FOR CANCER, IF WE ELECT - YOU PRESIDENT. -  - THAT COMES ACROSS AS A BIT EXTORTIONIST, DON'T YOU THINK? -  - OK, WHO'S THE POLITICIAN HERE? -  - VOTE BIDEN PRESIDENT -  - OR DIE IN AGONY\n"
          ]
        },
        {
          "output_type": "stream",
          "name": "stderr",
          "text": [
            "Llama.generate: prefix-match hit\n"
          ]
        },
        {
          "output_type": "stream",
          "name": "stdout",
          "text": [
            " 3, 7, 8, 9, 13,\n",
            "\n",
            " 1119\n",
            "\n",
            " Sentence: CELEBRATES FREEDOM -  - FORCED TO PAY INTEREST ON THE CIRCULATION OF MONOPOLY MONEY -  - AT GUNPOINT\n"
          ]
        },
        {
          "output_type": "stream",
          "name": "stderr",
          "text": [
            "Llama.generate: prefix-match hit\n"
          ]
        },
        {
          "output_type": "stream",
          "name": "stdout",
          "text": [
            " 1, 3, 4, 8, 9, \n",
            "\n",
            " 1120\n",
            "\n",
            " Sentence: THE NATIONAL GUARD SHOULD BE AT THE BORDER... -  - NOT AT THE U.S. СAPITOL -  - \n"
          ]
        },
        {
          "output_type": "stream",
          "name": "stderr",
          "text": [
            "Llama.generate: prefix-match hit\n"
          ]
        },
        {
          "output_type": "stream",
          "name": "stdout",
          "text": [
            " 3, 4, 7, 8, 9, \n",
            "\n",
            " 1121\n",
            "\n",
            " Sentence: I identify as a PUMPKIN\n"
          ]
        },
        {
          "output_type": "stream",
          "name": "stderr",
          "text": [
            "Llama.generate: prefix-match hit\n"
          ]
        },
        {
          "output_type": "stream",
          "name": "stdout",
          "text": [
            " 5, 8, 15 (Glittering Generalities:\n",
            "\n",
            " 1122\n",
            "\n",
            " Sentence: FREQUENCY ON -  - FREQUENCY OFF - (WEATHER MODIFICATION)\n"
          ]
        },
        {
          "output_type": "stream",
          "name": "stderr",
          "text": [
            "Llama.generate: prefix-match hit\n"
          ]
        },
        {
          "output_type": "stream",
          "name": "stdout",
          "text": [
            " 3, 4, 5, 8, 9, \n",
            "\n",
            " 1123\n",
            "\n",
            " Sentence: Visit the COVID-19 Information Center for vaccine resources. - Double-vaxxed.  - Janssen-fueled, Moderna- boosted.  - Hey, Omicron: Hit me with your wet snot. -  - All I had to do was fill out this form in a language I can't - read.  - Translation software tells me I now belong to the BTS - Army.\n"
          ]
        },
        {
          "output_type": "stream",
          "name": "stderr",
          "text": [
            "Llama.generate: prefix-match hit\n"
          ]
        },
        {
          "output_type": "stream",
          "name": "stdout",
          "text": [
            " 3, 4, 5, 8, 9, \n",
            "\n",
            " 1124\n",
            "\n",
            " Sentence: I WANT TO WAKE PEOPLE UP - YOU CAN'T WAKE UP SOMEONE WHO IS NOT WILLING TO WAKE UP\n"
          ]
        },
        {
          "output_type": "stream",
          "name": "stderr",
          "text": [
            "Llama.generate: prefix-match hit\n"
          ]
        },
        {
          "output_type": "stream",
          "name": "stdout",
          "text": [
            " 5, 8, 9, 13, 15\n",
            "\n",
            " 1125\n",
            "\n",
            " Sentence: DEFENSE SECRETARY MARK ESPER DIVERTS $3.6B FOR - 175 MILES OF BORDER WALL\n"
          ]
        },
        {
          "output_type": "stream",
          "name": "stderr",
          "text": [
            "Llama.generate: prefix-match hit\n"
          ]
        },
        {
          "output_type": "stream",
          "name": "stdout",
          "text": [
            " 3, 4, 7, 8, 9, \n",
            "\n",
            " 1126\n",
            "\n",
            " Sentence: Kindergartener Granted PhD in Biology After Correctly Distinguishing Boy From Girl - \n"
          ]
        },
        {
          "output_type": "stream",
          "name": "stderr",
          "text": [
            "Llama.generate: prefix-match hit\n"
          ]
        },
        {
          "output_type": "stream",
          "name": "stdout",
          "text": [
            " 1, 3, 4, 7, 8, \n",
            "\n",
            " 1127\n",
            "\n",
            " Sentence: DON'T WORRY, SIR... 12 YEARS FROM NOW FOUR PEOPLE WILL DIE IN BENGHAZI AND EVERYONE WILL - FORGET THAT THIS EVER HAPPENED ~9/11/2001\n"
          ]
        },
        {
          "output_type": "stream",
          "name": "stderr",
          "text": [
            "Llama.generate: prefix-match hit\n"
          ]
        },
        {
          "output_type": "stream",
          "name": "stdout",
          "text": [
            " 3, 4, 5, 9, 13,\n",
            "\n",
            " 1128\n",
            "\n",
            " Sentence: SEEMS LEGIT - \n"
          ]
        },
        {
          "output_type": "stream",
          "name": "stderr",
          "text": [
            "Llama.generate: prefix-match hit\n"
          ]
        },
        {
          "output_type": "stream",
          "name": "stdout",
          "text": [
            " 3, 4, 5, 8, 9, \n",
            "\n",
            " 1129\n",
            "\n",
            " Sentence: He looked at danger in the face, but was stabbed in the back.\n"
          ]
        },
        {
          "output_type": "stream",
          "name": "stderr",
          "text": [
            "Llama.generate: prefix-match hit\n"
          ]
        },
        {
          "output_type": "stream",
          "name": "stdout",
          "text": [
            " 3, 6, 8, 9, 13,\n",
            "\n",
            " 1130\n",
            "\n",
            " Sentence: WE WILL PARADE IN THEIR CITIES\n"
          ]
        },
        {
          "output_type": "stream",
          "name": "stderr",
          "text": [
            "Llama.generate: prefix-match hit\n"
          ]
        },
        {
          "output_type": "stream",
          "name": "stdout",
          "text": [
            " 3, 5, 13, 14 (Whatabout\n",
            "\n",
            " 1131\n",
            "\n",
            " Sentence: NY Times Editor, 49, Dies of Heart Attack One Day After - Moderna Booster -  - NY Times Editor, 49, Dies One Day After Moderna Booster Shot. - thenationalpulse.com\n"
          ]
        },
        {
          "output_type": "stream",
          "name": "stderr",
          "text": [
            "Llama.generate: prefix-match hit\n"
          ]
        },
        {
          "output_type": "stream",
          "name": "stdout",
          "text": [
            " 3, 4, 5, 8, 9, \n",
            "\n",
            " 1132\n",
            "\n",
            " Sentence: They murdered millions of people -  - for banks and corporations -  - and the American people do nothing.\n"
          ]
        },
        {
          "output_type": "stream",
          "name": "stderr",
          "text": [
            "Llama.generate: prefix-match hit\n"
          ]
        },
        {
          "output_type": "stream",
          "name": "stdout",
          "text": [
            " 3, 4, 8, 9, 13,\n",
            "\n",
            " 1133\n",
            "\n",
            " Sentence: RICHBOY SOONAXED -  - CONSERVATIVE PARTY LEADER\n"
          ]
        },
        {
          "output_type": "stream",
          "name": "stderr",
          "text": [
            "Llama.generate: prefix-match hit\n"
          ]
        },
        {
          "output_type": "stream",
          "name": "stdout",
          "text": [
            " 1, 3, 4, 8, 9, \n",
            "\n",
            " 1134\n",
            "\n",
            " Sentence: Say it! -  - I refuse!! -  - Say it! -  - I miss Trump! -  - Told you so.\n"
          ]
        },
        {
          "output_type": "stream",
          "name": "stderr",
          "text": [
            "Llama.generate: prefix-match hit\n"
          ]
        },
        {
          "output_type": "stream",
          "name": "stdout",
          "text": [
            " 3, 8, 9, 13, 15\n",
            "\n",
            " 1135\n",
            "\n",
            " Sentence: DEMOCRATS -  - I have done nothing wrong, ever, in my life. -  - CORPORATE MEDIA -  - I know this, and I love you.\n"
          ]
        },
        {
          "output_type": "stream",
          "name": "stderr",
          "text": [
            "Llama.generate: prefix-match hit\n"
          ]
        },
        {
          "output_type": "stream",
          "name": "stdout",
          "text": [
            " 2, 3, 4, 8, 9, \n",
            "\n",
            " 1136\n",
            "\n",
            " Sentence: WHEN FASCISM COMES TO AMERICA, IT WILL BE WRAPPED IN A FLAG AND CARRYING A BIBLE. - - SINCLAIR LEWIS\n"
          ]
        },
        {
          "output_type": "stream",
          "name": "stderr",
          "text": [
            "Llama.generate: prefix-match hit\n"
          ]
        },
        {
          "output_type": "stream",
          "name": "stdout",
          "text": [
            " 8, 9, 13, 20 (Name calling\n",
            "\n",
            " 1137\n",
            "\n",
            " Sentence: \\HOW CAN YOU TALK IF YOU HAVEN'T GOT A BRAIN?\\ - \\SOME PEOPLE WITHOUT BRAINS DO AN AWFUL LOT OF TALKING.\\\n"
          ]
        },
        {
          "output_type": "stream",
          "name": "stderr",
          "text": [
            "Llama.generate: prefix-match hit\n"
          ]
        },
        {
          "output_type": "stream",
          "name": "stdout",
          "text": [
            " 3, 4, 5, 8, 9, \n",
            "\n",
            " 1138\n",
            "\n",
            " Sentence: Can you open my Facebook page, son? -  - Sure, I have it on my bookmarks. -  - FUCK!\n"
          ]
        },
        {
          "output_type": "stream",
          "name": "stderr",
          "text": [
            "Llama.generate: prefix-match hit\n"
          ]
        },
        {
          "output_type": "stream",
          "name": "stdout",
          "text": [
            " 3, 8, 9, 13 (Whataboutism\n",
            "\n",
            " 1139\n",
            "\n",
            " Sentence: REMEMBERING 9/11 - September 11, 1973 - the CIA launched a coup that overthrew democratically-elected Chilean president Salvador Allende and replaced him with a military dictatorship.\n"
          ]
        },
        {
          "output_type": "stream",
          "name": "stderr",
          "text": [
            "Llama.generate: prefix-match hit\n"
          ]
        },
        {
          "output_type": "stream",
          "name": "stdout",
          "text": [
            " 1, 3, 7, 8, 9, \n",
            "\n",
            " 1140\n",
            "\n",
            " Sentence: RAISE YOUR HAND IF YOU GOT THE VACCINE\n"
          ]
        },
        {
          "output_type": "stream",
          "name": "stderr",
          "text": [
            "Llama.generate: prefix-match hit\n"
          ]
        },
        {
          "output_type": "stream",
          "name": "stdout",
          "text": [
            " 1, 3, 4, 8, 11,\n",
            "\n",
            " 1141\n",
            "\n",
            " Sentence: YOU DON'T BUY A 12 MILLION DOLLAR WATERFRONT HOUSE ON MARTHA'S VINEYARD IF YOU REALLY BELIEVE THE OCEANS ARE RISING.\n"
          ]
        },
        {
          "output_type": "stream",
          "name": "stderr",
          "text": [
            "Llama.generate: prefix-match hit\n"
          ]
        },
        {
          "output_type": "stream",
          "name": "stdout",
          "text": [
            " 3, 4, 5, 8, 9, \n",
            "\n",
            " 1142\n",
            "\n",
            " Sentence: HAHAHA.  - NOT EVEN MY HOME WAS SEARCHED BY THE FBI\n"
          ]
        },
        {
          "output_type": "stream",
          "name": "stderr",
          "text": [
            "Llama.generate: prefix-match hit\n"
          ]
        },
        {
          "output_type": "stream",
          "name": "stdout",
          "text": [
            " 3, 5, 13, 17 (Whatabout\n",
            "\n",
            " 1143\n",
            "\n",
            " Sentence: Russian Oil - We'll have Circle \\Jerk\\ Back around on these Gas Prices\n"
          ]
        },
        {
          "output_type": "stream",
          "name": "stderr",
          "text": [
            "Llama.generate: prefix-match hit\n"
          ]
        },
        {
          "output_type": "stream",
          "name": "stdout",
          "text": [
            " 3, 5, 13, 17 (Whatabout\n",
            "\n",
            " 1144\n",
            "\n",
            " Sentence: \\Our values will endure, our people will thrive, our nation will prevail, and the memory of our loved ones will never, ever die.\\ - President Trump - 9/11 - NEVER FORGET. - \n"
          ]
        },
        {
          "output_type": "stream",
          "name": "stderr",
          "text": [
            "Llama.generate: prefix-match hit\n"
          ]
        },
        {
          "output_type": "stream",
          "name": "stdout",
          "text": [
            " 7, 8, 9, 13, 14\n",
            "\n",
            " 1145\n",
            "\n",
            " Sentence: People who dismiss the unemployed - and dependent as \\parasites\\ fail to - understand economics and parasitism. - A successful parasite is one that is not - recognized by its host, one that can - make its host work for it without - appearing as a burden. Such is the - ruling class in a capitalist society. - - Jason Read\n"
          ]
        },
        {
          "output_type": "stream",
          "name": "stderr",
          "text": [
            "Llama.generate: prefix-match hit\n"
          ]
        },
        {
          "output_type": "stream",
          "name": "stdout",
          "text": [
            " 3, 7, 8, 14 (Parasites\n",
            "\n",
            " 1146\n",
            "\n",
            " Sentence: me waiting for Nov 2020 so l can vote for Trumpy Trump\n"
          ]
        },
        {
          "output_type": "stream",
          "name": "stderr",
          "text": [
            "Llama.generate: prefix-match hit\n"
          ]
        },
        {
          "output_type": "stream",
          "name": "stdout",
          "text": [
            " 8, 9, 14 (Name calling or labeling,\n",
            "\n",
            " 1147\n",
            "\n",
            " Sentence: CREEPY CLOWN CRAZE REACHES WESTMINSTER - \n"
          ]
        },
        {
          "output_type": "stream",
          "name": "stderr",
          "text": [
            "Llama.generate: prefix-match hit\n"
          ]
        },
        {
          "output_type": "stream",
          "name": "stdout",
          "text": [
            " 3, 4, 5, 8, 9, \n",
            "\n",
            " 1148\n",
            "\n",
            " Sentence: Gain-of-Function - I am Science!\n"
          ]
        },
        {
          "output_type": "stream",
          "name": "stderr",
          "text": [
            "Llama.generate: prefix-match hit\n"
          ]
        },
        {
          "output_type": "stream",
          "name": "stdout",
          "text": [
            " 1, 3, 4, 8, 9, \n",
            "\n",
            " 1149\n",
            "\n",
            " Sentence: Who's your President?\n"
          ]
        },
        {
          "output_type": "stream",
          "name": "stderr",
          "text": [
            "Llama.generate: prefix-match hit\n"
          ]
        },
        {
          "output_type": "stream",
          "name": "stdout",
          "text": [
            " 1, 3, 7 (Whataboutism and Red Herring\n",
            "\n",
            " 1150\n",
            "\n",
            " Sentence: IMAGINE IF YOU WILL -  - A WORLD WHERE MEMES ARE FACT - CHECKED BUT BALLOTS AREN'T... - \n"
          ]
        },
        {
          "output_type": "stream",
          "name": "stderr",
          "text": [
            "Llama.generate: prefix-match hit\n"
          ]
        },
        {
          "output_type": "stream",
          "name": "stdout",
          "text": [
            " 3, 4, 5, 8, 9, \n",
            "\n",
            " 1151\n",
            "\n",
            " Sentence: THE VOTES ARE IN GUESS WHAT? -  - YOU STILL LIVE UNDER THE DICTATORSHIP OF CAPITAL - \n"
          ]
        },
        {
          "output_type": "stream",
          "name": "stderr",
          "text": [
            "Llama.generate: prefix-match hit\n"
          ]
        },
        {
          "output_type": "stream",
          "name": "stdout",
          "text": [
            " 7, 8, 13, 15 (Black-\n",
            "\n",
            " 1152\n",
            "\n",
            " Sentence: BIDEN TRIPPED UP THE STEPS OF AIR FORCE ONE. - DO YOU KNOW WHAT ELSE HE'S DONE? - -EXTENDED THE EVICTION MORATORIUM - -PAUSED STUDENT LOANS - -STOPPED CONSTRUCTION OF THE BORDER WALL - -PRESERVED DACA - -REVERSED THE TRAVEL BAN - -PREVENTED WORKPLACE DISCRIMINATION AGAINST THE LGBTO COMMUNITY\n"
          ]
        },
        {
          "output_type": "stream",
          "name": "stderr",
          "text": [
            "Llama.generate: prefix-match hit\n"
          ]
        },
        {
          "output_type": "stream",
          "name": "stdout",
          "text": [
            " 3, 5, 13, 20 (Whatabout\n",
            "\n",
            " 1153\n",
            "\n",
            " Sentence: DO NOT QUESTION AUTHORITY! -  - They don't know either\n"
          ]
        },
        {
          "output_type": "stream",
          "name": "stderr",
          "text": [
            "Llama.generate: prefix-match hit\n"
          ]
        },
        {
          "output_type": "stream",
          "name": "stdout",
          "text": [
            " 6, 8, 9, 13, 15\n",
            "\n",
            " 1154\n",
            "\n",
            " Sentence: Trump helped young inner-city - Detroit artists fulfill their lifelong dream of performing at Carnegie Hall!\n"
          ]
        },
        {
          "output_type": "stream",
          "name": "stderr",
          "text": [
            "Llama.generate: prefix-match hit\n"
          ]
        },
        {
          "output_type": "stream",
          "name": "stdout",
          "text": [
            " 1, 3, 5, 9, 14,\n",
            "\n",
            " 1155\n",
            "\n",
            " Sentence: \\Liz was a standout in season 1 and we're sad to see her go,\\ said Adam Schiff. -  - Producers Confirm Liz Cheney Will Not Be Back For Season 2 Of January 6 Hearings\n"
          ]
        },
        {
          "output_type": "stream",
          "name": "stderr",
          "text": [
            "Llama.generate: prefix-match hit\n"
          ]
        },
        {
          "output_type": "stream",
          "name": "stdout",
          "text": [
            " 7, 8, 9, 13 (Adam Sch\n",
            "\n",
            " 1156\n",
            "\n",
            " Sentence: NEW WHITE HOUSE LIMO\n"
          ]
        },
        {
          "output_type": "stream",
          "name": "stderr",
          "text": [
            "Llama.generate: prefix-match hit\n"
          ]
        },
        {
          "output_type": "stream",
          "name": "stdout",
          "text": [
            " 3, 4, 7, 8, 9, \n",
            "\n",
            " 1157\n",
            "\n",
            " Sentence: IMAGINE - THERE IS NO HEAVEN\n"
          ]
        },
        {
          "output_type": "stream",
          "name": "stderr",
          "text": [
            "Llama.generate: prefix-match hit\n"
          ]
        },
        {
          "output_type": "stream",
          "name": "stdout",
          "text": [
            " 3, 4, 5, 8, 9, \n",
            "\n",
            " 1158\n",
            "\n",
            " Sentence: If you want to make any football player really famous. Let it be this man.  - He came out and stood alone while his whole team stayed in the locker room.  - He's a veteran and did 3 tours in Iraq.  - Make him famous. - His name is Alejandro Villanueva!  - A real American patriot!  - Who's going to share it? - \n"
          ]
        },
        {
          "output_type": "stream",
          "name": "stderr",
          "text": [
            "Llama.generate: prefix-match hit\n"
          ]
        },
        {
          "output_type": "stream",
          "name": "stdout",
          "text": [
            " 7, 8, 9, 11, 13\n",
            "\n",
            " 1159\n",
            "\n",
            " Sentence: - John Wayne -  - IF YOU DON'T WANT AN AMERICAN FLAG FLYING IN YOUR TOWN SQUARE OR AT YOUR SCHOOL, THEN WHY THE HELL ARE YOU LIVING IN THE US?\n"
          ]
        },
        {
          "output_type": "stream",
          "name": "stderr",
          "text": [
            "Llama.generate: prefix-match hit\n"
          ]
        },
        {
          "output_type": "stream",
          "name": "stdout",
          "text": [
            " 8, 9, 13, 17, 2\n",
            "\n",
            " 1160\n",
            "\n",
            " Sentence: GIVES ME A VISA PLEASES! - RUSSIA BAD! -  - NO?? - MIGHTY RUSSIA WILL CRUSHES YOU!\n"
          ]
        },
        {
          "output_type": "stream",
          "name": "stderr",
          "text": [
            "Llama.generate: prefix-match hit\n"
          ]
        },
        {
          "output_type": "stream",
          "name": "stdout",
          "text": [
            " 1, 3, 4, 8, 9, \n",
            "\n",
            " 1161\n",
            "\n",
            " Sentence: \\One of the best comments I saw online was from someone in the Yahoo News comments section who said Trump reminded him of a doctor with no bedside manner who says you need to lose 100 pounds and to stop smoking. - You're offended, angry, you come up with ten reasons why he's crazy ... but then you realize he's the only one telling you the truth.\\ -  - - Mike Huckabee\n"
          ]
        },
        {
          "output_type": "stream",
          "name": "stderr",
          "text": [
            "Llama.generate: prefix-match hit\n"
          ]
        },
        {
          "output_type": "stream",
          "name": "stdout",
          "text": [
            " 3, 7, 9, 15, 18\n",
            "\n",
            " 1162\n",
            "\n",
            " Sentence: AMERICA IS BEING DESTROYED FROM THE INSIDE -  - \\LIKE\\ IF YOU AGREE\n"
          ]
        },
        {
          "output_type": "stream",
          "name": "stderr",
          "text": [
            "Llama.generate: prefix-match hit\n"
          ]
        },
        {
          "output_type": "stream",
          "name": "stdout",
          "text": [
            " 3, 8, 9, 13, 15\n",
            "\n",
            " 1163\n",
            "\n",
            " Sentence: Yeah I comment 'it's all propaganda' in videos that are - showing war crimes commited by the russian troops, how did you know?\n"
          ]
        },
        {
          "output_type": "stream",
          "name": "stderr",
          "text": [
            "Llama.generate: prefix-match hit\n"
          ]
        },
        {
          "output_type": "stream",
          "name": "stdout",
          "text": [
            " 3, 4, 5, 8, 9, \n",
            "\n",
            " 1164\n",
            "\n",
            " Sentence: WE ARE FIGHTING PURE EVIL... IT IS JUST BEGINNING. -  - Stay With Me\n"
          ]
        },
        {
          "output_type": "stream",
          "name": "stderr",
          "text": [
            "Llama.generate: prefix-match hit\n"
          ]
        },
        {
          "output_type": "stream",
          "name": "stdout",
          "text": [
            " 3, 8, 9, 13, 17\n",
            "\n",
            " 1165\n",
            "\n",
            " Sentence: I won't say \\Happy Holidays\\ To Trump -  - I will say MERRY CHRISTMAS\n"
          ]
        },
        {
          "output_type": "stream",
          "name": "stderr",
          "text": [
            "Llama.generate: prefix-match hit\n"
          ]
        },
        {
          "output_type": "stream",
          "name": "stdout",
          "text": [
            " 8, 9, 13, 20 (Name calling\n",
            "\n",
            " 1166\n",
            "\n",
            " Sentence: \\Novus ordo seclorum\\ is Latin for \\New Order of the Ages\\ -  - Still think this New World Order is just a conspiracy? - OH NAW, IT'S JUST COINCIDENCE.\n"
          ]
        },
        {
          "output_type": "stream",
          "name": "stderr",
          "text": [
            "Llama.generate: prefix-match hit\n"
          ]
        },
        {
          "output_type": "stream",
          "name": "stdout",
          "text": [
            " 3, 8, 14, 17 (Mis\n",
            "\n",
            " 1167\n",
            "\n",
            " Sentence: \\I love representing the U.S. I frikkin love living there. - I love it and I'm so happy I get to represent US A. Love it.\\ - -Tamyra Marianna Stock Mensah\n"
          ]
        },
        {
          "output_type": "stream",
          "name": "stderr",
          "text": [
            "Llama.generate: prefix-match hit\n"
          ]
        },
        {
          "output_type": "stream",
          "name": "stdout",
          "text": [
            " 10, 14, 20 (The sentence itself contains\n",
            "\n",
            " 1168\n",
            "\n",
            " Sentence: \\Your government sent 1.1 million dead people stimulus checks. - Wonder how many of these folks also voted absentee?\\ -  - -RAND PAUL\n"
          ]
        },
        {
          "output_type": "stream",
          "name": "stderr",
          "text": [
            "Llama.generate: prefix-match hit\n"
          ]
        },
        {
          "output_type": "stream",
          "name": "stdout",
          "text": [
            " 3, 5, 13, 17 (Whatabout\n",
            "\n",
            " 1169\n",
            "\n",
            " Sentence: Garth cheated on his wife! Perfect match for Cheating - Biden! -  - Garth you really do have \\Friends in Low Places.\\\n"
          ]
        },
        {
          "output_type": "stream",
          "name": "stderr",
          "text": [
            "Llama.generate: prefix-match hit\n"
          ]
        },
        {
          "output_type": "stream",
          "name": "stdout",
          "text": [
            " 8, 9, 13, 17, 2\n",
            "\n",
            " 1170\n",
            "\n",
            " Sentence: Airdefense starter pack -  - *pump included\n"
          ]
        },
        {
          "output_type": "stream",
          "name": "stderr",
          "text": [
            "Llama.generate: prefix-match hit\n"
          ]
        },
        {
          "output_type": "stream",
          "name": "stdout",
          "text": [
            " 3, 5, 14 (Slogans: \"Air\n",
            "\n",
            " 1171\n",
            "\n",
            " Sentence: REMEMBER THIS MOMENT -  - BECAUSE EVERY NOW & THEN WE NEED A SMILE - \n"
          ]
        },
        {
          "output_type": "stream",
          "name": "stderr",
          "text": [
            "Llama.generate: prefix-match hit\n"
          ]
        },
        {
          "output_type": "stream",
          "name": "stdout",
          "text": [
            " 5, 14, 20\n",
            "\n",
            " 1172\n",
            "\n",
            " Sentence: THIS IS WHY YOU DON'T  - STEP ON THE FLAG -  - THIS IS WHY DON'T - ERASE HISTORY -  - THIS IS WHY YOU STAND - FOR THE NATIONAL ANTHEM -  - YOU'RE NOT A BLACK, WHITE, YELLOW OR BROWN - YOU'RE AN AMERICAN. -  - START ACTING LIKE IT.\n"
          ]
        },
        {
          "output_type": "stream",
          "name": "stderr",
          "text": [
            "Llama.generate: prefix-match hit\n"
          ]
        },
        {
          "output_type": "stream",
          "name": "stdout",
          "text": [
            " 1, 3, 8, 9, 11,\n",
            "\n",
            " 1173\n",
            "\n",
            " Sentence: REVILED BY THE WEST, AND LOVED BY THEIR PEOPLE -  - TWO HALLMARKS OF EXCELLENT LEADERSHIP\n"
          ]
        },
        {
          "output_type": "stream",
          "name": "stderr",
          "text": [
            "Llama.generate: prefix-match hit\n"
          ]
        },
        {
          "output_type": "stream",
          "name": "stdout",
          "text": [
            " 8, 9, 13, 20\n",
            "\n",
            " 1174\n",
            "\n",
            " Sentence: APPARENTLY ISRAELI PRIME MINISTER NETANYAHU IS - CONCERNED ABOUT IRAN BECOMING MOUSER FROM - SUPER MARIO BROS.\n"
          ]
        },
        {
          "output_type": "stream",
          "name": "stderr",
          "text": [
            "Llama.generate: prefix-match hit\n"
          ]
        },
        {
          "output_type": "stream",
          "name": "stdout",
          "text": [
            " 3, 5, 14 (Whataboutism, Obf\n",
            "\n",
            " 1175\n",
            "\n",
            " Sentence: 2009 Russia- Ukraine gas dispute - IN YEMEN - Bipartisan Policy Center - (7120 Report),\\ Country Reports on Terrorism 2007 (April 2008).... 19 Eric Schmitt and Robert F. - Worth, 'U.S. Widens Terror War to Yemen, a Qaeda Bastion,\\ ...\n"
          ]
        },
        {
          "output_type": "stream",
          "name": "stderr",
          "text": [
            "Llama.generate: prefix-match hit\n"
          ]
        },
        {
          "output_type": "stream",
          "name": "stdout",
          "text": [
            " 3, 4, 7, 9, 13,\n",
            "\n",
            " 1176\n",
            "\n",
            " Sentence: CLAIMS NOT ILLUMINATI - DOES ALL SIGNALS\n"
          ]
        },
        {
          "output_type": "stream",
          "name": "stderr",
          "text": [
            "Llama.generate: prefix-match hit\n"
          ]
        },
        {
          "output_type": "stream",
          "name": "stdout",
          "text": [
            " 3, 4, 5 (without clear context, it's\n",
            "\n",
            " 1177\n",
            "\n",
            " Sentence: BAN  - Facebook page - Good admins  - Transphobic comments\n"
          ]
        },
        {
          "output_type": "stream",
          "name": "stderr",
          "text": [
            "Llama.generate: prefix-match hit\n"
          ]
        },
        {
          "output_type": "stream",
          "name": "stdout",
          "text": [
            " 1, 3, 8, 9, 13,\n",
            "\n",
            " 1178\n",
            "\n",
            " Sentence: SPEAKING OF RUSSIA..... - REMEMBER WHEN HILLARY SOLD THEM 20% OF OUR URANIUM?\n"
          ]
        },
        {
          "output_type": "stream",
          "name": "stderr",
          "text": [
            "Llama.generate: prefix-match hit\n"
          ]
        },
        {
          "output_type": "stream",
          "name": "stdout",
          "text": [
            " 3, 5, 13, 17, 1\n",
            "\n",
            " 1179\n",
            "\n",
            " Sentence: IF YOU CAN'T PASS YOUR AGENDA WITHOUT HAVING TO HIDE IT IN A COVID-19 BILL, MAYBE YOUR AGENDA IS AWFUL. -  - CONGRESSWOMAN LAUREN BOEBERT\n"
          ]
        },
        {
          "output_type": "stream",
          "name": "stderr",
          "text": [
            "Llama.generate: prefix-match hit\n"
          ]
        },
        {
          "output_type": "stream",
          "name": "stdout",
          "text": [
            " 3, 7, 8, 9, 13,\n",
            "\n",
            " 1180\n",
            "\n",
            " Sentence: DID YOU DO IT? -  - YES. -  - WHAT DID IT COST? -  - EVERYTHING.\n"
          ]
        },
        {
          "output_type": "stream",
          "name": "stderr",
          "text": [
            "Llama.generate: prefix-match hit\n"
          ]
        },
        {
          "output_type": "stream",
          "name": "stdout",
          "text": [
            " 3, 4, 5 (obfuscation could also apply\n",
            "\n",
            " 1181\n",
            "\n",
            " Sentence: MARINE VET ACCEPTS AWARD FOR TAKING DOWN ARMED ROBBER AT GAS STATION IN A LETS GO BRANDON SHIRT -  - \n"
          ]
        },
        {
          "output_type": "stream",
          "name": "stderr",
          "text": [
            "Llama.generate: prefix-match hit\n"
          ]
        },
        {
          "output_type": "stream",
          "name": "stdout",
          "text": [
            " 1, 3, 4, 8, 9, \n",
            "\n",
            " 1182\n",
            "\n",
            " Sentence: Biden HHS to Fund Crack Pipe Distribution, part of $30 Million \\HarmReduction Grant - \n"
          ]
        },
        {
          "output_type": "stream",
          "name": "stderr",
          "text": [
            "Llama.generate: prefix-match hit\n"
          ]
        },
        {
          "output_type": "stream",
          "name": "stdout",
          "text": [
            " 1, 3, 4, 8, 9, \n",
            "\n",
            " 1183\n",
            "\n",
            " Sentence: This is how your life will be In the future If you don't take action against it!\n"
          ]
        },
        {
          "output_type": "stream",
          "name": "stderr",
          "text": [
            "Llama.generate: prefix-match hit\n"
          ]
        },
        {
          "output_type": "stream",
          "name": "stdout",
          "text": [
            " 3, 7, 13, 14, 2\n",
            "\n",
            " 1184\n",
            "\n",
            " Sentence: 22-YEAR-OLD NIGERIAN SINGER AT RISK OF EXECUTION - BECAUSE OF A SONG\n"
          ]
        },
        {
          "output_type": "stream",
          "name": "stderr",
          "text": [
            "Llama.generate: prefix-match hit\n"
          ]
        },
        {
          "output_type": "stream",
          "name": "stdout",
          "text": [
            " 1, 3, 8, 9, 13,\n",
            "\n",
            " 1185\n",
            "\n",
            " Sentence: ANOTHER OF THE FIRST GROUP OF REFUGEES WHO - HAVE ARRIVED FROM UKRAINE - \n"
          ]
        },
        {
          "output_type": "stream",
          "name": "stderr",
          "text": [
            "Llama.generate: prefix-match hit\n"
          ]
        },
        {
          "output_type": "stream",
          "name": "stdout",
          "text": [
            " 3, 4, 7, 8, 9, \n",
            "\n",
            " 1186\n",
            "\n",
            " Sentence: THEN THE ORANGE MAN -  - TOOK MY PLANE AWAY\n"
          ]
        },
        {
          "output_type": "stream",
          "name": "stderr",
          "text": [
            "Llama.generate: prefix-match hit\n"
          ]
        },
        {
          "output_type": "stream",
          "name": "stdout",
          "text": [
            " 3, 4, 5, 8, 9, \n",
            "\n",
            " 1187\n",
            "\n",
            " Sentence: Just so I'm clear: These factory workers (which are 80% female) are making NIKE's for 20 cents an hour and working 70 to 80 hours a week, so NIKE can profit enough to pay Colin Kaepernick millions to speak out against oppression and injustice?\n"
          ]
        },
        {
          "output_type": "stream",
          "name": "stderr",
          "text": [
            "Llama.generate: prefix-match hit\n"
          ]
        },
        {
          "output_type": "stream",
          "name": "stdout",
          "text": [
            " 3, 4, 8, 9, 13,\n",
            "\n",
            " 1188\n",
            "\n",
            " Sentence: I'M PRAYING FOR YOU PRESIDENT TRUMP\n"
          ]
        },
        {
          "output_type": "stream",
          "name": "stderr",
          "text": [
            "Llama.generate: prefix-match hit\n"
          ]
        },
        {
          "output_type": "stream",
          "name": "stdout",
          "text": [
            " 1, 3, 7, 8, 9, \n",
            "\n",
            " 1189\n",
            "\n",
            " Sentence: When you send a message [that] you - can enter the country illegally, you - won't be detained and you won't be - removed, people are going to come. -  - -Former Acting ICE Director Tom Homan - \n"
          ]
        },
        {
          "output_type": "stream",
          "name": "stderr",
          "text": [
            "Llama.generate: prefix-match hit\n"
          ]
        },
        {
          "output_type": "stream",
          "name": "stdout",
          "text": [
            " 3, 4, 7, 8, 9, \n",
            "\n",
            " 1190\n",
            "\n",
            " Sentence: WOODSHOP TEACHER -  - INCLUDES: -  - PROSTHETIC BOSOM - YOGA PANTS - GLASSES - SNEAKERS - FACE DIAPER -  - ADULT - Size Costume\n"
          ]
        },
        {
          "output_type": "stream",
          "name": "stderr",
          "text": [
            "Llama.generate: prefix-match hit\n"
          ]
        },
        {
          "output_type": "stream",
          "name": "stdout",
          "text": [
            " 1, 3, 4, 8, 9, \n",
            "\n",
            " 1191\n",
            "\n",
            " Sentence: CHRISTIE IN GOLAN HEIGHTS: \\WHAT'S THAT PLACE OVER THERE WHERE THERE'S NO HOPE OF A STABLE FUTURE? - MAN: \\THAT WOULD BE YOUR 2016 PRESIDENTIAL CAMPAIGN\\ - -Michael Hayne\n"
          ]
        },
        {
          "output_type": "stream",
          "name": "stderr",
          "text": [
            "Llama.generate: prefix-match hit\n"
          ]
        },
        {
          "output_type": "stream",
          "name": "stdout",
          "text": [
            " 3, 4, 5, 9, 13,\n",
            "\n",
            " 1192\n",
            "\n",
            " Sentence: IF THE GOVERNMENT WON'T TRUST ME WITH MY GUNS -  - I DON'T TRUST THEM WITH THEIRS!\n"
          ]
        },
        {
          "output_type": "stream",
          "name": "stderr",
          "text": [
            "Llama.generate: prefix-match hit\n"
          ]
        },
        {
          "output_type": "stream",
          "name": "stdout",
          "text": [
            " 1, 3, 7, 8, 9, \n",
            "\n",
            " 1193\n",
            "\n",
            " Sentence: THE BREAD GOES IN, AND TOAST COMES OUT -  - BUT WHERE DOES THE BREAD GO?\n"
          ]
        },
        {
          "output_type": "stream",
          "name": "stderr",
          "text": [
            "Llama.generate: prefix-match hit\n"
          ]
        },
        {
          "output_type": "stream",
          "name": "stdout",
          "text": [
            " 3, 5, 6 (This sentence is a metaphor and\n",
            "\n",
            " 1194\n",
            "\n",
            " Sentence: HOW DO YOU FAST TRACK THE ALTERATION - OF HISTORY AND DISTORTION OF GEOGRAPHY - IN THE DIGITAL AGE? -  - ASK GOOGLE - THEY JUST COMPLETELY - REMOVED PALASTINE FROM GOOGLE MAPS - \n"
          ]
        },
        {
          "output_type": "stream",
          "name": "stderr",
          "text": [
            "Llama.generate: prefix-match hit\n"
          ]
        },
        {
          "output_type": "stream",
          "name": "stdout",
          "text": [
            " 3, 7, 8, 13, 19\n",
            "\n",
            " 1195\n",
            "\n",
            " Sentence: \\I laugh at the so-called \\practical\\ people and their wisdom. - If one wants to live like a beast, it could naturally do, to turn its back on humanity's suffering and only care about its own pelt.\\ - Karl Marx (May 5, 1818 - March 14, 1883)\n"
          ]
        },
        {
          "output_type": "stream",
          "name": "stderr",
          "text": [
            "Llama.generate: prefix-match hit\n"
          ]
        },
        {
          "output_type": "stream",
          "name": "stdout",
          "text": [
            " 3, 8, 9, 13, 15\n",
            "\n",
            " 1196\n",
            "\n",
            " Sentence: When you're destroying a Trump supporter - in a debate and a fucking Democrat chimes in. -  - I DON'T REMEMBER ASKING - YOU A GOD DAMN THING - \n"
          ]
        },
        {
          "output_type": "stream",
          "name": "stderr",
          "text": [
            "Llama.generate: prefix-match hit\n"
          ]
        },
        {
          "output_type": "stream",
          "name": "stdout",
          "text": [
            " 3, 8, 9, 13, 15\n",
            "\n",
            " 1197\n",
            "\n",
            " Sentence: This is my neighbor, RUSSIAN FEDERATION -  - He's a pain in my assholes.\n"
          ]
        },
        {
          "output_type": "stream",
          "name": "stderr",
          "text": [
            "Llama.generate: prefix-match hit\n"
          ]
        },
        {
          "output_type": "stream",
          "name": "stdout",
          "text": [
            " 8, 9, 13, 18 (Name calling\n",
            "\n",
            " 1198\n",
            "\n",
            " Sentence: LOOK AT WHAT IRAN IS BUILDING! - \n"
          ]
        },
        {
          "output_type": "stream",
          "name": "stderr",
          "text": [
            "Llama.generate: prefix-match hit\n"
          ]
        },
        {
          "output_type": "stream",
          "name": "stdout",
          "text": [
            " 1, 3, 9, 13, 18\n",
            "\n",
            " 1199\n",
            "\n",
            " Sentence: Iraqi Christians have raised a 30-ft. tall Christmas tree in Baghdad to celebrate both the holiday and the expulsion of ISIS extremists by Iraq Security Forces.\n"
          ]
        },
        {
          "output_type": "stream",
          "name": "stderr",
          "text": [
            "Llama.generate: prefix-match hit\n"
          ]
        },
        {
          "output_type": "stream",
          "name": "stdout",
          "text": [
            " 1, 3, 4, 9, 11,\n",
            "\n",
            " 1200\n",
            "\n",
            " Sentence: TRUMP: \\Before we ask what is fair to illegal immigrants, we must ask what is fair to American - families, students and taxpayers.\\\n"
          ]
        },
        {
          "output_type": "stream",
          "name": "stderr",
          "text": [
            "Llama.generate: prefix-match hit\n"
          ]
        },
        {
          "output_type": "stream",
          "name": "stdout",
          "text": [
            " 3, 7, 9, 13, 20\n",
            "\n",
            " 1201\n",
            "\n",
            " Sentence: HYPOCRITE - When in 2012 Syria shot down Turkish F-4 Phantom jet - Tayyip Erdogan told parliament: - \\A short-term border violation can never be a pretext for an attack.\\\n"
          ]
        },
        {
          "output_type": "stream",
          "name": "stderr",
          "text": [
            "Llama.generate: prefix-match hit\n"
          ]
        },
        {
          "output_type": "stream",
          "name": "stdout",
          "text": [
            " 3, 5, 7 (Whataboutism, Obfusc\n",
            "\n",
            " 1202\n",
            "\n",
            " Sentence: PRIOR TO CAPITALISM, THE WAY PEOPLE AMASSED GREAT WEALTH WAS BY LOOTING, PLUNDERING AND - ENSLAVING THEIR FELLOW MAN. - CAPITALISM MADE IT POSSIBLE TO BECOME WEALTHY BY SERVING YOUR FELLOW MAN. - Walter E. Williams\n"
          ]
        },
        {
          "output_type": "stream",
          "name": "stderr",
          "text": [
            "Llama.generate: prefix-match hit\n"
          ]
        },
        {
          "output_type": "stream",
          "name": "stdout",
          "text": [
            " 3, 5, 8, 9, 13,\n",
            "\n",
            " 1203\n",
            "\n",
            " Sentence: IF YOU THINK THIS PRESIDENT IS A JOKE - LIKE THIS PHOTO! -  - \n"
          ]
        },
        {
          "output_type": "stream",
          "name": "stderr",
          "text": [
            "Llama.generate: prefix-match hit\n"
          ]
        },
        {
          "output_type": "stream",
          "name": "stdout",
          "text": [
            " 1, 3, 5, 8, 9, \n",
            "\n",
            " 1204\n",
            "\n",
            " Sentence: WILL YOU STILL SUPPORT TRUMP IF HE COLLUDED - WITH RUSSIANS TO UNDERMINE THE US ELECTIONS? - 'RAISE YOUR HAND AND PROMISE...l' -  - 'REMEMBER, NO MATTER WHAT' - TREASON?\n"
          ]
        },
        {
          "output_type": "stream",
          "name": "stderr",
          "text": [
            "Llama.generate: prefix-match hit\n"
          ]
        },
        {
          "output_type": "stream",
          "name": "stdout",
          "text": [
            " 3, 7, 8, 9, 13,\n",
            "\n",
            " 1205\n",
            "\n",
            " Sentence: Ukraine is game to you?  - How about I take your little board and smash!\n"
          ]
        },
        {
          "output_type": "stream",
          "name": "stderr",
          "text": [
            "Llama.generate: prefix-match hit\n"
          ]
        },
        {
          "output_type": "stream",
          "name": "stdout",
          "text": [
            " 3, 8, 14 (Whataboutism, Name calling\n",
            "\n",
            " 1206\n",
            "\n",
            " Sentence: January 6 Committee Rules -  - No witnesses can be cross-examined -  - No witnesses for the defense -  - No opposition view of the evidence -  - No member who didn't vote for impeachment -  - This is how they do it in North Korea\n"
          ]
        },
        {
          "output_type": "stream",
          "name": "stderr",
          "text": [
            "Llama.generate: prefix-match hit\n"
          ]
        },
        {
          "output_type": "stream",
          "name": "stdout",
          "text": [
            " 3, 7, 14, 18 (Whatabout\n",
            "\n",
            " 1207\n",
            "\n",
            " Sentence: I'M MORE AND MORE CONVINCED IT'S ONLY THROUGH - COMMUNISM THAT WE CAN BECOME HUMAN. -  - FRIDA KAHLO - - JULY 6, 1907 - JULY 13 1954\n"
          ]
        },
        {
          "output_type": "stream",
          "name": "stderr",
          "text": [
            "Llama.generate: prefix-match hit\n"
          ]
        },
        {
          "output_type": "stream",
          "name": "stdout",
          "text": [
            " 15, 18, 20 (Glittering General\n",
            "\n",
            " 1208\n",
            "\n",
            " Sentence: Syria: - 2014 ELECTION - 88% vote for Assad -  - \\The future of President Assad must Be decided by the Syrian people.\\  - -BAN KI MOON\n"
          ]
        },
        {
          "output_type": "stream",
          "name": "stderr",
          "text": [
            "Llama.generate: prefix-match hit\n"
          ]
        },
        {
          "output_type": "stream",
          "name": "stdout",
          "text": [
            " 3, 7, 8, 13, 20\n",
            "\n",
            " 1209\n",
            "\n",
            " Sentence: MYANMAR'S MILITARY HAS EXECUTED FOUR PEOPLE, INCLUDING A POLITICIAN AND DEMOCRACY ACTIVIST -  - PHYO ZEYA THAW - KO JIMMY\n"
          ]
        },
        {
          "output_type": "stream",
          "name": "stderr",
          "text": [
            "Llama.generate: prefix-match hit\n"
          ]
        },
        {
          "output_type": "stream",
          "name": "stdout",
          "text": [
            " 3, 4, 7, 8, 9, \n",
            "\n",
            " 1210\n",
            "\n",
            " Sentence: SAY HUMAN NATURE -  - ONE MORE TIME\n"
          ]
        },
        {
          "output_type": "stream",
          "name": "stderr",
          "text": [
            "Llama.generate: prefix-match hit\n"
          ]
        },
        {
          "output_type": "stream",
          "name": "stdout",
          "text": [
            " 11. Flag-waving\n",
            "14. Slogans\n",
            "\n",
            " 1211\n",
            "\n",
            " Sentence: Even when you GIVE SOMETHING SMALL It's A LOT for someone else.\n"
          ]
        },
        {
          "output_type": "stream",
          "name": "stderr",
          "text": [
            "Llama.generate: prefix-match hit\n"
          ]
        },
        {
          "output_type": "stream",
          "name": "stdout",
          "text": [
            " 5, 14\n",
            "\n",
            "Explanation: The sentence contains two\n",
            "\n",
            " 1212\n",
            "\n",
            " Sentence: Why I decided to invade Russland -  - Everything was fine -  - Until we entered Russland -  - then we were fucked!\n"
          ]
        },
        {
          "output_type": "stream",
          "name": "stderr",
          "text": [
            "Llama.generate: prefix-match hit\n"
          ]
        },
        {
          "output_type": "stream",
          "name": "stdout",
          "text": [
            " 3, 4, 5, 9, 13,\n",
            "\n",
            " 1213\n",
            "\n",
            " Sentence: BREAKING: Trump supporters BANNED from owning pigeons in case they try to communicate with one  - another.\n"
          ]
        },
        {
          "output_type": "stream",
          "name": "stderr",
          "text": [
            "Llama.generate: prefix-match hit\n"
          ]
        },
        {
          "output_type": "stream",
          "name": "stdout",
          "text": [
            " 3, 5, 9, 13, 18\n",
            "\n",
            " 1214\n",
            "\n",
            " Sentence: THIS IS A POTATO -  - IF THIS POTATO WAS RUNNING AGAINST JOE BIDEN, - I'D VOTE FOR THE POTATO. - \n"
          ]
        },
        {
          "output_type": "stream",
          "name": "stderr",
          "text": [
            "Llama.generate: prefix-match hit\n"
          ]
        },
        {
          "output_type": "stream",
          "name": "stdout",
          "text": [
            " 1, 3, 5, 8, 9, \n",
            "\n",
            " 1215\n",
            "\n",
            " Sentence: List of Russian generals killed during the 2022 invasion of Ukraine -  - This list is incomplete; you can help by expanding it.\n"
          ]
        },
        {
          "output_type": "stream",
          "name": "stderr",
          "text": [
            "Llama.generate: prefix-match hit\n"
          ]
        },
        {
          "output_type": "stream",
          "name": "stdout",
          "text": [
            " 3, 5, 7 (Whataboutism, Obfusc\n",
            "\n",
            " 1216\n",
            "\n",
            " Sentence: Remember: All Democrats voted against the tax bill. Every one of them. -  - Apple pledges to spend $350 billion and bring 20,000 jobs to the U.S. wit...\n"
          ]
        },
        {
          "output_type": "stream",
          "name": "stderr",
          "text": [
            "Llama.generate: prefix-match hit\n"
          ]
        },
        {
          "output_type": "stream",
          "name": "stdout",
          "text": [
            " 3, 4, 7, 8, 9, \n",
            "\n",
            " 1217\n",
            "\n",
            " Sentence: HOW TO MANIPULATE THE MASSES -  - MKULTRA A CHILD INTO SPREADING AWARENESS -  - ABOUT AN ISSUE -  - INSTEAD OF PRODUCTIVELY PERSEVERING THE PLANET -  - AND DIVERT ATTENTION AWAY FROM -  - GEO-ENGINEERING -  - H.A.A.R.P. -  - OR WEATHER MODIFICATION PATENTS\n"
          ]
        },
        {
          "output_type": "stream",
          "name": "stderr",
          "text": [
            "Llama.generate: prefix-match hit\n"
          ]
        },
        {
          "output_type": "stream",
          "name": "stdout",
          "text": [
            " 3, 4, 5, 8, 9, \n",
            "\n",
            " 1218\n",
            "\n",
            " Sentence: DONALD J. TRUMP -  - A 72 YEAR OLD BILLIONAIRE WHO GAVE UP HIS GOLDEN YEARS TO TAKE ON A CRIMINAL ORGANIZATION KNOWN AS THE \\DEMOCRATS\\\n"
          ]
        },
        {
          "output_type": "stream",
          "name": "stderr",
          "text": [
            "Llama.generate: prefix-match hit\n"
          ]
        },
        {
          "output_type": "stream",
          "name": "stdout",
          "text": [
            " 1, 3, 4, 8, 9, \n",
            "\n",
            " 1219\n",
            "\n",
            " Sentence: Western leftist: I don't support Assad or the Russian intervention.  - I support the Syrian people. -  - Syrians: Actually most of us support the government. - Western leftist:\n"
          ]
        },
        {
          "output_type": "stream",
          "name": "stderr",
          "text": [
            "Llama.generate: prefix-match hit\n"
          ]
        },
        {
          "output_type": "stream",
          "name": "stdout",
          "text": [
            " 2, 3, 5 (assuming \"Actually most of\n",
            "\n",
            " 1220\n",
            "\n",
            " Sentence: The Most Patriotic President EVER\n"
          ]
        },
        {
          "output_type": "stream",
          "name": "stderr",
          "text": [
            "Llama.generate: prefix-match hit\n"
          ]
        },
        {
          "output_type": "stream",
          "name": "stdout",
          "text": [
            " 7, 8, 9, 11, 14\n",
            "\n",
            " 1221\n",
            "\n",
            " Sentence: HOUSING IS A HUMAN RIGHT -  - An important reminder\n"
          ]
        },
        {
          "output_type": "stream",
          "name": "stderr",
          "text": [
            "Llama.generate: prefix-match hit\n"
          ]
        },
        {
          "output_type": "stream",
          "name": "stdout",
          "text": [
            " 1, 8, 20\n",
            "\n",
            " 1222\n",
            "\n",
            " Sentence: RUSSIAN CRUISER MOSKVA -  - UKRANIAN NAVY -  - UKRANIAN ARMY -  - That still only counts as one!\n"
          ]
        },
        {
          "output_type": "stream",
          "name": "stderr",
          "text": [
            "Llama.generate: prefix-match hit\n"
          ]
        },
        {
          "output_type": "stream",
          "name": "stdout",
          "text": [
            " 3, 4, 5, 8, 13,\n",
            "\n",
            " 1223\n",
            "\n",
            " Sentence: DOES IVERMECTIN WORK? - GOOGLE NO -  - CAN MEN GET PREGNANT? - GOOGLE: YES\n"
          ]
        },
        {
          "output_type": "stream",
          "name": "stderr",
          "text": [
            "Llama.generate: prefix-match hit\n"
          ]
        },
        {
          "output_type": "stream",
          "name": "stdout",
          "text": [
            " 1, 3, 5, 9, 13,\n",
            "\n",
            " 1224\n",
            "\n",
            " Sentence: SHE'S A REALLY BEAUTIFUL BABY. - SHE'S GOT MARLA'S LEGS. -  - WE DON'T KNOW WHETHER OR NOT SHE'S GOT THIS PART YET, BUT TIME WILL TELL.\n"
          ]
        },
        {
          "output_type": "stream",
          "name": "stderr",
          "text": [
            "Llama.generate: prefix-match hit\n"
          ]
        },
        {
          "output_type": "stream",
          "name": "stdout",
          "text": [
            " 3, 4, 5, 8, 9, \n",
            "\n",
            " 1225\n",
            "\n",
            " Sentence: MAGA -  - MY ASS GOT ARRESTED!\n"
          ]
        },
        {
          "output_type": "stream",
          "name": "stderr",
          "text": [
            "Llama.generate: prefix-match hit\n"
          ]
        },
        {
          "output_type": "stream",
          "name": "stdout",
          "text": [
            " 3, 8, 14 (MAGA can be considered a\n",
            "\n",
            " 1226\n",
            "\n",
            " Sentence: \\Since the first day I took office, Democrats have - been trying to impeach. This is a COUP!\\ - -President Trump\n"
          ]
        },
        {
          "output_type": "stream",
          "name": "stderr",
          "text": [
            "Llama.generate: prefix-match hit\n"
          ]
        },
        {
          "output_type": "stream",
          "name": "stdout",
          "text": [
            " 1, 3, 7, 8, 9, \n",
            "\n",
            " 1227\n",
            "\n",
            " Sentence: Why are we having all these people from shithole countries come here? -  - Cut it out!  - Cut it out!  - Cut it out! -  - The Hell's the matter with you?  - Stupid! - We're all very different people!  - We're not Watusi!  - We're not Spartans! -  - We're Americans, with a capital \\A\\, huh? - You know what that means?  - Do ya? -  - That means that our forefathers were kicked out of every decent country in the world!\n"
          ]
        },
        {
          "output_type": "stream",
          "name": "stderr",
          "text": [
            "Llama.generate: prefix-match hit\n"
          ]
        },
        {
          "output_type": "stream",
          "name": "stdout",
          "text": [
            " 3, 8, 9, 13, 17\n",
            "\n",
            " 1228\n",
            "\n",
            " Sentence: Ad Sinistram -  - \\We hang the petty thieves and appoint the great ones - to public office.\\  - - Aesop\n"
          ]
        },
        {
          "output_type": "stream",
          "name": "stderr",
          "text": [
            "Llama.generate: prefix-match hit\n"
          ]
        },
        {
          "output_type": "stream",
          "name": "stdout",
          "text": [
            " 3, 5, 7 (Black-and-white Fallacy\n",
            "\n",
            " 1229\n",
            "\n",
            " Sentence: Rand Paul: we didn't have enough time to read the bill *votes against it* -  - AOC: We didn't have enough time to read the bill *votes for it* - \n"
          ]
        },
        {
          "output_type": "stream",
          "name": "stderr",
          "text": [
            "Llama.generate: prefix-match hit\n"
          ]
        },
        {
          "output_type": "stream",
          "name": "stdout",
          "text": [
            " 3, 5, 6 (for both Rand Paul and AOC\n",
            "\n",
            " 1230\n",
            "\n",
            " Sentence: POLL SHOWS MORE OPPOSE IMPEACHMENT THAN SUPPORT IT\n"
          ]
        },
        {
          "output_type": "stream",
          "name": "stderr",
          "text": [
            "Llama.generate: prefix-match hit\n"
          ]
        },
        {
          "output_type": "stream",
          "name": "stdout",
          "text": [
            " 3, 13, 17 (Whataboutism, Appe\n",
            "\n",
            " 1231\n",
            "\n",
            " Sentence: SILLY PEASANTS -  - THE RESTRICTIONS DON'T APPLY TO ME\n"
          ]
        },
        {
          "output_type": "stream",
          "name": "stderr",
          "text": [
            "Llama.generate: prefix-match hit\n"
          ]
        },
        {
          "output_type": "stream",
          "name": "stdout",
          "text": [
            " 1, 3, 8, 9, 13,\n",
            "\n",
            " 1232\n",
            "\n",
            " Sentence: Crimea is just amazing, here I am enjoying the Crimean beach, the perfect climate and the feeling of the warm Crimean sand with John McCain, I'll never leave this place! -  - It's time to go back to the states guys, it's a Russian - territory and you're not welcome here.\n"
          ]
        },
        {
          "output_type": "stream",
          "name": "stderr",
          "text": [
            "Llama.generate: prefix-match hit\n"
          ]
        },
        {
          "output_type": "stream",
          "name": "stdout",
          "text": [
            " 3, 8, 9, 13, 17\n",
            "\n",
            " 1233\n",
            "\n",
            " Sentence: \\LET US WAGE A MORAL AND POLITICAL WAR AGAINST THE BILLIONAIRES & CORPORATE LEADERS, ON WALL STREET AND ELSEWHERE, WHOSE POLICIES & GREED ARE DESTROYING THE MIDDLE CLASS OF AMERICA.\\ -  - - BERNIE SANDERS\n"
          ]
        },
        {
          "output_type": "stream",
          "name": "stderr",
          "text": [
            "Llama.generate: prefix-match hit\n"
          ]
        },
        {
          "output_type": "stream",
          "name": "stdout",
          "text": [
            " 3, 8, 9, 11, 14\n",
            "\n",
            " 1234\n",
            "\n",
            " Sentence: TRUMP  -  - DO NOT UNDERESTIMATE THIS MAN, HE DOES NOT LIKE TO LOSE\n"
          ]
        },
        {
          "output_type": "stream",
          "name": "stderr",
          "text": [
            "Llama.generate: prefix-match hit\n"
          ]
        },
        {
          "output_type": "stream",
          "name": "stdout",
          "text": [
            " 7, 8, 9, 13, 15\n",
            "\n",
            " 1235\n",
            "\n",
            " Sentence: I'LL GET YOU BOJO.\n"
          ]
        },
        {
          "output_type": "stream",
          "name": "stderr",
          "text": [
            "Llama.generate: prefix-match hit\n"
          ]
        },
        {
          "output_type": "stream",
          "name": "stdout",
          "text": [
            " 3, 4, 13, 18 (Whatabout\n",
            "\n",
            " 1236\n",
            "\n",
            " Sentence: Romney: Putin can't be allowed to rebuild the Soviet Union - “He's trying to reestablish what he had before,” - the Utah senator said.\n"
          ]
        },
        {
          "output_type": "stream",
          "name": "stderr",
          "text": [
            "Llama.generate: prefix-match hit\n"
          ]
        },
        {
          "output_type": "stream",
          "name": "stdout",
          "text": [
            " 3, 7, 8, 9, 13,\n",
            "\n",
            " 1237\n",
            "\n",
            " Sentence: GOOD NEWS -  - THREE POLISH REGIONS ARE NO LONGER ANTI-LGBT ZONES -  - After declaring themselves to be areas \\free of LGBT ideology,\\ the regions have now voted to scrap the resolution.\n"
          ]
        },
        {
          "output_type": "stream",
          "name": "stderr",
          "text": [
            "Llama.generate: prefix-match hit\n"
          ]
        },
        {
          "output_type": "stream",
          "name": "stdout",
          "text": [
            " 1, 3, 4, 8, 9, \n",
            "\n",
            " 1238\n",
            "\n",
            " Sentence: Buoyed by Trump, GOP's Dan Bishop wins pivotal North Carolina special election\n"
          ]
        },
        {
          "output_type": "stream",
          "name": "stderr",
          "text": [
            "Llama.generate: prefix-match hit\n"
          ]
        },
        {
          "output_type": "stream",
          "name": "stdout",
          "text": [
            " 3, 7, 8, 9, 11,\n",
            "\n",
            " 1239\n",
            "\n",
            " Sentence: What they want you to see -  - Hillary Clinton during campaign rally East Los Angeles College on Thursday, May 5, 2016 in East Los Angeles -  - What you don't see\n"
          ]
        },
        {
          "output_type": "stream",
          "name": "stderr",
          "text": [
            "Llama.generate: prefix-match hit\n"
          ]
        },
        {
          "output_type": "stream",
          "name": "stdout",
          "text": [
            " 3, 4, 7, 8, 9, \n",
            "\n",
            " 1240\n",
            "\n",
            " Sentence: DEAR LIBERAL SNOWFLAKES -  - NOTHING IS FREE -  - CRYING DOESN'T SOLVE PROBLEMS -  - SCREAMING DOESN'T MAKE YOU RIGHT -  - NOT EVERYONE IS A WINNER -  - THERE ARE NO \\SAFE SPACES\\ - \n"
          ]
        },
        {
          "output_type": "stream",
          "name": "stderr",
          "text": [
            "Llama.generate: prefix-match hit\n"
          ]
        },
        {
          "output_type": "stream",
          "name": "stdout",
          "text": [
            " 1, 3, 4, 8, 9, \n",
            "\n",
            " 1241\n",
            "\n",
            " Sentence: PEGASUS SPYWARE TARGET: INDIAN HUMAN RIGHTS LAWYER & ACTIVIST BELA BHATIA -  - Testimony -  - \\The Pegasus operation has taken surveillance to a new level and made me even more controversial and vulnerable than I used to be.  - I also have to live with the constant apprehension of possible arrest based on false charges.\\\n"
          ]
        },
        {
          "output_type": "stream",
          "name": "stderr",
          "text": [
            "Llama.generate: prefix-match hit\n"
          ]
        },
        {
          "output_type": "stream",
          "name": "stdout",
          "text": [
            " 3, 4, 5, 8, 9, \n",
            "\n",
            " 1242\n",
            "\n",
            " Sentence: WEARS $14,000 OUTFIT AND TELLS YOU CAPITALISM - IS BAD AND TO TAX THE RICH\n"
          ]
        },
        {
          "output_type": "stream",
          "name": "stderr",
          "text": [
            "Llama.generate: prefix-match hit\n"
          ]
        },
        {
          "output_type": "stream",
          "name": "stdout",
          "text": [
            " 1, 3, 4, 8, 9, \n",
            "\n",
            " 1243\n",
            "\n",
            " Sentence: OH, YOU'VE READ THE COMMUNIST MANIFESTO? -  - YOU MUST BE AN EXPERT ON SOCIALISM THEN\n"
          ]
        },
        {
          "output_type": "stream",
          "name": "stderr",
          "text": [
            "Llama.generate: prefix-match hit\n"
          ]
        },
        {
          "output_type": "stream",
          "name": "stdout",
          "text": [
            " 3, 8, 14 (Misrepresentation of Someone\n",
            "\n",
            " 1244\n",
            "\n",
            " Sentence: IF YOU DON'T LIKE ABORTIONS, DON'T HAVE ONE!! -  - OK, SO IF YOU DON'T LIKE GUNS, JUST DON'T BUY ONE! -  - ARE YOU KIDDING! GUNS ARE KILLING ALL THESE - INNOCENT CHILDREN!! -  - YOU LEFTISTS REALLY ARE A SPECIAL KIND OF STUPID AREN'T YOU?\n"
          ]
        },
        {
          "output_type": "stream",
          "name": "stderr",
          "text": [
            "Llama.generate: prefix-match hit\n"
          ]
        },
        {
          "output_type": "stream",
          "name": "stdout",
          "text": [
            " 3, 8, 9, 13, 17\n",
            "\n",
            " 1245\n",
            "\n",
            " Sentence: He may look like an idiot and he may talk like an idiot, but don't let that fool you. -  - He really is an idiot.\n"
          ]
        },
        {
          "output_type": "stream",
          "name": "stderr",
          "text": [
            "Llama.generate: prefix-match hit\n"
          ]
        },
        {
          "output_type": "stream",
          "name": "stdout",
          "text": [
            " 8, 9, 13 (Name calling or labeling,\n",
            "\n",
            " 1246\n",
            "\n",
            " Sentence: 21 GOOD REASONS TO... - #WalkAway\n"
          ]
        },
        {
          "output_type": "stream",
          "name": "stderr",
          "text": [
            "Llama.generate: prefix-match hit\n"
          ]
        },
        {
          "output_type": "stream",
          "name": "stdout",
          "text": [
            " 3, 4, 7, 14, 20\n",
            "\n",
            " 1247\n",
            "\n",
            " Sentence: Constitutional carry -  - Because an armed people is a free people\n"
          ]
        },
        {
          "output_type": "stream",
          "name": "stderr",
          "text": [
            "Llama.generate: prefix-match hit\n"
          ]
        },
        {
          "output_type": "stream",
          "name": "stdout",
          "text": [
            " 1, 8, 20\n",
            "\n",
            " 1248\n",
            "\n",
            " Sentence: You know what really fucking gets me? We sent a human into outer space, beyond the Earth, for the first time in our history and it wasn't a monarch, a banker, or an oil billionaire, it wasn't a Rothschild and it wasn't a Rockefeller - it was the humble working-class son of a bricklayer and a milkmaid. - - - Our first cosmic representative was a socialist, and he was a worker. And even if everything goes to shit, if the hourglass runs out on climate change or nuclear warfare, if we never reach our full potential as a species - the story I will tell my grandkids, between munches of lizard kebabs in our solitary Himalayan cave, is that for - one hour and forty-eight minutes, we were humans, and we fucking won. - \n"
          ]
        },
        {
          "output_type": "stream",
          "name": "stderr",
          "text": [
            "Llama.generate: prefix-match hit\n"
          ]
        },
        {
          "output_type": "stream",
          "name": "stdout",
          "text": [
            " 3, 8, 9, 14, 17\n",
            "\n",
            " 1249\n",
            "\n",
            " Sentence: Did you know In order to bomb ISIS bases in Syria, Russian long-range strategic bombers had to fly around Europe because Turkey didn't allow them to use its space against ISIS.\n"
          ]
        },
        {
          "output_type": "stream",
          "name": "stderr",
          "text": [
            "Llama.generate: prefix-match hit\n"
          ]
        },
        {
          "output_type": "stream",
          "name": "stdout",
          "text": [
            " 3, 5, 7 (Whataboutism, Obfusc\n",
            "\n",
            " 1250\n",
            "\n",
            " Sentence: We're not asking.  - Before, during, & after the US election, human rights must be protected. -  - We demand gun free voting. - We demand the right to peaceful protest. - We demand freedom of the press. - We demand freedom from police violence. - We demand freedom from racism.\n"
          ]
        },
        {
          "output_type": "stream",
          "name": "stderr",
          "text": [
            "Llama.generate: prefix-match hit\n"
          ]
        },
        {
          "output_type": "stream",
          "name": "stdout",
          "text": [
            " 3, 4, 7, 8, 9, \n",
            "\n",
            " 1251\n",
            "\n",
            " Sentence: LOOK! UP IN THE SKY! -  - It's a Dope!... -  - It's an Idiot!... -  - No it's... -  - STUPIDMAN -  - Faster than a Speeding Snail -  - Duller than a broken Pencil -  - Able to speak incoherent sentences in a single breath\n"
          ]
        },
        {
          "output_type": "stream",
          "name": "stderr",
          "text": [
            "Llama.generate: prefix-match hit\n"
          ]
        },
        {
          "output_type": "stream",
          "name": "stdout",
          "text": [
            " 3, 8, 9, 13 (Name calling or\n",
            "\n",
            " 1252\n",
            "\n",
            " Sentence: ME -  - RIGHT WINGER AGREEING WITH ME ON HOW TERRIBLE THE DEMS ARE\n"
          ]
        },
        {
          "output_type": "stream",
          "name": "stderr",
          "text": [
            "Llama.generate: prefix-match hit\n"
          ]
        },
        {
          "output_type": "stream",
          "name": "stdout",
          "text": [
            " 1, 3, 8, 9, 13,\n",
            "\n",
            " 1253\n",
            "\n",
            " Sentence: The Queen was introduced to leaders by the Prime Minister - each representing the allied nations that took part in D-Day. -  - It seems they brought all the participants of the D-day, not just the allies... - \n"
          ]
        },
        {
          "output_type": "stream",
          "name": "stderr",
          "text": [
            "Llama.generate: prefix-match hit\n"
          ]
        },
        {
          "output_type": "stream",
          "name": "stdout",
          "text": [
            " 3, 5, 7 (Whataboutism, Obfusc\n",
            "\n",
            " 1254\n",
            "\n",
            " Sentence: UNLIKE PLANNED PARENTHOOD -  - EVERYONE WHO ENTERS THE NRA BUILDING, COMES OUT ALIVE\n"
          ]
        },
        {
          "output_type": "stream",
          "name": "stderr",
          "text": [
            "Llama.generate: prefix-match hit\n"
          ]
        },
        {
          "output_type": "stream",
          "name": "stdout",
          "text": [
            " 3, 4, 8, 9, 13,\n",
            "\n",
            " 1255\n",
            "\n",
            " Sentence: \\I SUPPORT A $15 minimum wage because NO ONE - should work 40 hours a week and live in POVERTY - - PRES. BIDEN -  - I'M WITH JOE! - \n"
          ]
        },
        {
          "output_type": "stream",
          "name": "stderr",
          "text": [
            "Llama.generate: prefix-match hit\n"
          ]
        },
        {
          "output_type": "stream",
          "name": "stdout",
          "text": [
            " 1, 3, 4, 8, 9, \n",
            "\n",
            " 1256\n",
            "\n",
            " Sentence: REPUBLICANS VS DEMOCRATS - Republicans sign checks on the front - Democrats sign them on the back\n"
          ]
        },
        {
          "output_type": "stream",
          "name": "stderr",
          "text": [
            "Llama.generate: prefix-match hit\n"
          ]
        },
        {
          "output_type": "stream",
          "name": "stdout",
          "text": [
            " 1, 3, 4, 8, 9, \n",
            "\n",
            " 1257\n",
            "\n",
            " Sentence: PROSECUTE HER -  - \\You went after General Petraeus for having some documents in a desk drawer.  - She destroyed evidence after it was subpoenaed! There are different weights of crimes.  - His is down here, hers are up here.\\ -  - - Andrew Napolitano\n"
          ]
        },
        {
          "output_type": "stream",
          "name": "stderr",
          "text": [
            "Llama.generate: prefix-match hit\n"
          ]
        },
        {
          "output_type": "stream",
          "name": "stdout",
          "text": [
            " 3, 4, 7, 8, 9, \n",
            "\n",
            " 1258\n",
            "\n",
            " Sentence: \\Ted Cruz is very scary.\\ - - man that wrote over 1,000 pages about a clown that murders children\n"
          ]
        },
        {
          "output_type": "stream",
          "name": "stderr",
          "text": [
            "Llama.generate: prefix-match hit\n"
          ]
        },
        {
          "output_type": "stream",
          "name": "stdout",
          "text": [
            " 8, 9, 13 (Name calling or labeling,\n",
            "\n",
            " 1259\n",
            "\n",
            " Sentence: When the cold war starts and I have to shoot my refrigerator:\n"
          ]
        },
        {
          "output_type": "stream",
          "name": "stderr",
          "text": [
            "Llama.generate: prefix-match hit\n"
          ]
        },
        {
          "output_type": "stream",
          "name": "stdout",
          "text": [
            " 1, 3, 4, 5, 9, \n",
            "\n",
            " 1260\n",
            "\n",
            " Sentence: The Best Fighter America EVER Had\n"
          ]
        },
        {
          "output_type": "stream",
          "name": "stderr",
          "text": [
            "Llama.generate: prefix-match hit\n"
          ]
        },
        {
          "output_type": "stream",
          "name": "stdout",
          "text": [
            " 1, 3, 4, 7, 9, \n",
            "\n",
            " 1261\n",
            "\n",
            " Sentence: 1984. George Orwell: \\Everything other than working was forbidden: walking in the streets, having fun, singing, dancing, getting together, everything was forbidden...\\ -  - \n"
          ]
        },
        {
          "output_type": "stream",
          "name": "stderr",
          "text": [
            "Llama.generate: prefix-match hit\n"
          ]
        },
        {
          "output_type": "stream",
          "name": "stdout",
          "text": [
            " 3, 7, 8, 13, 15\n",
            "\n",
            " 1262\n",
            "\n",
            " Sentence: Truss trying to explain how you grow pies to her Cabinet.\n"
          ]
        },
        {
          "output_type": "stream",
          "name": "stderr",
          "text": [
            "Llama.generate: prefix-match hit\n"
          ]
        },
        {
          "output_type": "stream",
          "name": "stdout",
          "text": [
            " 3, 4, 5 (This sentence itself does not contain any\n",
            "\n",
            " 1263\n",
            "\n",
            " Sentence: These 3 are The Swamp! -  - \n"
          ]
        },
        {
          "output_type": "stream",
          "name": "stderr",
          "text": [
            "Llama.generate: prefix-match hit\n"
          ]
        },
        {
          "output_type": "stream",
          "name": "stdout",
          "text": [
            " 3, 8, 14 (These 3 are being labeled\n",
            "\n",
            " 1264\n",
            "\n",
            " Sentence: I, for one, will join in with anyone - I don't care what color you are as long as you want to change this miserable condition that exists on this earth.\n"
          ]
        },
        {
          "output_type": "stream",
          "name": "stderr",
          "text": [
            "Llama.generate: prefix-match hit\n"
          ]
        },
        {
          "output_type": "stream",
          "name": "stdout",
          "text": [
            " 3, 8, 15, 20\n",
            "\n",
            " 1265\n",
            "\n",
            " Sentence: Hot girl not supporting Putin -  - Hot girl supporting Putin\n"
          ]
        },
        {
          "output_type": "stream",
          "name": "stderr",
          "text": [
            "Llama.generate: prefix-match hit\n"
          ]
        },
        {
          "output_type": "stream",
          "name": "stdout",
          "text": [
            " 3, 4, 8, 9, 13,\n",
            "\n",
            " 1266\n",
            "\n",
            " Sentence: You must never forget that the 2020 election is about one thing: you.  - It's about your family, your future, and the fate of your country. - - President Donald Trump\n"
          ]
        },
        {
          "output_type": "stream",
          "name": "stderr",
          "text": [
            "Llama.generate: prefix-match hit\n"
          ]
        },
        {
          "output_type": "stream",
          "name": "stdout",
          "text": [
            " 7, 8, 9, 13, 14\n",
            "\n",
            " 1267\n",
            "\n",
            " Sentence: Where are we going next, Vladimir? -  - To the funeral... -  - Whose funeral?! -  - I haven't decided yet! -  - For Mother Russia everybody!\n"
          ]
        },
        {
          "output_type": "stream",
          "name": "stderr",
          "text": [
            "Llama.generate: prefix-match hit\n"
          ]
        },
        {
          "output_type": "stream",
          "name": "stdout",
          "text": [
            " 3, 5, 7 (Whataboutism, Obfusc\n",
            "\n",
            " 1268\n",
            "\n",
            " Sentence: \\We've got to open this economy. If we don't, it's going to collapse and if the U.S. economy collapses, the world economy collapses and trying to burn down - the village to save it is foolish.\\ - -Sen. John Kennedy\n"
          ]
        },
        {
          "output_type": "stream",
          "name": "stderr",
          "text": [
            "Llama.generate: prefix-match hit\n"
          ]
        },
        {
          "output_type": "stream",
          "name": "stdout",
          "text": [
            " 3, 7, 9, 13, 18\n",
            "\n",
            " 1269\n",
            "\n",
            " Sentence: \\WE DON'T HAVE THE TIME TO CONFIRM THE PRESIDENT'S JUDICIAL NOMINEES\\ -  - MAYBE IF YOU WORKED MORE THAN TWO DAYS A WEEK... -  - ...YOU COULD DO THE JOB WE HIRED YOU FOR!\n"
          ]
        },
        {
          "output_type": "stream",
          "name": "stderr",
          "text": [
            "Llama.generate: prefix-match hit\n"
          ]
        },
        {
          "output_type": "stream",
          "name": "stdout",
          "text": [
            " 3, 4, 7, 8, 9, \n",
            "\n",
            " 1270\n",
            "\n",
            " Sentence: \\I am called 'the poorest president', but i don't feel poor.  - Poor people are those who only work to try to keep an expensive lifestyle, and always want more.\\ - - Jose Mujica (President of Uruguay)\n"
          ]
        },
        {
          "output_type": "stream",
          "name": "stderr",
          "text": [
            "Llama.generate: prefix-match hit\n"
          ]
        },
        {
          "output_type": "stream",
          "name": "stdout",
          "text": [
            " 5, 8, 9, 13, 20\n",
            "\n",
            " 1271\n",
            "\n",
            " Sentence: Don't get too excited about Hunter -  - Joe will pardon Hunter before he leaves office\n"
          ]
        },
        {
          "output_type": "stream",
          "name": "stderr",
          "text": [
            "Llama.generate: prefix-match hit\n"
          ]
        },
        {
          "output_type": "stream",
          "name": "stdout",
          "text": [
            " 3, 5, 13, 17 (Whatabout\n",
            "\n",
            " 1272\n",
            "\n",
            " Sentence: DON'T WANNA VOTE FOR HILLARY OR TRUMP? -  - YOUR VOTE STILL MATTERS BECAUSE 88% OF THE SEATS IN CONGRESS ARE UP FOR RE-ELECTION THIS YEAR\n"
          ]
        },
        {
          "output_type": "stream",
          "name": "stderr",
          "text": [
            "Llama.generate: prefix-match hit\n"
          ]
        },
        {
          "output_type": "stream",
          "name": "stdout",
          "text": [
            " 1, 3, 4, 7, 15,\n",
            "\n",
            " 1273\n",
            "\n",
            " Sentence: ATTORNEY CLIENT PRIVILEGE? -  - TRUMP - COHEN\n"
          ]
        },
        {
          "output_type": "stream",
          "name": "stderr",
          "text": [
            "Llama.generate: prefix-match hit\n"
          ]
        },
        {
          "output_type": "stream",
          "name": "stdout",
          "text": [
            " 1, 3, 4, 8, 9, \n",
            "\n",
            " 1274\n",
            "\n",
            " Sentence: No matter what happens... - I will ALWAYS be proud I voted for Trump\n"
          ]
        },
        {
          "output_type": "stream",
          "name": "stderr",
          "text": [
            "Llama.generate: prefix-match hit\n"
          ]
        },
        {
          "output_type": "stream",
          "name": "stdout",
          "text": [
            " 10, 13, 20\n",
            "\n",
            " 1275\n",
            "\n",
            " Sentence: DEBORAH TURNESS  - Chief Executive BBC NEWS - Married to... -  - JOHN TOKER - Director of Communications for Security and Intelligence  - UK Government Cabinet Office -  - Richard Sharp - Chairman BBC  - Former Goldman Sachs Banker. - Close with Rishi Sunak at Goldman. - A major Tory party donor [£400,000] Board member of the right-wing think tank, the Centre for Policy Studies. - Former donor to controversial Quilliam Foundation. -  - Davie - Tim Davie - Director-General BBC - Former PepsiCo Exec - as a councillor for the Conservative Party in Hammersmith. - Former Deputy Chairman of the Hammersmith and Fulham Conservative Party in the 1990s.\n"
          ]
        },
        {
          "output_type": "stream",
          "name": "stderr",
          "text": [
            "Llama.generate: prefix-match hit\n"
          ]
        },
        {
          "output_type": "stream",
          "name": "stdout",
          "text": [
            " 3, 7, 8, 9, 13,\n",
            "\n",
            " 1276\n",
            "\n",
            " Sentence: A NEW HOPE -  - EMPIRE STRIKES BACK -  - RETURN OF THE JEDI\n"
          ]
        },
        {
          "output_type": "stream",
          "name": "stderr",
          "text": [
            "Llama.generate: prefix-match hit\n"
          ]
        },
        {
          "output_type": "stream",
          "name": "stdout",
          "text": [
            " 3, 4, 5, 8, 9, \n",
            "\n",
            " 1277\n",
            "\n",
            " Sentence: IMAGINE FLIPPING A COIN 4,645,908 TIMES AND IT CAME UP HEADS 52% OF THE TIME. -  - THEN AT 3AM, YOU FLIP IT 154,000 TIMES AND IT'S 100% TAILS.  - THAT'S MICHIGAN. -  - \n"
          ]
        },
        {
          "output_type": "stream",
          "name": "stderr",
          "text": [
            "Llama.generate: prefix-match hit\n"
          ]
        },
        {
          "output_type": "stream",
          "name": "stdout",
          "text": [
            " 3, 4, 5, 8, 9, \n",
            "\n",
            " 1278\n",
            "\n",
            " Sentence: DON'T BE LIKE MEGAN BE LIKE TAMYRA\n"
          ]
        },
        {
          "output_type": "stream",
          "name": "stderr",
          "text": [
            "Llama.generate: prefix-match hit\n"
          ]
        },
        {
          "output_type": "stream",
          "name": "stdout",
          "text": [
            " 3, 8, 9, 20 (Name calling or\n",
            "\n",
            " 1279\n",
            "\n",
            " Sentence: BELGIUM-NETHERLANDS BORDER -  - MEXICO-UNITED STATES BORDER -  - RUSSIA-UKRAINE BORDER\n"
          ]
        },
        {
          "output_type": "stream",
          "name": "stderr",
          "text": [
            "Llama.generate: prefix-match hit\n"
          ]
        },
        {
          "output_type": "stream",
          "name": "stdout",
          "text": [
            " 3, 4, 7, 8, 9, \n",
            "\n",
            " 1280\n",
            "\n",
            " Sentence: Case for Biden sainthood opened at Vatican after he raised millions from the dead on election day\n"
          ]
        },
        {
          "output_type": "stream",
          "name": "stderr",
          "text": [
            "Llama.generate: prefix-match hit\n"
          ]
        },
        {
          "output_type": "stream",
          "name": "stdout",
          "text": [
            " 3, 5, 13, 14, 1\n",
            "\n",
            " 1281\n",
            "\n",
            " Sentence: AMERICA'S FAVORITE HASHTAG #FJB - \n"
          ]
        },
        {
          "output_type": "stream",
          "name": "stderr",
          "text": [
            "Llama.generate: prefix-match hit\n"
          ]
        },
        {
          "output_type": "stream",
          "name": "stdout",
          "text": [
            " 1, 3, 4, 8, 14,\n",
            "\n",
            " 1282\n",
            "\n",
            " Sentence: HIMARS o'clock - \n"
          ]
        },
        {
          "output_type": "stream",
          "name": "stderr",
          "text": [
            "Llama.generate: prefix-match hit\n"
          ]
        },
        {
          "output_type": "stream",
          "name": "stdout",
          "text": [
            " 3, 4, 13, 17 (Whatabout\n",
            "\n",
            " 1283\n",
            "\n",
            " Sentence: This was the capital in June... Please save me your Jan 6th outrage\n"
          ]
        },
        {
          "output_type": "stream",
          "name": "stderr",
          "text": [
            "Llama.generate: prefix-match hit\n"
          ]
        },
        {
          "output_type": "stream",
          "name": "stdout",
          "text": [
            " 3, 5, 13, 17 (Whatabout\n",
            "\n",
            " 1284\n",
            "\n",
            " Sentence: WRONG ON LOCKDOWN. - WRONG ON CARE HOMES. - WRONG ON CHRISTMAS. - WRONG ON KENT VARIANT. - WRONG ON THE DELTA VARIANT. -  - IF THERE IS A WRONG WAY TO DO IT, THIS TORY GOVERNMENT WILL FIND IT AND DO IT. - \n"
          ]
        },
        {
          "output_type": "stream",
          "name": "stderr",
          "text": [
            "Llama.generate: prefix-match hit\n"
          ]
        },
        {
          "output_type": "stream",
          "name": "stdout",
          "text": [
            " 3, 4, 5, 8, 9, \n",
            "\n",
            " 1285\n",
            "\n",
            " Sentence: IT'S TIME TO STOP SANCTUARY CITIES\n"
          ]
        },
        {
          "output_type": "stream",
          "name": "stderr",
          "text": [
            "Llama.generate: prefix-match hit\n"
          ]
        },
        {
          "output_type": "stream",
          "name": "stdout",
          "text": [
            " 3, 8, 9, 13, 17\n",
            "\n",
            " 1286\n",
            "\n",
            " Sentence: LOOK EAST, COMRADE - \n"
          ]
        },
        {
          "output_type": "stream",
          "name": "stderr",
          "text": [
            "Llama.generate: prefix-match hit\n"
          ]
        },
        {
          "output_type": "stream",
          "name": "stdout",
          "text": [
            " 3, 4, 7, 8, 9, \n",
            "\n",
            " 1287\n",
            "\n",
            " Sentence: No Democracy We want Just Islam -  - It Won't Happen Here, You Say? -  - Hello! This is Dearbornistan, Michigan\n"
          ]
        },
        {
          "output_type": "stream",
          "name": "stderr",
          "text": [
            "Llama.generate: prefix-match hit\n"
          ]
        },
        {
          "output_type": "stream",
          "name": "stdout",
          "text": [
            " 1, 8, 9, 13, 17\n",
            "\n",
            " 1288\n",
            "\n",
            " Sentence: \\THE WAR WAS NOT MEANT TO BE WON -  - KOREA - BEIRUT & GRENADA - AFGHANISTAN & IRAQ- - VIETNAM - PANAMA, IRAQ & SOMALIA - LIBYA, SOMALIA & YEMEN - LAOS & CAMBODIA - BOSNIA & KOSOVO - ??? -  - IT IS MEANT TO BE CONTINUOUS\\\n"
          ]
        },
        {
          "output_type": "stream",
          "name": "stderr",
          "text": [
            "Llama.generate: prefix-match hit\n"
          ]
        },
        {
          "output_type": "stream",
          "name": "stdout",
          "text": [
            " 3, 4, 5, 7, 8, \n",
            "\n",
            " 1289\n",
            "\n",
            " Sentence: Israelis when a Palestinian kid throws a rock at their armored tank\n"
          ]
        },
        {
          "output_type": "stream",
          "name": "stderr",
          "text": [
            "Llama.generate: prefix-match hit\n"
          ]
        },
        {
          "output_type": "stream",
          "name": "stdout",
          "text": [
            " 1, 3, 4, 8, 9, \n",
            "\n",
            " 1290\n",
            "\n",
            " Sentence: They call me tyrant and heartless -  - But how many Ukrainian politicians right-wingers -  - would you shoot?\n"
          ]
        },
        {
          "output_type": "stream",
          "name": "stderr",
          "text": [
            "Llama.generate: prefix-match hit\n"
          ]
        },
        {
          "output_type": "stream",
          "name": "stdout",
          "text": [
            " 3, 4, 8, 9, 13,\n",
            "\n",
            " 1291\n",
            "\n",
            " Sentence: HOLLYWOOD CRAP\n"
          ]
        },
        {
          "output_type": "stream",
          "name": "stderr",
          "text": [
            "Llama.generate: prefix-match hit\n"
          ]
        },
        {
          "output_type": "stream",
          "name": "stdout",
          "text": [
            " 8, 9, 13\n",
            "\n",
            "Explanation: The\n",
            "\n",
            " 1292\n",
            "\n",
            " Sentence: FREE PALESTINE\n"
          ]
        },
        {
          "output_type": "stream",
          "name": "stderr",
          "text": [
            "Llama.generate: prefix-match hit\n"
          ]
        },
        {
          "output_type": "stream",
          "name": "stdout",
          "text": [
            " 1, 3, 8, 9, 14,\n",
            "\n",
            " 1293\n",
            "\n",
            " Sentence: The problem I have with political jokes is that they - sometimes get elected. -  - Partly False Information\n"
          ]
        },
        {
          "output_type": "stream",
          "name": "stderr",
          "text": [
            "Llama.generate: prefix-match hit\n"
          ]
        },
        {
          "output_type": "stream",
          "name": "stdout",
          "text": [
            " 3, 5, 6 (Partly False Information is not a\n",
            "\n",
            " 1294\n",
            "\n",
            " Sentence: Biden Attacked Texas Governor For Signing Law Letting Churchgoers Carry Guns: 'Totally Irrational' - \n"
          ]
        },
        {
          "output_type": "stream",
          "name": "stderr",
          "text": [
            "Llama.generate: prefix-match hit\n"
          ]
        },
        {
          "output_type": "stream",
          "name": "stdout",
          "text": [
            " 1, 3, 4, 8, 9, \n",
            "\n",
            " 1295\n",
            "\n",
            " Sentence: TRY -  - DELICIOUS BOURGEOIS TEARS!* -  - * vodka included\n"
          ]
        },
        {
          "output_type": "stream",
          "name": "stderr",
          "text": [
            "Llama.generate: prefix-match hit\n"
          ]
        },
        {
          "output_type": "stream",
          "name": "stdout",
          "text": [
            " 3, 4, 5, 8, 9, \n",
            "\n",
            " 1296\n",
            "\n",
            " Sentence: Having a wall does not mean \\keep out\\ it means - \\Use the door!\\ (come in legally)  - Borrowed from a friend. - Keep it going.\n"
          ]
        },
        {
          "output_type": "stream",
          "name": "stderr",
          "text": [
            "Llama.generate: prefix-match hit\n"
          ]
        },
        {
          "output_type": "stream",
          "name": "stdout",
          "text": [
            " 3, 5, 9 (Name calling or labeling: \"\n",
            "\n",
            " 1297\n",
            "\n",
            " Sentence: NEVER FORGET: -  - Every day we're all busy watching the impeachment trial, President Biden is doing stuff like securing an extra 200 million doses of vaccine for Americans -  - The kinda stuff Presidents do.\n"
          ]
        },
        {
          "output_type": "stream",
          "name": "stderr",
          "text": [
            "Llama.generate: prefix-match hit\n"
          ]
        },
        {
          "output_type": "stream",
          "name": "stdout",
          "text": [
            " 3, 5, 7, 9, 14,\n",
            "\n",
            " 1298\n",
            "\n",
            " Sentence: \\We have to realize that we have to put the parties aside and all come together as Americans and realize - that we have to take this country back.\\ -  - Steven Seagal\n"
          ]
        },
        {
          "output_type": "stream",
          "name": "stderr",
          "text": [
            "Llama.generate: prefix-match hit\n"
          ]
        },
        {
          "output_type": "stream",
          "name": "stdout",
          "text": [
            " 3, 7, 14, 20\n",
            "\n",
            " 1299\n",
            "\n",
            " Sentence: 2015: USA'fights'ISIS in Palmyra -  - 2016: Russia fights ISIS in Palmyra\n"
          ]
        },
        {
          "output_type": "stream",
          "name": "stderr",
          "text": [
            "Llama.generate: prefix-match hit\n"
          ]
        },
        {
          "output_type": "stream",
          "name": "stdout",
          "text": [
            " 3, 5, 13, 17 (Whatabout\n",
            "\n",
            " 1300\n",
            "\n",
            " Sentence: I say it loudly and proudly: - Pledge Allegiance to the Flag...\n"
          ]
        },
        {
          "output_type": "stream",
          "name": "stderr",
          "text": [
            "Llama.generate: prefix-match hit\n"
          ]
        },
        {
          "output_type": "stream",
          "name": "stdout",
          "text": [
            " 1, 8, 14 (Pledge Allegiance to\n",
            "\n",
            " 1301\n",
            "\n",
            " Sentence: Biden Solves the Gas Crisis\n"
          ]
        },
        {
          "output_type": "stream",
          "name": "stderr",
          "text": [
            "Llama.generate: prefix-match hit\n"
          ]
        },
        {
          "output_type": "stream",
          "name": "stdout",
          "text": [
            " 1, 3, 4, 8, 9, \n",
            "\n",
            " 1302\n",
            "\n",
            " Sentence: FOR THE LAND OF THE FREE -  - THANK YOU TO ALL THE VETERANS THAT HAVE SERVED THIS GREAT COUNTRY\n"
          ]
        },
        {
          "output_type": "stream",
          "name": "stderr",
          "text": [
            "Llama.generate: prefix-match hit\n"
          ]
        },
        {
          "output_type": "stream",
          "name": "stdout",
          "text": [
            " 7, 8, 9, 11, 14\n",
            "\n",
            " 1303\n",
            "\n",
            " Sentence: Biden's SCOTUS nominee doesn't want pedos identified, or removed from free society. She has FOUGHT against it since, college -  - Just one more Democrat Pedophilia enabler so typical -  - Sick in the head -  - Ketanji Brown Jackson\n"
          ]
        },
        {
          "output_type": "stream",
          "name": "stderr",
          "text": [
            "Llama.generate: prefix-match hit\n"
          ]
        },
        {
          "output_type": "stream",
          "name": "stdout",
          "text": [
            " 8, 9, 13, 17, 1\n",
            "\n",
            " 1304\n",
            "\n",
            " Sentence: UNDERSTANDING POLITICS ISN'T HARD -  - YOU JUST HAVE TO THINK LIKE THEY DO...\n"
          ]
        },
        {
          "output_type": "stream",
          "name": "stderr",
          "text": [
            "Llama.generate: prefix-match hit\n"
          ]
        },
        {
          "output_type": "stream",
          "name": "stdout",
          "text": [
            " 3, 7, 14 (Misrepresentation of Someone\n",
            "\n",
            " 1305\n",
            "\n",
            " Sentence: \\Coming Up In November, You Have A Pathological Liar Who Couldn't Handle The Security Of A Piss-ant 13 Acre Compound In Benghazi, And You Want To Turn Over The Security Of This Great Country To Her?  - ..NO WAY.\\ -  - ~Admiral James Lyons, Former Commander Of The U.S. Pacific Fleet\n"
          ]
        },
        {
          "output_type": "stream",
          "name": "stderr",
          "text": [
            "Llama.generate: prefix-match hit\n"
          ]
        },
        {
          "output_type": "stream",
          "name": "stdout",
          "text": [
            " 1, 3, 4, 8, 9, \n",
            "\n",
            " 1306\n",
            "\n",
            " Sentence: NOT EVERYONE GOES HOME FOR THANKSGIVING -  - DON'T FORGET THOSE THAT CAN'T GO HOME\n"
          ]
        },
        {
          "output_type": "stream",
          "name": "stderr",
          "text": [
            "Llama.generate: prefix-match hit\n"
          ]
        },
        {
          "output_type": "stream",
          "name": "stdout",
          "text": [
            " 5, 8, 9, 13, 20\n",
            "\n",
            " 1307\n",
            "\n",
            " Sentence: Countries that celebrate independence from Poland\n"
          ]
        },
        {
          "output_type": "stream",
          "name": "stderr",
          "text": [
            "Llama.generate: prefix-match hit\n"
          ]
        },
        {
          "output_type": "stream",
          "name": "stdout",
          "text": [
            " 1, 3, 5, 8, 9, \n",
            "\n",
            " 1308\n",
            "\n",
            " Sentence: A Lesson in History! -  - On December 17, 1903 the Wright Brothers Flew 852 feet. -  - That's 852 feet farther than Nancy Pelosi flew on January 17, 2019\n"
          ]
        },
        {
          "output_type": "stream",
          "name": "stderr",
          "text": [
            "Llama.generate: prefix-match hit\n"
          ]
        },
        {
          "output_type": "stream",
          "name": "stdout",
          "text": [
            " 3, 4, 5, 8, 9, \n",
            "\n",
            " 1309\n",
            "\n",
            " Sentence: OHIO WANTS TRUMP!!!  - 2020 45 - \n"
          ]
        },
        {
          "output_type": "stream",
          "name": "stderr",
          "text": [
            "Llama.generate: prefix-match hit\n"
          ]
        },
        {
          "output_type": "stream",
          "name": "stdout",
          "text": [
            " 1, 3, 8, 14, 19\n",
            "\n",
            " 1310\n",
            "\n",
            " Sentence: Joe Biden saw his shadow Tuesday, predicting six more months of lockdowns.\n"
          ]
        },
        {
          "output_type": "stream",
          "name": "stderr",
          "text": [
            "Llama.generate: prefix-match hit\n"
          ]
        },
        {
          "output_type": "stream",
          "name": "stdout",
          "text": [
            " 3, 5, 13, 14 (Whatabout\n",
            "\n",
            " 1311\n",
            "\n",
            " Sentence: EVER WONDER WHERE ISIS  -  - GET ALL THE ORANGE AMERICAN PRISONER SUITS? - \n"
          ]
        },
        {
          "output_type": "stream",
          "name": "stderr",
          "text": [
            "Llama.generate: prefix-match hit\n"
          ]
        },
        {
          "output_type": "stream",
          "name": "stdout",
          "text": [
            " 1, 3, 4, 8, 9, \n",
            "\n",
            " 1312\n",
            "\n",
            " Sentence: \\The American Republic will endure until the day Congress discovers that it can bribe the public with the public's money.\\ - - Alexis de Tocqueville -  - UNIVERSAL FREE PUBLIC COLLEGE & CANCEL STUDENT LOAN DEBT\n"
          ]
        },
        {
          "output_type": "stream",
          "name": "stderr",
          "text": [
            "Llama.generate: prefix-match hit\n"
          ]
        },
        {
          "output_type": "stream",
          "name": "stdout",
          "text": [
            " 3, 8, 14, 20 (Glitter\n",
            "\n",
            " 1313\n",
            "\n",
            " Sentence: FOR THE LOVE OF GOD. - EVERYTHING YOU TOUCH TURNS TO SHIT!\n"
          ]
        },
        {
          "output_type": "stream",
          "name": "stderr",
          "text": [
            "Llama.generate: prefix-match hit\n"
          ]
        },
        {
          "output_type": "stream",
          "name": "stdout",
          "text": [
            " 8, 9, 13, 15 (Name calling\n",
            "\n",
            " 1314\n",
            "\n",
            " Sentence: \\The Democrats should apologize to the American people!\\ - -President Trump\n"
          ]
        },
        {
          "output_type": "stream",
          "name": "stderr",
          "text": [
            "Llama.generate: prefix-match hit\n"
          ]
        },
        {
          "output_type": "stream",
          "name": "stdout",
          "text": [
            " 3, 7, 8, 9, 13,\n",
            "\n",
            " 1315\n",
            "\n",
            " Sentence: FRAUD: It was Republicans who nominated the 1st Black woman to the SCOTUS & she was BLOCKED & filibustered by... wait for it......Joe Biden -  - Judge Janice Rogers Brown\n"
          ]
        },
        {
          "output_type": "stream",
          "name": "stderr",
          "text": [
            "Llama.generate: prefix-match hit\n"
          ]
        },
        {
          "output_type": "stream",
          "name": "stdout",
          "text": [
            " 3, 5, 7, 8, 9, \n",
            "\n",
            " 1316\n",
            "\n",
            " Sentence: Supporters of the TRUMP -  - 2nd Awomendment\n"
          ]
        },
        {
          "output_type": "stream",
          "name": "stderr",
          "text": [
            "Llama.generate: prefix-match hit\n"
          ]
        },
        {
          "output_type": "stream",
          "name": "stdout",
          "text": [
            " 1, 3, 4, 8, 9, \n",
            "\n",
            " 1317\n",
            "\n",
            " Sentence: LIVE UNDER SOCIALISM -  - OR LIVE UNDERWATER -  - CAPITALISM CAN'T STOP CLIMATE CRISIS\n"
          ]
        },
        {
          "output_type": "stream",
          "name": "stderr",
          "text": [
            "Llama.generate: prefix-match hit\n"
          ]
        },
        {
          "output_type": "stream",
          "name": "stdout",
          "text": [
            " 1, 3, 4, 8, 9, \n",
            "\n",
            " 1318\n",
            "\n",
            " Sentence: Pfizer Labs Reveal That The Third Booster -  - Greatly Increases Stock Revenues\n"
          ]
        },
        {
          "output_type": "stream",
          "name": "stderr",
          "text": [
            "Llama.generate: prefix-match hit\n"
          ]
        },
        {
          "output_type": "stream",
          "name": "stdout",
          "text": [
            " 1, 3, 4, 6, 8, \n",
            "\n",
            " 1319\n",
            "\n",
            " Sentence: Isn't Boris a wonderful driver. - The Torymobile has never looked better. -  - I can assure the police that the highway code was followed at all times. -  - We were jolly lucky to get out of that car crash in one piece given the state of Boris.  - We should thank him for saving us. -  - Very true.  - Let's give him another go and ask him to drive us home.\n"
          ]
        },
        {
          "output_type": "stream",
          "name": "stderr",
          "text": [
            "Llama.generate: prefix-match hit\n"
          ]
        },
        {
          "output_type": "stream",
          "name": "stdout",
          "text": [
            " 3, 8, 9, 14 (Glittering\n",
            "\n",
            " 1320\n",
            "\n",
            " Sentence: BREAKING NEWS -  - Gas prices are now so high, it is actually cheaper to buy - Cocaine and run everywhere.\n"
          ]
        },
        {
          "output_type": "stream",
          "name": "stderr",
          "text": [
            "Llama.generate: prefix-match hit\n"
          ]
        },
        {
          "output_type": "stream",
          "name": "stdout",
          "text": [
            " 3, 5, 6, 9, 10,\n",
            "\n",
            " 1321\n",
            "\n",
            " Sentence: Buttigieg: Republican Senate would go against 'will of the people' by opposing Biden agenda\n"
          ]
        },
        {
          "output_type": "stream",
          "name": "stderr",
          "text": [
            "Llama.generate: prefix-match hit\n"
          ]
        },
        {
          "output_type": "stream",
          "name": "stdout",
          "text": [
            " 3, 4, 7, 8, 9, \n",
            "\n",
            " 1322\n",
            "\n",
            " Sentence: YOU CAN'T SAY THAT ON TV! -  - LET'S GO BRANDON!\n"
          ]
        },
        {
          "output_type": "stream",
          "name": "stderr",
          "text": [
            "Llama.generate: prefix-match hit\n"
          ]
        },
        {
          "output_type": "stream",
          "name": "stdout",
          "text": [
            " 3, 7, 8, 9, 14,\n",
            "\n",
            " 1323\n",
            "\n",
            " Sentence: \\Crimea will always be Russian, Ukrainian and Crimean-Tatar. But it will never be Banderian or a NATO base.\\\n"
          ]
        },
        {
          "output_type": "stream",
          "name": "stderr",
          "text": [
            "Llama.generate: prefix-match hit\n"
          ]
        },
        {
          "output_type": "stream",
          "name": "stdout",
          "text": [
            " 1, 3, 7, 8, 9, \n",
            "\n",
            " 1324\n",
            "\n",
            " Sentence: IF JOE BIDEN KNOWS HOW TO FIX AMERICA, WHY DIDN'T HE TELL OBAMA?\n"
          ]
        },
        {
          "output_type": "stream",
          "name": "stderr",
          "text": [
            "Llama.generate: prefix-match hit\n"
          ]
        },
        {
          "output_type": "stream",
          "name": "stdout",
          "text": [
            " 3, 4, 7, 8, 13,\n",
            "\n",
            " 1325\n",
            "\n",
            " Sentence: SHOULD TRUMP COME BACK NOW OR IN 2024?\n"
          ]
        },
        {
          "output_type": "stream",
          "name": "stderr",
          "text": [
            "Llama.generate: prefix-match hit\n"
          ]
        },
        {
          "output_type": "stream",
          "name": "stdout",
          "text": [
            " 3, 4, 7, 8, 9, \n",
            "\n",
            " 1326\n",
            "\n",
            " Sentence: When Russian state TV says they can take on ΝΑΤΟ\n"
          ]
        },
        {
          "output_type": "stream",
          "name": "stderr",
          "text": [
            "Llama.generate: prefix-match hit\n"
          ]
        },
        {
          "output_type": "stream",
          "name": "stdout",
          "text": [
            " 3, 5, 7, 8, 9, \n",
            "\n",
            " 1327\n",
            "\n",
            " Sentence: DONNIEEEEEEE -  - YOU GOT SOME SPLAININ' TO DOOOOO\n"
          ]
        },
        {
          "output_type": "stream",
          "name": "stderr",
          "text": [
            "Llama.generate: prefix-match hit\n"
          ]
        },
        {
          "output_type": "stream",
          "name": "stdout",
          "text": [
            " 3, 8, 9, 14 (DONNI\n",
            "\n",
            " 1328\n",
            "\n",
            " Sentence: ECO SYSTEM -  - EGO SYSTEM\n"
          ]
        },
        {
          "output_type": "stream",
          "name": "stderr",
          "text": [
            "Llama.generate: prefix-match hit\n"
          ]
        },
        {
          "output_type": "stream",
          "name": "stdout",
          "text": [
            " 3, 4, 5, 8, 9, \n",
            "\n",
            " 1329\n",
            "\n",
            " Sentence: Back to the Future with Joe Biden - \\Duck and Cover\\ - Nice Job Democrats!\n"
          ]
        },
        {
          "output_type": "stream",
          "name": "stderr",
          "text": [
            "Llama.generate: prefix-match hit\n"
          ]
        },
        {
          "output_type": "stream",
          "name": "stdout",
          "text": [
            " 1, 3, 4, 8, 9, \n",
            "\n",
            " 1330\n",
            "\n",
            " Sentence: THIS WOMAN IS A CRIMINAL -  - SHE DESTROYED SUBPOENAED EVIDENCE THIS HAS ALREADY BEEN ESTABLISHED DOING SO IS A FELONY CRIME. - THE FBI KNOWS IT - THE MEDIA KNOWS IT - THE PUBLIC KNOWS IT - IT IS NOT A MATTER OF IF SHE IS GUILTY IT'S A MATTER OF WHY ISN'T SHE BEING TRIED AND CONVICTED\n"
          ]
        },
        {
          "output_type": "stream",
          "name": "stderr",
          "text": [
            "Llama.generate: prefix-match hit\n"
          ]
        },
        {
          "output_type": "stream",
          "name": "stdout",
          "text": [
            " 3, 8, 9, 13, 17\n",
            "\n",
            " 1331\n",
            "\n",
            " Sentence: REPUBLICAN APPROVAL RATING JUST HIT 93% - Sorry Haters!  - MAKE AMERICA GREAT AGAIN! -  - @realDonald Trump\n"
          ]
        },
        {
          "output_type": "stream",
          "name": "stderr",
          "text": [
            "Llama.generate: prefix-match hit\n"
          ]
        },
        {
          "output_type": "stream",
          "name": "stdout",
          "text": [
            " 7, 8, 9, 13, 14\n",
            "\n",
            " 1332\n",
            "\n",
            " Sentence: \\THE ONLY THING SHE HATES MORE THAN PRESIDENT - OBAMA IS PUNCTUATION.\\ -  - --TREVOR NOAH ON SARAH PALIN\n"
          ]
        },
        {
          "output_type": "stream",
          "name": "stderr",
          "text": [
            "Llama.generate: prefix-match hit\n"
          ]
        },
        {
          "output_type": "stream",
          "name": "stdout",
          "text": [
            " 8, 9, 13, 20 (Name calling\n",
            "\n",
            " 1333\n",
            "\n",
            " Sentence: \\The peasant who grows corn for all, starves with his family, the weaver who supplies the world market with textile fabrics, has not enough to cover his own and his children's bodies [...]  - The whole edifice of this civilization, if not saved in time, shall crumble.  - A radical change, therefore, is necessary and it is the duty of those who realize it to reorganize society on the socialistic basis.\\ - Bhagat Singh\n"
          ]
        },
        {
          "output_type": "stream",
          "name": "stderr",
          "text": [
            "Llama.generate: prefix-match hit\n"
          ]
        },
        {
          "output_type": "stream",
          "name": "stdout",
          "text": [
            " 3, 4, 5, 7, 8, \n",
            "\n",
            " 1334\n",
            "\n",
            " Sentence: THANKS, SOCIALISM! -  - \\WELCOME TO VENEZUELA - NOTICE: we have no electricity, no toilet paper, no eggs, no president... no f**king thing.\\ - Simón Bolívar International Airport (\\Maiquetía\\)\n"
          ]
        },
        {
          "output_type": "stream",
          "name": "stderr",
          "text": [
            "Llama.generate: prefix-match hit\n"
          ]
        },
        {
          "output_type": "stream",
          "name": "stdout",
          "text": [
            " 3, 4, 5, 8, 9, \n",
            "\n",
            " 1335\n",
            "\n",
            " Sentence: How did Russia annex Crimea without dropping any single bomb...\n"
          ]
        },
        {
          "output_type": "stream",
          "name": "stderr",
          "text": [
            "Llama.generate: prefix-match hit\n"
          ]
        },
        {
          "output_type": "stream",
          "name": "stdout",
          "text": [
            " 3, 5, 13, 17 (Whatabout\n",
            "\n",
            " 1336\n",
            "\n",
            " Sentence: PRESIDENT TRUMP: -  - YOU MUST CONDEMN WHITE SUPREMACY AND - RACIST VIOLENCE AND INTIMIDATION -  - There is no debate.  - We will not stand back and stand by in the face of racism.\n"
          ]
        },
        {
          "output_type": "stream",
          "name": "stderr",
          "text": [
            "Llama.generate: prefix-match hit\n"
          ]
        },
        {
          "output_type": "stream",
          "name": "stdout",
          "text": [
            " 3, 8, 9, 13, 17\n",
            "\n",
            " 1337\n",
            "\n",
            " Sentence: Did you know - Russia is allowed to inspect 9 U.S. nuclear facilities each year under new START treaty, and U.S.A. recieves notice of the inspection the day before the Russian visit. Then the Russian team can spend up to 12 hours in each facility to confirm that each silo's launch doors had been removed and their launcher tubes filled with earth and gravel. - U.S.A. on the other hand is allowed to visit 5 Russian nuclear facilities per year, usually planned a year before the actual visit.\n"
          ]
        },
        {
          "output_type": "stream",
          "name": "stderr",
          "text": [
            "Llama.generate: prefix-match hit\n"
          ]
        },
        {
          "output_type": "stream",
          "name": "stdout",
          "text": [
            " 3, 4, 5, 7, 9, \n",
            "\n",
            " 1338\n",
            "\n",
            " Sentence: $3.5T = $0\n"
          ]
        },
        {
          "output_type": "stream",
          "name": "stderr",
          "text": [
            "Llama.generate: prefix-match hit\n"
          ]
        },
        {
          "output_type": "stream",
          "name": "stdout",
          "text": [
            " 5, 13, 17 (Obfuscation due\n",
            "\n",
            " 1339\n",
            "\n",
            " Sentence: LIKE THIS POST IF YOU'D - WANT TO SEE A DEBATE - BETWEEN THESE TWO! - \n"
          ]
        },
        {
          "output_type": "stream",
          "name": "stderr",
          "text": [
            "Llama.generate: prefix-match hit\n"
          ]
        },
        {
          "output_type": "stream",
          "name": "stdout",
          "text": [
            " 3, 4, 7, 8, 14,\n",
            "\n",
            " 1340\n",
            "\n",
            " Sentence: Getting mobilized? - Just say no. -  - Your government can't force you to take arms.\n"
          ]
        },
        {
          "output_type": "stream",
          "name": "stderr",
          "text": [
            "Llama.generate: prefix-match hit\n"
          ]
        },
        {
          "output_type": "stream",
          "name": "stdout",
          "text": [
            " 3, 4, 5, 8, 14,\n",
            "\n",
            " 1341\n",
            "\n",
            " Sentence: THINGS I TRUST MORE THAN HILLARY -  - 1. FLINT MICHIGAN TAP WATER -  - 2.BILL COSBY DRINKS -  - 3. ELEVATOR RIDES WITH RAY RICE -  - 4. ANYTHING FROM CHIPOTLE\n"
          ]
        },
        {
          "output_type": "stream",
          "name": "stderr",
          "text": [
            "Llama.generate: prefix-match hit\n"
          ]
        },
        {
          "output_type": "stream",
          "name": "stdout",
          "text": [
            " 3, 4, 5, 8, 9, \n",
            "\n",
            " 1342\n",
            "\n",
            " Sentence: MY LIBERAL TEACHER SAID THAT GUNS KILL PEOPLE -  - I SAID WELL THEN MY PENCIL CAUSED MY BAD GRADES\n"
          ]
        },
        {
          "output_type": "stream",
          "name": "stderr",
          "text": [
            "Llama.generate: prefix-match hit\n"
          ]
        },
        {
          "output_type": "stream",
          "name": "stdout",
          "text": [
            " 2, 3, 4, 9, 15,\n",
            "\n",
            " 1343\n",
            "\n",
            " Sentence: The absolute state of \\journalism\\ -  - Donald Trump Is Guilty -  - The only remaining question is what exactly he's guilty of. - \n"
          ]
        },
        {
          "output_type": "stream",
          "name": "stderr",
          "text": [
            "Llama.generate: prefix-match hit\n"
          ]
        },
        {
          "output_type": "stream",
          "name": "stdout",
          "text": [
            " 1, 3, 4, 8, 9, \n",
            "\n",
            " 1344\n",
            "\n",
            " Sentence: Be the voice of those who can't say \\stop\\, who can't - say \\that hurts\\, who can't say \\I'm so afraid to die.\\ -  - Be the voice of the animals! -  - - Miley Cyrus -  - ABORTION IS HEALTHCARE\n"
          ]
        },
        {
          "output_type": "stream",
          "name": "stderr",
          "text": [
            "Llama.generate: prefix-match hit\n"
          ]
        },
        {
          "output_type": "stream",
          "name": "stdout",
          "text": [
            " 3, 8, 14, 20 (Mis\n",
            "\n",
            " 1345\n",
            "\n",
            " Sentence: DEAR PRESIDENT TRUMP, -  - WANT TO PUT AMERICANS FIRST? -  - DON'T BUILD PIPELINES -  - FIX THE PIPES IN FLINT!\n"
          ]
        },
        {
          "output_type": "stream",
          "name": "stderr",
          "text": [
            "Llama.generate: prefix-match hit\n"
          ]
        },
        {
          "output_type": "stream",
          "name": "stdout",
          "text": [
            " 3, 7, 8, 9, 13,\n",
            "\n",
            " 1346\n",
            "\n",
            " Sentence: BUT TRUMP DISRESPECTS WOMEN!! -  - JOE, C'MON YOUR HANDS HAVE BEEN ALL OVER MORE PEOPLE THAN ALLSTATE.\n"
          ]
        },
        {
          "output_type": "stream",
          "name": "stderr",
          "text": [
            "Llama.generate: prefix-match hit\n"
          ]
        },
        {
          "output_type": "stream",
          "name": "stdout",
          "text": [
            " 2, 3, 4, 8, 9, \n",
            "\n",
            " 1347\n",
            "\n",
            " Sentence: THE GOP UNDERCARD DEBATE MODERATORS ASKED THE FOUR CANDIDATES QUESTIONS ABOUT THE ECONOMY, TAXES, AND SOCIAL ISSUES.  - THEIR ANSWER WAS OVERWHELMINGLY THE SAME: -  - HILLARY CLINTON.\n"
          ]
        },
        {
          "output_type": "stream",
          "name": "stderr",
          "text": [
            "Llama.generate: prefix-match hit\n"
          ]
        },
        {
          "output_type": "stream",
          "name": "stdout",
          "text": [
            " 1, 3, 4, 8, 15,\n",
            "\n",
            " 1348\n",
            "\n",
            " Sentence: ONE DOES NOT SIMPLY - REFORM CAPITALISM\n"
          ]
        },
        {
          "output_type": "stream",
          "name": "stderr",
          "text": [
            "Llama.generate: prefix-match hit\n"
          ]
        },
        {
          "output_type": "stream",
          "name": "stdout",
          "text": [
            " 3, 4, 5 (This sentence \"ONE DOES NOT\n",
            "\n",
            " 1349\n",
            "\n",
            " Sentence: BOMBING PEOPLE CREATES TERRORISTS\n"
          ]
        },
        {
          "output_type": "stream",
          "name": "stderr",
          "text": [
            "Llama.generate: prefix-match hit\n"
          ]
        },
        {
          "output_type": "stream",
          "name": "stdout",
          "text": [
            " 3, 4, 5, 8, 9, \n",
            "\n",
            " 1350\n",
            "\n",
            " Sentence: FREEDOM - FIGHTS - AN EDUCATED - MIND CANNOT - BE ENSLAVED - CANDACE OWENS - \n"
          ]
        },
        {
          "output_type": "stream",
          "name": "stderr",
          "text": [
            "Llama.generate: prefix-match hit\n"
          ]
        },
        {
          "output_type": "stream",
          "name": "stdout",
          "text": [
            " 1, 3, 4, 8, 9, \n",
            "\n",
            " 1351\n",
            "\n",
            " Sentence: FOOTBALL TEAM LOSES -  - GOVERNMENT DESTROYS YOUR BUSINESS, FAMILY AND HEALTH\n"
          ]
        },
        {
          "output_type": "stream",
          "name": "stderr",
          "text": [
            "Llama.generate: prefix-match hit\n"
          ]
        },
        {
          "output_type": "stream",
          "name": "stdout",
          "text": [
            " 1, 3, 4, 8, 9, \n",
            "\n",
            " 1352\n",
            "\n",
            " Sentence: MASK UP! - We have a Midterm to win!\n"
          ]
        },
        {
          "output_type": "stream",
          "name": "stderr",
          "text": [
            "Llama.generate: prefix-match hit\n"
          ]
        },
        {
          "output_type": "stream",
          "name": "stdout",
          "text": [
            " 3, 7, 14, 20\n",
            "\n",
            " 1353\n",
            "\n",
            " Sentence: What we know about the 5 deaths in the mob that stormed the ... Officer Sicknick joined the USCP in July 2008, and most recently served... - as the mob tried to force its way ... - Sen. Hawley sent fundraising email as Capitol turned chaotic David Plouffe, who managed President Barack Obama's 2008 campaign, laid the... The riot by Trump ...\n"
          ]
        },
        {
          "output_type": "stream",
          "name": "stderr",
          "text": [
            "Llama.generate: prefix-match hit\n"
          ]
        },
        {
          "output_type": "stream",
          "name": "stdout",
          "text": [
            " 3, 5, 7, 9, 13,\n",
            "\n",
            " 1354\n",
            "\n",
            " Sentence: 2003 - OMG SARS WILL KILL US ALL - 2005 - OMG BIRD FLU WILL KILL US ALL - 2014 - OMG EBOLA WILL KILL US ALL - 2016 - OMG ZIKA WILL KILL US ALL - 2019 - OMG MEASLES WILL KILL US ALL - 2020 - OMG CORONAVIRUS WILL KILL US ALL -  - SAME FEAR CAMPAIGN, DIFFERENT YEAR. STOP BUYING THE BULLSHIT!\n"
          ]
        },
        {
          "output_type": "stream",
          "name": "stderr",
          "text": [
            "Llama.generate: prefix-match hit\n"
          ]
        },
        {
          "output_type": "stream",
          "name": "stdout",
          "text": [
            " 3, 7, 13, 15 (Repe\n",
            "\n",
            " 1355\n",
            "\n",
            " Sentence: LAUGHING IN OBAMA'S FACE!\n"
          ]
        },
        {
          "output_type": "stream",
          "name": "stderr",
          "text": [
            "Llama.generate: prefix-match hit\n"
          ]
        },
        {
          "output_type": "stream",
          "name": "stdout",
          "text": [
            " 1, 3, 8, 9, 13,\n",
            "\n",
            " 1356\n",
            "\n",
            " Sentence: HOW MANY DECADES MUST THE UNITED STATES ATTACK AND OCCUPY OIL-RICH COUNTRIES -  - BEFORE YOU WAKE UP AND REALIZE WHO THE REAL TERRORISTS ARE?\n"
          ]
        },
        {
          "output_type": "stream",
          "name": "stderr",
          "text": [
            "Llama.generate: prefix-match hit\n"
          ]
        },
        {
          "output_type": "stream",
          "name": "stdout",
          "text": [
            " 3, 7, 8, 9, 13,\n",
            "\n",
            " 1357\n",
            "\n",
            " Sentence: G20 LEADERS VOWED TO PROTECT LIVES, YET 5 MILLION PEOPLE HAVE DIED OF COVID-19 - That's enough to fill 100 Colosseums -  - G20: STOP HOARDING & SHARE YOUR EXCESS VACCINES NOW!\n"
          ]
        },
        {
          "output_type": "stream",
          "name": "stderr",
          "text": [
            "Llama.generate: prefix-match hit\n"
          ]
        },
        {
          "output_type": "stream",
          "name": "stdout",
          "text": [
            " 3, 7, 9, 13, 14\n",
            "\n",
            " 1358\n",
            "\n",
            " Sentence: Footage of police violently suppressing anti war protests -  - Damn.... I kinda - Remember getting tear gassed and arrested at a protest in the United States\n"
          ]
        },
        {
          "output_type": "stream",
          "name": "stderr",
          "text": [
            "Llama.generate: prefix-match hit\n"
          ]
        },
        {
          "output_type": "stream",
          "name": "stdout",
          "text": [
            " 3, 7, 8, 9, 13,\n",
            "\n",
            " 1359\n",
            "\n",
            " Sentence: Meanwhile \\Trudeau\\\n"
          ]
        },
        {
          "output_type": "stream",
          "name": "stderr",
          "text": [
            "Llama.generate: prefix-match hit\n"
          ]
        },
        {
          "output_type": "stream",
          "name": "stdout",
          "text": [
            " 3, 4, 5 (Whataboutism, Causal\n",
            "\n",
            " 1360\n",
            "\n",
            " Sentence: I can't believe it's not Novichok! -  - Taster - as good as - fresh murder -  - Original - \n"
          ]
        },
        {
          "output_type": "stream",
          "name": "stderr",
          "text": [
            "Llama.generate: prefix-match hit\n"
          ]
        },
        {
          "output_type": "stream",
          "name": "stdout",
          "text": [
            " 3, 5, 9, 13, 14\n",
            "\n",
            " 1361\n",
            "\n",
            " Sentence: \\I FEEL THAT - THIS COUNTRY, - WITH ΤHE - PROPER - LEADERSHIP, - CAN GO ON TO - BECOME WHAT - IT ONCE WAS. - AND I CERTAINLY - НОРЕ ТHAT IT - DOES GO ON TO - BECOME WHAT - IT SHOULD BE.\\ -  - DONALD TRUMP 1980 - \n"
          ]
        },
        {
          "output_type": "stream",
          "name": "stderr",
          "text": [
            "Llama.generate: prefix-match hit\n"
          ]
        },
        {
          "output_type": "stream",
          "name": "stdout",
          "text": [
            " 7, 8, 9, 13, 20\n",
            "\n",
            " 1362\n",
            "\n",
            " Sentence: STARTED FROM THE BOTTOM NOW WE HERE -  - STARTED FROM THE BOTTOM NOW MY WHOLE TEAM FUCKIN HERE\n"
          ]
        },
        {
          "output_type": "stream",
          "name": "stderr",
          "text": [
            "Llama.generate: prefix-match hit\n"
          ]
        },
        {
          "output_type": "stream",
          "name": "stdout",
          "text": [
            " 3, 4, 5, 8, 9, \n",
            "\n",
            " 1363\n",
            "\n",
            " Sentence: I GOT THE NEW SPEECH.  - MY HUSBAND IS GOING TO BE PROUD. -  - THIS B** BETTER GET OFF BY BACK.  - I'M GOING TO SHOW HER WHAT A SISTER COULD DO!\n"
          ]
        },
        {
          "output_type": "stream",
          "name": "stderr",
          "text": [
            "Llama.generate: prefix-match hit\n"
          ]
        },
        {
          "output_type": "stream",
          "name": "stdout",
          "text": [
            " 1, 3, 4, 8, 9, \n",
            "\n",
            " 1364\n",
            "\n",
            " Sentence: PEOPLE WHO TRUST THE GOVERNMENT -  - THE GOVERNMENT -  - DON'T BE WET\n"
          ]
        },
        {
          "output_type": "stream",
          "name": "stderr",
          "text": [
            "Llama.generate: prefix-match hit\n"
          ]
        },
        {
          "output_type": "stream",
          "name": "stdout",
          "text": [
            " 3, 8, 14 (Name calling or labeling,\n",
            "\n",
            " 1365\n",
            "\n",
            " Sentence: CRACKHEAD -  - INCLUDES: - DINGY UNDERWEAR - RED SCARF - PARMESAN CHEESE -  - *CRACK PIPE NOT INCLUDED *\n"
          ]
        },
        {
          "output_type": "stream",
          "name": "stderr",
          "text": [
            "Llama.generate: prefix-match hit\n"
          ]
        },
        {
          "output_type": "stream",
          "name": "stdout",
          "text": [
            " 8, 9, 13, 18 (Name calling\n",
            "\n",
            " 1366\n",
            "\n",
            " Sentence: In the case of the presidential election, you said that your vote does count.. -  - The test determined that is a lie. - Your vote has NEVER counted\n"
          ]
        },
        {
          "output_type": "stream",
          "name": "stderr",
          "text": [
            "Llama.generate: prefix-match hit\n"
          ]
        },
        {
          "output_type": "stream",
          "name": "stdout",
          "text": [
            " 3, 5, 13, 17 (The sentence\n",
            "\n",
            " 1367\n",
            "\n",
            " Sentence: HOW TRUDEAU THINKS HE LOOKS -  - HOW TRUDEAU REALLY LOOKS\n"
          ]
        },
        {
          "output_type": "stream",
          "name": "stderr",
          "text": [
            "Llama.generate: prefix-match hit\n"
          ]
        },
        {
          "output_type": "stream",
          "name": "stdout",
          "text": [
            " 2, 3, 4, 8, 9, \n",
            "\n",
            " 1368\n",
            "\n",
            " Sentence: If We the People do not continue to elect leaders that will preserve and maintain the sovereignty of the United States, then America is no more. - \n"
          ]
        },
        {
          "output_type": "stream",
          "name": "stderr",
          "text": [
            "Llama.generate: prefix-match hit\n"
          ]
        },
        {
          "output_type": "stream",
          "name": "stdout",
          "text": [
            " 7, 8, 9, 13, 15\n",
            "\n",
            " 1369\n",
            "\n",
            " Sentence: 'I belong to the American resistance movement which fights against American imperialism, just as the resistance movement fought against Hitler.' - -Paul Robeson\n"
          ]
        },
        {
          "output_type": "stream",
          "name": "stderr",
          "text": [
            "Llama.generate: prefix-match hit\n"
          ]
        },
        {
          "output_type": "stream",
          "name": "stdout",
          "text": [
            " 3, 8, 9, 13, 20\n",
            "\n",
            " 1370\n",
            "\n",
            " Sentence: STOP COMPLAINING - AS LONG AS WE DO WHAT THEY TELL US TO, EVERYTHING'S GONNA BE FINE - GERMANY 1943 - \n"
          ]
        },
        {
          "output_type": "stream",
          "name": "stderr",
          "text": [
            "Llama.generate: prefix-match hit\n"
          ]
        },
        {
          "output_type": "stream",
          "name": "stdout",
          "text": [
            " 1, 3, 7, 8, 9, \n",
            "\n",
            " 1371\n",
            "\n",
            " Sentence: \\Perhaps those currently in power believe that they are acting in our best interests. - But, history teaches us that when governments expand their power over the people, even for the most benevolent causes, tyranny is the inevitable outcome. - Freedom lost is never regained without struggle.\\ -  - ~Adrian Wyllie\n"
          ]
        },
        {
          "output_type": "stream",
          "name": "stderr",
          "text": [
            "Llama.generate: prefix-match hit\n"
          ]
        },
        {
          "output_type": "stream",
          "name": "stdout",
          "text": [
            " 3, 7, 14, 20 (The sentence\n",
            "\n",
            " 1372\n",
            "\n",
            " Sentence: JOBLESS CLAIMS UNEXPECTEDLY DROP 10,000 TO 204,000\n"
          ]
        },
        {
          "output_type": "stream",
          "name": "stderr",
          "text": [
            "Llama.generate: prefix-match hit\n"
          ]
        },
        {
          "output_type": "stream",
          "name": "stdout",
          "text": [
            " 3, 4, 5, 9, 13,\n",
            "\n",
            " 1373\n",
            "\n",
            " Sentence: people who fall for every right/left psyop on TV - people who understand Central Banking and Agenda 2030\n"
          ]
        },
        {
          "output_type": "stream",
          "name": "stderr",
          "text": [
            "Llama.generate: prefix-match hit\n"
          ]
        },
        {
          "output_type": "stream",
          "name": "stdout",
          "text": [
            " 3, 4, 5, 8, 9, \n",
            "\n",
            " 1374\n",
            "\n",
            " Sentence: Future Facebook Bot showing me the meme I made that now has me scheduled for execution. -  - \n"
          ]
        },
        {
          "output_type": "stream",
          "name": "stderr",
          "text": [
            "Llama.generate: prefix-match hit\n"
          ]
        },
        {
          "output_type": "stream",
          "name": "stdout",
          "text": [
            " 3, 4, 5, 8, 13,\n",
            "\n",
            " 1375\n",
            "\n",
            " Sentence: SAME-SEX RELATIONS REMAIN DECRIMINALISED IN - BOTSWANA\n"
          ]
        },
        {
          "output_type": "stream",
          "name": "stderr",
          "text": [
            "Llama.generate: prefix-match hit\n"
          ]
        },
        {
          "output_type": "stream",
          "name": "stdout",
          "text": [
            " 1, 3, 4, 8, 9, \n",
            "\n",
            " 1376\n",
            "\n",
            " Sentence: FREEDOM OF EXPRESSION IS UNDER ATTACK AND IT'S AFFECTING OUR ABILITY TO END THE PANDEMIC\n"
          ]
        },
        {
          "output_type": "stream",
          "name": "stderr",
          "text": [
            "Llama.generate: prefix-match hit\n"
          ]
        },
        {
          "output_type": "stream",
          "name": "stdout",
          "text": [
            " 3, 7, 9, 13, 15\n",
            "\n",
            " 1377\n",
            "\n",
            " Sentence: To those who would equate the Soviet Union and Nazi Germany: - There is a distinct difference between those who started the Holocaust and those who ended it.\n"
          ]
        },
        {
          "output_type": "stream",
          "name": "stderr",
          "text": [
            "Llama.generate: prefix-match hit\n"
          ]
        },
        {
          "output_type": "stream",
          "name": "stdout",
          "text": [
            " 3, 7, 13, 18 (Red Herr\n",
            "\n",
            " 1378\n",
            "\n",
            " Sentence: We always get our man in the end.\n"
          ]
        },
        {
          "output_type": "stream",
          "name": "stderr",
          "text": [
            "Llama.generate: prefix-match hit\n"
          ]
        },
        {
          "output_type": "stream",
          "name": "stdout",
          "text": [
            " 1, 3, 5 (The sentence \"We always get our\n",
            "\n",
            " 1379\n",
            "\n",
            " Sentence: \\The truth\\ is whatever people will believe. -  - -- Roger Ailes (president of Fox News Channel) -  - Please Share!\n"
          ]
        },
        {
          "output_type": "stream",
          "name": "stderr",
          "text": [
            "Llama.generate: prefix-match hit\n"
          ]
        },
        {
          "output_type": "stream",
          "name": "stdout",
          "text": [
            " 10. Exaggeration or Minimisation\n",
            "13. Appe\n",
            "\n",
            " 1380\n",
            "\n",
            " Sentence: Russia bombs ISIS -  - \\For Ours!\\ (Russian Airbus) - \\For Paris!\\ (November 13)\n"
          ]
        },
        {
          "output_type": "stream",
          "name": "stderr",
          "text": [
            "Llama.generate: prefix-match hit\n"
          ]
        },
        {
          "output_type": "stream",
          "name": "stdout",
          "text": [
            " 1, 3, 7, 8, 9, \n",
            "\n",
            " 1381\n",
            "\n",
            " Sentence: IT'S OKAY, MAM -  - WE'RE FROM THE GOVERNMENT\n"
          ]
        },
        {
          "output_type": "stream",
          "name": "stderr",
          "text": [
            "Llama.generate: prefix-match hit\n"
          ]
        },
        {
          "output_type": "stream",
          "name": "stdout",
          "text": [
            " 3, 5, 8, 9, 13,\n",
            "\n",
            " 1382\n",
            "\n",
            " Sentence: JIHADJOE - A REAL AMERICAN ZERO\n"
          ]
        },
        {
          "output_type": "stream",
          "name": "stderr",
          "text": [
            "Llama.generate: prefix-match hit\n"
          ]
        },
        {
          "output_type": "stream",
          "name": "stdout",
          "text": [
            " 1, 3, 8, 9, 13,\n",
            "\n",
            " 1383\n",
            "\n",
            " Sentence: Ukrainian official claims southern offensive was 'disinformation' to distract Russia from real offensive in  - Kharkiv -  - You dare use my own spells against me, Zelensky? - \n"
          ]
        },
        {
          "output_type": "stream",
          "name": "stderr",
          "text": [
            "Llama.generate: prefix-match hit\n"
          ]
        },
        {
          "output_type": "stream",
          "name": "stdout",
          "text": [
            " 1, 3, 4, 8, 9, \n",
            "\n",
            " 1384\n",
            "\n",
            " Sentence: \\I was in the East End of London (a working-class - quarter) yesterday and attended a meeting of the - unemployed. I listened to the wild speeches, which - were just a cry for 'bread! bread!' and on my way - home I pondered over the scene and I became more - than ever convinced of the importance of imperialism.... - My cherished idea is a solution for the social problem, i.e., in order to save the 40,000,000 inhabitants of the United Kingdom from a bloody civil war, we colonial statesmen must acquire new lands to settle the surplus population, to provide new markets for the goods produced in the factories and mines. The Empire, as I have always said, is a bread and butter question. If you want to avoid civil war, you must become imperialists.\\ - Cecil Rhodes - The enemy is class conscious. - Are you?\n"
          ]
        },
        {
          "output_type": "stream",
          "name": "stderr",
          "text": [
            "Llama.generate: prefix-match hit\n"
          ]
        },
        {
          "output_type": "stream",
          "name": "stdout",
          "text": [
            " 3, 7, 8, 9, 11,\n",
            "\n",
            " 1385\n",
            "\n",
            " Sentence: ACQUITTED! - The 19 defendants in the METU Pride case in Turkey have all been acquitted!\n"
          ]
        },
        {
          "output_type": "stream",
          "name": "stderr",
          "text": [
            "Llama.generate: prefix-match hit\n"
          ]
        },
        {
          "output_type": "stream",
          "name": "stdout",
          "text": [
            " 1, 3, 7 (Whataboutism and Black-and\n",
            "\n",
            " 1386\n",
            "\n",
            " Sentence: POV: You're a polish farmer tending to some drying grain and you hear a weird wooshing sound\n"
          ]
        },
        {
          "output_type": "stream",
          "name": "stderr",
          "text": [
            "Llama.generate: prefix-match hit\n"
          ]
        },
        {
          "output_type": "stream",
          "name": "stdout",
          "text": [
            " 3, 5, 13, 14 (Whatabout\n",
            "\n",
            " 1387\n",
            "\n",
            " Sentence: A world without protest is a world without progress.\n"
          ]
        },
        {
          "output_type": "stream",
          "name": "stderr",
          "text": [
            "Llama.generate: prefix-match hit\n"
          ]
        },
        {
          "output_type": "stream",
          "name": "stdout",
          "text": [
            " 5, 9, 14 (Glittering Generalities)\n",
            "\n",
            " 1388\n",
            "\n",
            " Sentence: Let's Go Brandon\n"
          ]
        },
        {
          "output_type": "stream",
          "name": "stderr",
          "text": [
            "Llama.generate: prefix-match hit\n"
          ]
        },
        {
          "output_type": "stream",
          "name": "stdout",
          "text": [
            " 1, 3, 4, 8, 9, \n",
            "\n",
            " 1389\n",
            "\n",
            " Sentence: Point to your least favorite vegetable.\n"
          ]
        },
        {
          "output_type": "stream",
          "name": "stderr",
          "text": [
            "Llama.generate: prefix-match hit\n"
          ]
        },
        {
          "output_type": "stream",
          "name": "stdout",
          "text": [
            " 5, 8, 9, 13 (Name calling or\n",
            "\n",
            " 1390\n",
            "\n",
            " Sentence: Breaking: Republican Rep. Liz Cheney loses to Trump- - backed challenger Harriet Hageman in Wyoming GOP...\n"
          ]
        },
        {
          "output_type": "stream",
          "name": "stderr",
          "text": [
            "Llama.generate: prefix-match hit\n"
          ]
        },
        {
          "output_type": "stream",
          "name": "stdout",
          "text": [
            " 3, 7, 8, 9, 13,\n",
            "\n",
            " 1391\n",
            "\n",
            " Sentence: So let me get this straight.... -  - You're voting for someone to represent you, even though they already represent someone else\n"
          ]
        },
        {
          "output_type": "stream",
          "name": "stderr",
          "text": [
            "Llama.generate: prefix-match hit\n"
          ]
        },
        {
          "output_type": "stream",
          "name": "stdout",
          "text": [
            " 3, 4 (This sentence contains an element of both misrepresentation\n",
            "\n",
            " 1392\n",
            "\n",
            " Sentence: 2020 - \\YOU HAVE TO WEAR THIS\\ - 2021 - \\NOW YOU HAVE TO WEAR THIS\\\n"
          ]
        },
        {
          "output_type": "stream",
          "name": "stderr",
          "text": [
            "Llama.generate: prefix-match hit\n"
          ]
        },
        {
          "output_type": "stream",
          "name": "stdout",
          "text": [
            " 3, 6, 7, 14 (Whataboutism\n",
            "\n",
            " 1393\n",
            "\n",
            " Sentence: JOE BIDEN ISN'T STUPID HE HAS DEMENTIA - THE PEOPLE VOTING FOR JOE BIDEN ARE STUPID\n"
          ]
        },
        {
          "output_type": "stream",
          "name": "stderr",
          "text": [
            "Llama.generate: prefix-match hit\n"
          ]
        },
        {
          "output_type": "stream",
          "name": "stdout",
          "text": [
            " 8, 9, 13, 17, 1\n",
            "\n",
            " 1394\n",
            "\n",
            " Sentence: Brother of late civil rights activist Medgar Evers endorses Trump -  - \\We need more and more jobs. Unemployment is way up here,\\ he said.  - \\He's hired more employees, more people, than anyone I know in the world.\\ - Evers also tried to dispel notions that the real-estate mogul is a bigot. - \\I see nothing to show he is a racist,\\ Evers said. \\I don't want any party to assume they've got all the black vote.\\ -  - REAL -  - Denzel Washington Backs Trump In The Most Epic Way Possible -  - \\We need more and more jobs.\\  - Washington recently commented.  - \\He's hired more employees more people, than anyone I know in the world.\\ -  - FAKE\n"
          ]
        },
        {
          "output_type": "stream",
          "name": "stderr",
          "text": [
            "Llama.generate: prefix-match hit\n"
          ]
        },
        {
          "output_type": "stream",
          "name": "stdout",
          "text": [
            " 3, 9, 14 (Whataboutism, Name calling\n",
            "\n",
            " 1395\n",
            "\n",
            " Sentence: I will use nuclear weapons and destroy everyone. - This is not a bluff. -  - Sure, Vladimir. - Let's get you to bed.\n"
          ]
        },
        {
          "output_type": "stream",
          "name": "stderr",
          "text": [
            "Llama.generate: prefix-match hit\n"
          ]
        },
        {
          "output_type": "stream",
          "name": "stdout",
          "text": [
            " 3, 9, 13, 18 (Whatabout\n",
            "\n",
            " 1396\n",
            "\n",
            " Sentence: HOW MANY DEMOCRATS DOES IT TAKE TO FIX A PROBLEM? -  - NO ONE KNOWS. - IT'S NEVER HAPPENED.\n"
          ]
        },
        {
          "output_type": "stream",
          "name": "stderr",
          "text": [
            "Llama.generate: prefix-match hit\n"
          ]
        },
        {
          "output_type": "stream",
          "name": "stdout",
          "text": [
            " 3, 4, 5, 8, 15\n",
            "\n",
            " 1397\n",
            "\n",
            " Sentence: SOUTHWEST AIRLINES PILOT CHANTS 'LET'S GO, - BRANDON' OVER INTERCOM -  - \n"
          ]
        },
        {
          "output_type": "stream",
          "name": "stderr",
          "text": [
            "Llama.generate: prefix-match hit\n"
          ]
        },
        {
          "output_type": "stream",
          "name": "stdout",
          "text": [
            " 3, 5, 13, 14 (Whatabout\n",
            "\n",
            " 1398\n",
            "\n",
            " Sentence: [Democrats] don't seem to get it. - They're so deranged. - - Rep. Doug Collins\n"
          ]
        },
        {
          "output_type": "stream",
          "name": "stderr",
          "text": [
            "Llama.generate: prefix-match hit\n"
          ]
        },
        {
          "output_type": "stream",
          "name": "stdout",
          "text": [
            " 3, 8, 9, 13, 17\n",
            "\n",
            " 1399\n",
            "\n",
            " Sentence: The days of the United States being taken advantage - of are over. -  - President Donald Trump - \n"
          ]
        },
        {
          "output_type": "stream",
          "name": "stderr",
          "text": [
            "Llama.generate: prefix-match hit\n"
          ]
        },
        {
          "output_type": "stream",
          "name": "stdout",
          "text": [
            " 3, 7, 9, 11, 13\n",
            "\n",
            " 1400\n",
            "\n",
            " Sentence: BUT, I DON'T HAVE ANY SYMPTOMS -  - THAT'S ONE OF THE SYMPTOMS\n"
          ]
        },
        {
          "output_type": "stream",
          "name": "stderr",
          "text": [
            "Llama.generate: prefix-match hit\n"
          ]
        },
        {
          "output_type": "stream",
          "name": "stdout",
          "text": [
            " 3, 5, 6 (Misrepresentation of Someone'\n",
            "\n",
            " 1401\n",
            "\n",
            " Sentence: HOW IS OUR ALASKA DOING?\n"
          ]
        },
        {
          "output_type": "stream",
          "name": "stderr",
          "text": [
            "Llama.generate: prefix-match hit\n"
          ]
        },
        {
          "output_type": "stream",
          "name": "stdout",
          "text": [
            " 3, 5, 13, 14 (Whatabout\n",
            "\n",
            " 1402\n",
            "\n",
            " Sentence: \\White men have a big responsibility to make amends for the Trump era. - Those amends will happen.\\ - -Michael Moore\n"
          ]
        },
        {
          "output_type": "stream",
          "name": "stderr",
          "text": [
            "Llama.generate: prefix-match hit\n"
          ]
        },
        {
          "output_type": "stream",
          "name": "stdout",
          "text": [
            " 8, 9, 13, 20 (Name calling\n",
            "\n",
            " 1403\n",
            "\n",
            " Sentence: UNTIL THEY ADMIT WHO OPENED THE GIANT MAGNETIC DOORS ON JAN. 6 -  - I'M NOT BELIEVING ANY OF THIS SH%$\n"
          ]
        },
        {
          "output_type": "stream",
          "name": "stderr",
          "text": [
            "Llama.generate: prefix-match hit\n"
          ]
        },
        {
          "output_type": "stream",
          "name": "stdout",
          "text": [
            " 3, 4, 5, 8, 9, \n",
            "\n",
            " 1404\n",
            "\n",
            " Sentence: THOSE DAMN EXTREMISTS!\n"
          ]
        },
        {
          "output_type": "stream",
          "name": "stderr",
          "text": [
            "Llama.generate: prefix-match hit\n"
          ]
        },
        {
          "output_type": "stream",
          "name": "stdout",
          "text": [
            " 8, 9, 13, 17 (Name calling\n",
            "\n",
            " 1405\n",
            "\n",
            " Sentence: The last stage of grief is acceptance. - For the country's sake, I hope my Democratic friends get there sometime soon. -  - Sen. Mitch McConnell - Senate Majority Leader\n"
          ]
        },
        {
          "output_type": "stream",
          "name": "stderr",
          "text": [
            "Llama.generate: prefix-match hit\n"
          ]
        },
        {
          "output_type": "stream",
          "name": "stdout",
          "text": [
            " 11. Flag-waving, 13. Appeal to\n",
            "\n",
            " 1406\n",
            "\n",
            " Sentence: DONALD TRUMP CAMPAIGN RAISES $3.1 MILLION IN - SMALL DONATIONS DURING IMPEACHMENT HEARINGS - \n"
          ]
        },
        {
          "output_type": "stream",
          "name": "stderr",
          "text": [
            "Llama.generate: prefix-match hit\n"
          ]
        },
        {
          "output_type": "stream",
          "name": "stdout",
          "text": [
            " 3, 4, 5, 8, 9, \n",
            "\n",
            " 1407\n",
            "\n",
            " Sentence: THE RT HON SUELLA BRAVERMAN KC MP -  - APPOINTED -  - SECRETARY OF STATE FOR THE HOME OFFICE\n"
          ]
        },
        {
          "output_type": "stream",
          "name": "stderr",
          "text": [
            "Llama.generate: prefix-match hit\n"
          ]
        },
        {
          "output_type": "stream",
          "name": "stdout",
          "text": [
            " 3, 7, 8, 9, 14 (\n",
            "\n",
            " 1408\n",
            "\n",
            " Sentence: \\We're gonna end the ICE raids which are terrorizing - communities all across this country. - We are gonna impose a moratorium on deportations.\\ - -Bernie Sanders\n"
          ]
        },
        {
          "output_type": "stream",
          "name": "stderr",
          "text": [
            "Llama.generate: prefix-match hit\n"
          ]
        },
        {
          "output_type": "stream",
          "name": "stdout",
          "text": [
            " 3, 4, 7, 9, 13,\n",
            "\n",
            " 1409\n",
            "\n",
            " Sentence: BLM co-founder -  - BLM -  - Today, I get to talk about the love of my life.. -  - Residential real estate.\n"
          ]
        },
        {
          "output_type": "stream",
          "name": "stderr",
          "text": [
            "Llama.generate: prefix-match hit\n"
          ]
        },
        {
          "output_type": "stream",
          "name": "stdout",
          "text": [
            " 3, 5, 14 (The sentence itself does not contain\n",
            "\n",
            " 1410\n",
            "\n",
            " Sentence: Boris. There's a constituent from Uxbridge who needs - some help. -  - Tell 'em to sod off.  - I haven't finished my holibobs.  - Who do they think I am? - Some sort of bloody public servant? -  - Oh.  - And they say if you can get 100 MPs to support you, you can get back into number 10. -  - Tell them I'll be on the first flight home tomorrow.\n"
          ]
        },
        {
          "output_type": "stream",
          "name": "stderr",
          "text": [
            "Llama.generate: prefix-match hit\n"
          ]
        },
        {
          "output_type": "stream",
          "name": "stdout",
          "text": [
            " 3, 7, 8, 9, 13,\n",
            "\n",
            " 1411\n",
            "\n",
            " Sentence: Philippine president claims 40% of country's communist rebels are gay\n"
          ]
        },
        {
          "output_type": "stream",
          "name": "stderr",
          "text": [
            "Llama.generate: prefix-match hit\n"
          ]
        },
        {
          "output_type": "stream",
          "name": "stdout",
          "text": [
            " 1, 3, 4, 8, 9, \n",
            "\n",
            " 1412\n",
            "\n",
            " Sentence: Eurovision 1945!\n"
          ]
        },
        {
          "output_type": "stream",
          "name": "stderr",
          "text": [
            "Llama.generate: prefix-match hit\n"
          ]
        },
        {
          "output_type": "stream",
          "name": "stdout",
          "text": [
            " 1, 3, 13, 14 (Euro\n",
            "\n",
            " 1413\n",
            "\n",
            " Sentence: In 2024, Trump will Make America Great Again... -  - AGAIN\n"
          ]
        },
        {
          "output_type": "stream",
          "name": "stderr",
          "text": [
            "Llama.generate: prefix-match hit\n"
          ]
        },
        {
          "output_type": "stream",
          "name": "stdout",
          "text": [
            " 3, 7, 14, 20\n",
            "\n",
            " 1414\n",
            "\n",
            " Sentence: In North Korea, people are forced to listen to propaganda. -  - IN THE USA PEOPLE DO IT WILLINGLY.\n"
          ]
        },
        {
          "output_type": "stream",
          "name": "stderr",
          "text": [
            "Llama.generate: prefix-match hit\n"
          ]
        },
        {
          "output_type": "stream",
          "name": "stdout",
          "text": [
            " 3, 9, 13, 20 (Whatabout\n",
            "\n",
            " 1415\n",
            "\n",
            " Sentence: -We marked in BLACK this day in our calendar. - -In their calendar, this day marks the Beginning of the Black Year.\n"
          ]
        },
        {
          "output_type": "stream",
          "name": "stderr",
          "text": [
            "Llama.generate: prefix-match hit\n"
          ]
        },
        {
          "output_type": "stream",
          "name": "stdout",
          "text": [
            " 3, 8, 14 (In their calendar, this day\n",
            "\n",
            " 1416\n",
            "\n",
            " Sentence: Balkan people arguing about how their country is the best nation in the world from their house in Germany\n"
          ]
        },
        {
          "output_type": "stream",
          "name": "stderr",
          "text": [
            "Llama.generate: prefix-match hit\n"
          ]
        },
        {
          "output_type": "stream",
          "name": "stdout",
          "text": [
            " 1, 3, 7, 8, 9, \n",
            "\n",
            " 1417\n",
            "\n",
            " Sentence: Wait just a fucking second.....\n"
          ]
        },
        {
          "output_type": "stream",
          "name": "stderr",
          "text": [
            "Llama.generate: prefix-match hit\n"
          ]
        },
        {
          "output_type": "stream",
          "name": "stdout",
          "text": [
            " 1, 3, 5 (Whataboutism, Red Herring\n",
            "\n",
            " 1418\n",
            "\n",
            " Sentence: DOMESTIC TERRORISTS -  - NOT DOMESTIC TERRORISTS\n"
          ]
        },
        {
          "output_type": "stream",
          "name": "stderr",
          "text": [
            "Llama.generate: prefix-match hit\n"
          ]
        },
        {
          "output_type": "stream",
          "name": "stdout",
          "text": [
            " 3, 4, 8, 9, 13,\n",
            "\n",
            " 1419\n",
            "\n",
            " Sentence: \\IT WAS A CAREFULLY CONTRIVED OCCURRENCE. - INTERNATIONAL BANKERS SOUGHT TO BRING ABOUT A CONDITION OF DESPAIR, SO THAT THEY MIGHT EMERGE THE RULERS OF US ALL.\\ -  - Every effort has been made by the Federal Reserve Board to conceal its powers, but the truth is-the FED has usurped the government. It controls everything here (in Congress) and it controls all our foreign relations. - It makes and breaks governments at will. -  - Congressman Louis T. McFadden - Having survived two prior assassination attempts, he died on October 1, 1936 at the age of 60 under suspicious circumstances.\n"
          ]
        },
        {
          "output_type": "stream",
          "name": "stderr",
          "text": [
            "Llama.generate: prefix-match hit\n"
          ]
        },
        {
          "output_type": "stream",
          "name": "stdout",
          "text": [
            " 3, 7, 8, 9, 13,\n",
            "\n",
            " 1420\n",
            "\n",
            " Sentence: Accurate -  - LEFTISTS - CRITICAL RACE THEORY - AMERICA\n"
          ]
        },
        {
          "output_type": "stream",
          "name": "stderr",
          "text": [
            "Llama.generate: prefix-match hit\n"
          ]
        },
        {
          "output_type": "stream",
          "name": "stdout",
          "text": [
            " 3, 8, 9, 13, 18\n",
            "\n",
            " 1421\n",
            "\n",
            " Sentence: Trump preferred over Lincoln by Republicans: poll\n"
          ]
        },
        {
          "output_type": "stream",
          "name": "stderr",
          "text": [
            "Llama.generate: prefix-match hit\n"
          ]
        },
        {
          "output_type": "stream",
          "name": "stdout",
          "text": [
            " 3, 7, 13, 14 (Whatabout\n",
            "\n",
            " 1422\n",
            "\n",
            " Sentence: THAT MOMENT WHEN YOU REALIZE YOUR GIRL IS GOING TO THE BIG HOUSE INSTEAD OF THE WHITE HOUSE.\n"
          ]
        },
        {
          "output_type": "stream",
          "name": "stderr",
          "text": [
            "Llama.generate: prefix-match hit\n"
          ]
        },
        {
          "output_type": "stream",
          "name": "stdout",
          "text": [
            " 3, 8, 9, 13, 15\n",
            "\n",
            " 1423\n",
            "\n",
            " Sentence: Vietnam after defeating 3 global powers in just 30 years -  - IT SMELL LIKE BITCH IN HERE\n"
          ]
        },
        {
          "output_type": "stream",
          "name": "stderr",
          "text": [
            "Llama.generate: prefix-match hit\n"
          ]
        },
        {
          "output_type": "stream",
          "name": "stdout",
          "text": [
            " 3, 8, 9, 13, 15\n",
            "\n",
            " 1424\n",
            "\n",
            " Sentence: STILL MORE LEFT WING  - THAN THE DEMOCRATS - \n"
          ]
        },
        {
          "output_type": "stream",
          "name": "stderr",
          "text": [
            "Llama.generate: prefix-match hit\n"
          ]
        },
        {
          "output_type": "stream",
          "name": "stdout",
          "text": [
            " 3, 4, 8, 9, 13,\n",
            "\n",
            " 1425\n",
            "\n",
            " Sentence: MARXISM COMPRISES MANY PRINCIPLES, BUT IN THE FINAL ANALYSIS THEY CAN ALL BE BROUGHT BACK TO - A SINGLE SENTENCE: -  - IT IS RIGHT TO REBEL! - -MAO ZEDONG\n"
          ]
        },
        {
          "output_type": "stream",
          "name": "stderr",
          "text": [
            "Llama.generate: prefix-match hit\n"
          ]
        },
        {
          "output_type": "stream",
          "name": "stdout",
          "text": [
            " 7, 8, 9, 15, 20\n",
            "\n",
            " 1426\n",
            "\n",
            " Sentence: WHAT IF I TOLD YOU -  - THAT BOTH POLITICAL PARTIES WORK FOR THE SAME CORPORATIONS.\n"
          ]
        },
        {
          "output_type": "stream",
          "name": "stderr",
          "text": [
            "Llama.generate: prefix-match hit\n"
          ]
        },
        {
          "output_type": "stream",
          "name": "stdout",
          "text": [
            " 3, 4, 5, 8, 9, \n",
            "\n",
            " 1427\n",
            "\n",
            " Sentence: TRUST THE PLAN! - \n"
          ]
        },
        {
          "output_type": "stream",
          "name": "stderr",
          "text": [
            "Llama.generate: prefix-match hit\n"
          ]
        },
        {
          "output_type": "stream",
          "name": "stdout",
          "text": [
            " 1, 3, 7, 9, 14,\n",
            "\n",
            " 1428\n",
            "\n",
            " Sentence: The heights by great men reached and kept - Were not attained by sudden flight, But they, while their companions slept, Were toiling upward in the night. -  - - Henry Wadsworth Longfellow,  - \\The Ladder of St. Augustine\\\n"
          ]
        },
        {
          "output_type": "stream",
          "name": "stderr",
          "text": [
            "Llama.generate: prefix-match hit\n"
          ]
        },
        {
          "output_type": "stream",
          "name": "stdout",
          "text": [
            " 5, 7, 14 (The sentence itself does not contain\n",
            "\n",
            " 1429\n",
            "\n",
            " Sentence: THAI ACTIVIST “RUNG\\ IS DETAINED AGAIN UNDER CHARGES OF ROYAL DEFAMATION, WHICH IS - CRIMINALIZED IN THIS COUNTRY. -  - AUTHORITIES SAY SHE WORE A CROP-TOP AT A PROTEST IN 2020 IN ORDER TO INSULT THE MONARCHY. THIS IS THE LATEST OF MANY UNJUSTIFIED CHARGES FILED AGAINST HER AND OTHERS AS A PRETEXT TO STOP THEIR ACTIVISM.\n"
          ]
        },
        {
          "output_type": "stream",
          "name": "stderr",
          "text": [
            "Llama.generate: prefix-match hit\n"
          ]
        },
        {
          "output_type": "stream",
          "name": "stdout",
          "text": [
            " 3, 7, 8, 9, 13,\n",
            "\n",
            " 1430\n",
            "\n",
            " Sentence: Republicans keep wishing for the good old days of Reagan. -  - Like selling weapons to Iran, the same place they all want to invade.\n"
          ]
        },
        {
          "output_type": "stream",
          "name": "stderr",
          "text": [
            "Llama.generate: prefix-match hit\n"
          ]
        },
        {
          "output_type": "stream",
          "name": "stdout",
          "text": [
            " 3, 4, 8, 13, 17\n",
            "\n",
            " 1431\n",
            "\n",
            " Sentence: Just make all of Russia a Red Forest\n"
          ]
        },
        {
          "output_type": "stream",
          "name": "stderr",
          "text": [
            "Llama.generate: prefix-match hit\n"
          ]
        },
        {
          "output_type": "stream",
          "name": "stdout",
          "text": [
            " 3, 5, 13, 17 (Whatabout\n",
            "\n",
            " 1432\n",
            "\n",
            " Sentence: DUE TO MY ISOLATION, I FINISHED 3 BOOKS YESTERDAY AND BELIEVE ME, THAT IS A LOT OF COLORING -  - \n"
          ]
        },
        {
          "output_type": "stream",
          "name": "stderr",
          "text": [
            "Llama.generate: prefix-match hit\n"
          ]
        },
        {
          "output_type": "stream",
          "name": "stdout",
          "text": [
            " 5, 13\n",
            "\n",
            "Explanation: The sentence \"D\n",
            "\n",
            " 1433\n",
            "\n",
            " Sentence: \\There's no such thing as a former KGB man\\ - -V.Putin\n"
          ]
        },
        {
          "output_type": "stream",
          "name": "stderr",
          "text": [
            "Llama.generate: prefix-match hit\n"
          ]
        },
        {
          "output_type": "stream",
          "name": "stdout",
          "text": [
            " 3, 7, 8, 9, 13,\n",
            "\n",
            " 1434\n",
            "\n",
            " Sentence: Cheers!!! -  - To more fake news\n"
          ]
        },
        {
          "output_type": "stream",
          "name": "stderr",
          "text": [
            "Llama.generate: prefix-match hit\n"
          ]
        },
        {
          "output_type": "stream",
          "name": "stdout",
          "text": [
            " 3, 8, 14 (Whataboutism, Name calling\n",
            "\n",
            " 1435\n",
            "\n",
            " Sentence: \\In a Joe Biden world, you don't need an ID - for voting, you don't need an ID to come across - our southern border; but somehow, we're going - to have a vaccine passport in order to carry on - your normal lives.\\ - -Mark Meadows -  - \n"
          ]
        },
        {
          "output_type": "stream",
          "name": "stderr",
          "text": [
            "Llama.generate: prefix-match hit\n"
          ]
        },
        {
          "output_type": "stream",
          "name": "stdout",
          "text": [
            " 3, 4, 7, 8, 9, \n",
            "\n",
            " 1436\n",
            "\n",
            " Sentence: \\I think it's also critical to understand that, as I've been telling candidates who have come to see me, you can run the best campaign, you can even become the nominee, and you can have the election stolen from you.\\ -  - - Hillary Clinton\n"
          ]
        },
        {
          "output_type": "stream",
          "name": "stderr",
          "text": [
            "Llama.generate: prefix-match hit\n"
          ]
        },
        {
          "output_type": "stream",
          "name": "stdout",
          "text": [
            " 3, 7, 8, 13, 15\n",
            "\n",
            " 1437\n",
            "\n",
            " Sentence: THE CORONA VIRUS CAME -  - AND JUST LIKE THAT, NO ONE WAS AN ANTI VAXXER NO MORE\n"
          ]
        },
        {
          "output_type": "stream",
          "name": "stderr",
          "text": [
            "Llama.generate: prefix-match hit\n"
          ]
        },
        {
          "output_type": "stream",
          "name": "stdout",
          "text": [
            " 3, 5, 7 (Whataboutism, Obfusc\n",
            "\n",
            " 1438\n",
            "\n",
            " Sentence: Fearing a Trump presidency, Rosie O'Donnell was spotted off the coast of Vero Beach this morning starting her long migration to Canada\n"
          ]
        },
        {
          "output_type": "stream",
          "name": "stderr",
          "text": [
            "Llama.generate: prefix-match hit\n"
          ]
        },
        {
          "output_type": "stream",
          "name": "stdout",
          "text": [
            " 3, 8, 9, 13, 17\n",
            "\n",
            " 1439\n",
            "\n",
            " Sentence: Everything Changes -  - Once You Wake Up\n"
          ]
        },
        {
          "output_type": "stream",
          "name": "stderr",
          "text": [
            "Llama.generate: prefix-match hit\n"
          ]
        },
        {
          "output_type": "stream",
          "name": "stdout",
          "text": [
            " 3, 4, 5, 8, 14 (\n",
            "\n",
            " 1440\n",
            "\n",
            " Sentence: \\WHEN THE HUMAN RACE LEARNS HOW TO READ THE - LANGUAGE OF SYMBOLISM  -  - A GREAT VEIL WILL FALL FROM THE EYES OF.\\ - -MANLY P. HALL - \n"
          ]
        },
        {
          "output_type": "stream",
          "name": "stderr",
          "text": [
            "Llama.generate: prefix-match hit\n"
          ]
        },
        {
          "output_type": "stream",
          "name": "stdout",
          "text": [
            " 3, 5, 7 (obfuscation is implied due\n",
            "\n",
            " 1441\n",
            "\n",
            " Sentence: SOLEIMANI PLANNED BOMBING OF D.C. RESTAURANT\n"
          ]
        },
        {
          "output_type": "stream",
          "name": "stderr",
          "text": [
            "Llama.generate: prefix-match hit\n"
          ]
        },
        {
          "output_type": "stream",
          "name": "stdout",
          "text": [
            " 1, 3, 4, 8, 9, \n",
            "\n",
            " 1442\n",
            "\n",
            " Sentence: SENATE PASSES BILL TO END TRUMP'S NATIONAL - EMERGENCY WITH LESS THAN VETO-PROOF MAJORITY\n"
          ]
        },
        {
          "output_type": "stream",
          "name": "stderr",
          "text": [
            "Llama.generate: prefix-match hit\n"
          ]
        },
        {
          "output_type": "stream",
          "name": "stdout",
          "text": [
            " 3, 4, 7, 8, 9, \n",
            "\n",
            " 1443\n",
            "\n",
            " Sentence: We asked a 100 people to name something you get at Christmas. -  - You said: Blackouts...\n"
          ]
        },
        {
          "output_type": "stream",
          "name": "stderr",
          "text": [
            "Llama.generate: prefix-match hit\n"
          ]
        },
        {
          "output_type": "stream",
          "name": "stdout",
          "text": [
            " 3, 4, 5 (Causal Oversimplification\n",
            "\n",
            " 1444\n",
            "\n",
            " Sentence: SO WONDERFUL TO HAVE A REAL PATRIOT AS A PRESIDENT AGAIN.\n"
          ]
        },
        {
          "output_type": "stream",
          "name": "stderr",
          "text": [
            "Llama.generate: prefix-match hit\n"
          ]
        },
        {
          "output_type": "stream",
          "name": "stdout",
          "text": [
            " 8, 9, 11, 15 (Patri\n",
            "\n",
            " 1445\n",
            "\n",
            " Sentence: YOU CALL THIS VODKA? -  - THIS IS BULLSHIT!\n"
          ]
        },
        {
          "output_type": "stream",
          "name": "stderr",
          "text": [
            "Llama.generate: prefix-match hit\n"
          ]
        },
        {
          "output_type": "stream",
          "name": "stdout",
          "text": [
            " 1, 3, 8, 9, 10,\n",
            "\n",
            " 1446\n",
            "\n",
            " Sentence: BREAKING NEWS - POLICE RELEASE SKETCH OF SUSPECT RESPONSIBLE FOR AMERICA'S RACIAL DIVIDE.\n"
          ]
        },
        {
          "output_type": "stream",
          "name": "stderr",
          "text": [
            "Llama.generate: prefix-match hit\n"
          ]
        },
        {
          "output_type": "stream",
          "name": "stdout",
          "text": [
            " 3, 7, 8, 13, 14\n",
            "\n",
            " 1447\n",
            "\n",
            " Sentence: SOROS CONNECTED TO ALLEGED WHISTLEBLOWER\n"
          ]
        },
        {
          "output_type": "stream",
          "name": "stderr",
          "text": [
            "Llama.generate: prefix-match hit\n"
          ]
        },
        {
          "output_type": "stream",
          "name": "stdout",
          "text": [
            " 3, 4, 8, 9, 13,\n",
            "\n",
            " 1448\n",
            "\n",
            " Sentence: \\We don't have to prove a crime before we move forward with impeachment\\ -  - Let that sink in!!!\n"
          ]
        },
        {
          "output_type": "stream",
          "name": "stderr",
          "text": [
            "Llama.generate: prefix-match hit\n"
          ]
        },
        {
          "output_type": "stream",
          "name": "stdout",
          "text": [
            " 3, 7, 14, 15\n",
            "\n",
            " 1449\n",
            "\n",
            " Sentence: THE COURSE OF RUSSIAN HISTORY -  - TSAR IVAN THE TERRIBLE INVADED OTHER COUNTRIES - AND KILLED LOTS OF PEOPLE -  - REVOLUTIONARY VLADIMIR LENIN INVADED OTHER COUNTRIES AND KILLED LOTS PEOPLE -  - DICTATOR JOSEPH STALIN INVADED OTHER COUNTRIES AND KILLED LOTS OF PEOPLE -  - PRESIDENT VLADIMIR PUTIN INVADED OTHER COUNTRIES AND KILLED LOTS OF PEOPLE\n"
          ]
        },
        {
          "output_type": "stream",
          "name": "stderr",
          "text": [
            "Llama.generate: prefix-match hit\n"
          ]
        },
        {
          "output_type": "stream",
          "name": "stdout",
          "text": [
            " 3, 4, 7, 9, 13,\n",
            "\n",
            " 1450\n",
            "\n",
            " Sentence: California Begs Residents To Protect Energy Grid, Scale Back Charging Electric Vehicles -  - Ironic.\n"
          ]
        },
        {
          "output_type": "stream",
          "name": "stderr",
          "text": [
            "Llama.generate: prefix-match hit\n"
          ]
        },
        {
          "output_type": "stream",
          "name": "stdout",
          "text": [
            " 3, 5, 8, 9, 13,\n",
            "\n",
            " 1451\n",
            "\n",
            " Sentence: TOP 5 OMICRON SYMPTOMS -  - Runny nose -  - Headache -  - Fatigue -  - Sneezing -  - Sore throat -  - THE NIGHTTIME SNIFFLING, SNEEZING, COUGHING, - ACHING, STUFFY HEAD, FEVER, SO YOU CAN REST - MEDICINE.\n"
          ]
        },
        {
          "output_type": "stream",
          "name": "stderr",
          "text": [
            "Llama.generate: prefix-match hit\n"
          ]
        },
        {
          "output_type": "stream",
          "name": "stdout",
          "text": [
            " 3, 5, 7, 9, 13,\n",
            "\n",
            " 1452\n",
            "\n",
            " Sentence: When it's your first day in the job and you tell the - manager you're looking forward to growing pies.\n"
          ]
        },
        {
          "output_type": "stream",
          "name": "stderr",
          "text": [
            "Llama.generate: prefix-match hit\n"
          ]
        },
        {
          "output_type": "stream",
          "name": "stdout",
          "text": [
            " 3, 4, 5 (The sentence itself does not contain any\n",
            "\n",
            " 1453\n",
            "\n",
            " Sentence: I'm fluent in over 6 million forms of communication. -  - Do you know what an Anti Growth Coalition is? -  - I haven't got a fucking clue Master Luke.\n"
          ]
        },
        {
          "output_type": "stream",
          "name": "stderr",
          "text": [
            "Llama.generate: prefix-match hit\n"
          ]
        },
        {
          "output_type": "stream",
          "name": "stdout",
          "text": [
            " 3, 4, 5, 8, 9, \n",
            "\n",
            " 1454\n",
            "\n",
            " Sentence: Dear Robert Mueller, TAKE HIM DOWN. - Signed, America\n"
          ]
        },
        {
          "output_type": "stream",
          "name": "stderr",
          "text": [
            "Llama.generate: prefix-match hit\n"
          ]
        },
        {
          "output_type": "stream",
          "name": "stdout",
          "text": [
            " 3, 8, 9, 13, 17\n",
            "\n",
            " 1455\n",
            "\n",
            " Sentence: THE YOUNG PEOPLE IN CUBA ARE IN THE STREETS - RISKING LIFE AND LIMB TO END SOCIALISM. - WHILE VERY COMFORTABLE \\YOUNG PEOPLE\\ IN THE U.S. ARE TRYING TO IMPOSE IT. -  - ANDREW WILKOW\n"
          ]
        },
        {
          "output_type": "stream",
          "name": "stderr",
          "text": [
            "Llama.generate: prefix-match hit\n"
          ]
        },
        {
          "output_type": "stream",
          "name": "stdout",
          "text": [
            " 3, 4, 5, 8, 9, \n",
            "\n",
            " 1456\n",
            "\n",
            " Sentence: Since the Corona virus began about 3,354 people have died -  - During that time about 924,000 children have also gone missing\n"
          ]
        },
        {
          "output_type": "stream",
          "name": "stderr",
          "text": [
            "Llama.generate: prefix-match hit\n"
          ]
        },
        {
          "output_type": "stream",
          "name": "stdout",
          "text": [
            " 3, 5, 13, 17 (Whatabout\n",
            "\n",
            " 1457\n",
            "\n",
            " Sentence: The problem with the Armenia - Azerbaijan conflict is that it's not as one sided as Russia's attack on Ukraine. Furthermore there's Armenia's membership in the CSTO and often very Pro-Russian stance on Ukraine that doesn't do them any favors. -  - How come it's this way..Anyone?! - \n"
          ]
        },
        {
          "output_type": "stream",
          "name": "stderr",
          "text": [
            "Llama.generate: prefix-match hit\n"
          ]
        },
        {
          "output_type": "stream",
          "name": "stdout",
          "text": [
            " 3, 4, 7, 13 (Whataboutism\n",
            "\n",
            " 1458\n",
            "\n",
            " Sentence: THE IDIOTS WHO THINK BERNIE SANDERS WILL FIX THE COUNTRY - ARE THE SAME IDIOTS THAT THOUGHT OBAMA WOULD FIX THE COUNTRY\n"
          ]
        },
        {
          "output_type": "stream",
          "name": "stderr",
          "text": [
            "Llama.generate: prefix-match hit\n"
          ]
        },
        {
          "output_type": "stream",
          "name": "stdout",
          "text": [
            " 2, 3, 5, 8, 13,\n",
            "\n",
            " 1459\n",
            "\n",
            " Sentence: BADGE OF HONOR - DEPLATFORMED FROM FACEBOOK - LONG LIVE FREE SPEACH -  - LET'S GO BRANDON\n"
          ]
        },
        {
          "output_type": "stream",
          "name": "stderr",
          "text": [
            "Llama.generate: prefix-match hit\n"
          ]
        },
        {
          "output_type": "stream",
          "name": "stdout",
          "text": [
            " 1, 3, 8, 9, 14,\n",
            "\n",
            " 1460\n",
            "\n",
            " Sentence: BREAKING: Dozens of documents relating to late - pedophile Jeffrey Epstein's associates will be UNSEALED after judge rules the public interest outweighs right to privacy\n"
          ]
        },
        {
          "output_type": "stream",
          "name": "stderr",
          "text": [
            "Llama.generate: prefix-match hit\n"
          ]
        },
        {
          "output_type": "stream",
          "name": "stdout",
          "text": [
            " 3, 7, 9, 13, 18\n",
            "\n",
            " 1461\n",
            "\n",
            " Sentence: Expected Jobs Report -  - Actual Jobs Report\n"
          ]
        },
        {
          "output_type": "stream",
          "name": "stderr",
          "text": [
            "Llama.generate: prefix-match hit\n"
          ]
        },
        {
          "output_type": "stream",
          "name": "stdout",
          "text": [
            " 3, 4, 5, 8, 9, \n",
            "\n",
            " 1462\n",
            "\n",
            " Sentence: EXTORTION 17 ~ 08.06.11\n"
          ]
        },
        {
          "output_type": "stream",
          "name": "stderr",
          "text": [
            "Llama.generate: prefix-match hit\n"
          ]
        },
        {
          "output_type": "stream",
          "name": "stdout",
          "text": [
            " 3, 4, 5, 8, 9, \n",
            "\n",
            " 1463\n",
            "\n",
            " Sentence: \\ALL WE NEED IS THE RIGHT CRISIS -  - AND THE PEOPLE WILL ACCEPT THE NEW WORLD ORDER\\ -  - -DAVID ROCKEFELLER\n"
          ]
        },
        {
          "output_type": "stream",
          "name": "stderr",
          "text": [
            "Llama.generate: prefix-match hit\n"
          ]
        },
        {
          "output_type": "stream",
          "name": "stdout",
          "text": [
            " 3, 7, 8, 13, 20\n",
            "\n",
            " 1464\n",
            "\n",
            " Sentence: AMERICA HAS BEEN SOLD-OUT - IT IS NOW THE MERCENARY STRONGARM OF THE ULTRA-RICH ELITE -  - Sponsored by the corporations to make WAR for profit.\n"
          ]
        },
        {
          "output_type": "stream",
          "name": "stderr",
          "text": [
            "Llama.generate: prefix-match hit\n"
          ]
        },
        {
          "output_type": "stream",
          "name": "stdout",
          "text": [
            " 1, 3, 4, 8, 9, \n",
            "\n",
            " 1465\n",
            "\n",
            " Sentence: After they took their guns away -  - Castro Murdered 100,000 Unarmed Citizens -  - Hitler Murdered 6 Million Unarmed Citizens -  - Stalin Murdered 50 Million Unarmed Citizens -  - Mao murdered 60 Million Unarmed Citizens\n"
          ]
        },
        {
          "output_type": "stream",
          "name": "stderr",
          "text": [
            "Llama.generate: prefix-match hit\n"
          ]
        },
        {
          "output_type": "stream",
          "name": "stdout",
          "text": [
            " 3, 7, 9, 13, 14\n",
            "\n",
            " 1466\n",
            "\n",
            " Sentence: QUEEN OF ENGLAND DIED -  - I WANT TO SEE NEWS OF UKRAINE WAR -  - QUEEN OF ENGLAND DIED -  - BUT UKRAINE IS ADVANCING -  - THE QUEEN OF ENGLAND DIED\n"
          ]
        },
        {
          "output_type": "stream",
          "name": "stderr",
          "text": [
            "Llama.generate: prefix-match hit\n"
          ]
        },
        {
          "output_type": "stream",
          "name": "stdout",
          "text": [
            " 3, 4, 5, 8, 11,\n",
            "\n",
            " 1467\n",
            "\n",
            " Sentence: LIKE  -  - ignore - \n"
          ]
        },
        {
          "output_type": "stream",
          "name": "stderr",
          "text": [
            "Llama.generate: prefix-match hit\n"
          ]
        },
        {
          "output_type": "stream",
          "name": "stdout",
          "text": [
            " 3, 4, 5 (assuming \"ignore\" is meant\n",
            "\n",
            " 1468\n",
            "\n",
            " Sentence: Chicago Mayor Lori Lightfoot won't let tributes to fallen officer Ella French happen due to COVID regulations. -  - This is the same mayor who let 365,000 people come to Chicago two weeks ago for a music festival.\n"
          ]
        },
        {
          "output_type": "stream",
          "name": "stderr",
          "text": [
            "Llama.generate: prefix-match hit\n"
          ]
        },
        {
          "output_type": "stream",
          "name": "stdout",
          "text": [
            " 3, 5, 7, 9, 13,\n",
            "\n",
            " 1469\n",
            "\n",
            " Sentence: Honey, please wake up our son. -  - THE SYSTEM IS RIGGED, OUR MONEY IS WORTHLESS AND EVERYTHING WE ARE TOLD BY THE MEDIA IS A LIE\n"
          ]
        },
        {
          "output_type": "stream",
          "name": "stderr",
          "text": [
            "Llama.generate: prefix-match hit\n"
          ]
        },
        {
          "output_type": "stream",
          "name": "stdout",
          "text": [
            " 3, 5, 8, 9, 13,\n",
            "\n",
            " 1470\n",
            "\n",
            " Sentence: Russian General Smollettchya claims he was beaten outside a Ukranian bio lab by two SS officers who doused him in vodka & caviar and screamed: - \\This is NATO country comrade!\\\n"
          ]
        },
        {
          "output_type": "stream",
          "name": "stderr",
          "text": [
            "Llama.generate: prefix-match hit\n"
          ]
        },
        {
          "output_type": "stream",
          "name": "stdout",
          "text": [
            " 3, 5, 7, 8, 9, \n",
            "\n",
            " 1471\n",
            "\n",
            " Sentence: Dear Jeff Dunham Please Stop in DC and pick up your dummy, It Ain't funny anymore!\n"
          ]
        },
        {
          "output_type": "stream",
          "name": "stderr",
          "text": [
            "Llama.generate: prefix-match hit\n"
          ]
        },
        {
          "output_type": "stream",
          "name": "stdout",
          "text": [
            " 3, 8, 9, 13, 17\n",
            "\n",
            " 1472\n",
            "\n",
            " Sentence: \\Mrs Thatcher won the public's trust and three elections in a row by making it about us, not about her. - We need someone who can do the same.  - I believe that person is Rishi Sunak\\ | @KemiBadenoch -  - thetimes.co.uk -  - Kemi Badenoch: Sunak is the serious, honest leader we need\n"
          ]
        },
        {
          "output_type": "stream",
          "name": "stderr",
          "text": [
            "Llama.generate: prefix-match hit\n"
          ]
        },
        {
          "output_type": "stream",
          "name": "stdout",
          "text": [
            " 8, 9, 15, 20\n",
            "\n",
            " 1473\n",
            "\n",
            " Sentence: NARGES MOHAMMADI HAS FINALLY BEEN RELEASED - FROM PRISON IN IRAN\n"
          ]
        },
        {
          "output_type": "stream",
          "name": "stderr",
          "text": [
            "Llama.generate: prefix-match hit\n"
          ]
        },
        {
          "output_type": "stream",
          "name": "stdout",
          "text": [
            " 1, 3, 4, 8, 9, \n",
            "\n",
            " 1474\n",
            "\n",
            " Sentence: IF YOU HONESTLY BELIEVE THAT A LOVING, HOMOSEXUAL COUPLE, RAISING A CHILD IS MORE OFFENSIVE THAN... -  - GOD SENT THE SHOOTER -  - YOU HATE YOUR KIDS -  - MURDER 4K A DAY -  - ABORTION IS BLOODY MURDER -  - GOD H8S FAG MARRIAGE -  - THESE LUNATICS TEACHING CHILDREN TO DO THIS... -  - THEN THERE JUST MIGHT BE SOME ISSUES THAT YOU NEED TO SORT OUT...\n"
          ]
        },
        {
          "output_type": "stream",
          "name": "stderr",
          "text": [
            "Llama.generate: prefix-match hit\n"
          ]
        },
        {
          "output_type": "stream",
          "name": "stdout",
          "text": [
            " 1, 3, 4, 8, 9, \n",
            "\n",
            " 1475\n",
            "\n",
            " Sentence: This dude just signed a $1,900,000,000,000 bill and refused to take a single question from the press about it while he's led out of the office like a dog... -  - BREAKING NEWS -  - BIDEN SIGNS $1.9T RELIEF BILL INTO LAW ON ANNIVERSARY OF COVID SHUTDOWN\n"
          ]
        },
        {
          "output_type": "stream",
          "name": "stderr",
          "text": [
            "Llama.generate: prefix-match hit\n"
          ]
        },
        {
          "output_type": "stream",
          "name": "stdout",
          "text": [
            " 3, 7, 9, 11, 13\n",
            "\n",
            " 1476\n",
            "\n",
            " Sentence: \\WE WILL SEARCH FOR THEM ANYWHERE THEY ARE HIDING. - WE WILL FIND THEM ANYWHERE ON THE PLANET AND PUNISH THEM. - -V. Putin\n"
          ]
        },
        {
          "output_type": "stream",
          "name": "stderr",
          "text": [
            "Llama.generate: prefix-match hit\n"
          ]
        },
        {
          "output_type": "stream",
          "name": "stdout",
          "text": [
            " 3, 7, 9, 13, 18\n",
            "\n",
            " 1477\n",
            "\n",
            " Sentence: While Revolutionaries as Individuals can be murdered, you cannot kill ideas. - Thomas Sankara - President of Burkina Faso (1983-1987)\n"
          ]
        },
        {
          "output_type": "stream",
          "name": "stderr",
          "text": [
            "Llama.generate: prefix-match hit\n"
          ]
        },
        {
          "output_type": "stream",
          "name": "stdout",
          "text": [
            " 5, 13, 20 (Obfuscation,\n",
            "\n",
            " 1478\n",
            "\n",
            " Sentence: A War in the Middle East -  - Every US President In my lifetime -  - I gotta get one of those.\n"
          ]
        },
        {
          "output_type": "stream",
          "name": "stderr",
          "text": [
            "Llama.generate: prefix-match hit\n"
          ]
        },
        {
          "output_type": "stream",
          "name": "stdout",
          "text": [
            " 3, 4, 5, 8, 11,\n",
            "\n",
            " 1479\n",
            "\n",
            " Sentence: “Socialism has been tried 42 times in the last hundred years and 42 failures. It doesn't work.\\ - -WHOLE FOODS CEO JOHN MACKEY - \n"
          ]
        },
        {
          "output_type": "stream",
          "name": "stderr",
          "text": [
            "Llama.generate: prefix-match hit\n"
          ]
        },
        {
          "output_type": "stream",
          "name": "stdout",
          "text": [
            " 1, 3, 4, 7, 8, \n",
            "\n",
            " 1480\n",
            "\n",
            " Sentence: 'Collapse': Rep. Ocasio-Cortez Warns Biden Is Losing Support Of Key Democrat Voters -  - We Broke Laws To Get This President Elected And He's Not Doing All We Want!\n"
          ]
        },
        {
          "output_type": "stream",
          "name": "stderr",
          "text": [
            "Llama.generate: prefix-match hit\n"
          ]
        },
        {
          "output_type": "stream",
          "name": "stdout",
          "text": [
            " 1, 3, 4, 8, 9, \n",
            "\n",
            " 1481\n",
            "\n",
            " Sentence: Amen - A-woman\n"
          ]
        },
        {
          "output_type": "stream",
          "name": "stderr",
          "text": [
            "Llama.generate: prefix-match hit\n"
          ]
        },
        {
          "output_type": "stream",
          "name": "stdout",
          "text": [
            " 3, 4, 5 (obfuscation can be argued\n",
            "\n",
            " 1482\n",
            "\n",
            " Sentence: WEEKEND at BRANDON'S\n"
          ]
        },
        {
          "output_type": "stream",
          "name": "stderr",
          "text": [
            "Llama.generate: prefix-match hit\n"
          ]
        },
        {
          "output_type": "stream",
          "name": "stdout",
          "text": [
            " 1, 3, 4, 8, 9, \n",
            "\n",
            " 1483\n",
            "\n",
            " Sentence: THIS SAUDI STUDENT HAS BEEN JAILED FOR 34 YEARS FOR USING TWITTER TO SUPPORT WOMEN'S RIGHTS ACTIVISTS.\n"
          ]
        },
        {
          "output_type": "stream",
          "name": "stderr",
          "text": [
            "Llama.generate: prefix-match hit\n"
          ]
        },
        {
          "output_type": "stream",
          "name": "stdout",
          "text": [
            " 3, 7, 8, 9, 13,\n",
            "\n",
            " 1484\n",
            "\n",
            " Sentence: This is MY FLOTUS - See? She Makes EVERYONE Smile\n"
          ]
        },
        {
          "output_type": "stream",
          "name": "stderr",
          "text": [
            "Llama.generate: prefix-match hit\n"
          ]
        },
        {
          "output_type": "stream",
          "name": "stdout",
          "text": [
            " 8, 9, 14, 20. (The\n",
            "\n",
            " 1485\n",
            "\n",
            " Sentence: 1 THING EVERY AMERICAN SHOULD KNOW ABOUT PRESIDENT DONALD TRUMP -  - Donald Trump has plenty of flaws obvious to all... - but his patriotism and loyalty to America isn't one of them.\n"
          ]
        },
        {
          "output_type": "stream",
          "name": "stderr",
          "text": [
            "Llama.generate: prefix-match hit\n"
          ]
        },
        {
          "output_type": "stream",
          "name": "stdout",
          "text": [
            " 7, 8, 9, 11, 15\n",
            "\n",
            " 1486\n",
            "\n",
            " Sentence: I never Meta kid that I didn't sniff\n"
          ]
        },
        {
          "output_type": "stream",
          "name": "stderr",
          "text": [
            "Llama.generate: prefix-match hit\n"
          ]
        },
        {
          "output_type": "stream",
          "name": "stdout",
          "text": [
            " 3, 4, 5, 9, 13 (\n",
            "\n",
            " 1487\n",
            "\n",
            " Sentence: NOW ENTERING 2022\n"
          ]
        },
        {
          "output_type": "stream",
          "name": "stderr",
          "text": [
            "Llama.generate: prefix-match hit\n"
          ]
        },
        {
          "output_type": "stream",
          "name": "stdout",
          "text": [
            " 3, 13, 14 (Whataboutism, Appe\n",
            "\n",
            " 1488\n",
            "\n",
            " Sentence: Ahhh... -  - Is that panic I smell?\n"
          ]
        },
        {
          "output_type": "stream",
          "name": "stderr",
          "text": [
            "Llama.generate: prefix-match hit\n"
          ]
        },
        {
          "output_type": "stream",
          "name": "stdout",
          "text": [
            " 3, 8, 13\n",
            "\n",
            " 1489\n",
            "\n",
            " Sentence: PEOPLE IN POLAND ARE PROTESTING AFTER THE TOP COURT RULED TO RESTRICT ABORTION IN ALMOST ALL CASES\n"
          ]
        },
        {
          "output_type": "stream",
          "name": "stderr",
          "text": [
            "Llama.generate: prefix-match hit\n"
          ]
        },
        {
          "output_type": "stream",
          "name": "stdout",
          "text": [
            " 3, 7, 8, 9, 13,\n",
            "\n",
            " 1490\n",
            "\n",
            " Sentence: Croats:Nikola tesla was a Croatian-American Scientist. -  - Meanwhile in USA: - 1858 AMERICAN - SERBIAN GENIUS 1966 - \n"
          ]
        },
        {
          "output_type": "stream",
          "name": "stderr",
          "text": [
            "Llama.generate: prefix-match hit\n"
          ]
        },
        {
          "output_type": "stream",
          "name": "stdout",
          "text": [
            " 3, 5, 7 (Whataboutism, Obfusc\n",
            "\n",
            " 1491\n",
            "\n",
            " Sentence: For the first time in history, you can say, \\He's an idiot,\\ and 90% of the world will know exactly who you're talking about.\n"
          ]
        },
        {
          "output_type": "stream",
          "name": "stderr",
          "text": [
            "Llama.generate: prefix-match hit\n"
          ]
        },
        {
          "output_type": "stream",
          "name": "stdout",
          "text": [
            " 8, 9, 13, 20\n",
            "\n",
            " 1492\n",
            "\n",
            " Sentence: Never interupt your enemy when he is making a mistake - - Sun Tzu, The Art of War - \n"
          ]
        },
        {
          "output_type": "stream",
          "name": "stderr",
          "text": [
            "Llama.generate: prefix-match hit\n"
          ]
        },
        {
          "output_type": "stream",
          "name": "stdout",
          "text": [
            " 5, 9, 20 (Glittering Generalities:\n",
            "\n",
            " 1493\n",
            "\n",
            " Sentence: \\When I see the Marines who fought on Iwo Jima, fighting, giving up their lives to raise the American flag, - and then I think of these guys kneeling to disrespect the flag - it makes me want to vomit.\\ - -Ben Stein\n"
          ]
        },
        {
          "output_type": "stream",
          "name": "stderr",
          "text": [
            "Llama.generate: prefix-match hit\n"
          ]
        },
        {
          "output_type": "stream",
          "name": "stdout",
          "text": [
            " 8, 9, 13, 15, 1\n",
            "\n",
            " 1494\n",
            "\n",
            " Sentence: \\MY MESSAGE TO EVERYONE STRUGGLING RIGHT NOW IS THIS: HELP IS ON THE WAY.\\ - -JOE BIDEN -  - \\THE NINE MOST TERRIFYING WORDS IN THE ENGLISH LANGUAGE ARE: I'M FROM THE GOVERNMENT AND I'M HERE TO HELP.\\ - - RONALD REAGAN - \n"
          ]
        },
        {
          "output_type": "stream",
          "name": "stderr",
          "text": [
            "Llama.generate: prefix-match hit\n"
          ]
        },
        {
          "output_type": "stream",
          "name": "stdout",
          "text": [
            " 7, 9, 13, 20 (Joe\n",
            "\n",
            " 1495\n",
            "\n",
            " Sentence: 'I Will Never, Ever Forgive Them': Maxine Waters Blasts Black Voters Who Choose Trump\n"
          ]
        },
        {
          "output_type": "stream",
          "name": "stderr",
          "text": [
            "Llama.generate: prefix-match hit\n"
          ]
        },
        {
          "output_type": "stream",
          "name": "stdout",
          "text": [
            " 1, 3, 8, 9, 13,\n",
            "\n",
            " 1496\n",
            "\n",
            " Sentence: .....global confrontation that has begun is the spiritual, - religious aspect.  - Russia is at war with an anti-religious civilization that fights God and overthrows the very foundations of spiritual and moral values: God, the Church, the family, gender, man. - \n"
          ]
        },
        {
          "output_type": "stream",
          "name": "stderr",
          "text": [
            "Llama.generate: prefix-match hit\n"
          ]
        },
        {
          "output_type": "stream",
          "name": "stdout",
          "text": [
            " 2, 3, 4, 8, 9, \n",
            "\n",
            " 1497\n",
            "\n",
            " Sentence: IF YOU THINK THESE PUPPETS ARE THE PROBLEM -  - THEN YOU DON'T UNDERSTAND THE PROBLEM\n"
          ]
        },
        {
          "output_type": "stream",
          "name": "stderr",
          "text": [
            "Llama.generate: prefix-match hit\n"
          ]
        },
        {
          "output_type": "stream",
          "name": "stdout",
          "text": [
            " 3, 4, 5 (Causal Oversimplification\n",
            "\n",
            " 1498\n",
            "\n",
            " Sentence: THERE ARE TWO TYPES OF REPUBLICANS: - MILLIONAIRES & SUCKERS\n"
          ]
        },
        {
          "output_type": "stream",
          "name": "stderr",
          "text": [
            "Llama.generate: prefix-match hit\n"
          ]
        },
        {
          "output_type": "stream",
          "name": "stdout",
          "text": [
            " 8, 9, 13, 17 (Name calling\n",
            "done\n"
          ]
        }
      ],
      "source": [
        "# change paths appropriately\n",
        "# make sure the output filename is the same as the reference filename for the scoring program\n",
        "test_data = \"en_subtask1_test_unlabeled.json\"\n",
        "result_data = \"result.json\"\n",
        "\n",
        "from datasets import load_dataset\n",
        "import json\n",
        "import re\n",
        "import random\n",
        "import numpy as np\n",
        "import tqdm.notebook as tqdm\n",
        "seed_val = 442\n",
        "random.seed(seed_val)\n",
        "np.random.seed(seed_val)\n",
        "\n",
        "# simple JSON loading\n",
        "with open(test_data, 'r') as istr:\n",
        "    data_val_all = json.load(istr)\n",
        "num_sample = len(data_val_all)\n",
        "print(num_sample)\n",
        "\n",
        "output_json = []\n",
        "\n",
        "index = 1051\n",
        "\n",
        "for i in tqdm.trange(num_sample):\n",
        "  index+=1\n",
        "  print(\"\\n\",index)\n",
        "  hyp = str(data_val_all[i]['text'])\n",
        "  t=hyp.split(\"\\\\n\")\n",
        "  hyp=' - '.join(t)\n",
        "  id = data_val_all[i]['id']\n",
        "  context = f\"{few_shot_definitions}\"\n",
        "\n",
        "  sentence = f\"Sentence: {hyp}\"\n",
        "  message = f\"\\n{context}\\n{sentence}\\n{categories}\\nGiven the above Definitions of the Persuasion Techniques, Identify the Persuasion Techniques used in the Sentence. Answer using ONLY one or more numbers in the range 1-20 separated by commas. No text nor other options are allowed.\"\n",
        "  prompt = f\"<s>[INST] {message} [/INST]\"\n",
        "  print(\"\\n\",sentence)\n",
        "\n",
        "  response = lcpp_llm(\n",
        "        prompt=prompt,\n",
        "        temperature= 0.0,\n",
        "        logprobs=1,\n",
        "    )\n",
        "\n",
        "  answer = str(response[\"choices\"][0][\"text\"])#.strip().lower()\n",
        "\n",
        "  print(answer)\n",
        "\n",
        "  numerical_categories = answer.split(\",\")\n",
        "  #print(numerical_categories)\n",
        "  list_labels = []\n",
        "\n",
        "  for x in numerical_categories:\n",
        "    value = re.sub(\"[^0-9]\", \"\", x)\n",
        "\n",
        "    if value!='':\n",
        "      value = int(value)\n",
        "      if (value>20):\n",
        "        value = value/10\n",
        "        value = int(value)\n",
        "        if (value>20):\n",
        "          value = value/10\n",
        "          value = int(value)\n",
        "      list_labels.append(labels_dict[value])\n",
        "  item_to_json=[]\n",
        "  item_to_json = {'id':id,'labels':list_labels}\n",
        "  output_json.append(item_to_json)\n",
        "\n",
        "  f = open(result_data, 'w', encoding='utf-8')\n",
        "  json.dump(output_json, f)\n",
        "  f.close()\n",
        "print(\"done\")"
      ]
    },
    {
      "cell_type": "code",
      "source": [
        "!zip -r results.zip result.json"
      ],
      "metadata": {
        "id": "JAUcpxAdivmY",
        "colab": {
          "base_uri": "https://localhost:8080/"
        },
        "outputId": "31ea59ae-ddbf-4d20-80b8-dc4c5aa2159f"
      },
      "execution_count": null,
      "outputs": [
        {
          "output_type": "stream",
          "name": "stdout",
          "text": [
            "  adding: result.json (deflated 94%)\n"
          ]
        }
      ]
    },
    {
      "cell_type": "code",
      "source": [
        "from google.colab import files\n",
        "files.download('results.zip')"
      ],
      "metadata": {
        "id": "dia3xJw7TwSL",
        "colab": {
          "base_uri": "https://localhost:8080/",
          "height": 34
        },
        "outputId": "d3de1381-cafc-4c99-ead9-56fe93650802"
      },
      "execution_count": null,
      "outputs": [
        {
          "output_type": "display_data",
          "data": {
            "text/plain": [
              "<IPython.core.display.Javascript object>"
            ],
            "application/javascript": [
              "\n",
              "    async function download(id, filename, size) {\n",
              "      if (!google.colab.kernel.accessAllowed) {\n",
              "        return;\n",
              "      }\n",
              "      const div = document.createElement('div');\n",
              "      const label = document.createElement('label');\n",
              "      label.textContent = `Downloading \"${filename}\": `;\n",
              "      div.appendChild(label);\n",
              "      const progress = document.createElement('progress');\n",
              "      progress.max = size;\n",
              "      div.appendChild(progress);\n",
              "      document.body.appendChild(div);\n",
              "\n",
              "      const buffers = [];\n",
              "      let downloaded = 0;\n",
              "\n",
              "      const channel = await google.colab.kernel.comms.open(id);\n",
              "      // Send a message to notify the kernel that we're ready.\n",
              "      channel.send({})\n",
              "\n",
              "      for await (const message of channel.messages) {\n",
              "        // Send a message to notify the kernel that we're ready.\n",
              "        channel.send({})\n",
              "        if (message.buffers) {\n",
              "          for (const buffer of message.buffers) {\n",
              "            buffers.push(buffer);\n",
              "            downloaded += buffer.byteLength;\n",
              "            progress.value = downloaded;\n",
              "          }\n",
              "        }\n",
              "      }\n",
              "      const blob = new Blob(buffers, {type: 'application/binary'});\n",
              "      const a = document.createElement('a');\n",
              "      a.href = window.URL.createObjectURL(blob);\n",
              "      a.download = filename;\n",
              "      div.appendChild(a);\n",
              "      a.click();\n",
              "      div.remove();\n",
              "    }\n",
              "  "
            ]
          },
          "metadata": {}
        },
        {
          "output_type": "display_data",
          "data": {
            "text/plain": [
              "<IPython.core.display.Javascript object>"
            ],
            "application/javascript": [
              "download(\"download_aa9de8ad-0494-4c9b-aa6e-310112392859\", \"results.zip\", 3945)"
            ]
          },
          "metadata": {}
        }
      ]
    }
  ],
  "metadata": {
    "accelerator": "GPU",
    "colab": {
      "provenance": [],
      "gpuType": "T4",
      "include_colab_link": true
    },
    "kernelspec": {
      "display_name": "Python 3",
      "name": "python3"
    },
    "language_info": {
      "codemirror_mode": {
        "name": "ipython",
        "version": 3
      },
      "file_extension": ".py",
      "mimetype": "text/x-python",
      "name": "python",
      "nbconvert_exporter": "python",
      "pygments_lexer": "ipython3",
      "version": "3.10.12"
    },
    "widgets": {
      "application/vnd.jupyter.widget-state+json": {
        "8d478d5540f24d738de468dfe160e543": {
          "model_module": "@jupyter-widgets/controls",
          "model_name": "HBoxModel",
          "model_module_version": "1.5.0",
          "state": {
            "_dom_classes": [],
            "_model_module": "@jupyter-widgets/controls",
            "_model_module_version": "1.5.0",
            "_model_name": "HBoxModel",
            "_view_count": null,
            "_view_module": "@jupyter-widgets/controls",
            "_view_module_version": "1.5.0",
            "_view_name": "HBoxView",
            "box_style": "",
            "children": [
              "IPY_MODEL_21b5cf270f264e49b626beca8ab6e2d9",
              "IPY_MODEL_18e1684b80444d7a8e01672ddf4f00d3",
              "IPY_MODEL_32ee07f4dce34466a9bc2fd9c64448ec"
            ],
            "layout": "IPY_MODEL_af08ffa57eb24568ae4da22f1187d3fe"
          }
        },
        "21b5cf270f264e49b626beca8ab6e2d9": {
          "model_module": "@jupyter-widgets/controls",
          "model_name": "HTMLModel",
          "model_module_version": "1.5.0",
          "state": {
            "_dom_classes": [],
            "_model_module": "@jupyter-widgets/controls",
            "_model_module_version": "1.5.0",
            "_model_name": "HTMLModel",
            "_view_count": null,
            "_view_module": "@jupyter-widgets/controls",
            "_view_module_version": "1.5.0",
            "_view_name": "HTMLView",
            "description": "",
            "description_tooltip": null,
            "layout": "IPY_MODEL_cf826908d2fb4f6a9b822a914bae85f5",
            "placeholder": "​",
            "style": "IPY_MODEL_15442919c28e4a79885fd24ff53197c4",
            "value": "mistral-7b-instruct-v0.2.Q6_K.gguf: 100%"
          }
        },
        "18e1684b80444d7a8e01672ddf4f00d3": {
          "model_module": "@jupyter-widgets/controls",
          "model_name": "FloatProgressModel",
          "model_module_version": "1.5.0",
          "state": {
            "_dom_classes": [],
            "_model_module": "@jupyter-widgets/controls",
            "_model_module_version": "1.5.0",
            "_model_name": "FloatProgressModel",
            "_view_count": null,
            "_view_module": "@jupyter-widgets/controls",
            "_view_module_version": "1.5.0",
            "_view_name": "ProgressView",
            "bar_style": "success",
            "description": "",
            "description_tooltip": null,
            "layout": "IPY_MODEL_8b0356f433f5414b89f246f5be08b035",
            "max": 5942065440,
            "min": 0,
            "orientation": "horizontal",
            "style": "IPY_MODEL_64930e41f9324c66882e6d4104c16f81",
            "value": 5942065440
          }
        },
        "32ee07f4dce34466a9bc2fd9c64448ec": {
          "model_module": "@jupyter-widgets/controls",
          "model_name": "HTMLModel",
          "model_module_version": "1.5.0",
          "state": {
            "_dom_classes": [],
            "_model_module": "@jupyter-widgets/controls",
            "_model_module_version": "1.5.0",
            "_model_name": "HTMLModel",
            "_view_count": null,
            "_view_module": "@jupyter-widgets/controls",
            "_view_module_version": "1.5.0",
            "_view_name": "HTMLView",
            "description": "",
            "description_tooltip": null,
            "layout": "IPY_MODEL_e993237b1ff34081885b6f6f57fa73cc",
            "placeholder": "​",
            "style": "IPY_MODEL_c277d1bd54444475bb4f61e1b63b0cf8",
            "value": " 5.94G/5.94G [00:50&lt;00:00, 171MB/s]"
          }
        },
        "af08ffa57eb24568ae4da22f1187d3fe": {
          "model_module": "@jupyter-widgets/base",
          "model_name": "LayoutModel",
          "model_module_version": "1.2.0",
          "state": {
            "_model_module": "@jupyter-widgets/base",
            "_model_module_version": "1.2.0",
            "_model_name": "LayoutModel",
            "_view_count": null,
            "_view_module": "@jupyter-widgets/base",
            "_view_module_version": "1.2.0",
            "_view_name": "LayoutView",
            "align_content": null,
            "align_items": null,
            "align_self": null,
            "border": null,
            "bottom": null,
            "display": null,
            "flex": null,
            "flex_flow": null,
            "grid_area": null,
            "grid_auto_columns": null,
            "grid_auto_flow": null,
            "grid_auto_rows": null,
            "grid_column": null,
            "grid_gap": null,
            "grid_row": null,
            "grid_template_areas": null,
            "grid_template_columns": null,
            "grid_template_rows": null,
            "height": null,
            "justify_content": null,
            "justify_items": null,
            "left": null,
            "margin": null,
            "max_height": null,
            "max_width": null,
            "min_height": null,
            "min_width": null,
            "object_fit": null,
            "object_position": null,
            "order": null,
            "overflow": null,
            "overflow_x": null,
            "overflow_y": null,
            "padding": null,
            "right": null,
            "top": null,
            "visibility": null,
            "width": null
          }
        },
        "cf826908d2fb4f6a9b822a914bae85f5": {
          "model_module": "@jupyter-widgets/base",
          "model_name": "LayoutModel",
          "model_module_version": "1.2.0",
          "state": {
            "_model_module": "@jupyter-widgets/base",
            "_model_module_version": "1.2.0",
            "_model_name": "LayoutModel",
            "_view_count": null,
            "_view_module": "@jupyter-widgets/base",
            "_view_module_version": "1.2.0",
            "_view_name": "LayoutView",
            "align_content": null,
            "align_items": null,
            "align_self": null,
            "border": null,
            "bottom": null,
            "display": null,
            "flex": null,
            "flex_flow": null,
            "grid_area": null,
            "grid_auto_columns": null,
            "grid_auto_flow": null,
            "grid_auto_rows": null,
            "grid_column": null,
            "grid_gap": null,
            "grid_row": null,
            "grid_template_areas": null,
            "grid_template_columns": null,
            "grid_template_rows": null,
            "height": null,
            "justify_content": null,
            "justify_items": null,
            "left": null,
            "margin": null,
            "max_height": null,
            "max_width": null,
            "min_height": null,
            "min_width": null,
            "object_fit": null,
            "object_position": null,
            "order": null,
            "overflow": null,
            "overflow_x": null,
            "overflow_y": null,
            "padding": null,
            "right": null,
            "top": null,
            "visibility": null,
            "width": null
          }
        },
        "15442919c28e4a79885fd24ff53197c4": {
          "model_module": "@jupyter-widgets/controls",
          "model_name": "DescriptionStyleModel",
          "model_module_version": "1.5.0",
          "state": {
            "_model_module": "@jupyter-widgets/controls",
            "_model_module_version": "1.5.0",
            "_model_name": "DescriptionStyleModel",
            "_view_count": null,
            "_view_module": "@jupyter-widgets/base",
            "_view_module_version": "1.2.0",
            "_view_name": "StyleView",
            "description_width": ""
          }
        },
        "8b0356f433f5414b89f246f5be08b035": {
          "model_module": "@jupyter-widgets/base",
          "model_name": "LayoutModel",
          "model_module_version": "1.2.0",
          "state": {
            "_model_module": "@jupyter-widgets/base",
            "_model_module_version": "1.2.0",
            "_model_name": "LayoutModel",
            "_view_count": null,
            "_view_module": "@jupyter-widgets/base",
            "_view_module_version": "1.2.0",
            "_view_name": "LayoutView",
            "align_content": null,
            "align_items": null,
            "align_self": null,
            "border": null,
            "bottom": null,
            "display": null,
            "flex": null,
            "flex_flow": null,
            "grid_area": null,
            "grid_auto_columns": null,
            "grid_auto_flow": null,
            "grid_auto_rows": null,
            "grid_column": null,
            "grid_gap": null,
            "grid_row": null,
            "grid_template_areas": null,
            "grid_template_columns": null,
            "grid_template_rows": null,
            "height": null,
            "justify_content": null,
            "justify_items": null,
            "left": null,
            "margin": null,
            "max_height": null,
            "max_width": null,
            "min_height": null,
            "min_width": null,
            "object_fit": null,
            "object_position": null,
            "order": null,
            "overflow": null,
            "overflow_x": null,
            "overflow_y": null,
            "padding": null,
            "right": null,
            "top": null,
            "visibility": null,
            "width": null
          }
        },
        "64930e41f9324c66882e6d4104c16f81": {
          "model_module": "@jupyter-widgets/controls",
          "model_name": "ProgressStyleModel",
          "model_module_version": "1.5.0",
          "state": {
            "_model_module": "@jupyter-widgets/controls",
            "_model_module_version": "1.5.0",
            "_model_name": "ProgressStyleModel",
            "_view_count": null,
            "_view_module": "@jupyter-widgets/base",
            "_view_module_version": "1.2.0",
            "_view_name": "StyleView",
            "bar_color": null,
            "description_width": ""
          }
        },
        "e993237b1ff34081885b6f6f57fa73cc": {
          "model_module": "@jupyter-widgets/base",
          "model_name": "LayoutModel",
          "model_module_version": "1.2.0",
          "state": {
            "_model_module": "@jupyter-widgets/base",
            "_model_module_version": "1.2.0",
            "_model_name": "LayoutModel",
            "_view_count": null,
            "_view_module": "@jupyter-widgets/base",
            "_view_module_version": "1.2.0",
            "_view_name": "LayoutView",
            "align_content": null,
            "align_items": null,
            "align_self": null,
            "border": null,
            "bottom": null,
            "display": null,
            "flex": null,
            "flex_flow": null,
            "grid_area": null,
            "grid_auto_columns": null,
            "grid_auto_flow": null,
            "grid_auto_rows": null,
            "grid_column": null,
            "grid_gap": null,
            "grid_row": null,
            "grid_template_areas": null,
            "grid_template_columns": null,
            "grid_template_rows": null,
            "height": null,
            "justify_content": null,
            "justify_items": null,
            "left": null,
            "margin": null,
            "max_height": null,
            "max_width": null,
            "min_height": null,
            "min_width": null,
            "object_fit": null,
            "object_position": null,
            "order": null,
            "overflow": null,
            "overflow_x": null,
            "overflow_y": null,
            "padding": null,
            "right": null,
            "top": null,
            "visibility": null,
            "width": null
          }
        },
        "c277d1bd54444475bb4f61e1b63b0cf8": {
          "model_module": "@jupyter-widgets/controls",
          "model_name": "DescriptionStyleModel",
          "model_module_version": "1.5.0",
          "state": {
            "_model_module": "@jupyter-widgets/controls",
            "_model_module_version": "1.5.0",
            "_model_name": "DescriptionStyleModel",
            "_view_count": null,
            "_view_module": "@jupyter-widgets/base",
            "_view_module_version": "1.2.0",
            "_view_name": "StyleView",
            "description_width": ""
          }
        },
        "cb76ebfcfc364e918704f7aa6b859e49": {
          "model_module": "@jupyter-widgets/controls",
          "model_name": "HBoxModel",
          "model_module_version": "1.5.0",
          "state": {
            "_dom_classes": [],
            "_model_module": "@jupyter-widgets/controls",
            "_model_module_version": "1.5.0",
            "_model_name": "HBoxModel",
            "_view_count": null,
            "_view_module": "@jupyter-widgets/controls",
            "_view_module_version": "1.5.0",
            "_view_name": "HBoxView",
            "box_style": "",
            "children": [
              "IPY_MODEL_2923172cb8524b9d90fc0b3e0df96822",
              "IPY_MODEL_1993ab0b117c446295a290c4431f791f",
              "IPY_MODEL_5fdb6255d16a4e44a4c6f090d8be8530"
            ],
            "layout": "IPY_MODEL_67aaa9980ba3428b8efd13b4f696f8b1"
          }
        },
        "2923172cb8524b9d90fc0b3e0df96822": {
          "model_module": "@jupyter-widgets/controls",
          "model_name": "HTMLModel",
          "model_module_version": "1.5.0",
          "state": {
            "_dom_classes": [],
            "_model_module": "@jupyter-widgets/controls",
            "_model_module_version": "1.5.0",
            "_model_name": "HTMLModel",
            "_view_count": null,
            "_view_module": "@jupyter-widgets/controls",
            "_view_module_version": "1.5.0",
            "_view_name": "HTMLView",
            "description": "",
            "description_tooltip": null,
            "layout": "IPY_MODEL_90e4d6d9d0554987a84320d62fa17c4f",
            "placeholder": "​",
            "style": "IPY_MODEL_5b2169ed573b458187a0e64b19f899db",
            "value": "100%"
          }
        },
        "1993ab0b117c446295a290c4431f791f": {
          "model_module": "@jupyter-widgets/controls",
          "model_name": "FloatProgressModel",
          "model_module_version": "1.5.0",
          "state": {
            "_dom_classes": [],
            "_model_module": "@jupyter-widgets/controls",
            "_model_module_version": "1.5.0",
            "_model_name": "FloatProgressModel",
            "_view_count": null,
            "_view_module": "@jupyter-widgets/controls",
            "_view_module_version": "1.5.0",
            "_view_name": "ProgressView",
            "bar_style": "success",
            "description": "",
            "description_tooltip": null,
            "layout": "IPY_MODEL_b564f9377b1f491da48aedcd8fc18e05",
            "max": 447,
            "min": 0,
            "orientation": "horizontal",
            "style": "IPY_MODEL_11d5f165f9cf452fa832308b80971895",
            "value": 447
          }
        },
        "5fdb6255d16a4e44a4c6f090d8be8530": {
          "model_module": "@jupyter-widgets/controls",
          "model_name": "HTMLModel",
          "model_module_version": "1.5.0",
          "state": {
            "_dom_classes": [],
            "_model_module": "@jupyter-widgets/controls",
            "_model_module_version": "1.5.0",
            "_model_name": "HTMLModel",
            "_view_count": null,
            "_view_module": "@jupyter-widgets/controls",
            "_view_module_version": "1.5.0",
            "_view_name": "HTMLView",
            "description": "",
            "description_tooltip": null,
            "layout": "IPY_MODEL_bf400e6264bf48eab135617024ec6c09",
            "placeholder": "​",
            "style": "IPY_MODEL_0399735ec44b483b9f09bc42c3a000b6",
            "value": " 447/447 [32:01&lt;00:00,  4.13s/it]"
          }
        },
        "67aaa9980ba3428b8efd13b4f696f8b1": {
          "model_module": "@jupyter-widgets/base",
          "model_name": "LayoutModel",
          "model_module_version": "1.2.0",
          "state": {
            "_model_module": "@jupyter-widgets/base",
            "_model_module_version": "1.2.0",
            "_model_name": "LayoutModel",
            "_view_count": null,
            "_view_module": "@jupyter-widgets/base",
            "_view_module_version": "1.2.0",
            "_view_name": "LayoutView",
            "align_content": null,
            "align_items": null,
            "align_self": null,
            "border": null,
            "bottom": null,
            "display": null,
            "flex": null,
            "flex_flow": null,
            "grid_area": null,
            "grid_auto_columns": null,
            "grid_auto_flow": null,
            "grid_auto_rows": null,
            "grid_column": null,
            "grid_gap": null,
            "grid_row": null,
            "grid_template_areas": null,
            "grid_template_columns": null,
            "grid_template_rows": null,
            "height": null,
            "justify_content": null,
            "justify_items": null,
            "left": null,
            "margin": null,
            "max_height": null,
            "max_width": null,
            "min_height": null,
            "min_width": null,
            "object_fit": null,
            "object_position": null,
            "order": null,
            "overflow": null,
            "overflow_x": null,
            "overflow_y": null,
            "padding": null,
            "right": null,
            "top": null,
            "visibility": null,
            "width": null
          }
        },
        "90e4d6d9d0554987a84320d62fa17c4f": {
          "model_module": "@jupyter-widgets/base",
          "model_name": "LayoutModel",
          "model_module_version": "1.2.0",
          "state": {
            "_model_module": "@jupyter-widgets/base",
            "_model_module_version": "1.2.0",
            "_model_name": "LayoutModel",
            "_view_count": null,
            "_view_module": "@jupyter-widgets/base",
            "_view_module_version": "1.2.0",
            "_view_name": "LayoutView",
            "align_content": null,
            "align_items": null,
            "align_self": null,
            "border": null,
            "bottom": null,
            "display": null,
            "flex": null,
            "flex_flow": null,
            "grid_area": null,
            "grid_auto_columns": null,
            "grid_auto_flow": null,
            "grid_auto_rows": null,
            "grid_column": null,
            "grid_gap": null,
            "grid_row": null,
            "grid_template_areas": null,
            "grid_template_columns": null,
            "grid_template_rows": null,
            "height": null,
            "justify_content": null,
            "justify_items": null,
            "left": null,
            "margin": null,
            "max_height": null,
            "max_width": null,
            "min_height": null,
            "min_width": null,
            "object_fit": null,
            "object_position": null,
            "order": null,
            "overflow": null,
            "overflow_x": null,
            "overflow_y": null,
            "padding": null,
            "right": null,
            "top": null,
            "visibility": null,
            "width": null
          }
        },
        "5b2169ed573b458187a0e64b19f899db": {
          "model_module": "@jupyter-widgets/controls",
          "model_name": "DescriptionStyleModel",
          "model_module_version": "1.5.0",
          "state": {
            "_model_module": "@jupyter-widgets/controls",
            "_model_module_version": "1.5.0",
            "_model_name": "DescriptionStyleModel",
            "_view_count": null,
            "_view_module": "@jupyter-widgets/base",
            "_view_module_version": "1.2.0",
            "_view_name": "StyleView",
            "description_width": ""
          }
        },
        "b564f9377b1f491da48aedcd8fc18e05": {
          "model_module": "@jupyter-widgets/base",
          "model_name": "LayoutModel",
          "model_module_version": "1.2.0",
          "state": {
            "_model_module": "@jupyter-widgets/base",
            "_model_module_version": "1.2.0",
            "_model_name": "LayoutModel",
            "_view_count": null,
            "_view_module": "@jupyter-widgets/base",
            "_view_module_version": "1.2.0",
            "_view_name": "LayoutView",
            "align_content": null,
            "align_items": null,
            "align_self": null,
            "border": null,
            "bottom": null,
            "display": null,
            "flex": null,
            "flex_flow": null,
            "grid_area": null,
            "grid_auto_columns": null,
            "grid_auto_flow": null,
            "grid_auto_rows": null,
            "grid_column": null,
            "grid_gap": null,
            "grid_row": null,
            "grid_template_areas": null,
            "grid_template_columns": null,
            "grid_template_rows": null,
            "height": null,
            "justify_content": null,
            "justify_items": null,
            "left": null,
            "margin": null,
            "max_height": null,
            "max_width": null,
            "min_height": null,
            "min_width": null,
            "object_fit": null,
            "object_position": null,
            "order": null,
            "overflow": null,
            "overflow_x": null,
            "overflow_y": null,
            "padding": null,
            "right": null,
            "top": null,
            "visibility": null,
            "width": null
          }
        },
        "11d5f165f9cf452fa832308b80971895": {
          "model_module": "@jupyter-widgets/controls",
          "model_name": "ProgressStyleModel",
          "model_module_version": "1.5.0",
          "state": {
            "_model_module": "@jupyter-widgets/controls",
            "_model_module_version": "1.5.0",
            "_model_name": "ProgressStyleModel",
            "_view_count": null,
            "_view_module": "@jupyter-widgets/base",
            "_view_module_version": "1.2.0",
            "_view_name": "StyleView",
            "bar_color": null,
            "description_width": ""
          }
        },
        "bf400e6264bf48eab135617024ec6c09": {
          "model_module": "@jupyter-widgets/base",
          "model_name": "LayoutModel",
          "model_module_version": "1.2.0",
          "state": {
            "_model_module": "@jupyter-widgets/base",
            "_model_module_version": "1.2.0",
            "_model_name": "LayoutModel",
            "_view_count": null,
            "_view_module": "@jupyter-widgets/base",
            "_view_module_version": "1.2.0",
            "_view_name": "LayoutView",
            "align_content": null,
            "align_items": null,
            "align_self": null,
            "border": null,
            "bottom": null,
            "display": null,
            "flex": null,
            "flex_flow": null,
            "grid_area": null,
            "grid_auto_columns": null,
            "grid_auto_flow": null,
            "grid_auto_rows": null,
            "grid_column": null,
            "grid_gap": null,
            "grid_row": null,
            "grid_template_areas": null,
            "grid_template_columns": null,
            "grid_template_rows": null,
            "height": null,
            "justify_content": null,
            "justify_items": null,
            "left": null,
            "margin": null,
            "max_height": null,
            "max_width": null,
            "min_height": null,
            "min_width": null,
            "object_fit": null,
            "object_position": null,
            "order": null,
            "overflow": null,
            "overflow_x": null,
            "overflow_y": null,
            "padding": null,
            "right": null,
            "top": null,
            "visibility": null,
            "width": null
          }
        },
        "0399735ec44b483b9f09bc42c3a000b6": {
          "model_module": "@jupyter-widgets/controls",
          "model_name": "DescriptionStyleModel",
          "model_module_version": "1.5.0",
          "state": {
            "_model_module": "@jupyter-widgets/controls",
            "_model_module_version": "1.5.0",
            "_model_name": "DescriptionStyleModel",
            "_view_count": null,
            "_view_module": "@jupyter-widgets/base",
            "_view_module_version": "1.2.0",
            "_view_name": "StyleView",
            "description_width": ""
          }
        }
      }
    }
  },
  "nbformat": 4,
  "nbformat_minor": 0
}